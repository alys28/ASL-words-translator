{
 "cells": [
  {
   "cell_type": "code",
   "execution_count": 16,
   "metadata": {},
   "outputs": [],
   "source": [
    "import tensorflow as tf\n",
    "from tensorflow.keras.layers import Dense, Dropout\n",
    "import keras\n",
    "from tensorflow.keras import Sequential\n",
    "import os\n",
    "import numpy as np\n",
    "import pandas as pd"
   ]
  },
  {
   "cell_type": "code",
   "execution_count": 17,
   "metadata": {},
   "outputs": [
    {
     "data": {
      "text/plain": [
       "['research',\n",
       " 'hear',\n",
       " 'music',\n",
       " 'brother',\n",
       " 'ocean',\n",
       " 'many',\n",
       " 'i love you',\n",
       " 'dog',\n",
       " 'polite',\n",
       " 'milk',\n",
       " 'bookstore',\n",
       " 'doctor',\n",
       " 'i',\n",
       " 'classroom',\n",
       " 'focus',\n",
       " 'money',\n",
       " 'coffee',\n",
       " 'book',\n",
       " 'phone',\n",
       " 'chicken',\n",
       " 'photographer',\n",
       " 'hamburger',\n",
       " 'good morning',\n",
       " 'open',\n",
       " 'door']"
      ]
     },
     "execution_count": 17,
     "metadata": {},
     "output_type": "execute_result"
    }
   ],
   "source": [
    "# Get all labels\n",
    "names = []\n",
    "for dir in os.listdir(\"/Users/aly/Documents/Programming/Apps/Machine Learning/ASL Converter/training_models/mediapipe/reformatting-the-data/data_25_labels\"):\n",
    "    if dir !=  '.DS_Store':\n",
    "        names.append(dir)\n",
    "names"
   ]
  },
  {
   "cell_type": "code",
   "execution_count": 18,
   "metadata": {},
   "outputs": [
    {
     "name": "stdout",
     "output_type": "stream",
     "text": [
      "(39216, 301) (9075, 301)\n"
     ]
    }
   ],
   "source": [
    "import glob\n",
    "\n",
    "train_df = pd.DataFrame()\n",
    "test_df = pd.DataFrame()\n",
    "i = 0\n",
    "for label in names:\n",
    "    files = glob.glob(f\"/Users/aly/Documents/Programming/Apps/Machine Learning/ASL Converter/training_models/mediapipe/reformatting-the-data/data_25_labels/{label}/*.csv\")\n",
    "    for f in files:\n",
    "        csv = pd.read_csv(f)\n",
    "        if i%5 != 0:    \n",
    "            train_df = pd.concat([train_df, csv])\n",
    "        else:\n",
    "            test_df = pd.concat([test_df, csv])\n",
    "        i += 1\n",
    "        \n",
    "\n",
    "print(train_df.shape, test_df.shape)"
   ]
  },
  {
   "cell_type": "code",
   "execution_count": 19,
   "metadata": {},
   "outputs": [],
   "source": [
    "def seperate_label(df):\n",
    "    df_features = df.copy()\n",
    "\n",
    "    df_labels = df_features.pop(\"class\")\n",
    "\n",
    "    df_features = np.array(df_features)\n",
    "    # df_labels = np.array(df_labels)\n",
    "    print(df_features.shape)\n",
    "    print(df_labels.shape, type(df_labels))\n",
    "    return df_features, df_labels"
   ]
  },
  {
   "cell_type": "code",
   "execution_count": 20,
   "metadata": {},
   "outputs": [
    {
     "name": "stdout",
     "output_type": "stream",
     "text": [
      "(39216, 300)\n",
      "(39216,) <class 'pandas.core.series.Series'>\n"
     ]
    }
   ],
   "source": [
    "X_train, Y_train = seperate_label(train_df)"
   ]
  },
  {
   "cell_type": "code",
   "execution_count": 21,
   "metadata": {},
   "outputs": [
    {
     "name": "stdout",
     "output_type": "stream",
     "text": [
      "(9075, 300)\n",
      "(9075,) <class 'pandas.core.series.Series'>\n"
     ]
    }
   ],
   "source": [
    "X_val, Y_val = seperate_label(test_df)"
   ]
  },
  {
   "cell_type": "code",
   "execution_count": 22,
   "metadata": {},
   "outputs": [
    {
     "data": {
      "text/plain": [
       "{'research': 0,\n",
       " 'hear': 1,\n",
       " 'music': 2,\n",
       " 'brother': 3,\n",
       " 'ocean': 4,\n",
       " 'many': 5,\n",
       " 'i love you': 6,\n",
       " 'dog': 7,\n",
       " 'polite': 8,\n",
       " 'milk': 9,\n",
       " 'bookstore': 10,\n",
       " 'doctor': 11,\n",
       " 'i': 12,\n",
       " 'classroom': 13,\n",
       " 'focus': 14,\n",
       " 'money': 15,\n",
       " 'coffee': 16,\n",
       " 'book': 17,\n",
       " 'phone': 18,\n",
       " 'chicken': 19,\n",
       " 'photographer': 20,\n",
       " 'hamburger': 21,\n",
       " 'good morning': 22,\n",
       " 'open': 23,\n",
       " 'door': 24}"
      ]
     },
     "execution_count": 22,
     "metadata": {},
     "output_type": "execute_result"
    }
   ],
   "source": [
    "dicti = {names[i]: i for i in range(len(names))}\n",
    "dicti"
   ]
  },
  {
   "cell_type": "code",
   "execution_count": 23,
   "metadata": {},
   "outputs": [],
   "source": [
    "def reformat_label(df_labels):    \n",
    "#should be between 0 and 3\n",
    "    # for element in df_labels:\n",
    "    #     element = dicti[element]\n",
    "\n",
    "    def change_label(x):\n",
    "        return dicti[x]\n",
    "\n",
    "    df_labels = df_labels.apply(change_label)\n",
    "    df_labels.head()\n",
    "    return df_labels\n",
    "\n",
    "Y_train = reformat_label(Y_train)\n",
    "Y_val = reformat_label(Y_val)"
   ]
  },
  {
   "cell_type": "code",
   "execution_count": 24,
   "metadata": {},
   "outputs": [
    {
     "data": {
      "text/plain": [
       "(0      0\n",
       " 1      0\n",
       " 2      0\n",
       " 3      0\n",
       " 4      0\n",
       "       ..\n",
       " 62    24\n",
       " 63    24\n",
       " 64    24\n",
       " 65    24\n",
       " 66    24\n",
       " Name: class, Length: 39216, dtype: int64,\n",
       " 0      0\n",
       " 1      0\n",
       " 2      0\n",
       " 3      0\n",
       " 4      0\n",
       "       ..\n",
       " 46    24\n",
       " 47    24\n",
       " 48    24\n",
       " 49    24\n",
       " 50    24\n",
       " Name: class, Length: 9075, dtype: int64)"
      ]
     },
     "execution_count": 24,
     "metadata": {},
     "output_type": "execute_result"
    }
   ],
   "source": [
    "Y_train, Y_val"
   ]
  },
  {
   "cell_type": "code",
   "execution_count": 25,
   "metadata": {},
   "outputs": [
    {
     "name": "stdout",
     "output_type": "stream",
     "text": [
      "(39216, 1) (9075, 1)\n"
     ]
    }
   ],
   "source": [
    "#I have to make each label a single vector \n",
    "# I can just rotate (transpose, since now I have a single rolumn, I will make it into many rows)! \n",
    "Y_train = np.array([Y_train]).T\n",
    "Y_val = np.array([Y_val]).T\n",
    "print(Y_train.shape, Y_val.shape)"
   ]
  },
  {
   "cell_type": "code",
   "execution_count": 26,
   "metadata": {},
   "outputs": [
    {
     "data": {
      "text/plain": [
       "(array([[ 0.49409083,  0.22459967, -0.46296376, ...,  0.62952131,\n",
       "         -0.06377199,  0.        ],\n",
       "        [ 0.53372836,  0.24738221, -1.24606872, ...,  0.84430248,\n",
       "         -0.03153894,  0.        ],\n",
       "        [ 0.54129398,  0.34693047, -0.77963328, ...,  0.        ,\n",
       "          0.        ,  0.        ],\n",
       "        ...,\n",
       "        [ 0.50832802,  0.17890085, -0.45956349, ...,  0.        ,\n",
       "          0.        ,  0.        ],\n",
       "        [ 0.54415578,  0.32913452, -0.70783639, ...,  0.        ,\n",
       "          0.        ,  0.        ],\n",
       "        [ 0.46577254,  0.38902622, -0.84562027, ...,  0.91197234,\n",
       "         -0.02871764,  0.        ]]),\n",
       " array([[21],\n",
       "        [16],\n",
       "        [ 6],\n",
       "        ...,\n",
       "        [18],\n",
       "        [13],\n",
       "        [ 3]]))"
      ]
     },
     "execution_count": 26,
     "metadata": {},
     "output_type": "execute_result"
    }
   ],
   "source": [
    "from sklearn.utils import shuffle\n",
    "\n",
    "X_train,Y_train = shuffle(X_train, Y_train, random_state=0)\n",
    "X_val,Y_val = shuffle(X_val, Y_val, random_state=0)\n",
    "X_train, Y_train"
   ]
  },
  {
   "cell_type": "code",
   "execution_count": 37,
   "metadata": {},
   "outputs": [],
   "source": [
    "model = Sequential([\n",
    "    Dense(units=256, activation='relu'),\n",
    "    Dense(units=200, activation='relu',\n",
    "          kernel_regularizer=keras.regularizers.l1_l2(0.01)),\n",
    "    Dense(units=200, activation='relu',\n",
    "          kernel_regularizer=keras.regularizers.l2(0.01)),\n",
    "    Dense(units=25, activation='softmax')\n",
    "])"
   ]
  },
  {
   "cell_type": "code",
   "execution_count": 38,
   "metadata": {},
   "outputs": [],
   "source": [
    "checkpoint = tf.keras.callbacks.ModelCheckpoint(\n",
    "    \"/Users/aly/Documents/Programming/Apps/Machine Learning/ASL Converter/training_models/mediapipe/Simple-Dense-Layers/regularized-25-labels.{epoch:02d}-{val_accuracy:.2f}\",\n",
    "    monitor='val_accuracy',\n",
    "    verbose=0,\n",
    "    save_best_only=True,\n",
    "    save_weights_only=False,\n",
    "    mode='auto',\n",
    "    save_freq='epoch',\n",
    ")"
   ]
  },
  {
   "cell_type": "code",
   "execution_count": 39,
   "metadata": {},
   "outputs": [],
   "source": [
    "#cost function\n",
    "from tensorflow.keras.losses import SparseCategoricalCrossentropy\n",
    "from tensorflow.keras.optimizers import Adam\n",
    "\n",
    "model.compile(loss=SparseCategoricalCrossentropy(), optimizer=Adam(), metrics=[\"accuracy\"])"
   ]
  },
  {
   "cell_type": "code",
   "execution_count": 40,
   "metadata": {},
   "outputs": [
    {
     "name": "stdout",
     "output_type": "stream",
     "text": [
      "Epoch 1/20\n",
      "  7/785 [..............................] - ETA: 6s - loss: 34.9275 - accuracy: 0.0771      "
     ]
    },
    {
     "name": "stderr",
     "output_type": "stream",
     "text": [
      "2023-03-26 01:15:54.245887: I tensorflow/core/grappler/optimizers/custom_graph_optimizer_registry.cc:113] Plugin optimizer for device_type GPU is enabled.\n"
     ]
    },
    {
     "name": "stdout",
     "output_type": "stream",
     "text": [
      "783/785 [============================>.] - ETA: 0s - loss: 4.7208 - accuracy: 0.1543"
     ]
    },
    {
     "name": "stderr",
     "output_type": "stream",
     "text": [
      "2023-03-26 01:16:00.229717: I tensorflow/core/grappler/optimizers/custom_graph_optimizer_registry.cc:113] Plugin optimizer for device_type GPU is enabled.\n"
     ]
    },
    {
     "name": "stdout",
     "output_type": "stream",
     "text": [
      "INFO:tensorflow:Assets written to: /Users/aly/Documents/Programming/Apps/Machine Learning/ASL Converter/training_models/mediapipe/Simple-Dense-Layers/regularized-25-labels.01-0.14/assets\n",
      "785/785 [==============================] - 8s 9ms/step - loss: 4.7177 - accuracy: 0.1545 - val_loss: 3.0104 - val_accuracy: 0.1424\n",
      "Epoch 2/20\n",
      "778/785 [============================>.] - ETA: 0s - loss: 2.7334 - accuracy: 0.2037INFO:tensorflow:Assets written to: /Users/aly/Documents/Programming/Apps/Machine Learning/ASL Converter/training_models/mediapipe/Simple-Dense-Layers/regularized-25-labels.02-0.18/assets\n",
      "785/785 [==============================] - 7s 9ms/step - loss: 2.7328 - accuracy: 0.2037 - val_loss: 2.9734 - val_accuracy: 0.1755\n",
      "Epoch 3/20\n",
      "781/785 [============================>.] - ETA: 0s - loss: 2.6080 - accuracy: 0.2504INFO:tensorflow:Assets written to: /Users/aly/Documents/Programming/Apps/Machine Learning/ASL Converter/training_models/mediapipe/Simple-Dense-Layers/regularized-25-labels.03-0.19/assets\n",
      "785/785 [==============================] - 7s 9ms/step - loss: 2.6072 - accuracy: 0.2507 - val_loss: 2.9523 - val_accuracy: 0.1888\n",
      "Epoch 4/20\n",
      "778/785 [============================>.] - ETA: 0s - loss: 2.5012 - accuracy: 0.2894INFO:tensorflow:Assets written to: /Users/aly/Documents/Programming/Apps/Machine Learning/ASL Converter/training_models/mediapipe/Simple-Dense-Layers/regularized-25-labels.04-0.23/assets\n",
      "785/785 [==============================] - 7s 9ms/step - loss: 2.5006 - accuracy: 0.2897 - val_loss: 2.8706 - val_accuracy: 0.2256\n",
      "Epoch 5/20\n",
      "785/785 [==============================] - 6s 8ms/step - loss: 2.4418 - accuracy: 0.3105 - val_loss: 2.8571 - val_accuracy: 0.2132\n",
      "Epoch 6/20\n",
      "785/785 [==============================] - 6s 8ms/step - loss: 2.3988 - accuracy: 0.3312 - val_loss: 2.8631 - val_accuracy: 0.2046\n",
      "Epoch 7/20\n",
      "779/785 [============================>.] - ETA: 0s - loss: 2.3654 - accuracy: 0.3421INFO:tensorflow:Assets written to: /Users/aly/Documents/Programming/Apps/Machine Learning/ASL Converter/training_models/mediapipe/Simple-Dense-Layers/regularized-25-labels.07-0.23/assets\n",
      "785/785 [==============================] - 7s 9ms/step - loss: 2.3637 - accuracy: 0.3426 - val_loss: 2.8367 - val_accuracy: 0.2340\n",
      "Epoch 8/20\n",
      "780/785 [============================>.] - ETA: 0s - loss: 2.3320 - accuracy: 0.3566INFO:tensorflow:Assets written to: /Users/aly/Documents/Programming/Apps/Machine Learning/ASL Converter/training_models/mediapipe/Simple-Dense-Layers/regularized-25-labels.08-0.24/assets\n",
      "785/785 [==============================] - 7s 9ms/step - loss: 2.3320 - accuracy: 0.3569 - val_loss: 2.8341 - val_accuracy: 0.2399\n",
      "Epoch 9/20\n",
      "782/785 [============================>.] - ETA: 0s - loss: 2.3013 - accuracy: 0.3706INFO:tensorflow:Assets written to: /Users/aly/Documents/Programming/Apps/Machine Learning/ASL Converter/training_models/mediapipe/Simple-Dense-Layers/regularized-25-labels.09-0.25/assets\n",
      "785/785 [==============================] - 7s 9ms/step - loss: 2.3007 - accuracy: 0.3709 - val_loss: 2.8620 - val_accuracy: 0.2547\n",
      "Epoch 10/20\n",
      "785/785 [==============================] - 7s 8ms/step - loss: 2.2718 - accuracy: 0.3819 - val_loss: 2.8783 - val_accuracy: 0.2448\n",
      "Epoch 11/20\n",
      "785/785 [==============================] - ETA: 0s - loss: 2.2406 - accuracy: 0.3933INFO:tensorflow:Assets written to: /Users/aly/Documents/Programming/Apps/Machine Learning/ASL Converter/training_models/mediapipe/Simple-Dense-Layers/regularized-25-labels.11-0.27/assets\n",
      "785/785 [==============================] - 8s 10ms/step - loss: 2.2406 - accuracy: 0.3933 - val_loss: 2.8513 - val_accuracy: 0.2681\n",
      "Epoch 12/20\n",
      "783/785 [============================>.] - ETA: 0s - loss: 2.2101 - accuracy: 0.4008INFO:tensorflow:Assets written to: /Users/aly/Documents/Programming/Apps/Machine Learning/ASL Converter/training_models/mediapipe/Simple-Dense-Layers/regularized-25-labels.12-0.27/assets\n",
      "785/785 [==============================] - 9s 11ms/step - loss: 2.2102 - accuracy: 0.4008 - val_loss: 2.8882 - val_accuracy: 0.2690\n",
      "Epoch 13/20\n",
      "785/785 [==============================] - 6s 8ms/step - loss: 2.1816 - accuracy: 0.4121 - val_loss: 2.9243 - val_accuracy: 0.2422\n",
      "Epoch 14/20\n",
      "785/785 [==============================] - 7s 9ms/step - loss: 2.1558 - accuracy: 0.4188 - val_loss: 2.8753 - val_accuracy: 0.2688\n",
      "Epoch 15/20\n",
      "781/785 [============================>.] - ETA: 0s - loss: 2.1266 - accuracy: 0.4316INFO:tensorflow:Assets written to: /Users/aly/Documents/Programming/Apps/Machine Learning/ASL Converter/training_models/mediapipe/Simple-Dense-Layers/regularized-25-labels.15-0.28/assets\n",
      "785/785 [==============================] - 9s 12ms/step - loss: 2.1263 - accuracy: 0.4315 - val_loss: 2.9004 - val_accuracy: 0.2802\n",
      "Epoch 16/20\n",
      "785/785 [==============================] - 7s 9ms/step - loss: 2.0996 - accuracy: 0.4415 - val_loss: 2.8446 - val_accuracy: 0.2793\n",
      "Epoch 17/20\n",
      "785/785 [==============================] - 7s 9ms/step - loss: 2.0754 - accuracy: 0.4503 - val_loss: 2.8777 - val_accuracy: 0.2722\n",
      "Epoch 18/20\n",
      "785/785 [==============================] - 6s 8ms/step - loss: 2.0538 - accuracy: 0.4567 - val_loss: 2.8864 - val_accuracy: 0.2801\n",
      "Epoch 19/20\n",
      "785/785 [==============================] - 7s 8ms/step - loss: 2.0369 - accuracy: 0.4626 - val_loss: 2.9391 - val_accuracy: 0.2646\n",
      "Epoch 20/20\n",
      "785/785 [==============================] - 6s 8ms/step - loss: 2.0141 - accuracy: 0.4707 - val_loss: 2.8887 - val_accuracy: 0.2798\n"
     ]
    }
   ],
   "source": [
    "history = model.fit(X_train,Y_train, epochs=20, batch_size=50, validation_data=(X_val, Y_val), callbacks=[checkpoint])"
   ]
  },
  {
   "cell_type": "code",
   "execution_count": null,
   "metadata": {},
   "outputs": [
    {
     "name": "stdout",
     "output_type": "stream",
     "text": [
      "INFO:tensorflow:Assets written to: saved_model_25_labels/assets\n"
     ]
    }
   ],
   "source": [
    "model.save(\"saved_model_25_labels\")"
   ]
  },
  {
   "cell_type": "code",
   "execution_count": 28,
   "metadata": {},
   "outputs": [
    {
     "data": {
      "image/png": "[encoded data removed]",
      "text/plain": [
       "<Figure size 640x480 with 1 Axes>"
      ]
     },
     "metadata": {},
     "output_type": "display_data"
    }
   ],
   "source": [
    "from matplotlib import pyplot as plt\n",
    "plt.plot(history.history['accuracy'])\n",
    "plt.plot(history.history['val_accuracy'])\n",
    "plt.title('model accuracy')\n",
    "plt.ylabel('accuracy')\n",
    "plt.xlabel('epoch')\n",
    "plt.legend(['train', 'val'], loc='upper left')\n",
    "plt.savefig('accuracy_25_labels.png')\n",
    "plt.show()"
   ]
  },
  {
   "cell_type": "code",
   "execution_count": null,
   "metadata": {},
   "outputs": [],
   "source": []
  },
  {
   "cell_type": "code",
   "execution_count": null,
   "metadata": {},
   "outputs": [],
   "source": []
  },
  {
   "cell_type": "code",
   "execution_count": 27,
   "metadata": {},
   "outputs": [
    {
     "data": {
      "image/png": "[encoded data removed]",
      "text/plain": [
       "<Figure size 640x480 with 1 Axes>"
      ]
     },
     "metadata": {},
     "output_type": "display_data"
    }
   ],
   "source": [
    "plt.plot(history.history['loss'])\n",
    "plt.plot(history.history['val_loss'])\n",
    "plt.title('model loss')\n",
    "plt.ylabel('loss')\n",
    "plt.xlabel('epoch')\n",
    "plt.legend(['train', 'val'], loc='upper left')\n",
    "plt.savefig('loss_25_labels.png')\n",
    "plt.show()\n"
   ]
  },
  {
   "cell_type": "code",
   "execution_count": null,
   "metadata": {},
   "outputs": [],
   "source": []
  }
 ],
 "metadata": {
  "kernelspec": {
   "display_name": "asl-converter",
   "language": "python",
   "name": "python3"
  },
  "language_info": {
   "codemirror_mode": {
    "name": "ipython",
    "version": 3
   },
   "file_extension": ".py",
   "mimetype": "text/x-python",
   "name": "python",
   "nbconvert_exporter": "python",
   "pygments_lexer": "ipython3",
   "version": "3.8.16"
  },
  "orig_nbformat": 4
 },
 "nbformat": 4,
 "nbformat_minor": 2
}
