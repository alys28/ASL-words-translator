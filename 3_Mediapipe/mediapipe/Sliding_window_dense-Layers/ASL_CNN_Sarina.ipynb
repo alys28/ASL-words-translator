{
  "cells": [
    {
      "cell_type": "code",
      "execution_count": 2,
      "metadata": {
        "id": "KiRntv-P3E7n"
      },
      "outputs": [],
      "source": [
        "import tensorflow as tf\n",
        "import pandas as pd\n",
        "import numpy as np\n",
        "import matplotlib.pyplot as plt\n",
        "import random\n",
        "import os"
      ]
    },
    {
      "cell_type": "code",
      "execution_count": null,
      "metadata": {
        "colab": {
          "base_uri": "https://localhost:8080/"
        },
        "id": "yQn6fjc-3clk",
        "outputId": "6da7ca8f-4055-49c8-de06-31bbfddbb432"
      },
      "outputs": [
        {
          "name": "stdout",
          "output_type": "stream",
          "text": [
            "Mounted at /content/drive\n"
          ]
        }
      ],
      "source": []
    },
    {
      "cell_type": "code",
      "execution_count": null,
      "metadata": {
        "colab": {
          "base_uri": "https://localhost:8080/",
          "height": 487
        },
        "id": "WXTFXpY83tlO",
        "outputId": "616d26dd-4f8a-49bd-c269-c479daa3b498"
      },
      "outputs": [
        {
          "data": {
            "text/html": [
              "\n",
              "  <div id=\"df-87861db4-7e8c-4972-b099-8107e1e435b4\">\n",
              "    <div class=\"colab-df-container\">\n",
              "      <div>\n",
              "<style scoped>\n",
              "    .dataframe tbody tr th:only-of-type {\n",
              "        vertical-align: middle;\n",
              "    }\n",
              "\n",
              "    .dataframe tbody tr th {\n",
              "        vertical-align: top;\n",
              "    }\n",
              "\n",
              "    .dataframe thead th {\n",
              "        text-align: right;\n",
              "    }\n",
              "</style>\n",
              "<table border=\"1\" class=\"dataframe\">\n",
              "  <thead>\n",
              "    <tr style=\"text-align: right;\">\n",
              "      <th></th>\n",
              "      <th>class</th>\n",
              "      <th>x1</th>\n",
              "      <th>y1</th>\n",
              "      <th>z1</th>\n",
              "      <th>v1</th>\n",
              "      <th>x2</th>\n",
              "      <th>y2</th>\n",
              "      <th>z2</th>\n",
              "      <th>v2</th>\n",
              "      <th>x3</th>\n",
              "      <th>...</th>\n",
              "      <th>z73</th>\n",
              "      <th>v73</th>\n",
              "      <th>x74</th>\n",
              "      <th>y74</th>\n",
              "      <th>z74</th>\n",
              "      <th>v74</th>\n",
              "      <th>x75</th>\n",
              "      <th>y75</th>\n",
              "      <th>z75</th>\n",
              "      <th>v75</th>\n",
              "    </tr>\n",
              "  </thead>\n",
              "  <tbody>\n",
              "    <tr>\n",
              "      <th>0</th>\n",
              "      <td>coffee</td>\n",
              "      <td>0.490560</td>\n",
              "      <td>0.290803</td>\n",
              "      <td>-0.457349</td>\n",
              "      <td>0.999989</td>\n",
              "      <td>0.507861</td>\n",
              "      <td>0.251743</td>\n",
              "      <td>-0.412709</td>\n",
              "      <td>0.999987</td>\n",
              "      <td>0.516950</td>\n",
              "      <td>...</td>\n",
              "      <td>-0.039968</td>\n",
              "      <td>0.0</td>\n",
              "      <td>0.496138</td>\n",
              "      <td>0.838479</td>\n",
              "      <td>-0.032200</td>\n",
              "      <td>0.0</td>\n",
              "      <td>0.510814</td>\n",
              "      <td>0.841485</td>\n",
              "      <td>-0.026400</td>\n",
              "      <td>0.0</td>\n",
              "    </tr>\n",
              "    <tr>\n",
              "      <th>1</th>\n",
              "      <td>coffee</td>\n",
              "      <td>0.490317</td>\n",
              "      <td>0.296208</td>\n",
              "      <td>-0.467214</td>\n",
              "      <td>0.999987</td>\n",
              "      <td>0.507768</td>\n",
              "      <td>0.253555</td>\n",
              "      <td>-0.425430</td>\n",
              "      <td>0.999984</td>\n",
              "      <td>0.516758</td>\n",
              "      <td>...</td>\n",
              "      <td>-0.032240</td>\n",
              "      <td>0.0</td>\n",
              "      <td>0.499593</td>\n",
              "      <td>0.842492</td>\n",
              "      <td>-0.023976</td>\n",
              "      <td>0.0</td>\n",
              "      <td>0.513295</td>\n",
              "      <td>0.845279</td>\n",
              "      <td>-0.018187</td>\n",
              "      <td>0.0</td>\n",
              "    </tr>\n",
              "    <tr>\n",
              "      <th>2</th>\n",
              "      <td>coffee</td>\n",
              "      <td>0.490271</td>\n",
              "      <td>0.300322</td>\n",
              "      <td>-0.470750</td>\n",
              "      <td>0.999986</td>\n",
              "      <td>0.507730</td>\n",
              "      <td>0.255209</td>\n",
              "      <td>-0.429952</td>\n",
              "      <td>0.999982</td>\n",
              "      <td>0.516656</td>\n",
              "      <td>...</td>\n",
              "      <td>-0.032046</td>\n",
              "      <td>0.0</td>\n",
              "      <td>0.501178</td>\n",
              "      <td>0.847488</td>\n",
              "      <td>-0.023551</td>\n",
              "      <td>0.0</td>\n",
              "      <td>0.515599</td>\n",
              "      <td>0.849821</td>\n",
              "      <td>-0.017611</td>\n",
              "      <td>0.0</td>\n",
              "    </tr>\n",
              "    <tr>\n",
              "      <th>3</th>\n",
              "      <td>coffee</td>\n",
              "      <td>0.490268</td>\n",
              "      <td>0.302454</td>\n",
              "      <td>-0.487628</td>\n",
              "      <td>0.999985</td>\n",
              "      <td>0.507728</td>\n",
              "      <td>0.256161</td>\n",
              "      <td>-0.446110</td>\n",
              "      <td>0.999981</td>\n",
              "      <td>0.516634</td>\n",
              "      <td>...</td>\n",
              "      <td>-0.032033</td>\n",
              "      <td>0.0</td>\n",
              "      <td>0.500290</td>\n",
              "      <td>0.853992</td>\n",
              "      <td>-0.023843</td>\n",
              "      <td>0.0</td>\n",
              "      <td>0.514286</td>\n",
              "      <td>0.856211</td>\n",
              "      <td>-0.018308</td>\n",
              "      <td>0.0</td>\n",
              "    </tr>\n",
              "    <tr>\n",
              "      <th>4</th>\n",
              "      <td>coffee</td>\n",
              "      <td>0.490803</td>\n",
              "      <td>0.303688</td>\n",
              "      <td>-0.505418</td>\n",
              "      <td>0.999985</td>\n",
              "      <td>0.507995</td>\n",
              "      <td>0.256749</td>\n",
              "      <td>-0.462483</td>\n",
              "      <td>0.999980</td>\n",
              "      <td>0.516718</td>\n",
              "      <td>...</td>\n",
              "      <td>-0.031262</td>\n",
              "      <td>0.0</td>\n",
              "      <td>0.500826</td>\n",
              "      <td>0.858976</td>\n",
              "      <td>-0.022877</td>\n",
              "      <td>0.0</td>\n",
              "      <td>0.514729</td>\n",
              "      <td>0.861247</td>\n",
              "      <td>-0.017345</td>\n",
              "      <td>0.0</td>\n",
              "    </tr>\n",
              "    <tr>\n",
              "      <th>...</th>\n",
              "      <td>...</td>\n",
              "      <td>...</td>\n",
              "      <td>...</td>\n",
              "      <td>...</td>\n",
              "      <td>...</td>\n",
              "      <td>...</td>\n",
              "      <td>...</td>\n",
              "      <td>...</td>\n",
              "      <td>...</td>\n",
              "      <td>...</td>\n",
              "      <td>...</td>\n",
              "      <td>...</td>\n",
              "      <td>...</td>\n",
              "      <td>...</td>\n",
              "      <td>...</td>\n",
              "      <td>...</td>\n",
              "      <td>...</td>\n",
              "      <td>...</td>\n",
              "      <td>...</td>\n",
              "      <td>...</td>\n",
              "      <td>...</td>\n",
              "    </tr>\n",
              "    <tr>\n",
              "      <th>110</th>\n",
              "      <td>coffee</td>\n",
              "      <td>0.496863</td>\n",
              "      <td>0.302861</td>\n",
              "      <td>-0.649061</td>\n",
              "      <td>0.999965</td>\n",
              "      <td>0.513863</td>\n",
              "      <td>0.255302</td>\n",
              "      <td>-0.599471</td>\n",
              "      <td>0.999905</td>\n",
              "      <td>0.523044</td>\n",
              "      <td>...</td>\n",
              "      <td>0.000000</td>\n",
              "      <td>0.0</td>\n",
              "      <td>0.000000</td>\n",
              "      <td>0.000000</td>\n",
              "      <td>0.000000</td>\n",
              "      <td>0.0</td>\n",
              "      <td>0.000000</td>\n",
              "      <td>0.000000</td>\n",
              "      <td>0.000000</td>\n",
              "      <td>0.0</td>\n",
              "    </tr>\n",
              "    <tr>\n",
              "      <th>111</th>\n",
              "      <td>coffee</td>\n",
              "      <td>0.496631</td>\n",
              "      <td>0.301382</td>\n",
              "      <td>-0.643764</td>\n",
              "      <td>0.999955</td>\n",
              "      <td>0.513532</td>\n",
              "      <td>0.254744</td>\n",
              "      <td>-0.594247</td>\n",
              "      <td>0.999894</td>\n",
              "      <td>0.522931</td>\n",
              "      <td>...</td>\n",
              "      <td>0.000000</td>\n",
              "      <td>0.0</td>\n",
              "      <td>0.000000</td>\n",
              "      <td>0.000000</td>\n",
              "      <td>0.000000</td>\n",
              "      <td>0.0</td>\n",
              "      <td>0.000000</td>\n",
              "      <td>0.000000</td>\n",
              "      <td>0.000000</td>\n",
              "      <td>0.0</td>\n",
              "    </tr>\n",
              "    <tr>\n",
              "      <th>112</th>\n",
              "      <td>coffee</td>\n",
              "      <td>0.496510</td>\n",
              "      <td>0.300023</td>\n",
              "      <td>-0.687388</td>\n",
              "      <td>0.999919</td>\n",
              "      <td>0.513147</td>\n",
              "      <td>0.254390</td>\n",
              "      <td>-0.633070</td>\n",
              "      <td>0.999848</td>\n",
              "      <td>0.522765</td>\n",
              "      <td>...</td>\n",
              "      <td>0.000000</td>\n",
              "      <td>0.0</td>\n",
              "      <td>0.000000</td>\n",
              "      <td>0.000000</td>\n",
              "      <td>0.000000</td>\n",
              "      <td>0.0</td>\n",
              "      <td>0.000000</td>\n",
              "      <td>0.000000</td>\n",
              "      <td>0.000000</td>\n",
              "      <td>0.0</td>\n",
              "    </tr>\n",
              "    <tr>\n",
              "      <th>113</th>\n",
              "      <td>coffee</td>\n",
              "      <td>0.496565</td>\n",
              "      <td>0.299678</td>\n",
              "      <td>-0.744448</td>\n",
              "      <td>0.999876</td>\n",
              "      <td>0.513067</td>\n",
              "      <td>0.254359</td>\n",
              "      <td>-0.690254</td>\n",
              "      <td>0.999778</td>\n",
              "      <td>0.522710</td>\n",
              "      <td>...</td>\n",
              "      <td>0.000000</td>\n",
              "      <td>0.0</td>\n",
              "      <td>0.000000</td>\n",
              "      <td>0.000000</td>\n",
              "      <td>0.000000</td>\n",
              "      <td>0.0</td>\n",
              "      <td>0.000000</td>\n",
              "      <td>0.000000</td>\n",
              "      <td>0.000000</td>\n",
              "      <td>0.0</td>\n",
              "    </tr>\n",
              "    <tr>\n",
              "      <th>114</th>\n",
              "      <td>coffee</td>\n",
              "      <td>0.496665</td>\n",
              "      <td>0.299629</td>\n",
              "      <td>-0.655965</td>\n",
              "      <td>0.999852</td>\n",
              "      <td>0.513007</td>\n",
              "      <td>0.254376</td>\n",
              "      <td>-0.606255</td>\n",
              "      <td>0.999730</td>\n",
              "      <td>0.522649</td>\n",
              "      <td>...</td>\n",
              "      <td>0.000000</td>\n",
              "      <td>0.0</td>\n",
              "      <td>0.000000</td>\n",
              "      <td>0.000000</td>\n",
              "      <td>0.000000</td>\n",
              "      <td>0.0</td>\n",
              "      <td>0.000000</td>\n",
              "      <td>0.000000</td>\n",
              "      <td>0.000000</td>\n",
              "      <td>0.0</td>\n",
              "    </tr>\n",
              "  </tbody>\n",
              "</table>\n",
              "<p>115 rows × 301 columns</p>\n",
              "</div>\n",
              "      <button class=\"colab-df-convert\" onclick=\"convertToInteractive('df-87861db4-7e8c-4972-b099-8107e1e435b4')\"\n",
              "              title=\"Convert this dataframe to an interactive table.\"\n",
              "              style=\"display:none;\">\n",
              "        \n",
              "  <svg xmlns=\"http://www.w3.org/2000/svg\" height=\"24px\"viewBox=\"0 0 24 24\"\n",
              "       width=\"24px\">\n",
              "    <path d=\"M0 0h24v24H0V0z\" fill=\"none\"/>\n",
              "    <path d=\"M18.56 5.44l.94 2.06.94-2.06 2.06-.94-2.06-.94-.94-2.06-.94 2.06-2.06.94zm-11 1L8.5 8.5l.94-2.06 2.06-.94-2.06-.94L8.5 2.5l-.94 2.06-2.06.94zm10 10l.94 2.06.94-2.06 2.06-.94-2.06-.94-.94-2.06-.94 2.06-2.06.94z\"/><path d=\"M17.41 7.96l-1.37-1.37c-.4-.4-.92-.59-1.43-.59-.52 0-1.04.2-1.43.59L10.3 9.45l-7.72 7.72c-.78.78-.78 2.05 0 2.83L4 21.41c.39.39.9.59 1.41.59.51 0 1.02-.2 1.41-.59l7.78-7.78 2.81-2.81c.8-.78.8-2.07 0-2.86zM5.41 20L4 18.59l7.72-7.72 1.47 1.35L5.41 20z\"/>\n",
              "  </svg>\n",
              "      </button>\n",
              "      \n",
              "  <style>\n",
              "    .colab-df-container {\n",
              "      display:flex;\n",
              "      flex-wrap:wrap;\n",
              "      gap: 12px;\n",
              "    }\n",
              "\n",
              "    .colab-df-convert {\n",
              "      background-color: #E8F0FE;\n",
              "      border: none;\n",
              "      border-radius: 50%;\n",
              "      cursor: pointer;\n",
              "      display: none;\n",
              "      fill: #1967D2;\n",
              "      height: 32px;\n",
              "      padding: 0 0 0 0;\n",
              "      width: 32px;\n",
              "    }\n",
              "\n",
              "    .colab-df-convert:hover {\n",
              "      background-color: #E2EBFA;\n",
              "      box-shadow: 0px 1px 2px rgba(60, 64, 67, 0.3), 0px 1px 3px 1px rgba(60, 64, 67, 0.15);\n",
              "      fill: #174EA6;\n",
              "    }\n",
              "\n",
              "    [theme=dark] .colab-df-convert {\n",
              "      background-color: #3B4455;\n",
              "      fill: #D2E3FC;\n",
              "    }\n",
              "\n",
              "    [theme=dark] .colab-df-convert:hover {\n",
              "      background-color: #434B5C;\n",
              "      box-shadow: 0px 1px 3px 1px rgba(0, 0, 0, 0.15);\n",
              "      filter: drop-shadow(0px 1px 2px rgba(0, 0, 0, 0.3));\n",
              "      fill: #FFFFFF;\n",
              "    }\n",
              "  </style>\n",
              "\n",
              "      <script>\n",
              "        const buttonEl =\n",
              "          document.querySelector('#df-87861db4-7e8c-4972-b099-8107e1e435b4 button.colab-df-convert');\n",
              "        buttonEl.style.display =\n",
              "          google.colab.kernel.accessAllowed ? 'block' : 'none';\n",
              "\n",
              "        async function convertToInteractive(key) {\n",
              "          const element = document.querySelector('#df-87861db4-7e8c-4972-b099-8107e1e435b4');\n",
              "          const dataTable =\n",
              "            await google.colab.kernel.invokeFunction('convertToInteractive',\n",
              "                                                     [key], {});\n",
              "          if (!dataTable) return;\n",
              "\n",
              "          const docLinkHtml = 'Like what you see? Visit the ' +\n",
              "            '<a target=\"_blank\" href=https://colab.research.google.com/notebooks/data_table.ipynb>data table notebook</a>'\n",
              "            + ' to learn more about interactive tables.';\n",
              "          element.innerHTML = '';\n",
              "          dataTable['output_type'] = 'display_data';\n",
              "          await google.colab.output.renderOutput(dataTable, element);\n",
              "          const docLink = document.createElement('div');\n",
              "          docLink.innerHTML = docLinkHtml;\n",
              "          element.appendChild(docLink);\n",
              "        }\n",
              "      </script>\n",
              "    </div>\n",
              "  </div>\n",
              "  "
            ],
            "text/plain": [
              "      class        x1        y1        z1        v1        x2        y2  \\\n",
              "0    coffee  0.490560  0.290803 -0.457349  0.999989  0.507861  0.251743   \n",
              "1    coffee  0.490317  0.296208 -0.467214  0.999987  0.507768  0.253555   \n",
              "2    coffee  0.490271  0.300322 -0.470750  0.999986  0.507730  0.255209   \n",
              "3    coffee  0.490268  0.302454 -0.487628  0.999985  0.507728  0.256161   \n",
              "4    coffee  0.490803  0.303688 -0.505418  0.999985  0.507995  0.256749   \n",
              "..      ...       ...       ...       ...       ...       ...       ...   \n",
              "110  coffee  0.496863  0.302861 -0.649061  0.999965  0.513863  0.255302   \n",
              "111  coffee  0.496631  0.301382 -0.643764  0.999955  0.513532  0.254744   \n",
              "112  coffee  0.496510  0.300023 -0.687388  0.999919  0.513147  0.254390   \n",
              "113  coffee  0.496565  0.299678 -0.744448  0.999876  0.513067  0.254359   \n",
              "114  coffee  0.496665  0.299629 -0.655965  0.999852  0.513007  0.254376   \n",
              "\n",
              "           z2        v2        x3  ...       z73  v73       x74       y74  \\\n",
              "0   -0.412709  0.999987  0.516950  ... -0.039968  0.0  0.496138  0.838479   \n",
              "1   -0.425430  0.999984  0.516758  ... -0.032240  0.0  0.499593  0.842492   \n",
              "2   -0.429952  0.999982  0.516656  ... -0.032046  0.0  0.501178  0.847488   \n",
              "3   -0.446110  0.999981  0.516634  ... -0.032033  0.0  0.500290  0.853992   \n",
              "4   -0.462483  0.999980  0.516718  ... -0.031262  0.0  0.500826  0.858976   \n",
              "..        ...       ...       ...  ...       ...  ...       ...       ...   \n",
              "110 -0.599471  0.999905  0.523044  ...  0.000000  0.0  0.000000  0.000000   \n",
              "111 -0.594247  0.999894  0.522931  ...  0.000000  0.0  0.000000  0.000000   \n",
              "112 -0.633070  0.999848  0.522765  ...  0.000000  0.0  0.000000  0.000000   \n",
              "113 -0.690254  0.999778  0.522710  ...  0.000000  0.0  0.000000  0.000000   \n",
              "114 -0.606255  0.999730  0.522649  ...  0.000000  0.0  0.000000  0.000000   \n",
              "\n",
              "          z74  v74       x75       y75       z75  v75  \n",
              "0   -0.032200  0.0  0.510814  0.841485 -0.026400  0.0  \n",
              "1   -0.023976  0.0  0.513295  0.845279 -0.018187  0.0  \n",
              "2   -0.023551  0.0  0.515599  0.849821 -0.017611  0.0  \n",
              "3   -0.023843  0.0  0.514286  0.856211 -0.018308  0.0  \n",
              "4   -0.022877  0.0  0.514729  0.861247 -0.017345  0.0  \n",
              "..        ...  ...       ...       ...       ...  ...  \n",
              "110  0.000000  0.0  0.000000  0.000000  0.000000  0.0  \n",
              "111  0.000000  0.0  0.000000  0.000000  0.000000  0.0  \n",
              "112  0.000000  0.0  0.000000  0.000000  0.000000  0.0  \n",
              "113  0.000000  0.0  0.000000  0.000000  0.000000  0.0  \n",
              "114  0.000000  0.0  0.000000  0.000000  0.000000  0.0  \n",
              "\n",
              "[115 rows x 301 columns]"
            ]
          },
          "execution_count": 3,
          "metadata": {},
          "output_type": "execute_result"
        }
      ],
      "source": [
        "df = pd.read_csv(\"/content/drive/MyDrive/ASL_models/demo_for CNN.csv\")\n",
        "df"
      ]
    },
    {
      "cell_type": "code",
      "execution_count": null,
      "metadata": {
        "colab": {
          "base_uri": "https://localhost:8080/"
        },
        "id": "F9V7eJ5L39s_",
        "outputId": "da5921ba-471d-48f9-954d-45f45222495d"
      },
      "outputs": [
        {
          "data": {
            "text/plain": [
              "x74\n",
              "0.000000    8\n",
              "0.467091    1\n",
              "0.468908    1\n",
              "0.468607    1\n",
              "0.468328    1\n",
              "           ..\n",
              "0.460880    1\n",
              "0.460635    1\n",
              "0.460415    1\n",
              "0.460104    1\n",
              "0.501178    1\n",
              "Length: 108, dtype: int64"
            ]
          },
          "execution_count": 5,
          "metadata": {},
          "output_type": "execute_result"
        }
      ],
      "source": [
        "df.value_counts(\"x74\")"
      ]
    },
    {
      "cell_type": "code",
      "execution_count": null,
      "metadata": {
        "colab": {
          "base_uri": "https://localhost:8080/"
        },
        "id": "Ib8XyGpl4zPJ",
        "outputId": "6afdbe74-e1f5-4f7f-a6c3-20ea48940d79"
      },
      "outputs": [
        {
          "data": {
            "text/plain": [
              "(115, 301)"
            ]
          },
          "execution_count": 7,
          "metadata": {},
          "output_type": "execute_result"
        }
      ],
      "source": [
        "df.to_numpy().shape"
      ]
    },
    {
      "cell_type": "code",
      "execution_count": null,
      "metadata": {
        "id": "gcJOnRdT4191"
      },
      "outputs": [],
      "source": [
        "df = df.drop(columns=\"class\")"
      ]
    },
    {
      "cell_type": "code",
      "execution_count": null,
      "metadata": {
        "colab": {
          "base_uri": "https://localhost:8080/"
        },
        "id": "SY7FyhRH4alD",
        "outputId": "388b340f-196a-4c47-e2db-65de175fdb37"
      },
      "outputs": [
        {
          "data": {
            "text/plain": [
              "(115, 75, 4)"
            ]
          },
          "execution_count": 11,
          "metadata": {},
          "output_type": "execute_result"
        }
      ],
      "source": [
        "all_frames = df.to_numpy().reshape((len(df), 75, 4))\n",
        "all_frames.shape"
      ]
    },
    {
      "cell_type": "code",
      "execution_count": null,
      "metadata": {
        "id": "TPUVOOTd5Ndg"
      },
      "outputs": [],
      "source": [
        "def visualize_random(video):\n",
        "  ind = random.randint(0, len(video))\n",
        "  plt.scatter(video[ind][:, 0], video[ind][:, 1])"
      ]
    },
    {
      "cell_type": "code",
      "execution_count": null,
      "metadata": {
        "colab": {
          "base_uri": "https://localhost:8080/",
          "height": 433
        },
        "id": "ArUjyEAG5YML",
        "outputId": "39a1c284-9d40-4436-bb69-3e31feb871d5"
      },
      "outputs": [
        {
          "data": {
            "image/png": "[encoded data removed]",
            "text/plain": [
              "<Figure size 640x480 with 1 Axes>"
            ]
          },
          "metadata": {},
          "output_type": "display_data"
        }
      ],
      "source": [
        "visualize_random(all_frames)"
      ]
    },
    {
      "cell_type": "markdown",
      "metadata": {
        "id": "EnmmW41oEbfT"
      },
      "source": [
        "##Prepare data"
      ]
    },
    {
      "cell_type": "code",
      "execution_count": 11,
      "metadata": {
        "id": "bJmcbx4P9wSZ"
      },
      "outputs": [],
      "source": [
        "labels_dict = {\n",
        "    \"coffee\":0,\n",
        "   \"dog\": 1,\n",
        "    \"door\":2,\n",
        "     \"milk\":3,\n",
        "}"
      ]
    },
    {
      "cell_type": "code",
      "execution_count": 9,
      "metadata": {
        "id": "_t-8uLPyEfmV"
      },
      "outputs": [
        {
          "data": {
            "text/plain": [
              "{'dog': 1, 'milk': 2, 'coffee': 3, 'door': 4}"
            ]
          },
          "execution_count": 9,
          "metadata": {},
          "output_type": "execute_result"
        }
      ],
      "source": [
        "#don't run on colab\n",
        "labels_dict = {}\n",
        "for i, dir in enumerate(os.listdir(\"/Users/aly/Documents/Programming/Apps/Machine Learning/ASL Converter/training_models/mediapipe/reformatting-the-data/data_four_labels\")):\n",
        "    if dir !=  '.DS_Store':\n",
        "        labels_dict[dir] = i\n",
        "labels_dict"
      ]
    },
    {
      "cell_type": "code",
      "execution_count": 31,
      "metadata": {
        "id": "P394yWNb8-1g"
      },
      "outputs": [],
      "source": [
        "def create_data(video, label, labels_dict, window_size=10): #video format: (#frames, 75, 4)\n",
        "  labels = []\n",
        "  data = []\n",
        "  for i in range(len(video)-window_size):\n",
        "    data.append(video[i: i+window_size])\n",
        "    labels.append([labels_dict[label]])\n",
        "\n",
        "  return np.array(data), labels"
      ]
    },
    {
      "cell_type": "code",
      "execution_count": 37,
      "metadata": {
        "colab": {
          "base_uri": "https://localhost:8080/"
        },
        "id": "xKF90-zS9BnF",
        "outputId": "d5e06b43-7336-4304-efba-289c2b702253"
      },
      "outputs": [
        {
          "data": {
            "text/plain": [
              "(34, 20, 75, 4)"
            ]
          },
          "execution_count": 37,
          "metadata": {},
          "output_type": "execute_result"
        }
      ],
      "source": [
        "WINDOW_SIZE = 20\n",
        "\n",
        "data, labels = create_data(all_frames, \"coffee\", labels_dict, WINDOW_SIZE)\n",
        "data.shape"
      ]
    },
    {
      "cell_type": "code",
      "execution_count": 40,
      "metadata": {
        "id": "l2Jl60OcF2pA"
      },
      "outputs": [
        {
          "name": "stdout",
          "output_type": "stream",
          "text": [
            "(68, 20, 75, 4)\n",
            "DONE\n",
            "(61, 20, 75, 4)\n",
            "DONE\n",
            "(129, 20, 75, 4)\n",
            "DONE\n",
            "(41, 20, 75, 4)\n",
            "DONE\n",
            "(52, 20, 75, 4)\n",
            "DONE\n",
            "(26, 20, 75, 4)\n",
            "DONE\n",
            "(100, 20, 75, 4)\n",
            "DONE\n",
            "(50, 20, 75, 4)\n",
            "DONE\n",
            "(51, 20, 75, 4)\n",
            "DONE\n",
            "(100, 20, 75, 4)\n",
            "DONE\n",
            "(45, 20, 75, 4)\n",
            "DONE\n",
            "(70, 20, 75, 4)\n",
            "DONE\n",
            "(91, 20, 75, 4)\n",
            "DONE\n",
            "(48, 20, 75, 4)\n",
            "DONE\n",
            "(31, 20, 75, 4)\n",
            "DONE\n",
            "(91, 20, 75, 4)\n",
            "DONE\n",
            "(43, 20, 75, 4)\n",
            "DONE\n",
            "(111, 20, 75, 4)\n",
            "DONE\n",
            "(54, 20, 75, 4)\n",
            "DONE\n",
            "(91, 20, 75, 4)\n",
            "DONE\n",
            "(72, 20, 75, 4)\n",
            "DONE\n",
            "(51, 20, 75, 4)\n",
            "DONE\n",
            "(43, 20, 75, 4)\n",
            "DONE\n",
            "(95, 20, 75, 4)\n",
            "DONE\n",
            "(51, 20, 75, 4)\n",
            "DONE\n",
            "(112, 20, 75, 4)\n",
            "DONE\n",
            "(92, 20, 75, 4)\n",
            "DONE\n",
            "(51, 20, 75, 4)\n",
            "DONE\n",
            "(43, 20, 75, 4)\n",
            "DONE\n",
            "(54, 20, 75, 4)\n",
            "DONE\n",
            "(55, 20, 75, 4)\n",
            "DONE\n",
            "(53, 20, 75, 4)\n",
            "DONE\n",
            "(129, 20, 75, 4)\n",
            "DONE\n",
            "(32, 20, 75, 4)\n",
            "DONE\n",
            "(34, 20, 75, 4)\n",
            "DONE\n",
            "(34, 20, 75, 4)\n",
            "DONE\n",
            "(129, 20, 75, 4)\n",
            "DONE\n",
            "(53, 20, 75, 4)\n",
            "DONE\n",
            "(36, 20, 75, 4)\n",
            "DONE\n",
            "(106, 20, 75, 4)\n",
            "DONE\n"
          ]
        }
      ],
      "source": [
        "import random\n",
        "path = \"/Users/aly/Documents/Programming/Apps/Machine Learning/ASL Converter/data_augmentation/data_four_labels_augmentation\"\n",
        "X = []\n",
        "y = []\n",
        "\n",
        "for folder in os.listdir(path):\n",
        "    if folder != \".DS_Store\":\n",
        "        files = os.listdir(os.path.join(path, folder))\n",
        "        i = 0\n",
        "        random.shuffle(files)\n",
        "        for file in files:\n",
        "            if i < 10: # number of files that we want our model to learn\n",
        "                if file != \".DS_Store\":\n",
        "                    df = pd.read_csv(os.path.join(path, folder, file))\n",
        "                    label = df[\"class\"]\n",
        "                    df = df.drop(\"class\", axis=1)\n",
        "                    all_frames = df.to_numpy().reshape((len(df), 75, 4))\n",
        "                    data, labels = create_data(all_frames, folder, labels_dict, WINDOW_SIZE)\n",
        "                    for frame in data:\n",
        "                        X.append(frame)\n",
        "                    y.append(labels)\n",
        "                    print(data.shape)\n",
        "                    print(\"DONE\")\n",
        "                i += 1\n",
        "            else:\n",
        "                break\n",
        "                "
      ]
    },
    {
      "cell_type": "code",
      "execution_count": 42,
      "metadata": {},
      "outputs": [
        {
          "data": {
            "text/plain": [
              "(2678, 20, 75, 4)"
            ]
          },
          "execution_count": 42,
          "metadata": {},
          "output_type": "execute_result"
        }
      ],
      "source": [
        "X = np.array(X)\n",
        "X.shape"
      ]
    },
    {
      "cell_type": "markdown",
      "metadata": {
        "id": "IpkECp6PGhEN"
      },
      "source": [
        "##CNN model"
      ]
    },
    {
      "cell_type": "code",
      "execution_count": null,
      "metadata": {
        "id": "haFg-cqW6Fq2"
      },
      "outputs": [],
      "source": [
        "\n",
        "model_1 = tf.keras.Sequential([\n",
        "    tf.keras.layers.Conv2D(filters=10,\n",
        "                           kernel_size=4,\n",
        "                           activation=\"relu\",\n",
        "                           input_shape=(WINDOW_SIZE, 75,4),\n",
        "                           padding=\"valid\"),\n",
        "\n",
        "    tf.keras.layers.Conv2D(10, 3, activation=\"relu\"),\n",
        "    tf.keras.layers.MaxPool2D(pool_size=2,\n",
        "                              padding=\"valid\"),\n",
        "                               \n",
        "    tf.keras.layers.Conv2D(10, 3, activation=\"relu\"),\n",
        "    tf.keras.layers.Conv2D(10, 3, activation=\"relu\"),\n",
        "    tf.keras.layers.MaxPool2D(pool_size=2,\n",
        "                              padding=\"valid\"),\n",
        "                               \n",
        "    tf.keras.layers.Flatten(),\n",
        "    tf.keras.layers.Dense(4, activation=\"sigmoid\")\n",
        "])\n",
        "\n",
        "model_1.compile(loss=\"sparse_categorical_crossentropy\",\n",
        "                optimizer=\"adam\",\n",
        "                metrics=[\"accuracy\"])"
      ]
    },
    {
      "cell_type": "code",
      "execution_count": null,
      "metadata": {
        "colab": {
          "base_uri": "https://localhost:8080/"
        },
        "id": "vXzsBPPICB2B",
        "outputId": "a807e0fd-727f-4233-cecb-426a235c8ad5"
      },
      "outputs": [
        {
          "name": "stdout",
          "output_type": "stream",
          "text": [
            "Model: \"sequential_17\"\n",
            "_________________________________________________________________\n",
            " Layer (type)                Output Shape              Param #   \n",
            "=================================================================\n",
            " conv2d_68 (Conv2D)          (None, 17, 72, 10)        650       \n",
            "                                                                 \n",
            " conv2d_69 (Conv2D)          (None, 15, 70, 10)        910       \n",
            "                                                                 \n",
            " max_pooling2d_34 (MaxPoolin  (None, 7, 35, 10)        0         \n",
            " g2D)                                                            \n",
            "                                                                 \n",
            " conv2d_70 (Conv2D)          (None, 5, 33, 10)         910       \n",
            "                                                                 \n",
            " conv2d_71 (Conv2D)          (None, 3, 31, 10)         910       \n",
            "                                                                 \n",
            " max_pooling2d_35 (MaxPoolin  (None, 1, 15, 10)        0         \n",
            " g2D)                                                            \n",
            "                                                                 \n",
            " flatten_17 (Flatten)        (None, 150)               0         \n",
            "                                                                 \n",
            " dense_17 (Dense)            (None, 4)                 604       \n",
            "                                                                 \n",
            "=================================================================\n",
            "Total params: 3,984\n",
            "Trainable params: 3,984\n",
            "Non-trainable params: 0\n",
            "_________________________________________________________________\n"
          ]
        }
      ],
      "source": [
        "model_1.summary()"
      ]
    },
    {
      "cell_type": "code",
      "execution_count": null,
      "metadata": {
        "colab": {
          "base_uri": "https://localhost:8080/"
        },
        "id": "6bV8uviOCGJt",
        "outputId": "476393db-cff2-462e-a404-dca9aff0652a"
      },
      "outputs": [
        {
          "name": "stdout",
          "output_type": "stream",
          "text": [
            "Epoch 1/10\n",
            "3/3 [==============================] - 13s 131ms/step - loss: 1.4483 - accuracy: 0.0000e+00\n",
            "Epoch 2/10\n",
            "3/3 [==============================] - 0s 6ms/step - loss: 1.1092 - accuracy: 0.6632\n",
            "Epoch 3/10\n",
            "3/3 [==============================] - 0s 6ms/step - loss: 0.8599 - accuracy: 1.0000\n",
            "Epoch 4/10\n",
            "3/3 [==============================] - 0s 6ms/step - loss: 0.5910 - accuracy: 1.0000\n",
            "Epoch 5/10\n",
            "3/3 [==============================] - 0s 6ms/step - loss: 0.3027 - accuracy: 1.0000\n",
            "Epoch 6/10\n",
            "3/3 [==============================] - 0s 6ms/step - loss: 0.0989 - accuracy: 1.0000\n",
            "Epoch 7/10\n",
            "3/3 [==============================] - 0s 9ms/step - loss: 0.0210 - accuracy: 1.0000\n",
            "Epoch 8/10\n",
            "3/3 [==============================] - 0s 7ms/step - loss: 0.0037 - accuracy: 1.0000\n",
            "Epoch 9/10\n",
            "3/3 [==============================] - 0s 6ms/step - loss: 6.9564e-04 - accuracy: 1.0000\n",
            "Epoch 10/10\n",
            "3/3 [==============================] - 0s 6ms/step - loss: 1.5340e-04 - accuracy: 1.0000\n"
          ]
        }
      ],
      "source": [
        "history_1 = model_1.fit(data, np.array(labels), epochs=10)"
      ]
    }
  ],
  "metadata": {
    "accelerator": "GPU",
    "colab": {
      "provenance": []
    },
    "gpuClass": "standard",
    "kernelspec": {
      "display_name": "Python 3",
      "name": "python3"
    },
    "language_info": {
      "codemirror_mode": {
        "name": "ipython",
        "version": 3
      },
      "file_extension": ".py",
      "mimetype": "text/x-python",
      "name": "python",
      "nbconvert_exporter": "python",
      "pygments_lexer": "ipython3",
      "version": "3.8.16"
    }
  },
  "nbformat": 4,
  "nbformat_minor": 0
}
