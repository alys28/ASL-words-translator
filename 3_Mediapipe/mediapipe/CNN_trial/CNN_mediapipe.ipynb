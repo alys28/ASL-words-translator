{
  "cells": [
    {
      "cell_type": "code",
      "execution_count": 1,
      "metadata": {},
      "outputs": [],
      "source": [
        "import pandas as pd\n",
        "import os\n",
        "import numpy as np"
      ]
    },
    {
      "cell_type": "code",
      "execution_count": 2,
      "metadata": {},
      "outputs": [],
      "source": [
        "def process_csv_file(file):\n",
        "    csv_data = pd.read_csv(file)\n",
        "    try:\n",
        "        csv_data = csv_data.drop(\"class\", axis = 1)\n",
        "    except KeyError:\n",
        "        pass\n",
        "    return (csv_data.to_numpy())"
      ]
    },
    {
      "cell_type": "code",
      "execution_count": 3,
      "metadata": {},
      "outputs": [],
      "source": [
        "# Split data into subsets of 10 frames (sliding window)\n",
        "def split_data(data, n_frames = 10):\n",
        "    subsets = []\n",
        "    for i in range(0, len(data) - n_frames):\n",
        "        subsets.append(data[i: i+n_frames])\n",
        "    return np.array(subsets)"
      ]
    },
    {
      "cell_type": "code",
      "execution_count": 4,
      "metadata": {},
      "outputs": [],
      "source": [
        "# Testing out\n",
        "data = process_csv_file(\"/Users/aly/Documents/Programming/Apps/Machine Learning/ASL Converter/training_models/mediapipe/demo_test/demo.csv\")\n",
        "subsets = split_data(data)"
      ]
    },
    {
      "cell_type": "code",
      "execution_count": 5,
      "metadata": {},
      "outputs": [
        {
          "data": {
            "text/plain": [
              "(45, 10, 300)"
            ]
          },
          "execution_count": 5,
          "metadata": {},
          "output_type": "execute_result"
        }
      ],
      "source": [
        "subsets.shape\n",
        "# in this case, we have 45 \"images\" of shape 10 x 300"
      ]
    },
    {
      "cell_type": "code",
      "execution_count": 6,
      "metadata": {},
      "outputs": [
        {
          "data": {
            "text/plain": [
              "(55, 300)"
            ]
          },
          "execution_count": 6,
          "metadata": {},
          "output_type": "execute_result"
        }
      ],
      "source": [
        "data.shape"
      ]
    },
    {
      "cell_type": "code",
      "execution_count": 10,
      "metadata": {},
      "outputs": [],
      "source": [
        "# apply for all data\n",
        "def process_all_data(folder_path):\n",
        "    X_train = []\n",
        "    Y_train = []\n",
        "    X_test = []\n",
        "    Y_test = []\n",
        "    i = 0\n",
        "    # 1:3 ratio\n",
        "    for label in os.listdir(folder_path):\n",
        "        if label != \".DS_Store\":\n",
        "            files = os.listdir(os.path.join(folder_path, label))\n",
        "            for file in files:\n",
        "                if file != \".DS_Store\" and file.endswith(\".csv\"):\n",
        "                    file_path = (os.path.join(folder_path, label, file))\n",
        "                    data = (process_csv_file(file_path))\n",
        "                    subsets = (split_data(data))\n",
        "                    for frame in subsets:\n",
        "                        X.append(frame)\n",
        "                    Y.append(label)\n",
        "    return np.array(X), np.array(Y)\n",
        "X, Y = process_all_data(\"/Users/aly/Documents/Programming/Apps/Machine Learning/ASL Converter/data_augmentation/data_4_labels_augmentation\")"
      ]
    },
    {
      "cell_type": "code",
      "execution_count": 13,
      "metadata": {},
      "outputs": [
        {
          "data": {
            "text/plain": [
              "array([[[ 0.49718088,  0.25081992, -0.48320499, ...,  0.77923   ,\n",
              "         -0.05017287,  0.        ],\n",
              "        [ 0.49774376,  0.25079364, -0.77710956, ...,  0.79552472,\n",
              "         -0.05187845,  0.        ],\n",
              "        [ 0.49550352,  0.25237963, -0.72304803, ...,  0.80509031,\n",
              "         -0.04531861,  0.        ],\n",
              "        ...,\n",
              "        [ 0.46421188,  0.27996394, -0.89114583, ...,  0.        ,\n",
              "          0.        ,  0.        ],\n",
              "        [ 0.46130815,  0.27831569, -0.83603495, ...,  0.        ,\n",
              "          0.        ,  0.        ],\n",
              "        [ 0.45770162,  0.27774882, -0.7989431 , ...,  0.        ,\n",
              "          0.        ,  0.        ]],\n",
              "\n",
              "       [[ 0.49774376,  0.25079364, -0.77710956, ...,  0.79552472,\n",
              "         -0.05187845,  0.        ],\n",
              "        [ 0.49550352,  0.25237963, -0.72304803, ...,  0.80509031,\n",
              "         -0.04531861,  0.        ],\n",
              "        [ 0.48853284,  0.25849426, -0.66714966, ...,  0.82462174,\n",
              "         -0.03781456,  0.        ],\n",
              "        ...,\n",
              "        [ 0.46130815,  0.27831569, -0.83603495, ...,  0.        ,\n",
              "          0.        ,  0.        ],\n",
              "        [ 0.45770162,  0.27774882, -0.7989431 , ...,  0.        ,\n",
              "          0.        ,  0.        ],\n",
              "        [ 0.45373386,  0.27638543, -0.69511706, ...,  0.        ,\n",
              "          0.        ,  0.        ]],\n",
              "\n",
              "       [[ 0.49550352,  0.25237963, -0.72304803, ...,  0.80509031,\n",
              "         -0.04531861,  0.        ],\n",
              "        [ 0.48853284,  0.25849426, -0.66714966, ...,  0.82462174,\n",
              "         -0.03781456,  0.        ],\n",
              "        [ 0.48396224,  0.26432458, -0.84099638, ...,  0.        ,\n",
              "          0.        ,  0.        ],\n",
              "        ...,\n",
              "        [ 0.45770162,  0.27774882, -0.7989431 , ...,  0.        ,\n",
              "          0.        ,  0.        ],\n",
              "        [ 0.45373386,  0.27638543, -0.69511706, ...,  0.        ,\n",
              "          0.        ,  0.        ],\n",
              "        [ 0.4523665 ,  0.27409792, -0.62690699, ...,  0.        ,\n",
              "          0.        ,  0.        ]],\n",
              "\n",
              "       ...,\n",
              "\n",
              "       [[ 0.39289577,  0.51778211, -0.65238434, ...,  1.21588268,\n",
              "         -0.00585933,  0.        ],\n",
              "        [ 0.39287571,  0.51779543, -0.65312696, ...,  1.2132306 ,\n",
              "         -0.00432293,  0.        ],\n",
              "        [ 0.39286227,  0.51782904, -0.65346795, ...,  1.2136675 ,\n",
              "         -0.00358241,  0.        ],\n",
              "        ...,\n",
              "        [ 0.39272342,  0.51795519, -0.65525234, ...,  0.05374851,\n",
              "          0.        ,  0.        ],\n",
              "        [ 0.39270838,  0.51796067, -0.65295351, ...,  0.05374851,\n",
              "          0.        ,  0.        ],\n",
              "        [ 0.39269595,  0.5179728 , -0.65315241, ...,  0.05374851,\n",
              "          0.        ,  0.        ]],\n",
              "\n",
              "       [[ 0.39287571,  0.51779543, -0.65312696, ...,  1.2132306 ,\n",
              "         -0.00432293,  0.        ],\n",
              "        [ 0.39286227,  0.51782904, -0.65346795, ...,  1.2136675 ,\n",
              "         -0.00358241,  0.        ],\n",
              "        [ 0.39283904,  0.51783834, -0.65115947, ...,  1.21512366,\n",
              "         -0.00388705,  0.        ],\n",
              "        ...,\n",
              "        [ 0.39270838,  0.51796067, -0.65295351, ...,  0.05374851,\n",
              "          0.        ,  0.        ],\n",
              "        [ 0.39269595,  0.5179728 , -0.65315241, ...,  0.05374851,\n",
              "          0.        ,  0.        ],\n",
              "        [ 0.39268767,  0.51798758, -0.65314305, ...,  0.05374851,\n",
              "          0.        ,  0.        ]],\n",
              "\n",
              "       [[ 0.39286227,  0.51782904, -0.65346795, ...,  1.2136675 ,\n",
              "         -0.00358241,  0.        ],\n",
              "        [ 0.39283904,  0.51783834, -0.65115947, ...,  1.21512366,\n",
              "         -0.00388705,  0.        ],\n",
              "        [ 0.39282217,  0.51785362, -0.65183342, ...,  0.05374851,\n",
              "          0.        ,  0.        ],\n",
              "        ...,\n",
              "        [ 0.39269595,  0.5179728 , -0.65315241, ...,  0.05374851,\n",
              "          0.        ,  0.        ],\n",
              "        [ 0.39268767,  0.51798758, -0.65314305, ...,  0.05374851,\n",
              "          0.        ,  0.        ],\n",
              "        [ 0.39268206,  0.5180005 , -0.65243256, ...,  0.05374851,\n",
              "          0.        ,  0.        ]]])"
            ]
          },
          "execution_count": 13,
          "metadata": {},
          "output_type": "execute_result"
        }
      ],
      "source": [
        "X.shape\n",
        "Y.shape, "
      ]
    },
    {
      "cell_type": "code",
      "execution_count": null,
      "metadata": {},
      "outputs": [],
      "source": []
    },
    {
      "cell_type": "code",
      "execution_count": null,
      "metadata": {},
      "outputs": [],
      "source": []
    }
  ],
  "metadata": {
    "kernelspec": {
      "display_name": "asl-converter",
      "language": "python",
      "name": "python3"
    },
    "language_info": {
      "codemirror_mode": {
        "name": "ipython",
        "version": 3
      },
      "file_extension": ".py",
      "mimetype": "text/x-python",
      "name": "python",
      "nbconvert_exporter": "python",
      "pygments_lexer": "ipython3",
      "version": "3.8.16"
    },
    "orig_nbformat": 4
  },
 "nbformat": 4,
 "nbformat_minor": 2
}
