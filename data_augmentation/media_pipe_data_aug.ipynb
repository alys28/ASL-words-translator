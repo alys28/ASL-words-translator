{
  "cells": [
    {
      "cell_type": "markdown",
      "metadata": {
        "colab_type": "text",
        "id": "view-in-github"
      },
      "source": [
        "<a href=\"https://colab.research.google.com/github/Freakboy123/ASL-words-translator/blob/main/data_augmentation/media_pipe_data_aug.ipynb\" target=\"_parent\"><img src=\"https://colab.research.google.com/assets/colab-badge.svg\" alt=\"Open In Colab\"/></a>"
      ]
    },
    {
      "cell_type": "code",
      "execution_count": 1,
      "metadata": {
        "id": "NieAcbf56jWX"
      },
      "outputs": [],
      "source": [
        "import os\n",
        "import numpy as np\n",
        "import pandas as pd\n",
        "import matplotlib.pyplot as plt\n",
        "import math\n",
        "from math import sin, cos"
      ]
    },
    {
      "cell_type": "code",
      "execution_count": 2,
      "metadata": {
        "colab": {
          "base_uri": "https://localhost:8080/"
        },
        "id": "ZK_J6f8LAlc7",
        "outputId": "846aaf30-d00c-4672-fa96-b4ddad12f12d"
      },
      "outputs": [
        {
          "name": "stdout",
          "output_type": "stream",
          "text": [
            "Mounted at /content/drive\n"
          ]
        }
      ],
      "source": []
    },
    {
      "cell_type": "code",
      "execution_count": null,
      "metadata": {
        "id": "9Qrz7oap6jWa",
        "outputId": "f63e6757-b8fb-4543-d7c5-883020d3fc1f"
      },
      "outputs": [
        {
          "data": {
            "text/plain": [
              "['research',\n",
              " 'hear',\n",
              " 'music',\n",
              " 'brother',\n",
              " 'ocean',\n",
              " 'many',\n",
              " 'i love you',\n",
              " 'dog',\n",
              " 'polite',\n",
              " 'milk',\n",
              " 'bookstore',\n",
              " 'doctor',\n",
              " 'i',\n",
              " 'classroom',\n",
              " 'focus',\n",
              " 'money',\n",
              " 'coffee',\n",
              " 'book',\n",
              " 'phone',\n",
              " 'chicken',\n",
              " 'photographer',\n",
              " 'hamburger',\n",
              " 'good morning',\n",
              " 'open',\n",
              " 'door']"
            ]
          },
          "execution_count": 4,
          "metadata": {},
          "output_type": "execute_result"
        }
      ],
      "source": [
        "# Get all labels\n",
        "names = []\n",
        "for dir in os.listdir(\"/Users/aly/Documents/Programming/Apps/Machine Learning/ASL Converter/training_models/mediapipe/reformatting-the-data/data_25_labels\"):\n",
        "    if dir !=  '.DS_Store':\n",
        "        names.append(dir)\n",
        "names"
      ]
    },
    {
      "cell_type": "code",
      "execution_count": null,
      "metadata": {
        "colab": {
          "base_uri": "https://localhost:8080/"
        },
        "id": "ign4sjmd7zIG",
        "outputId": "c541e36e-d251-4b87-dee5-a79a2c4e258a"
      },
      "outputs": [
        {
          "data": {
            "text/plain": [
              "(array([3., 4.], dtype=float32),\n",
              " array([[-2., -2.,  3.,  4.],\n",
              "        [ 2.,  2.,  7.,  8.]], dtype=float32))"
            ]
          },
          "execution_count": 28,
          "metadata": {},
          "output_type": "execute_result"
        }
      ],
      "source": [
        "test_arr = np.array([[1,2,3,4],[5,6,7,8]], dtype=np.float32)\n",
        "# test_arr[:,:2]\n",
        "origin = np.mean(test_arr[:,:2], axis=0)\n",
        "test_arr[:,:2] -= origin\n",
        "origin, test_arr"
      ]
    },
    {
      "cell_type": "code",
      "execution_count": null,
      "metadata": {
        "colab": {
          "base_uri": "https://localhost:8080/"
        },
        "id": "m0xV6NbG0OBJ",
        "outputId": "b438a279-5562-4595-f952-bf8fe3fece8d"
      },
      "outputs": [
        {
          "data": {
            "text/plain": [
              "array([[-2., -2.,  1.,  4.],\n",
              "       [ 2.,  2.,  1.,  8.]], dtype=float32)"
            ]
          },
          "execution_count": 29,
          "metadata": {},
          "output_type": "execute_result"
        }
      ],
      "source": [
        "test_arr[:,2] = 1\n",
        "test_arr"
      ]
    },
    {
      "cell_type": "code",
      "execution_count": null,
      "metadata": {
        "colab": {
          "base_uri": "https://localhost:8080/"
        },
        "id": "8FnHv0hDG5Se",
        "outputId": "da1172bc-eea0-4ab6-c2d7-e7595afe57bc"
      },
      "outputs": [
        {
          "data": {
            "text/plain": [
              "array([-2.,  2.], dtype=float32)"
            ]
          },
          "execution_count": 32,
          "metadata": {},
          "output_type": "execute_result"
        }
      ],
      "source": [
        "test_arr[:, 1]"
      ]
    },
    {
      "cell_type": "code",
      "execution_count": null,
      "metadata": {
        "colab": {
          "base_uri": "https://localhost:8080/",
          "height": 430
        },
        "id": "tpwizhUyxgC4",
        "outputId": "fd629afc-4a27-4f00-8ac1-04fa6d16538e"
      },
      "outputs": [
        {
          "data": {
            "image/png": "[encoded data removed]",
            "text/plain": [
              "<Figure size 640x480 with 1 Axes>"
            ]
          },
          "metadata": {},
          "output_type": "display_data"
        }
      ],
      "source": [
        "plt.scatter(test_arr[:,0], test_arr[:, 1])\n",
        "plt.scatter(0, 0, c=\"red\")\n",
        "plt.arrow(0,0,1,1, width=0.03)\n",
        "plt.show()"
      ]
    },
    {
      "cell_type": "code",
      "execution_count": 13,
      "metadata": {
        "colab": {
          "base_uri": "https://localhost:8080/",
          "height": 487
        },
        "id": "D7QGW1C-6jWf",
        "outputId": "168db593-8ed6-452c-a561-f05cfe171a8d"
      },
      "outputs": [
        {
          "data": {
            "text/html": [
              "<div>\n",
              "<style scoped>\n",
              "    .dataframe tbody tr th:only-of-type {\n",
              "        vertical-align: middle;\n",
              "    }\n",
              "\n",
              "    .dataframe tbody tr th {\n",
              "        vertical-align: top;\n",
              "    }\n",
              "\n",
              "    .dataframe thead th {\n",
              "        text-align: right;\n",
              "    }\n",
              "</style>\n",
              "<table border=\"1\" class=\"dataframe\">\n",
              "  <thead>\n",
              "    <tr style=\"text-align: right;\">\n",
              "      <th></th>\n",
              "      <th>x1</th>\n",
              "      <th>y1</th>\n",
              "      <th>z1</th>\n",
              "      <th>v1</th>\n",
              "      <th>x2</th>\n",
              "      <th>y2</th>\n",
              "      <th>z2</th>\n",
              "      <th>v2</th>\n",
              "      <th>x3</th>\n",
              "      <th>y3</th>\n",
              "      <th>...</th>\n",
              "      <th>z73</th>\n",
              "      <th>v73</th>\n",
              "      <th>x74</th>\n",
              "      <th>y74</th>\n",
              "      <th>z74</th>\n",
              "      <th>v74</th>\n",
              "      <th>x75</th>\n",
              "      <th>y75</th>\n",
              "      <th>z75</th>\n",
              "      <th>v75</th>\n",
              "    </tr>\n",
              "  </thead>\n",
              "  <tbody>\n",
              "    <tr>\n",
              "      <th>0</th>\n",
              "      <td>0.481783</td>\n",
              "      <td>0.263291</td>\n",
              "      <td>-0.251268</td>\n",
              "      <td>0.997624</td>\n",
              "      <td>0.480460</td>\n",
              "      <td>0.229660</td>\n",
              "      <td>-0.217402</td>\n",
              "      <td>0.996738</td>\n",
              "      <td>0.482711</td>\n",
              "      <td>0.231598</td>\n",
              "      <td>...</td>\n",
              "      <td>0.026680</td>\n",
              "      <td>0.0</td>\n",
              "      <td>0.758639</td>\n",
              "      <td>0.786082</td>\n",
              "      <td>0.021126</td>\n",
              "      <td>0.0</td>\n",
              "      <td>0.759593</td>\n",
              "      <td>0.798603</td>\n",
              "      <td>0.017296</td>\n",
              "      <td>0.0</td>\n",
              "    </tr>\n",
              "    <tr>\n",
              "      <th>1</th>\n",
              "      <td>0.481630</td>\n",
              "      <td>0.262819</td>\n",
              "      <td>-0.284726</td>\n",
              "      <td>0.997663</td>\n",
              "      <td>0.480498</td>\n",
              "      <td>0.228990</td>\n",
              "      <td>-0.248803</td>\n",
              "      <td>0.996778</td>\n",
              "      <td>0.482889</td>\n",
              "      <td>0.231058</td>\n",
              "      <td>...</td>\n",
              "      <td>0.023139</td>\n",
              "      <td>0.0</td>\n",
              "      <td>0.762222</td>\n",
              "      <td>0.792105</td>\n",
              "      <td>0.017242</td>\n",
              "      <td>0.0</td>\n",
              "      <td>0.762655</td>\n",
              "      <td>0.803301</td>\n",
              "      <td>0.012939</td>\n",
              "      <td>0.0</td>\n",
              "    </tr>\n",
              "    <tr>\n",
              "      <th>2</th>\n",
              "      <td>0.481624</td>\n",
              "      <td>0.262759</td>\n",
              "      <td>-0.297694</td>\n",
              "      <td>0.997736</td>\n",
              "      <td>0.480709</td>\n",
              "      <td>0.228824</td>\n",
              "      <td>-0.262779</td>\n",
              "      <td>0.996833</td>\n",
              "      <td>0.483267</td>\n",
              "      <td>0.230927</td>\n",
              "      <td>...</td>\n",
              "      <td>0.022072</td>\n",
              "      <td>0.0</td>\n",
              "      <td>0.767398</td>\n",
              "      <td>0.792813</td>\n",
              "      <td>0.015944</td>\n",
              "      <td>0.0</td>\n",
              "      <td>0.769933</td>\n",
              "      <td>0.805204</td>\n",
              "      <td>0.011419</td>\n",
              "      <td>0.0</td>\n",
              "    </tr>\n",
              "    <tr>\n",
              "      <th>3</th>\n",
              "      <td>0.481631</td>\n",
              "      <td>0.262273</td>\n",
              "      <td>-0.336054</td>\n",
              "      <td>0.997899</td>\n",
              "      <td>0.480730</td>\n",
              "      <td>0.228454</td>\n",
              "      <td>-0.301580</td>\n",
              "      <td>0.997060</td>\n",
              "      <td>0.483295</td>\n",
              "      <td>0.230480</td>\n",
              "      <td>...</td>\n",
              "      <td>0.023919</td>\n",
              "      <td>0.0</td>\n",
              "      <td>0.765285</td>\n",
              "      <td>0.792616</td>\n",
              "      <td>0.018403</td>\n",
              "      <td>0.0</td>\n",
              "      <td>0.767586</td>\n",
              "      <td>0.805106</td>\n",
              "      <td>0.014234</td>\n",
              "      <td>0.0</td>\n",
              "    </tr>\n",
              "    <tr>\n",
              "      <th>4</th>\n",
              "      <td>0.481666</td>\n",
              "      <td>0.262271</td>\n",
              "      <td>-0.313654</td>\n",
              "      <td>0.998036</td>\n",
              "      <td>0.480804</td>\n",
              "      <td>0.228475</td>\n",
              "      <td>-0.279114</td>\n",
              "      <td>0.997251</td>\n",
              "      <td>0.483347</td>\n",
              "      <td>0.230481</td>\n",
              "      <td>...</td>\n",
              "      <td>0.020449</td>\n",
              "      <td>0.0</td>\n",
              "      <td>0.767699</td>\n",
              "      <td>0.786754</td>\n",
              "      <td>0.014595</td>\n",
              "      <td>0.0</td>\n",
              "      <td>0.768883</td>\n",
              "      <td>0.800170</td>\n",
              "      <td>0.010294</td>\n",
              "      <td>0.0</td>\n",
              "    </tr>\n",
              "    <tr>\n",
              "      <th>...</th>\n",
              "      <td>...</td>\n",
              "      <td>...</td>\n",
              "      <td>...</td>\n",
              "      <td>...</td>\n",
              "      <td>...</td>\n",
              "      <td>...</td>\n",
              "      <td>...</td>\n",
              "      <td>...</td>\n",
              "      <td>...</td>\n",
              "      <td>...</td>\n",
              "      <td>...</td>\n",
              "      <td>...</td>\n",
              "      <td>...</td>\n",
              "      <td>...</td>\n",
              "      <td>...</td>\n",
              "      <td>...</td>\n",
              "      <td>...</td>\n",
              "      <td>...</td>\n",
              "      <td>...</td>\n",
              "      <td>...</td>\n",
              "      <td>...</td>\n",
              "    </tr>\n",
              "    <tr>\n",
              "      <th>69</th>\n",
              "      <td>0.478060</td>\n",
              "      <td>0.265460</td>\n",
              "      <td>-0.202545</td>\n",
              "      <td>0.999748</td>\n",
              "      <td>0.476053</td>\n",
              "      <td>0.231684</td>\n",
              "      <td>-0.169041</td>\n",
              "      <td>0.999652</td>\n",
              "      <td>0.478467</td>\n",
              "      <td>0.232754</td>\n",
              "      <td>...</td>\n",
              "      <td>0.007984</td>\n",
              "      <td>0.0</td>\n",
              "      <td>0.782588</td>\n",
              "      <td>0.741258</td>\n",
              "      <td>0.000239</td>\n",
              "      <td>0.0</td>\n",
              "      <td>0.782818</td>\n",
              "      <td>0.760302</td>\n",
              "      <td>-0.004702</td>\n",
              "      <td>0.0</td>\n",
              "    </tr>\n",
              "    <tr>\n",
              "      <th>70</th>\n",
              "      <td>0.478110</td>\n",
              "      <td>0.266470</td>\n",
              "      <td>-0.194980</td>\n",
              "      <td>0.999749</td>\n",
              "      <td>0.476170</td>\n",
              "      <td>0.232698</td>\n",
              "      <td>-0.159386</td>\n",
              "      <td>0.999653</td>\n",
              "      <td>0.478609</td>\n",
              "      <td>0.233749</td>\n",
              "      <td>...</td>\n",
              "      <td>0.011121</td>\n",
              "      <td>0.0</td>\n",
              "      <td>0.781909</td>\n",
              "      <td>0.746467</td>\n",
              "      <td>0.004765</td>\n",
              "      <td>0.0</td>\n",
              "      <td>0.782318</td>\n",
              "      <td>0.764514</td>\n",
              "      <td>0.000574</td>\n",
              "      <td>0.0</td>\n",
              "    </tr>\n",
              "    <tr>\n",
              "      <th>71</th>\n",
              "      <td>0.478078</td>\n",
              "      <td>0.267380</td>\n",
              "      <td>-0.193164</td>\n",
              "      <td>0.999755</td>\n",
              "      <td>0.476191</td>\n",
              "      <td>0.233562</td>\n",
              "      <td>-0.158247</td>\n",
              "      <td>0.999660</td>\n",
              "      <td>0.478656</td>\n",
              "      <td>0.234627</td>\n",
              "      <td>...</td>\n",
              "      <td>0.006822</td>\n",
              "      <td>0.0</td>\n",
              "      <td>0.794213</td>\n",
              "      <td>0.731202</td>\n",
              "      <td>0.002150</td>\n",
              "      <td>0.0</td>\n",
              "      <td>0.796758</td>\n",
              "      <td>0.750495</td>\n",
              "      <td>-0.000858</td>\n",
              "      <td>0.0</td>\n",
              "    </tr>\n",
              "    <tr>\n",
              "      <th>72</th>\n",
              "      <td>0.478067</td>\n",
              "      <td>0.267776</td>\n",
              "      <td>-0.195722</td>\n",
              "      <td>0.999757</td>\n",
              "      <td>0.476218</td>\n",
              "      <td>0.234010</td>\n",
              "      <td>-0.160146</td>\n",
              "      <td>0.999661</td>\n",
              "      <td>0.478696</td>\n",
              "      <td>0.235053</td>\n",
              "      <td>...</td>\n",
              "      <td>0.002802</td>\n",
              "      <td>0.0</td>\n",
              "      <td>0.798200</td>\n",
              "      <td>0.729334</td>\n",
              "      <td>-0.003268</td>\n",
              "      <td>0.0</td>\n",
              "      <td>0.803871</td>\n",
              "      <td>0.750718</td>\n",
              "      <td>-0.007041</td>\n",
              "      <td>0.0</td>\n",
              "    </tr>\n",
              "    <tr>\n",
              "      <th>73</th>\n",
              "      <td>0.478045</td>\n",
              "      <td>0.267736</td>\n",
              "      <td>-0.202483</td>\n",
              "      <td>0.999760</td>\n",
              "      <td>0.476222</td>\n",
              "      <td>0.233956</td>\n",
              "      <td>-0.166502</td>\n",
              "      <td>0.999666</td>\n",
              "      <td>0.478700</td>\n",
              "      <td>0.235011</td>\n",
              "      <td>...</td>\n",
              "      <td>0.006624</td>\n",
              "      <td>0.0</td>\n",
              "      <td>0.786988</td>\n",
              "      <td>0.740489</td>\n",
              "      <td>0.001446</td>\n",
              "      <td>0.0</td>\n",
              "      <td>0.790181</td>\n",
              "      <td>0.760615</td>\n",
              "      <td>-0.001883</td>\n",
              "      <td>0.0</td>\n",
              "    </tr>\n",
              "  </tbody>\n",
              "</table>\n",
              "<p>74 rows × 300 columns</p>\n",
              "</div>"
            ],
            "text/plain": [
              "          x1        y1        z1        v1        x2        y2        z2  \\\n",
              "0   0.481783  0.263291 -0.251268  0.997624  0.480460  0.229660 -0.217402   \n",
              "1   0.481630  0.262819 -0.284726  0.997663  0.480498  0.228990 -0.248803   \n",
              "2   0.481624  0.262759 -0.297694  0.997736  0.480709  0.228824 -0.262779   \n",
              "3   0.481631  0.262273 -0.336054  0.997899  0.480730  0.228454 -0.301580   \n",
              "4   0.481666  0.262271 -0.313654  0.998036  0.480804  0.228475 -0.279114   \n",
              "..       ...       ...       ...       ...       ...       ...       ...   \n",
              "69  0.478060  0.265460 -0.202545  0.999748  0.476053  0.231684 -0.169041   \n",
              "70  0.478110  0.266470 -0.194980  0.999749  0.476170  0.232698 -0.159386   \n",
              "71  0.478078  0.267380 -0.193164  0.999755  0.476191  0.233562 -0.158247   \n",
              "72  0.478067  0.267776 -0.195722  0.999757  0.476218  0.234010 -0.160146   \n",
              "73  0.478045  0.267736 -0.202483  0.999760  0.476222  0.233956 -0.166502   \n",
              "\n",
              "          v2        x3        y3  ...       z73  v73       x74       y74  \\\n",
              "0   0.996738  0.482711  0.231598  ...  0.026680  0.0  0.758639  0.786082   \n",
              "1   0.996778  0.482889  0.231058  ...  0.023139  0.0  0.762222  0.792105   \n",
              "2   0.996833  0.483267  0.230927  ...  0.022072  0.0  0.767398  0.792813   \n",
              "3   0.997060  0.483295  0.230480  ...  0.023919  0.0  0.765285  0.792616   \n",
              "4   0.997251  0.483347  0.230481  ...  0.020449  0.0  0.767699  0.786754   \n",
              "..       ...       ...       ...  ...       ...  ...       ...       ...   \n",
              "69  0.999652  0.478467  0.232754  ...  0.007984  0.0  0.782588  0.741258   \n",
              "70  0.999653  0.478609  0.233749  ...  0.011121  0.0  0.781909  0.746467   \n",
              "71  0.999660  0.478656  0.234627  ...  0.006822  0.0  0.794213  0.731202   \n",
              "72  0.999661  0.478696  0.235053  ...  0.002802  0.0  0.798200  0.729334   \n",
              "73  0.999666  0.478700  0.235011  ...  0.006624  0.0  0.786988  0.740489   \n",
              "\n",
              "         z74  v74       x75       y75       z75  v75  \n",
              "0   0.021126  0.0  0.759593  0.798603  0.017296  0.0  \n",
              "1   0.017242  0.0  0.762655  0.803301  0.012939  0.0  \n",
              "2   0.015944  0.0  0.769933  0.805204  0.011419  0.0  \n",
              "3   0.018403  0.0  0.767586  0.805106  0.014234  0.0  \n",
              "4   0.014595  0.0  0.768883  0.800170  0.010294  0.0  \n",
              "..       ...  ...       ...       ...       ...  ...  \n",
              "69  0.000239  0.0  0.782818  0.760302 -0.004702  0.0  \n",
              "70  0.004765  0.0  0.782318  0.764514  0.000574  0.0  \n",
              "71  0.002150  0.0  0.796758  0.750495 -0.000858  0.0  \n",
              "72 -0.003268  0.0  0.803871  0.750718 -0.007041  0.0  \n",
              "73  0.001446  0.0  0.790181  0.760615 -0.001883  0.0  \n",
              "\n",
              "[74 rows x 300 columns]"
            ]
          },
          "execution_count": 13,
          "metadata": {},
          "output_type": "execute_result"
        }
      ],
      "source": [
        "df = pd.read_csv(\"/Users/aly/Documents/Programming/Apps/Machine Learning/ASL Converter/demo.csv\")\n",
        "df"
      ]
    },
    {
      "cell_type": "code",
      "execution_count": 10,
      "metadata": {
        "colab": {
          "base_uri": "https://localhost:8080/"
        },
        "id": "1NHW1Bby6jWf",
        "outputId": "bd45a89e-27d8-4b08-a5ae-b020d97fcbde"
      },
      "outputs": [
        {
          "data": {
            "text/plain": [
              "array([ 0.481783  ,  0.26329112, -0.25126788,  0.99762374])"
            ]
          },
          "execution_count": 10,
          "metadata": {},
          "output_type": "execute_result"
        }
      ],
      "source": [
        "#test\n",
        "\n",
        "frame = df.iloc[0].to_numpy()\n",
        "frame = frame.reshape((75, 4))\n",
        "frame[0]\n",
        "# new_frame = rotate(frame, 5)\n",
        "# print(new_frame[0])\n",
        "# print(frame[0])"
      ]
    },
    {
      "cell_type": "code",
      "execution_count": 16,
      "metadata": {},
      "outputs": [
        {
          "data": {
            "text/plain": [
              "(74, 300)"
            ]
          },
          "execution_count": 16,
          "metadata": {},
          "output_type": "execute_result"
        }
      ],
      "source": [
        "df.to_numpy().shape"
      ]
    },
    {
      "cell_type": "code",
      "execution_count": 19,
      "metadata": {
        "colab": {
          "base_uri": "https://localhost:8080/"
        },
        "id": "nKr7TbE9BO0f",
        "outputId": "55d5aacd-e81d-4a27-9a04-b5cb3f584e33"
      },
      "outputs": [
        {
          "data": {
            "text/plain": [
              "(74, 75, 4)"
            ]
          },
          "execution_count": 19,
          "metadata": {},
          "output_type": "execute_result"
        }
      ],
      "source": [
        "all_frames = df.to_numpy().reshape((74, 75, 4))\n",
        "all_frames[0][0]\n",
        "all_frames.shape"
      ]
    },
    {
      "cell_type": "code",
      "execution_count": 20,
      "metadata": {
        "id": "IBSAnft37hY9"
      },
      "outputs": [],
      "source": [
        "def change_origin(frame):\n",
        "  new_origin = np.mean(frame[:,:2], axis=0)\n",
        "  # print(new_origin.shape)\n",
        "  new_frame = np.copy(frame)\n",
        "  new_frame[:,:2] -= new_origin\n",
        "  return frame, new_frame "
      ]
    },
    {
      "cell_type": "code",
      "execution_count": 21,
      "metadata": {
        "id": "FA6wu80d4Xv6"
      },
      "outputs": [],
      "source": [
        "def visualize_rotation(func):\n",
        "\n",
        "  def wrap(*args, **kwargs):\n",
        "    original_frame, new_frame = func(*args, **kwargs)\n",
        "    plt.scatter(original_frame[:, 0], original_frame[:, 1], c=\"blue\", label=\"original_data\")\n",
        "    plt.scatter(new_frame[:, 0], new_frame[:, 1], c=\"red\", label=\"new data\")\n",
        "    plt.scatter(0, 0, c=\"black\")\n",
        "    plt.annotate(\"origin\", (0,0))\n",
        "    plt.arrow(0, 0, original_frame[0][0], original_frame[0][1], length_includes_head=True, color=\"blue\", head_width=0.03)\n",
        "    plt.arrow(0, 0, new_frame[0][0], new_frame[0][1], length_includes_head=True, color=\"red\", head_width=0.03)\n",
        "    plt.legend()\n",
        "    return original_frame, new_frame\n",
        "\n",
        "  return wrap"
      ]
    },
    {
      "cell_type": "code",
      "execution_count": 22,
      "metadata": {
        "id": "styqDd6N6jWe"
      },
      "outputs": [],
      "source": [
        "def visualize(frame):\n",
        "    coordsX = []\n",
        "    coordsY = []\n",
        "    for i in range(frame.shape[0]):\n",
        "        coordsX.append((frame[i][0]))\n",
        "        coordsY.append((frame[i][1]))\n",
        "    plt.scatter(coordsX, coordsY)\n"
      ]
    },
    {
      "cell_type": "code",
      "execution_count": 23,
      "metadata": {
        "id": "r70_XWRT6jWd"
      },
      "outputs": [],
      "source": [
        "@visualize_rotation\n",
        "def rotate(frame, angle, origin=[0, 0]):\n",
        "    normalized_frame = change_origin(frame)\n",
        "    angle_rad = math.radians(angle)\n",
        "    new_frame = np.copy(frame)\n",
        "    rotation_matrix = np.array([[cos(angle_rad), -sin(angle_rad)], [sin(angle_rad), cos(angle_rad)]])\n",
        "    for i in range(len(new_frame)):\n",
        "        new_frame[i][:2] = np.matmul(rotation_matrix, new_frame[i][:2])\n",
        "    return frame, new_frame"
      ]
    },
    {
      "cell_type": "code",
      "execution_count": 24,
      "metadata": {
        "colab": {
          "base_uri": "https://localhost:8080/",
          "height": 430
        },
        "id": "Y5TDl11l6jWh",
        "outputId": "4d862849-a00e-447d-da4f-905a4cc2aa0d"
      },
      "outputs": [
        {
          "data": {
            "image/png": "[encoded data removed]",
            "text/plain": [
              "<Figure size 640x480 with 1 Axes>"
            ]
          },
          "metadata": {},
          "output_type": "display_data"
        }
      ],
      "source": [
        "#rotation without changing origin\n",
        "_, f1 = rotate(all_frames[0], 10)"
      ]
    },
    {
      "cell_type": "code",
      "execution_count": 25,
      "metadata": {
        "colab": {
          "base_uri": "https://localhost:8080/",
          "height": 430
        },
        "id": "Un0trsg0_iy8",
        "outputId": "2931b8cd-1ac1-429d-96aa-c7662424a07f"
      },
      "outputs": [
        {
          "data": {
            "image/png": "[encoded data removed]",
            "text/plain": [
              "<Figure size 640x480 with 1 Axes>"
            ]
          },
          "metadata": {},
          "output_type": "display_data"
        }
      ],
      "source": [
        "_, frame = change_origin(all_frames[0])\n",
        "_, _=rotate(frame, 10)"
      ]
    },
    {
      "cell_type": "code",
      "execution_count": 26,
      "metadata": {
        "id": "ZkwqseONrT0C"
      },
      "outputs": [],
      "source": [
        "class VectorTransformation():\n",
        "\n",
        "  def __init__(self, center_data=True, translation_x=0, translation_y=0, rotation_angle=0, \n",
        "               shear_x=0, shear_y=0, scaling_x=1, scaling_y=1, reflection=True):\n",
        "    self.center = center_data\n",
        "    self.tx = translation_x\n",
        "    self.ty = translation_y\n",
        "    self.angle = math.radians(rotation_angle)\n",
        "    self.shx = shear_x\n",
        "    self.shy = shear_y\n",
        "    self.scale_x = scaling_x\n",
        "    self.scale_y = scaling_y\n",
        "    self.reflect = reflection\n",
        "\n",
        "  def translation_matrix(self):\n",
        "    return np.array([[1, 0, self.tx],\n",
        "                    [0, 1, self.ty],\n",
        "                    [0, 0, 1]])\n",
        "\n",
        "  def rotation_matrix(self):\n",
        "    return np.array([[cos(self.angle), -sin(self.angle), 0], \n",
        "                       [sin(self.angle), cos(self.angle), 0],\n",
        "                       [0, 0, 1]])\n",
        "\n",
        "  def shearx_matrix(self):\n",
        "    return np.array([[1, self.shx, 0],\n",
        "                     [0, 1, 0], \n",
        "                     [0, 0, 1]])\n",
        "    \n",
        "  def sheary_matrix(self):\n",
        "    return np.array([[1, 0, 0],\n",
        "                     [self.shy, 1, 0],\n",
        "                     [0, 0, 1]])\n",
        "    \n",
        "  def scaling_matrix(self):\n",
        "    return np.array([[self.scale_x, 0, 0],\n",
        "                     [0, self.scale_y, 0], \n",
        "                     [0, 0, 1]])\n",
        "    \n",
        "  def reflection_matrix(self):\n",
        "    return np.array([[1, 0, 0],\n",
        "                     [0, (-1)**(int(self.reflect)), 0], \n",
        "                     [0, 0, 1]])\n",
        "    \n",
        "  def change_origin(self, frame):\n",
        "    new_origin = np.mean(frame[:,:2], axis=0)\n",
        "    new_frame = np.copy(frame)\n",
        "    new_frame[:,:2] -= new_origin\n",
        "    return new_frame "
      ]
    },
    {
      "cell_type": "code",
      "execution_count": 27,
      "metadata": {
        "id": "cRZtJcj7xDvs"
      },
      "outputs": [],
      "source": [
        "def add_to_class(Class):  \n",
        "    def wrapper(obj):\n",
        "        setattr(Class, obj.__name__, obj)\n",
        "    return wrapper"
      ]
    },
    {
      "cell_type": "code",
      "execution_count": 28,
      "metadata": {
        "id": "NlkGaH4PxvM3"
      },
      "outputs": [],
      "source": [
        "@add_to_class(VectorTransformation)\n",
        "def transform(self, frame):\n",
        "    new_frame = np.copy(frame)\n",
        "    new_frame[:, 2] = 1\n",
        "\n",
        "\n",
        "\n",
        "    for i in range(len(new_frame)):\n",
        "        new_frame[i][:3] = np.matmul(self.reflection_matrix(), new_frame[i][:3])\n",
        "        new_frame[i][:3] = np.matmul(self.translation_matrix(), new_frame[i][:3])\n",
        "        new_frame[i][:3] = np.matmul(self.shearx_matrix(), new_frame[i][:3])\n",
        "        new_frame[i][:3] = np.matmul(self.sheary_matrix(), new_frame[i][:3])\n",
        "\n",
        "        if self.center:\n",
        "            new_frame = self.change_origin(new_frame)\n",
        "\n",
        "        new_frame[i][:3] = np.matmul(self.rotation_matrix(), new_frame[i][:3])\n",
        "        # new_frame[i][:3] = np.matmul(self.shearx_matrix(), new_frame[i][:3])\n",
        "        # new_frame[i][:3] = np.matmul(self.sheary_matrix(), new_frame[i][:3])\n",
        "      \n",
        "        new_frame[i][:3] = np.matmul(self.scaling_matrix(), new_frame[i][:3])\n",
        "\n",
        "    new_frame[:, 2] = frame[:, 2]\n",
        "        \n",
        "    return new_frame\n"
      ]
    },
    {
      "cell_type": "code",
      "execution_count": 33,
      "metadata": {
        "id": "NeHBpDXtPdOo"
      },
      "outputs": [],
      "source": [
        "@add_to_class(VectorTransformation)\n",
        "def visualize_change(self, original_frame, new_frame):\n",
        "    plt.title(f\"translation: ({self.tx}, {self.ty})\\nrotation: {self.angle},\\n shear: ({self.shx}, {self.shy})\\n scaling: ({self.scale_x}, {self.scale_y})\")\n",
        "    plt.scatter(original_frame[:, 0], original_frame[:, 1], c=\"blue\", label=\"original_data\")\n",
        "    plt.scatter(new_frame[:, 0], new_frame[:, 1], c=\"red\", label=\"new data\")\n",
        "    plt.scatter(0, 0, c=\"black\")\n",
        "    plt.annotate(\"origin\", (0,0))\n",
        "    plt.arrow(0, 0, original_frame[0][0], original_frame[0][1], length_includes_head=True, color=\"blue\", head_width=0.03)\n",
        "    plt.arrow(0, 0, new_frame[0][0], new_frame[0][1], length_includes_head=True, color=\"red\", head_width=0.03)\n",
        "    plt.legend()"
      ]
    },
    {
      "cell_type": "code",
      "execution_count": 34,
      "metadata": {
        "id": "w9tpdXHKSYCO"
      },
      "outputs": [],
      "source": [
        "data_aug = VectorTransformation(shear_x=0.2, reflection=False, center_data=True)\n",
        "new_frame = data_aug.transform(all_frames[0])\n",
        "# new_frame"
      ]
    },
    {
      "cell_type": "code",
      "execution_count": 35,
      "metadata": {
        "colab": {
          "base_uri": "https://localhost:8080/",
          "height": 515
        },
        "id": "nxqAWcH7S4kY",
        "outputId": "40aaf1f9-62ff-42d7-c684-0513340ee2ac"
      },
      "outputs": [
        {
          "data": {
            "image/png": "[encoded data removed]",
            "text/plain": [
              "<Figure size 640x480 with 1 Axes>"
            ]
          },
          "metadata": {},
          "output_type": "display_data"
        }
      ],
      "source": [
        "_, frame = change_origin(new_frame)\n",
        "data_aug.visualize_change(all_frames[0], frame)"
      ]
    },
    {
      "cell_type": "markdown",
      "metadata": {
        "id": "NLcuJcgtMk94"
      },
      "source": [
        "##random funcitons\n"
      ]
    },
    {
      "cell_type": "code",
      "execution_count": 42,
      "metadata": {
        "id": "l38VgZ6iMqFg"
      },
      "outputs": [],
      "source": [
        "import random \n",
        "\n",
        "@add_to_class(VectorTransformation)\n",
        "def random_translation_matrix(self):\n",
        "    return np.array([[1, 0, random.uniform(0, self.tx)],\n",
        "                         [0, 1, self.ty],\n",
        "                         [0, 0, 1]])\n",
        "\n",
        "@add_to_class(VectorTransformation)\n",
        "def random_rotation_matrix(self):\n",
        "    return np.array([[cos(random.uniform(0, self.angle)), -sin(random.uniform(0,self.angle)), 0], \n",
        "                    [sin(random.uniform(0, self.angle)), cos(random.uniform(0, self.angle)), 0],\n",
        "                    [0, 0, 1]])\n",
        "  \n",
        "@add_to_class(VectorTransformation)\n",
        "def random_shearx_matrix(self):\n",
        "    return np.array([[1, random.uniform(0, self.shx), 0],\n",
        "                     [0, 1, 0], \n",
        "                     [0, 0, 1]])\n",
        "    \n",
        "@add_to_class(VectorTransformation)\n",
        "def random_sheary_matrix(self):\n",
        "  return np.array([[1, 0, 0],\n",
        "                  [random.uniform(0, self.shy), 1, 0],\n",
        "                  [0, 0, 1]])\n",
        "    \n",
        "@add_to_class(VectorTransformation)\n",
        "def random_scaling_matrix(self):\n",
        "  return np.array([[random.uniform(1, self.scale_x), 0, 0],\n",
        "                  [0, random.uniform(1, self.scale_y), 0], \n",
        "                  [0, 0, 1]])"
      ]
    },
    {
      "cell_type": "code",
      "execution_count": 40,
      "metadata": {
        "id": "zlUbHPAvOEQs"
      },
      "outputs": [],
      "source": [
        "@add_to_class(VectorTransformation)\n",
        "def random_transform(self, frame):\n",
        "    new_frame = np.copy(frame)\n",
        "    new_frame[:, 2] = 1\n",
        "\n",
        "    #centering\n",
        "    if self.center:\n",
        "      new_frame = self.change_origin(frame)\n",
        "\n",
        "    for i in range(len(new_frame)):\n",
        "        new_frame[i][:3] = np.matmul(self.reflection_matrix(), new_frame[i][:3])\n",
        "        new_frame[i][:3] = np.matmul(self.random_translation_matrix(), new_frame[i][:3])\n",
        "        new_frame[i][:3] = np.matmul(self.random_rotation_matrix(), new_frame[i][:3])\n",
        "        new_frame[i][:3] = np.matmul(self.random_shearx_matrix(), new_frame[i][:3])\n",
        "        new_frame[i][:3] = np.matmul(self.random_sheary_matrix(), new_frame[i][:3])\n",
        "        new_frame[i][:3] = np.matmul(self.random_scaling_matrix(), new_frame[i][:3])\n",
        "\n",
        "    new_frame[:, 2] = frame[:, 2]\n",
        "        \n",
        "    return new_frame"
      ]
    },
    {
      "cell_type": "code",
      "execution_count": 57,
      "metadata": {
        "id": "tIZpcYsnRSa0"
      },
      "outputs": [],
      "source": [
        "@add_to_class(VectorTransformation)\n",
        "def get_new_data(self, frames: list([]), ratio, random=True):\n",
        "  new_data = []\n",
        "  new_labels = []\n",
        "  for j in range(ratio):\n",
        "    new_video = []\n",
        "    for i in range(len(frames)):\n",
        "      new_video.append(self.transform(frames[i]))\n",
        "        # new_labels.append(labels[i])\n",
        "    new_data.append(new_video)\n",
        "\n",
        "\n",
        "  return new_data, new_labels"
      ]
    },
    {
      "cell_type": "markdown",
      "metadata": {
        "id": "z8ktN1HmRDov"
      },
      "source": [
        "##generating data"
      ]
    },
    {
      "cell_type": "code",
      "execution_count": 60,
      "metadata": {
        "colab": {
          "base_uri": "https://localhost:8080/",
          "height": 346
        },
        "id": "nZbZNLDcRG3N",
        "outputId": "21c4d3cd-b964-4cd7-a1b6-4b176715b5f4"
      },
      "outputs": [
        {
          "data": {
            "text/plain": [
              "(4, 74, 75, 4)"
            ]
          },
          "execution_count": 60,
          "metadata": {},
          "output_type": "execute_result"
        }
      ],
      "source": [
        "data_augmentation = VectorTransformation(translation_x=0.1, translation_y=0.1, shear_x=0.1, shear_y=0.1, reflection=True,\n",
        "                                         rotation_angle=20, center_data=True)\n",
        "\n",
        "new_data = data_augmentation.get_new_data(all_frames, 4)\n",
        "new_data = np.array(list(new_data)[0])\n",
        "new_data.shape"
      ]
    },
    {
      "cell_type": "code",
      "execution_count": null,
      "metadata": {},
      "outputs": [],
      "source": [
        "# Evaluate which values are good for each transformation\n",
        "# Maybe use Unsupervised learning and cluster the augmented data with the original data as centroids\n"
      ]
    }
  ],
  "metadata": {
    "colab": {
      "include_colab_link": true,
      "provenance": []
    },
    "kernelspec": {
      "display_name": "asl-converter",
      "language": "python",
      "name": "python3"
    },
    "language_info": {
      "codemirror_mode": {
        "name": "ipython",
        "version": 3
      },
      "file_extension": ".py",
      "mimetype": "text/x-python",
      "name": "python",
      "nbconvert_exporter": "python",
      "pygments_lexer": "ipython3",
      "version": "3.8.16"
    },
    "orig_nbformat": 4
  },
  "nbformat": 4,
  "nbformat_minor": 0
}
