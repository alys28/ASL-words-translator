{
  "cells": [
    {
      "cell_type": "markdown",
      "metadata": {
        "id": "view-in-github",
        "colab_type": "text"
      },
      "source": [
        "<a href=\"https://colab.research.google.com/github/Freakboy123/ASL-words-translator/blob/main/data_augmentation/media_pipe_data_aug.ipynb\" target=\"_parent\"><img src=\"https://colab.research.google.com/assets/colab-badge.svg\" alt=\"Open In Colab\"/></a>"
      ]
    },
    {
      "cell_type": "code",
      "execution_count": 1,
      "metadata": {
        "id": "NieAcbf56jWX"
      },
      "outputs": [],
      "source": [
        "import os\n",
        "import numpy as np\n",
        "import pandas as pd\n",
        "import matplotlib.pyplot as plt\n",
        "import math\n",
        "from math import sin, cos"
      ]
    },
    {
      "cell_type": "code",
      "source": [
        "from google.colab import drive\n",
        "drive.mount(\"/content/drive\")"
      ],
      "metadata": {
        "colab": {
          "base_uri": "https://localhost:8080/"
        },
        "id": "ZK_J6f8LAlc7",
        "outputId": "846aaf30-d00c-4672-fa96-b4ddad12f12d"
      },
      "execution_count": 2,
      "outputs": [
        {
          "output_type": "stream",
          "name": "stdout",
          "text": [
            "Mounted at /content/drive\n"
          ]
        }
      ]
    },
    {
      "cell_type": "code",
      "execution_count": null,
      "metadata": {
        "id": "9Qrz7oap6jWa",
        "outputId": "f63e6757-b8fb-4543-d7c5-883020d3fc1f"
      },
      "outputs": [
        {
          "data": {
            "text/plain": [
              "['research',\n",
              " 'hear',\n",
              " 'music',\n",
              " 'brother',\n",
              " 'ocean',\n",
              " 'many',\n",
              " 'i love you',\n",
              " 'dog',\n",
              " 'polite',\n",
              " 'milk',\n",
              " 'bookstore',\n",
              " 'doctor',\n",
              " 'i',\n",
              " 'classroom',\n",
              " 'focus',\n",
              " 'money',\n",
              " 'coffee',\n",
              " 'book',\n",
              " 'phone',\n",
              " 'chicken',\n",
              " 'photographer',\n",
              " 'hamburger',\n",
              " 'good morning',\n",
              " 'open',\n",
              " 'door']"
            ]
          },
          "execution_count": 4,
          "metadata": {},
          "output_type": "execute_result"
        }
      ],
      "source": [
        "# Get all labels\n",
        "names = []\n",
        "for dir in os.listdir(\"/Users/aly/Documents/Programming/Apps/Machine Learning/ASL Converter/training_models/mediapipe/reformatting-the-data/data_25_labels\"):\n",
        "    if dir !=  '.DS_Store':\n",
        "        names.append(dir)\n",
        "names"
      ]
    },
    {
      "cell_type": "code",
      "source": [
        "test_arr = np.array([[1,2,3,4],[5,6,7,8]], dtype=np.float32)\n",
        "# test_arr[:,:2]\n",
        "origin = np.mean(test_arr[:,:2], axis=0)\n",
        "test_arr[:,:2] -= origin\n",
        "origin, test_arr"
      ],
      "metadata": {
        "colab": {
          "base_uri": "https://localhost:8080/"
        },
        "id": "ign4sjmd7zIG",
        "outputId": "c541e36e-d251-4b87-dee5-a79a2c4e258a"
      },
      "execution_count": null,
      "outputs": [
        {
          "output_type": "execute_result",
          "data": {
            "text/plain": [
              "(array([3., 4.], dtype=float32),\n",
              " array([[-2., -2.,  3.,  4.],\n",
              "        [ 2.,  2.,  7.,  8.]], dtype=float32))"
            ]
          },
          "metadata": {},
          "execution_count": 28
        }
      ]
    },
    {
      "cell_type": "code",
      "source": [
        "test_arr[:,2] = 1\n",
        "test_arr"
      ],
      "metadata": {
        "colab": {
          "base_uri": "https://localhost:8080/"
        },
        "id": "m0xV6NbG0OBJ",
        "outputId": "b438a279-5562-4595-f952-bf8fe3fece8d"
      },
      "execution_count": null,
      "outputs": [
        {
          "output_type": "execute_result",
          "data": {
            "text/plain": [
              "array([[-2., -2.,  1.,  4.],\n",
              "       [ 2.,  2.,  1.,  8.]], dtype=float32)"
            ]
          },
          "metadata": {},
          "execution_count": 29
        }
      ]
    },
    {
      "cell_type": "code",
      "source": [
        "test_arr[:, 1]"
      ],
      "metadata": {
        "colab": {
          "base_uri": "https://localhost:8080/"
        },
        "id": "8FnHv0hDG5Se",
        "outputId": "da1172bc-eea0-4ab6-c2d7-e7595afe57bc"
      },
      "execution_count": null,
      "outputs": [
        {
          "output_type": "execute_result",
          "data": {
            "text/plain": [
              "array([-2.,  2.], dtype=float32)"
            ]
          },
          "metadata": {},
          "execution_count": 32
        }
      ]
    },
    {
      "cell_type": "code",
      "source": [
        "plt.scatter(test_arr[:,0], test_arr[:, 1])\n",
        "plt.scatter(0, 0, c=\"red\")\n",
        "plt.arrow(0,0,1,1, width=0.03)\n",
        "plt.show()"
      ],
      "metadata": {
        "colab": {
          "base_uri": "https://localhost:8080/",
          "height": 430
        },
        "id": "tpwizhUyxgC4",
        "outputId": "fd629afc-4a27-4f00-8ac1-04fa6d16538e"
      },
      "execution_count": null,
      "outputs": [
        {
          "output_type": "display_data",
          "data": {
            "text/plain": [
              "<Figure size 640x480 with 1 Axes>"
            ],
            "image/png": "[encoded data removed]"
          },
          "metadata": {}
        }
      ]
    },
    {
      "cell_type": "code",
      "execution_count": 3,
      "metadata": {
        "id": "D7QGW1C-6jWf",
        "colab": {
          "base_uri": "https://localhost:8080/",
          "height": 487
        },
        "outputId": "168db593-8ed6-452c-a561-f05cfe171a8d"
      },
      "outputs": [
        {
          "output_type": "execute_result",
          "data": {
            "text/plain": [
              "          x1        y1        z1        v1        x2        y2        z2  \\\n",
              "0   0.551000  0.137201 -0.389623  0.999333  0.563061  0.096713 -0.365614   \n",
              "1   0.551263  0.137491 -0.599251  0.999367  0.563445  0.097272 -0.579636   \n",
              "2   0.551299  0.137634 -0.580877  0.999395  0.563522  0.097499 -0.557771   \n",
              "3   0.551316  0.137765 -0.665241  0.999437  0.563553  0.097863 -0.641277   \n",
              "4   0.551629  0.137767 -0.637008  0.999478  0.563631  0.097861 -0.610989   \n",
              "..       ...       ...       ...       ...       ...       ...       ...   \n",
              "65  0.543555  0.134785 -0.568796  0.999766  0.556483  0.092250 -0.550456   \n",
              "66  0.543352  0.135437 -0.549780  0.999777  0.556255  0.092668 -0.532304   \n",
              "67  0.543219  0.136159 -0.557423  0.999781  0.556032  0.093018 -0.538903   \n",
              "68  0.543214  0.136232 -0.565918  0.999782  0.555989  0.093025 -0.547056   \n",
              "69  0.543210  0.136193 -0.541273  0.999788  0.555977  0.092937 -0.522698   \n",
              "\n",
              "          v2        x3        y3  ...       z73  v73       x74       y74  \\\n",
              "0   0.998801  0.571207  0.096579  ... -0.024982  0.0  0.511601  0.596148   \n",
              "1   0.998870  0.571972  0.097066  ... -0.024671  0.0  0.515144  0.602914   \n",
              "2   0.998936  0.572214  0.097148  ... -0.022818  0.0  0.516246  0.604156   \n",
              "3   0.999020  0.572347  0.097286  ... -0.020360  0.0  0.515703  0.604573   \n",
              "4   0.999101  0.572541  0.097178  ... -0.022453  0.0  0.515289  0.604110   \n",
              "..       ...       ...       ...  ...       ...  ...       ...       ...   \n",
              "65  0.999630  0.566348  0.090431  ... -0.023591  0.0  0.507452  0.612280   \n",
              "66  0.999645  0.566099  0.090881  ... -0.019729  0.0  0.507137  0.614144   \n",
              "67  0.999651  0.565806  0.091271  ... -0.020502  0.0  0.505992  0.615600   \n",
              "68  0.999650  0.565745  0.091274  ... -0.017624  0.0  0.509058  0.616063   \n",
              "69  0.999656  0.565735  0.091166  ... -0.019221  0.0  0.513365  0.617357   \n",
              "\n",
              "         z74  v74       x75       y75       z75  v75  \n",
              "0  -0.018471  0.0  0.522756  0.590431 -0.012709  0.0  \n",
              "1  -0.016651  0.0  0.526639  0.598563 -0.010476  0.0  \n",
              "2  -0.014529  0.0  0.527088  0.599403 -0.008186  0.0  \n",
              "3  -0.011119  0.0  0.526687  0.600712 -0.004170  0.0  \n",
              "4  -0.013184  0.0  0.526383  0.600324 -0.006168  0.0  \n",
              "..       ...  ...       ...       ...       ...  ...  \n",
              "65 -0.015069  0.0  0.518543  0.609027 -0.008547  0.0  \n",
              "66 -0.011554  0.0  0.518027  0.610138 -0.005417  0.0  \n",
              "67 -0.012266  0.0  0.516854  0.610965 -0.006057  0.0  \n",
              "68 -0.009167  0.0  0.519582  0.611696 -0.002924  0.0  \n",
              "69 -0.010375  0.0  0.524128  0.612887 -0.003831  0.0  \n",
              "\n",
              "[70 rows x 300 columns]"
            ],
            "text/html": [
              "\n",
              "  <div id=\"df-a50b2126-8755-48b8-9526-525ec869c390\">\n",
              "    <div class=\"colab-df-container\">\n",
              "      <div>\n",
              "<style scoped>\n",
              "    .dataframe tbody tr th:only-of-type {\n",
              "        vertical-align: middle;\n",
              "    }\n",
              "\n",
              "    .dataframe tbody tr th {\n",
              "        vertical-align: top;\n",
              "    }\n",
              "\n",
              "    .dataframe thead th {\n",
              "        text-align: right;\n",
              "    }\n",
              "</style>\n",
              "<table border=\"1\" class=\"dataframe\">\n",
              "  <thead>\n",
              "    <tr style=\"text-align: right;\">\n",
              "      <th></th>\n",
              "      <th>x1</th>\n",
              "      <th>y1</th>\n",
              "      <th>z1</th>\n",
              "      <th>v1</th>\n",
              "      <th>x2</th>\n",
              "      <th>y2</th>\n",
              "      <th>z2</th>\n",
              "      <th>v2</th>\n",
              "      <th>x3</th>\n",
              "      <th>y3</th>\n",
              "      <th>...</th>\n",
              "      <th>z73</th>\n",
              "      <th>v73</th>\n",
              "      <th>x74</th>\n",
              "      <th>y74</th>\n",
              "      <th>z74</th>\n",
              "      <th>v74</th>\n",
              "      <th>x75</th>\n",
              "      <th>y75</th>\n",
              "      <th>z75</th>\n",
              "      <th>v75</th>\n",
              "    </tr>\n",
              "  </thead>\n",
              "  <tbody>\n",
              "    <tr>\n",
              "      <th>0</th>\n",
              "      <td>0.551000</td>\n",
              "      <td>0.137201</td>\n",
              "      <td>-0.389623</td>\n",
              "      <td>0.999333</td>\n",
              "      <td>0.563061</td>\n",
              "      <td>0.096713</td>\n",
              "      <td>-0.365614</td>\n",
              "      <td>0.998801</td>\n",
              "      <td>0.571207</td>\n",
              "      <td>0.096579</td>\n",
              "      <td>...</td>\n",
              "      <td>-0.024982</td>\n",
              "      <td>0.0</td>\n",
              "      <td>0.511601</td>\n",
              "      <td>0.596148</td>\n",
              "      <td>-0.018471</td>\n",
              "      <td>0.0</td>\n",
              "      <td>0.522756</td>\n",
              "      <td>0.590431</td>\n",
              "      <td>-0.012709</td>\n",
              "      <td>0.0</td>\n",
              "    </tr>\n",
              "    <tr>\n",
              "      <th>1</th>\n",
              "      <td>0.551263</td>\n",
              "      <td>0.137491</td>\n",
              "      <td>-0.599251</td>\n",
              "      <td>0.999367</td>\n",
              "      <td>0.563445</td>\n",
              "      <td>0.097272</td>\n",
              "      <td>-0.579636</td>\n",
              "      <td>0.998870</td>\n",
              "      <td>0.571972</td>\n",
              "      <td>0.097066</td>\n",
              "      <td>...</td>\n",
              "      <td>-0.024671</td>\n",
              "      <td>0.0</td>\n",
              "      <td>0.515144</td>\n",
              "      <td>0.602914</td>\n",
              "      <td>-0.016651</td>\n",
              "      <td>0.0</td>\n",
              "      <td>0.526639</td>\n",
              "      <td>0.598563</td>\n",
              "      <td>-0.010476</td>\n",
              "      <td>0.0</td>\n",
              "    </tr>\n",
              "    <tr>\n",
              "      <th>2</th>\n",
              "      <td>0.551299</td>\n",
              "      <td>0.137634</td>\n",
              "      <td>-0.580877</td>\n",
              "      <td>0.999395</td>\n",
              "      <td>0.563522</td>\n",
              "      <td>0.097499</td>\n",
              "      <td>-0.557771</td>\n",
              "      <td>0.998936</td>\n",
              "      <td>0.572214</td>\n",
              "      <td>0.097148</td>\n",
              "      <td>...</td>\n",
              "      <td>-0.022818</td>\n",
              "      <td>0.0</td>\n",
              "      <td>0.516246</td>\n",
              "      <td>0.604156</td>\n",
              "      <td>-0.014529</td>\n",
              "      <td>0.0</td>\n",
              "      <td>0.527088</td>\n",
              "      <td>0.599403</td>\n",
              "      <td>-0.008186</td>\n",
              "      <td>0.0</td>\n",
              "    </tr>\n",
              "    <tr>\n",
              "      <th>3</th>\n",
              "      <td>0.551316</td>\n",
              "      <td>0.137765</td>\n",
              "      <td>-0.665241</td>\n",
              "      <td>0.999437</td>\n",
              "      <td>0.563553</td>\n",
              "      <td>0.097863</td>\n",
              "      <td>-0.641277</td>\n",
              "      <td>0.999020</td>\n",
              "      <td>0.572347</td>\n",
              "      <td>0.097286</td>\n",
              "      <td>...</td>\n",
              "      <td>-0.020360</td>\n",
              "      <td>0.0</td>\n",
              "      <td>0.515703</td>\n",
              "      <td>0.604573</td>\n",
              "      <td>-0.011119</td>\n",
              "      <td>0.0</td>\n",
              "      <td>0.526687</td>\n",
              "      <td>0.600712</td>\n",
              "      <td>-0.004170</td>\n",
              "      <td>0.0</td>\n",
              "    </tr>\n",
              "    <tr>\n",
              "      <th>4</th>\n",
              "      <td>0.551629</td>\n",
              "      <td>0.137767</td>\n",
              "      <td>-0.637008</td>\n",
              "      <td>0.999478</td>\n",
              "      <td>0.563631</td>\n",
              "      <td>0.097861</td>\n",
              "      <td>-0.610989</td>\n",
              "      <td>0.999101</td>\n",
              "      <td>0.572541</td>\n",
              "      <td>0.097178</td>\n",
              "      <td>...</td>\n",
              "      <td>-0.022453</td>\n",
              "      <td>0.0</td>\n",
              "      <td>0.515289</td>\n",
              "      <td>0.604110</td>\n",
              "      <td>-0.013184</td>\n",
              "      <td>0.0</td>\n",
              "      <td>0.526383</td>\n",
              "      <td>0.600324</td>\n",
              "      <td>-0.006168</td>\n",
              "      <td>0.0</td>\n",
              "    </tr>\n",
              "    <tr>\n",
              "      <th>...</th>\n",
              "      <td>...</td>\n",
              "      <td>...</td>\n",
              "      <td>...</td>\n",
              "      <td>...</td>\n",
              "      <td>...</td>\n",
              "      <td>...</td>\n",
              "      <td>...</td>\n",
              "      <td>...</td>\n",
              "      <td>...</td>\n",
              "      <td>...</td>\n",
              "      <td>...</td>\n",
              "      <td>...</td>\n",
              "      <td>...</td>\n",
              "      <td>...</td>\n",
              "      <td>...</td>\n",
              "      <td>...</td>\n",
              "      <td>...</td>\n",
              "      <td>...</td>\n",
              "      <td>...</td>\n",
              "      <td>...</td>\n",
              "      <td>...</td>\n",
              "    </tr>\n",
              "    <tr>\n",
              "      <th>65</th>\n",
              "      <td>0.543555</td>\n",
              "      <td>0.134785</td>\n",
              "      <td>-0.568796</td>\n",
              "      <td>0.999766</td>\n",
              "      <td>0.556483</td>\n",
              "      <td>0.092250</td>\n",
              "      <td>-0.550456</td>\n",
              "      <td>0.999630</td>\n",
              "      <td>0.566348</td>\n",
              "      <td>0.090431</td>\n",
              "      <td>...</td>\n",
              "      <td>-0.023591</td>\n",
              "      <td>0.0</td>\n",
              "      <td>0.507452</td>\n",
              "      <td>0.612280</td>\n",
              "      <td>-0.015069</td>\n",
              "      <td>0.0</td>\n",
              "      <td>0.518543</td>\n",
              "      <td>0.609027</td>\n",
              "      <td>-0.008547</td>\n",
              "      <td>0.0</td>\n",
              "    </tr>\n",
              "    <tr>\n",
              "      <th>66</th>\n",
              "      <td>0.543352</td>\n",
              "      <td>0.135437</td>\n",
              "      <td>-0.549780</td>\n",
              "      <td>0.999777</td>\n",
              "      <td>0.556255</td>\n",
              "      <td>0.092668</td>\n",
              "      <td>-0.532304</td>\n",
              "      <td>0.999645</td>\n",
              "      <td>0.566099</td>\n",
              "      <td>0.090881</td>\n",
              "      <td>...</td>\n",
              "      <td>-0.019729</td>\n",
              "      <td>0.0</td>\n",
              "      <td>0.507137</td>\n",
              "      <td>0.614144</td>\n",
              "      <td>-0.011554</td>\n",
              "      <td>0.0</td>\n",
              "      <td>0.518027</td>\n",
              "      <td>0.610138</td>\n",
              "      <td>-0.005417</td>\n",
              "      <td>0.0</td>\n",
              "    </tr>\n",
              "    <tr>\n",
              "      <th>67</th>\n",
              "      <td>0.543219</td>\n",
              "      <td>0.136159</td>\n",
              "      <td>-0.557423</td>\n",
              "      <td>0.999781</td>\n",
              "      <td>0.556032</td>\n",
              "      <td>0.093018</td>\n",
              "      <td>-0.538903</td>\n",
              "      <td>0.999651</td>\n",
              "      <td>0.565806</td>\n",
              "      <td>0.091271</td>\n",
              "      <td>...</td>\n",
              "      <td>-0.020502</td>\n",
              "      <td>0.0</td>\n",
              "      <td>0.505992</td>\n",
              "      <td>0.615600</td>\n",
              "      <td>-0.012266</td>\n",
              "      <td>0.0</td>\n",
              "      <td>0.516854</td>\n",
              "      <td>0.610965</td>\n",
              "      <td>-0.006057</td>\n",
              "      <td>0.0</td>\n",
              "    </tr>\n",
              "    <tr>\n",
              "      <th>68</th>\n",
              "      <td>0.543214</td>\n",
              "      <td>0.136232</td>\n",
              "      <td>-0.565918</td>\n",
              "      <td>0.999782</td>\n",
              "      <td>0.555989</td>\n",
              "      <td>0.093025</td>\n",
              "      <td>-0.547056</td>\n",
              "      <td>0.999650</td>\n",
              "      <td>0.565745</td>\n",
              "      <td>0.091274</td>\n",
              "      <td>...</td>\n",
              "      <td>-0.017624</td>\n",
              "      <td>0.0</td>\n",
              "      <td>0.509058</td>\n",
              "      <td>0.616063</td>\n",
              "      <td>-0.009167</td>\n",
              "      <td>0.0</td>\n",
              "      <td>0.519582</td>\n",
              "      <td>0.611696</td>\n",
              "      <td>-0.002924</td>\n",
              "      <td>0.0</td>\n",
              "    </tr>\n",
              "    <tr>\n",
              "      <th>69</th>\n",
              "      <td>0.543210</td>\n",
              "      <td>0.136193</td>\n",
              "      <td>-0.541273</td>\n",
              "      <td>0.999788</td>\n",
              "      <td>0.555977</td>\n",
              "      <td>0.092937</td>\n",
              "      <td>-0.522698</td>\n",
              "      <td>0.999656</td>\n",
              "      <td>0.565735</td>\n",
              "      <td>0.091166</td>\n",
              "      <td>...</td>\n",
              "      <td>-0.019221</td>\n",
              "      <td>0.0</td>\n",
              "      <td>0.513365</td>\n",
              "      <td>0.617357</td>\n",
              "      <td>-0.010375</td>\n",
              "      <td>0.0</td>\n",
              "      <td>0.524128</td>\n",
              "      <td>0.612887</td>\n",
              "      <td>-0.003831</td>\n",
              "      <td>0.0</td>\n",
              "    </tr>\n",
              "  </tbody>\n",
              "</table>\n",
              "<p>70 rows × 300 columns</p>\n",
              "</div>\n",
              "      <button class=\"colab-df-convert\" onclick=\"convertToInteractive('df-a50b2126-8755-48b8-9526-525ec869c390')\"\n",
              "              title=\"Convert this dataframe to an interactive table.\"\n",
              "              style=\"display:none;\">\n",
              "        \n",
              "  <svg xmlns=\"http://www.w3.org/2000/svg\" height=\"24px\"viewBox=\"0 0 24 24\"\n",
              "       width=\"24px\">\n",
              "    <path d=\"M0 0h24v24H0V0z\" fill=\"none\"/>\n",
              "    <path d=\"M18.56 5.44l.94 2.06.94-2.06 2.06-.94-2.06-.94-.94-2.06-.94 2.06-2.06.94zm-11 1L8.5 8.5l.94-2.06 2.06-.94-2.06-.94L8.5 2.5l-.94 2.06-2.06.94zm10 10l.94 2.06.94-2.06 2.06-.94-2.06-.94-.94-2.06-.94 2.06-2.06.94z\"/><path d=\"M17.41 7.96l-1.37-1.37c-.4-.4-.92-.59-1.43-.59-.52 0-1.04.2-1.43.59L10.3 9.45l-7.72 7.72c-.78.78-.78 2.05 0 2.83L4 21.41c.39.39.9.59 1.41.59.51 0 1.02-.2 1.41-.59l7.78-7.78 2.81-2.81c.8-.78.8-2.07 0-2.86zM5.41 20L4 18.59l7.72-7.72 1.47 1.35L5.41 20z\"/>\n",
              "  </svg>\n",
              "      </button>\n",
              "      \n",
              "  <style>\n",
              "    .colab-df-container {\n",
              "      display:flex;\n",
              "      flex-wrap:wrap;\n",
              "      gap: 12px;\n",
              "    }\n",
              "\n",
              "    .colab-df-convert {\n",
              "      background-color: #E8F0FE;\n",
              "      border: none;\n",
              "      border-radius: 50%;\n",
              "      cursor: pointer;\n",
              "      display: none;\n",
              "      fill: #1967D2;\n",
              "      height: 32px;\n",
              "      padding: 0 0 0 0;\n",
              "      width: 32px;\n",
              "    }\n",
              "\n",
              "    .colab-df-convert:hover {\n",
              "      background-color: #E2EBFA;\n",
              "      box-shadow: 0px 1px 2px rgba(60, 64, 67, 0.3), 0px 1px 3px 1px rgba(60, 64, 67, 0.15);\n",
              "      fill: #174EA6;\n",
              "    }\n",
              "\n",
              "    [theme=dark] .colab-df-convert {\n",
              "      background-color: #3B4455;\n",
              "      fill: #D2E3FC;\n",
              "    }\n",
              "\n",
              "    [theme=dark] .colab-df-convert:hover {\n",
              "      background-color: #434B5C;\n",
              "      box-shadow: 0px 1px 3px 1px rgba(0, 0, 0, 0.15);\n",
              "      filter: drop-shadow(0px 1px 2px rgba(0, 0, 0, 0.3));\n",
              "      fill: #FFFFFF;\n",
              "    }\n",
              "  </style>\n",
              "\n",
              "      <script>\n",
              "        const buttonEl =\n",
              "          document.querySelector('#df-a50b2126-8755-48b8-9526-525ec869c390 button.colab-df-convert');\n",
              "        buttonEl.style.display =\n",
              "          google.colab.kernel.accessAllowed ? 'block' : 'none';\n",
              "\n",
              "        async function convertToInteractive(key) {\n",
              "          const element = document.querySelector('#df-a50b2126-8755-48b8-9526-525ec869c390');\n",
              "          const dataTable =\n",
              "            await google.colab.kernel.invokeFunction('convertToInteractive',\n",
              "                                                     [key], {});\n",
              "          if (!dataTable) return;\n",
              "\n",
              "          const docLinkHtml = 'Like what you see? Visit the ' +\n",
              "            '<a target=\"_blank\" href=https://colab.research.google.com/notebooks/data_table.ipynb>data table notebook</a>'\n",
              "            + ' to learn more about interactive tables.';\n",
              "          element.innerHTML = '';\n",
              "          dataTable['output_type'] = 'display_data';\n",
              "          await google.colab.output.renderOutput(dataTable, element);\n",
              "          const docLink = document.createElement('div');\n",
              "          docLink.innerHTML = docLinkHtml;\n",
              "          element.appendChild(docLink);\n",
              "        }\n",
              "      </script>\n",
              "    </div>\n",
              "  </div>\n",
              "  "
            ]
          },
          "metadata": {},
          "execution_count": 3
        }
      ],
      "source": [
        "df = pd.read_csv(\"/content/drive/MyDrive/ASL_data_aug/media_pipe_data.csv\")\n",
        "df"
      ]
    },
    {
      "cell_type": "code",
      "execution_count": null,
      "metadata": {
        "id": "1NHW1Bby6jWf",
        "outputId": "bd45a89e-27d8-4b08-a5ae-b020d97fcbde",
        "colab": {
          "base_uri": "https://localhost:8080/"
        }
      },
      "outputs": [
        {
          "output_type": "execute_result",
          "data": {
            "text/plain": [
              "array([ 0.55099976,  0.13720125, -0.38962263,  0.99933296])"
            ]
          },
          "metadata": {},
          "execution_count": 4
        }
      ],
      "source": [
        "#test\n",
        "\n",
        "frame = df.iloc[0].to_numpy()\n",
        "frame = frame.reshape((75, 4))\n",
        "frame[0]\n",
        "# new_frame = rotate(frame, 5)\n",
        "# print(new_frame[0])\n",
        "# print(frame[0])"
      ]
    },
    {
      "cell_type": "code",
      "source": [
        "all_frames = df.to_numpy().reshape((70, 75, 4))\n",
        "all_frames[0][0]"
      ],
      "metadata": {
        "colab": {
          "base_uri": "https://localhost:8080/"
        },
        "id": "nKr7TbE9BO0f",
        "outputId": "55d5aacd-e81d-4a27-9a04-b5cb3f584e33"
      },
      "execution_count": 4,
      "outputs": [
        {
          "output_type": "execute_result",
          "data": {
            "text/plain": [
              "array([ 0.55099976,  0.13720125, -0.38962263,  0.99933296])"
            ]
          },
          "metadata": {},
          "execution_count": 4
        }
      ]
    },
    {
      "cell_type": "code",
      "source": [
        "def change_origin(frame):\n",
        "  new_origin = np.mean(frame[:,:2], axis=0)\n",
        "  # print(new_origin.shape)\n",
        "  new_frame = np.copy(frame)\n",
        "  new_frame[:,:2] -= new_origin\n",
        "  return frame, new_frame "
      ],
      "metadata": {
        "id": "IBSAnft37hY9"
      },
      "execution_count": 5,
      "outputs": []
    },
    {
      "cell_type": "code",
      "source": [
        "def visualize_rotation(func):\n",
        "\n",
        "  def wrap(*args, **kwargs):\n",
        "    original_frame, new_frame = func(*args, **kwargs)\n",
        "    plt.scatter(original_frame[:, 0], original_frame[:, 1], c=\"blue\", label=\"original_data\")\n",
        "    plt.scatter(new_frame[:, 0], new_frame[:, 1], c=\"red\", label=\"new data\")\n",
        "    plt.scatter(0, 0, c=\"black\")\n",
        "    plt.annotate(\"origin\", (0,0))\n",
        "    plt.arrow(0, 0, original_frame[0][0], original_frame[0][1], length_includes_head=True, color=\"blue\", head_width=0.03)\n",
        "    plt.arrow(0, 0, new_frame[0][0], new_frame[0][1], length_includes_head=True, color=\"red\", head_width=0.03)\n",
        "    plt.legend()\n",
        "    return original_frame, new_frame\n",
        "\n",
        "  return wrap"
      ],
      "metadata": {
        "id": "FA6wu80d4Xv6"
      },
      "execution_count": 6,
      "outputs": []
    },
    {
      "cell_type": "code",
      "execution_count": 7,
      "metadata": {
        "id": "styqDd6N6jWe"
      },
      "outputs": [],
      "source": [
        "def visualize(frame):\n",
        "    coordsX = []\n",
        "    coordsY = []\n",
        "    for i in range(frame.shape[0]):\n",
        "        coordsX.append((frame[i][0]))\n",
        "        coordsY.append((frame[i][1]))\n",
        "    plt.scatter(coordsX, coordsY)\n"
      ]
    },
    {
      "cell_type": "code",
      "execution_count": 8,
      "metadata": {
        "id": "r70_XWRT6jWd"
      },
      "outputs": [],
      "source": [
        "@visualize_rotation\n",
        "def rotate(frame, angle, origin=[0, 0]):\n",
        "    normalized_frame = change_origin(frame)\n",
        "    angle_rad = math.radians(angle)\n",
        "    new_frame = np.copy(frame)\n",
        "    rotation_matrix = np.array([[cos(angle_rad), -sin(angle_rad)], [sin(angle_rad), cos(angle_rad)]])\n",
        "    for i in range(len(new_frame)):\n",
        "        new_frame[i][:2] = np.matmul(rotation_matrix, new_frame[i][:2])\n",
        "    return frame, new_frame"
      ]
    },
    {
      "cell_type": "code",
      "execution_count": 9,
      "metadata": {
        "id": "Y5TDl11l6jWh",
        "outputId": "4d862849-a00e-447d-da4f-905a4cc2aa0d",
        "colab": {
          "base_uri": "https://localhost:8080/",
          "height": 430
        }
      },
      "outputs": [
        {
          "output_type": "display_data",
          "data": {
            "text/plain": [
              "<Figure size 640x480 with 1 Axes>"
            ],
            "image/png": "[encoded data removed]"
          },
          "metadata": {}
        }
      ],
      "source": [
        "#rotation without changing origin\n",
        "_, f1 = rotate(all_frames[0], 10)"
      ]
    },
    {
      "cell_type": "code",
      "source": [
        "_, frame = change_origin(all_frames[0])\n",
        "_, _=rotate(frame, 10)"
      ],
      "metadata": {
        "colab": {
          "base_uri": "https://localhost:8080/",
          "height": 430
        },
        "id": "Un0trsg0_iy8",
        "outputId": "2931b8cd-1ac1-429d-96aa-c7662424a07f"
      },
      "execution_count": 10,
      "outputs": [
        {
          "output_type": "display_data",
          "data": {
            "text/plain": [
              "<Figure size 640x480 with 1 Axes>"
            ],
            "image/png": "[encoded data removed]"
          },
          "metadata": {}
        }
      ]
    },
    {
      "cell_type": "code",
      "source": [
        "class VectorTransformation():\n",
        "\n",
        "  def __init__(self, center_data=True, translation_x=0, translation_y=0, rotation_angle=0, \n",
        "               shear_x=0, shear_y=0, scaling_x=1, scaling_y=1, reflection=True):\n",
        "    self.center = center_data\n",
        "    self.tx = translation_x\n",
        "    self.ty = translation_y\n",
        "    self.angle = math.radians(rotation_angle)\n",
        "    self.shx = shear_x\n",
        "    self.shy = shear_y\n",
        "    self.scale_x = scaling_x\n",
        "    self.scale_y = scaling_y\n",
        "    self.reflect = reflection\n",
        "\n",
        "  def translation_matrix(self):\n",
        "    return np.array([[1, 0, self.tx],\n",
        "                    [0, 1, self.ty],\n",
        "                    [0, 0, 1]])\n",
        "\n",
        "  def rotation_matrix(self):\n",
        "    return np.array([[cos(self.angle), -sin(self.angle), 0], \n",
        "                       [sin(self.angle), cos(self.angle), 0],\n",
        "                       [0, 0, 1]])\n",
        "\n",
        "  def shearx_matrix(self):\n",
        "    return np.array([[1, self.shx, 0],\n",
        "                     [0, 1, 0], \n",
        "                     [0, 0, 1]])\n",
        "    \n",
        "  def sheary_matrix(self):\n",
        "    return np.array([[1, 0, 0],\n",
        "                     [self.shy, 1, 0],\n",
        "                     [0, 0, 1]])\n",
        "    \n",
        "  def scaling_matrix(self):\n",
        "    return np.array([[self.scale_x, 0, 0],\n",
        "                     [0, self.scale_y, 0], \n",
        "                     [0, 0, 1]])\n",
        "    \n",
        "  def reflection_matrix(self):\n",
        "    return np.array([[1, 0, 0],\n",
        "                     [0, (-1)**(int(self.reflect)), 0], \n",
        "                     [0, 0, 1]])\n",
        "    \n",
        "  def change_origin(self, frame):\n",
        "    new_origin = np.mean(frame[:,:2], axis=0)\n",
        "    new_frame = np.copy(frame)\n",
        "    new_frame[:,:2] -= new_origin\n",
        "    return new_frame "
      ],
      "metadata": {
        "id": "ZkwqseONrT0C"
      },
      "execution_count": 24,
      "outputs": []
    },
    {
      "cell_type": "code",
      "source": [
        "def add_to_class(Class):  \n",
        "    def wrapper(obj):\n",
        "        setattr(Class, obj.__name__, obj)\n",
        "    return wrapper"
      ],
      "metadata": {
        "id": "cRZtJcj7xDvs"
      },
      "execution_count": 13,
      "outputs": []
    },
    {
      "cell_type": "code",
      "source": [
        "@add_to_class(VectorTransformation)\n",
        "def transform(self, frame):\n",
        "    new_frame = np.copy(frame)\n",
        "    new_frame[:, 2] = 1\n",
        "\n",
        "\n",
        "\n",
        "    for i in range(len(new_frame)):\n",
        "        new_frame[i][:3] = np.matmul(self.reflection_matrix(), new_frame[i][:3])\n",
        "        new_frame[i][:3] = np.matmul(self.translation_matrix(), new_frame[i][:3])\n",
        "        new_frame[i][:3] = np.matmul(self.shearx_matrix(), new_frame[i][:3])\n",
        "        new_frame[i][:3] = np.matmul(self.sheary_matrix(), new_frame[i][:3])\n",
        "\n",
        "        if self.center:\n",
        "            new_frame = self.change_origin(new_frame)\n",
        "\n",
        "        new_frame[i][:3] = np.matmul(self.rotation_matrix(), new_frame[i][:3])\n",
        "        # new_frame[i][:3] = np.matmul(self.shearx_matrix(), new_frame[i][:3])\n",
        "        # new_frame[i][:3] = np.matmul(self.sheary_matrix(), new_frame[i][:3])\n",
        "      \n",
        "        new_frame[i][:3] = np.matmul(self.scaling_matrix(), new_frame[i][:3])\n",
        "\n",
        "    new_frame[:, 2] = frame[:, 2]\n",
        "        \n",
        "    return new_frame\n"
      ],
      "metadata": {
        "id": "NlkGaH4PxvM3"
      },
      "execution_count": 68,
      "outputs": []
    },
    {
      "cell_type": "code",
      "source": [
        "@add_to_class(VectorTransformation)\n",
        "def visualize_change(self, original_frame, new_frame):\n",
        "    plt.title(f\"translation: ({self.tx}, {self.ty})\\nrotation: {self.angle},\\n shear: ({self.shx}, {self.shy})\\n scaling: ({self.scale_x}, {self.scale_y})\")\n",
        "    plt.scatter(original_frame[:, 0], original_frame[:, 1], c=\"blue\", label=\"original_data\")\n",
        "    plt.scatter(new_frame[:, 0], new_frame[:, 1], c=\"red\", label=\"new data\")\n",
        "    plt.scatter(0, 0, c=\"black\")\n",
        "    plt.annotate(\"origin\", (0,0))\n",
        "    plt.arrow(0, 0, original_frame[0][0], original_frame[0][1], length_includes_head=True, color=\"blue\", head_width=0.03)\n",
        "    plt.arrow(0, 0, new_frame[0][0], new_frame[0][1], length_includes_head=True, color=\"red\", head_width=0.03)\n",
        "    plt.legend()"
      ],
      "metadata": {
        "id": "NeHBpDXtPdOo"
      },
      "execution_count": 27,
      "outputs": []
    },
    {
      "cell_type": "code",
      "source": [
        "data_aug = VectorTransformation(shear_x=0.2, reflection=False, center_data=True)\n",
        "new_frame = data_aug.transform(all_frames[0])\n",
        "# new_frame"
      ],
      "metadata": {
        "id": "w9tpdXHKSYCO"
      },
      "execution_count": 75,
      "outputs": []
    },
    {
      "cell_type": "code",
      "source": [
        "_, frame = change_origin(new_frame)\n",
        "data_aug.visualize_change(all_frames[0], frame)"
      ],
      "metadata": {
        "colab": {
          "base_uri": "https://localhost:8080/",
          "height": 515
        },
        "id": "nxqAWcH7S4kY",
        "outputId": "40aaf1f9-62ff-42d7-c684-0513340ee2ac"
      },
      "execution_count": 80,
      "outputs": [
        {
          "output_type": "display_data",
          "data": {
            "text/plain": [
              "<Figure size 640x480 with 1 Axes>"
            ],
            "image/png": "[encoded data removed]"
          },
          "metadata": {}
        }
      ]
    },
    {
      "cell_type": "markdown",
      "source": [
        "##random funcitons\n"
      ],
      "metadata": {
        "id": "NLcuJcgtMk94"
      }
    },
    {
      "cell_type": "code",
      "source": [
        "import random \n",
        "\n",
        "@add_to_class(VectorTransformation)\n",
        "def random_translation_matrix(self):\n",
        "    return np.array([[1, 0, random.uniform(0, self.tx)],\n",
        "                         [0, 1, self.ty],\n",
        "                         [0, 0, 1]])\n",
        "\n",
        "@add_to_class(VectorTransformation)\n",
        "def random_rotation_matrix(self):\n",
        "    return np.array([[cos(random.uniform(0, self.angle)), -sin(random(0,self.angle)), 0], \n",
        "                    [sin(random.uniform(0, self.angle)), cos(random.uniform(0, self.angle)), 0],\n",
        "                    [0, 0, 1]])\n",
        "  \n",
        "@add_to_class(VectorTransformation)\n",
        "def random_shearx_matrix(self):\n",
        "    return np.array([[1, random.uniform(0, self.shx), 0],\n",
        "                     [0, 1, 0], \n",
        "                     [0, 0, 1]])\n",
        "    \n",
        "@add_to_class(VectorTransformation)\n",
        "def random_sheary_matrix(self):\n",
        "  return np.array([[1, 0, 0],\n",
        "                  [random.uniform(0, self.shy), 1, 0],\n",
        "                  [0, 0, 1]])\n",
        "    \n",
        "@add_to_class(VectorTransformation)\n",
        "def random_scaling_matrix(self):\n",
        "  return np.array([[random.uniform(1, self.scale_x), 0, 0],\n",
        "                  [0, random(1, self.scale_y), 0], \n",
        "                  [0, 0, 1]])"
      ],
      "metadata": {
        "id": "l38VgZ6iMqFg"
      },
      "execution_count": 81,
      "outputs": []
    },
    {
      "cell_type": "code",
      "source": [
        "@add_to_class(VectorTransformation)\n",
        "def random_transform(self, frame):\n",
        "    new_frame = np.copy(frame)\n",
        "    new_frame[:, 2] = 1\n",
        "\n",
        "    #centering\n",
        "    if self.center:\n",
        "      new_frame = self.change_origin(frame)\n",
        "\n",
        "    for i in range(len(new_frame)):\n",
        "        new_frame[i][:3] = np.matmul(self.reflection_matrix(), new_frame[i][:3])\n",
        "        new_frame[i][:3] = np.matmul(self.random_translation_matrix(), new_frame[i][:3])\n",
        "        new_frame[i][:3] = np.matmul(self.random_rotation_matrix(), new_frame[i][:3])\n",
        "        new_frame[i][:3] = np.matmul(self.random_shearx_matrix(), new_frame[i][:3])\n",
        "        new_frame[i][:3] = np.matmul(self.random_sheary_matrix(), new_frame[i][:3])\n",
        "        new_frame[i][:3] = np.matmul(self.random_scaling_matrix(), new_frame[i][:3])\n",
        "\n",
        "    new_frame[:, 2] = frame[:, 2]\n",
        "        \n",
        "    return new_frame"
      ],
      "metadata": {
        "id": "zlUbHPAvOEQs"
      },
      "execution_count": 93,
      "outputs": []
    },
    {
      "cell_type": "code",
      "source": [
        "@add_to_class(VectorTransformation)\n",
        "def get_new_data(self, frames: list[[]], ratio, random=True):\n",
        "  new_data = []\n",
        "  new_labels = []\n",
        "  for i in range(len(frames)):\n",
        "    for j in range(ratio):\n",
        "      if random:\n",
        "        new_data.append(self.random_transform(frames[i]))\n",
        "        # new_labels.append(labels[i])\n",
        "      else:\n",
        "        new_data.append(self.transform(frames[i]))\n",
        "        # new_labels.append(labels[i])\n",
        "\n",
        "\n",
        "  return new_data, new_labels"
      ],
      "metadata": {
        "id": "tIZpcYsnRSa0"
      },
      "execution_count": 94,
      "outputs": []
    },
    {
      "cell_type": "markdown",
      "source": [
        "##generating data"
      ],
      "metadata": {
        "id": "z8ktN1HmRDov"
      }
    },
    {
      "cell_type": "code",
      "source": [
        "data_augmentation = VectorTransformation(translation_x=0.1, translation_y=0.1, shear_x=0.1, shear_y=0.1, reflection=True,\n",
        "                                         rotation_angle=20, center_data=True)\n",
        "\n",
        "new_data = data_augmentation.get_new_data(all_frames, 2)"
      ],
      "metadata": {
        "id": "nZbZNLDcRG3N",
        "outputId": "21c4d3cd-b964-4cd7-a1b6-4b176715b5f4",
        "colab": {
          "base_uri": "https://localhost:8080/",
          "height": 346
        }
      },
      "execution_count": 95,
      "outputs": [
        {
          "output_type": "error",
          "ename": "TypeError",
          "evalue": "ignored",
          "traceback": [
            "\u001b[0;31m---------------------------------------------------------------------------\u001b[0m",
            "\u001b[0;31mTypeError\u001b[0m                                 Traceback (most recent call last)",
            "\u001b[0;32m<ipython-input-95-5ba400bb29df>\u001b[0m in \u001b[0;36m<cell line: 4>\u001b[0;34m()\u001b[0m\n\u001b[1;32m      2\u001b[0m                                          rotation_angle=20, center_data=True)\n\u001b[1;32m      3\u001b[0m \u001b[0;34m\u001b[0m\u001b[0m\n\u001b[0;32m----> 4\u001b[0;31m \u001b[0mnew_data\u001b[0m \u001b[0;34m=\u001b[0m \u001b[0mdata_augmentation\u001b[0m\u001b[0;34m.\u001b[0m\u001b[0mget_new_data\u001b[0m\u001b[0;34m(\u001b[0m\u001b[0mall_frames\u001b[0m\u001b[0;34m,\u001b[0m \u001b[0;36m2\u001b[0m\u001b[0;34m)\u001b[0m\u001b[0;34m\u001b[0m\u001b[0;34m\u001b[0m\u001b[0m\n\u001b[0m",
            "\u001b[0;32m<ipython-input-94-388b3614610b>\u001b[0m in \u001b[0;36mget_new_data\u001b[0;34m(self, frames, ratio, random)\u001b[0m\n\u001b[1;32m      6\u001b[0m     \u001b[0;32mfor\u001b[0m \u001b[0mj\u001b[0m \u001b[0;32min\u001b[0m \u001b[0mrange\u001b[0m\u001b[0;34m(\u001b[0m\u001b[0mratio\u001b[0m\u001b[0;34m)\u001b[0m\u001b[0;34m:\u001b[0m\u001b[0;34m\u001b[0m\u001b[0;34m\u001b[0m\u001b[0m\n\u001b[1;32m      7\u001b[0m       \u001b[0;32mif\u001b[0m \u001b[0mrandom\u001b[0m\u001b[0;34m:\u001b[0m\u001b[0;34m\u001b[0m\u001b[0;34m\u001b[0m\u001b[0m\n\u001b[0;32m----> 8\u001b[0;31m         \u001b[0mnew_data\u001b[0m\u001b[0;34m.\u001b[0m\u001b[0mappend\u001b[0m\u001b[0;34m(\u001b[0m\u001b[0mself\u001b[0m\u001b[0;34m.\u001b[0m\u001b[0mrandom_transform\u001b[0m\u001b[0;34m(\u001b[0m\u001b[0mframes\u001b[0m\u001b[0;34m[\u001b[0m\u001b[0mi\u001b[0m\u001b[0;34m]\u001b[0m\u001b[0;34m)\u001b[0m\u001b[0;34m)\u001b[0m\u001b[0;34m\u001b[0m\u001b[0;34m\u001b[0m\u001b[0m\n\u001b[0m\u001b[1;32m      9\u001b[0m         \u001b[0;31m# new_labels.append(labels[i])\u001b[0m\u001b[0;34m\u001b[0m\u001b[0;34m\u001b[0m\u001b[0m\n\u001b[1;32m     10\u001b[0m       \u001b[0;32melse\u001b[0m\u001b[0;34m:\u001b[0m\u001b[0;34m\u001b[0m\u001b[0;34m\u001b[0m\u001b[0m\n",
            "\u001b[0;32m<ipython-input-93-781694e7bfe1>\u001b[0m in \u001b[0;36mrandom_transform\u001b[0;34m(self, frame)\u001b[0m\n\u001b[1;32m     11\u001b[0m         \u001b[0mnew_frame\u001b[0m\u001b[0;34m[\u001b[0m\u001b[0mi\u001b[0m\u001b[0;34m]\u001b[0m\u001b[0;34m[\u001b[0m\u001b[0;34m:\u001b[0m\u001b[0;36m3\u001b[0m\u001b[0;34m]\u001b[0m \u001b[0;34m=\u001b[0m \u001b[0mnp\u001b[0m\u001b[0;34m.\u001b[0m\u001b[0mmatmul\u001b[0m\u001b[0;34m(\u001b[0m\u001b[0mself\u001b[0m\u001b[0;34m.\u001b[0m\u001b[0mreflection_matrix\u001b[0m\u001b[0;34m(\u001b[0m\u001b[0;34m)\u001b[0m\u001b[0;34m,\u001b[0m \u001b[0mnew_frame\u001b[0m\u001b[0;34m[\u001b[0m\u001b[0mi\u001b[0m\u001b[0;34m]\u001b[0m\u001b[0;34m[\u001b[0m\u001b[0;34m:\u001b[0m\u001b[0;36m3\u001b[0m\u001b[0;34m]\u001b[0m\u001b[0;34m)\u001b[0m\u001b[0;34m\u001b[0m\u001b[0;34m\u001b[0m\u001b[0m\n\u001b[1;32m     12\u001b[0m         \u001b[0mnew_frame\u001b[0m\u001b[0;34m[\u001b[0m\u001b[0mi\u001b[0m\u001b[0;34m]\u001b[0m\u001b[0;34m[\u001b[0m\u001b[0;34m:\u001b[0m\u001b[0;36m3\u001b[0m\u001b[0;34m]\u001b[0m \u001b[0;34m=\u001b[0m \u001b[0mnp\u001b[0m\u001b[0;34m.\u001b[0m\u001b[0mmatmul\u001b[0m\u001b[0;34m(\u001b[0m\u001b[0mself\u001b[0m\u001b[0;34m.\u001b[0m\u001b[0mrandom_translation_matrix\u001b[0m\u001b[0;34m(\u001b[0m\u001b[0;34m)\u001b[0m\u001b[0;34m,\u001b[0m \u001b[0mnew_frame\u001b[0m\u001b[0;34m[\u001b[0m\u001b[0mi\u001b[0m\u001b[0;34m]\u001b[0m\u001b[0;34m[\u001b[0m\u001b[0;34m:\u001b[0m\u001b[0;36m3\u001b[0m\u001b[0;34m]\u001b[0m\u001b[0;34m)\u001b[0m\u001b[0;34m\u001b[0m\u001b[0;34m\u001b[0m\u001b[0m\n\u001b[0;32m---> 13\u001b[0;31m         \u001b[0mnew_frame\u001b[0m\u001b[0;34m[\u001b[0m\u001b[0mi\u001b[0m\u001b[0;34m]\u001b[0m\u001b[0;34m[\u001b[0m\u001b[0;34m:\u001b[0m\u001b[0;36m3\u001b[0m\u001b[0;34m]\u001b[0m \u001b[0;34m=\u001b[0m \u001b[0mnp\u001b[0m\u001b[0;34m.\u001b[0m\u001b[0mmatmul\u001b[0m\u001b[0;34m(\u001b[0m\u001b[0mself\u001b[0m\u001b[0;34m.\u001b[0m\u001b[0mrandom_rotation_matrix\u001b[0m\u001b[0;34m(\u001b[0m\u001b[0;34m)\u001b[0m\u001b[0;34m,\u001b[0m \u001b[0mnew_frame\u001b[0m\u001b[0;34m[\u001b[0m\u001b[0mi\u001b[0m\u001b[0;34m]\u001b[0m\u001b[0;34m[\u001b[0m\u001b[0;34m:\u001b[0m\u001b[0;36m3\u001b[0m\u001b[0;34m]\u001b[0m\u001b[0;34m)\u001b[0m\u001b[0;34m\u001b[0m\u001b[0;34m\u001b[0m\u001b[0m\n\u001b[0m\u001b[1;32m     14\u001b[0m         \u001b[0mnew_frame\u001b[0m\u001b[0;34m[\u001b[0m\u001b[0mi\u001b[0m\u001b[0;34m]\u001b[0m\u001b[0;34m[\u001b[0m\u001b[0;34m:\u001b[0m\u001b[0;36m3\u001b[0m\u001b[0;34m]\u001b[0m \u001b[0;34m=\u001b[0m \u001b[0mnp\u001b[0m\u001b[0;34m.\u001b[0m\u001b[0mmatmul\u001b[0m\u001b[0;34m(\u001b[0m\u001b[0mself\u001b[0m\u001b[0;34m.\u001b[0m\u001b[0mrandom_shearx_matrix\u001b[0m\u001b[0;34m(\u001b[0m\u001b[0;34m)\u001b[0m\u001b[0;34m,\u001b[0m \u001b[0mnew_frame\u001b[0m\u001b[0;34m[\u001b[0m\u001b[0mi\u001b[0m\u001b[0;34m]\u001b[0m\u001b[0;34m[\u001b[0m\u001b[0;34m:\u001b[0m\u001b[0;36m3\u001b[0m\u001b[0;34m]\u001b[0m\u001b[0;34m)\u001b[0m\u001b[0;34m\u001b[0m\u001b[0;34m\u001b[0m\u001b[0m\n\u001b[1;32m     15\u001b[0m         \u001b[0mnew_frame\u001b[0m\u001b[0;34m[\u001b[0m\u001b[0mi\u001b[0m\u001b[0;34m]\u001b[0m\u001b[0;34m[\u001b[0m\u001b[0;34m:\u001b[0m\u001b[0;36m3\u001b[0m\u001b[0;34m]\u001b[0m \u001b[0;34m=\u001b[0m \u001b[0mnp\u001b[0m\u001b[0;34m.\u001b[0m\u001b[0mmatmul\u001b[0m\u001b[0;34m(\u001b[0m\u001b[0mself\u001b[0m\u001b[0;34m.\u001b[0m\u001b[0mrandom_sheary_matrix\u001b[0m\u001b[0;34m(\u001b[0m\u001b[0;34m)\u001b[0m\u001b[0;34m,\u001b[0m \u001b[0mnew_frame\u001b[0m\u001b[0;34m[\u001b[0m\u001b[0mi\u001b[0m\u001b[0;34m]\u001b[0m\u001b[0;34m[\u001b[0m\u001b[0;34m:\u001b[0m\u001b[0;36m3\u001b[0m\u001b[0;34m]\u001b[0m\u001b[0;34m)\u001b[0m\u001b[0;34m\u001b[0m\u001b[0;34m\u001b[0m\u001b[0m\n",
            "\u001b[0;32m<ipython-input-81-a2782e9aa29e>\u001b[0m in \u001b[0;36mrandom_rotation_matrix\u001b[0;34m(self)\u001b[0m\n\u001b[1;32m      9\u001b[0m \u001b[0;34m@\u001b[0m\u001b[0madd_to_class\u001b[0m\u001b[0;34m(\u001b[0m\u001b[0mVectorTransformation\u001b[0m\u001b[0;34m)\u001b[0m\u001b[0;34m\u001b[0m\u001b[0;34m\u001b[0m\u001b[0m\n\u001b[1;32m     10\u001b[0m \u001b[0;32mdef\u001b[0m \u001b[0mrandom_rotation_matrix\u001b[0m\u001b[0;34m(\u001b[0m\u001b[0mself\u001b[0m\u001b[0;34m)\u001b[0m\u001b[0;34m:\u001b[0m\u001b[0;34m\u001b[0m\u001b[0;34m\u001b[0m\u001b[0m\n\u001b[0;32m---> 11\u001b[0;31m     return np.array([[cos(random.uniform(0, self.angle)), -sin(random(0,self.angle)), 0], \n\u001b[0m\u001b[1;32m     12\u001b[0m                     \u001b[0;34m[\u001b[0m\u001b[0msin\u001b[0m\u001b[0;34m(\u001b[0m\u001b[0mrandom\u001b[0m\u001b[0;34m.\u001b[0m\u001b[0muniform\u001b[0m\u001b[0;34m(\u001b[0m\u001b[0;36m0\u001b[0m\u001b[0;34m,\u001b[0m \u001b[0mself\u001b[0m\u001b[0;34m.\u001b[0m\u001b[0mangle\u001b[0m\u001b[0;34m)\u001b[0m\u001b[0;34m)\u001b[0m\u001b[0;34m,\u001b[0m \u001b[0mcos\u001b[0m\u001b[0;34m(\u001b[0m\u001b[0mrandom\u001b[0m\u001b[0;34m.\u001b[0m\u001b[0muniform\u001b[0m\u001b[0;34m(\u001b[0m\u001b[0;36m0\u001b[0m\u001b[0;34m,\u001b[0m \u001b[0mself\u001b[0m\u001b[0;34m.\u001b[0m\u001b[0mangle\u001b[0m\u001b[0;34m)\u001b[0m\u001b[0;34m)\u001b[0m\u001b[0;34m,\u001b[0m \u001b[0;36m0\u001b[0m\u001b[0;34m]\u001b[0m\u001b[0;34m,\u001b[0m\u001b[0;34m\u001b[0m\u001b[0;34m\u001b[0m\u001b[0m\n\u001b[1;32m     13\u001b[0m                     [0, 0, 1]])\n",
            "\u001b[0;31mTypeError\u001b[0m: 'module' object is not callable"
          ]
        }
      ]
    }
  ],
  "metadata": {
    "kernelspec": {
      "display_name": "asl-converter",
      "language": "python",
      "name": "python3"
    },
    "language_info": {
      "codemirror_mode": {
        "name": "ipython",
        "version": 3
      },
      "file_extension": ".py",
      "mimetype": "text/x-python",
      "name": "python",
      "nbconvert_exporter": "python",
      "pygments_lexer": "ipython3",
      "version": "3.8.16"
    },
    "orig_nbformat": 4,
    "colab": {
      "provenance": [],
      "include_colab_link": true
    }
  },
  "nbformat": 4,
  "nbformat_minor": 0
}