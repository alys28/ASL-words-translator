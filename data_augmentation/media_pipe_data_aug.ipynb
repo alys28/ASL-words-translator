{
  "cells": [
    {
      "cell_type": "markdown",
      "metadata": {
        "id": "view-in-github",
        "colab_type": "text"
      },
      "source": [
        "<a href=\"https://colab.research.google.com/github/Freakboy123/ASL-words-translator/blob/main/data_augmentation/media_pipe_data_aug.ipynb\" target=\"_parent\"><img src=\"https://colab.research.google.com/assets/colab-badge.svg\" alt=\"Open In Colab\"/></a>"
      ]
    },
    {
      "cell_type": "code",
      "execution_count": null,
      "metadata": {
        "id": "NieAcbf56jWX"
      },
      "outputs": [],
      "source": [
        "import os\n",
        "import numpy as np\n",
        "import pandas as pd\n",
        "import matplotlib.pyplot as plt\n",
        "import math\n",
        "from math import sin, cos"
      ]
    },
    {
      "cell_type": "code",
      "source": [
        "from google.colab import drive\n",
        "drive.mount(\"/content/drive\")"
      ],
      "metadata": {
        "colab": {
          "base_uri": "https://localhost:8080/"
        },
        "id": "ZK_J6f8LAlc7",
        "outputId": "a61bf751-9abb-4dce-b548-8a13efc060be"
      },
      "execution_count": null,
      "outputs": [
        {
          "output_type": "stream",
          "name": "stdout",
          "text": [
            "Mounted at /content/drive\n"
          ]
        }
      ]
    },
    {
      "cell_type": "code",
      "execution_count": null,
      "metadata": {
        "id": "9Qrz7oap6jWa",
        "outputId": "f63e6757-b8fb-4543-d7c5-883020d3fc1f"
      },
      "outputs": [
        {
          "data": {
            "text/plain": [
              "['research',\n",
              " 'hear',\n",
              " 'music',\n",
              " 'brother',\n",
              " 'ocean',\n",
              " 'many',\n",
              " 'i love you',\n",
              " 'dog',\n",
              " 'polite',\n",
              " 'milk',\n",
              " 'bookstore',\n",
              " 'doctor',\n",
              " 'i',\n",
              " 'classroom',\n",
              " 'focus',\n",
              " 'money',\n",
              " 'coffee',\n",
              " 'book',\n",
              " 'phone',\n",
              " 'chicken',\n",
              " 'photographer',\n",
              " 'hamburger',\n",
              " 'good morning',\n",
              " 'open',\n",
              " 'door']"
            ]
          },
          "execution_count": 4,
          "metadata": {},
          "output_type": "execute_result"
        }
      ],
      "source": [
        "# Get all labels\n",
        "names = []\n",
        "for dir in os.listdir(\"/Users/aly/Documents/Programming/Apps/Machine Learning/ASL Converter/training_models/mediapipe/reformatting-the-data/data_25_labels\"):\n",
        "    if dir !=  '.DS_Store':\n",
        "        names.append(dir)\n",
        "names"
      ]
    },
    {
      "cell_type": "code",
      "source": [
        "test_arr = np.array([[1,2,3,4],[5,6,7,8]], dtype=np.float32)\n",
        "# test_arr[:,:2]\n",
        "origin = np.mean(test_arr[:,:2], axis=0)\n",
        "test_arr[:,:2] -= origin\n",
        "origin, test_arr"
      ],
      "metadata": {
        "colab": {
          "base_uri": "https://localhost:8080/"
        },
        "id": "ign4sjmd7zIG",
        "outputId": "c541e36e-d251-4b87-dee5-a79a2c4e258a"
      },
      "execution_count": null,
      "outputs": [
        {
          "output_type": "execute_result",
          "data": {
            "text/plain": [
              "(array([3., 4.], dtype=float32),\n",
              " array([[-2., -2.,  3.,  4.],\n",
              "        [ 2.,  2.,  7.,  8.]], dtype=float32))"
            ]
          },
          "metadata": {},
          "execution_count": 28
        }
      ]
    },
    {
      "cell_type": "code",
      "source": [
        "test_arr[:,2] = 1\n",
        "test_arr"
      ],
      "metadata": {
        "colab": {
          "base_uri": "https://localhost:8080/"
        },
        "id": "m0xV6NbG0OBJ",
        "outputId": "b438a279-5562-4595-f952-bf8fe3fece8d"
      },
      "execution_count": null,
      "outputs": [
        {
          "output_type": "execute_result",
          "data": {
            "text/plain": [
              "array([[-2., -2.,  1.,  4.],\n",
              "       [ 2.,  2.,  1.,  8.]], dtype=float32)"
            ]
          },
          "metadata": {},
          "execution_count": 29
        }
      ]
    },
    {
      "cell_type": "code",
      "source": [
        "test_arr[:, 1]"
      ],
      "metadata": {
        "colab": {
          "base_uri": "https://localhost:8080/"
        },
        "id": "8FnHv0hDG5Se",
        "outputId": "da1172bc-eea0-4ab6-c2d7-e7595afe57bc"
      },
      "execution_count": null,
      "outputs": [
        {
          "output_type": "execute_result",
          "data": {
            "text/plain": [
              "array([-2.,  2.], dtype=float32)"
            ]
          },
          "metadata": {},
          "execution_count": 32
        }
      ]
    },
    {
      "cell_type": "code",
      "source": [
        "plt.scatter(test_arr[:,0], test_arr[:, 1])\n",
        "plt.scatter(0, 0, c=\"red\")\n",
        "plt.arrow(0,0,1,1, width=0.03)\n",
        "plt.show()"
      ],
      "metadata": {
        "colab": {
          "base_uri": "https://localhost:8080/",
          "height": 430
        },
        "id": "tpwizhUyxgC4",
        "outputId": "fd629afc-4a27-4f00-8ac1-04fa6d16538e"
      },
      "execution_count": null,
      "outputs": [
        {
          "output_type": "display_data",
          "data": {
            "text/plain": [
              "<Figure size 640x480 with 1 Axes>"
            ],
            "image/png": "[encoded data removed]"
          },
          "metadata": {}
        }
      ]
    },
    {
      "cell_type": "code",
      "execution_count": null,
      "metadata": {
        "id": "D7QGW1C-6jWf",
        "colab": {
          "base_uri": "https://localhost:8080/",
          "height": 341
        },
        "outputId": "15c8d1b0-b182-40f5-bf0e-1031af6c951a"
      },
      "outputs": [
        {
          "output_type": "error",
          "ename": "FileNotFoundError",
          "evalue": "ignored",
          "traceback": [
            "\u001b[0;31m---------------------------------------------------------------------------\u001b[0m",
            "\u001b[0;31mFileNotFoundError\u001b[0m                         Traceback (most recent call last)",
            "\u001b[0;32m<ipython-input-3-aa997929b159>\u001b[0m in \u001b[0;36m<cell line: 1>\u001b[0;34m()\u001b[0m\n\u001b[0;32m----> 1\u001b[0;31m \u001b[0mdf\u001b[0m \u001b[0;34m=\u001b[0m \u001b[0mpd\u001b[0m\u001b[0;34m.\u001b[0m\u001b[0mread_csv\u001b[0m\u001b[0;34m(\u001b[0m\u001b[0;34m\"/content/drive/MyDrive/ASL_data_aug/media_pipe_data.csv\"\u001b[0m\u001b[0;34m)\u001b[0m\u001b[0;34m\u001b[0m\u001b[0;34m\u001b[0m\u001b[0m\n\u001b[0m\u001b[1;32m      2\u001b[0m \u001b[0mdf\u001b[0m\u001b[0;34m\u001b[0m\u001b[0;34m\u001b[0m\u001b[0m\n",
            "\u001b[0;32m/usr/local/lib/python3.9/dist-packages/pandas/util/_decorators.py\u001b[0m in \u001b[0;36mwrapper\u001b[0;34m(*args, **kwargs)\u001b[0m\n\u001b[1;32m    209\u001b[0m                 \u001b[0;32melse\u001b[0m\u001b[0;34m:\u001b[0m\u001b[0;34m\u001b[0m\u001b[0;34m\u001b[0m\u001b[0m\n\u001b[1;32m    210\u001b[0m                     \u001b[0mkwargs\u001b[0m\u001b[0;34m[\u001b[0m\u001b[0mnew_arg_name\u001b[0m\u001b[0;34m]\u001b[0m \u001b[0;34m=\u001b[0m \u001b[0mnew_arg_value\u001b[0m\u001b[0;34m\u001b[0m\u001b[0;34m\u001b[0m\u001b[0m\n\u001b[0;32m--> 211\u001b[0;31m             \u001b[0;32mreturn\u001b[0m \u001b[0mfunc\u001b[0m\u001b[0;34m(\u001b[0m\u001b[0;34m*\u001b[0m\u001b[0margs\u001b[0m\u001b[0;34m,\u001b[0m \u001b[0;34m**\u001b[0m\u001b[0mkwargs\u001b[0m\u001b[0;34m)\u001b[0m\u001b[0;34m\u001b[0m\u001b[0;34m\u001b[0m\u001b[0m\n\u001b[0m\u001b[1;32m    212\u001b[0m \u001b[0;34m\u001b[0m\u001b[0m\n\u001b[1;32m    213\u001b[0m         \u001b[0;32mreturn\u001b[0m \u001b[0mcast\u001b[0m\u001b[0;34m(\u001b[0m\u001b[0mF\u001b[0m\u001b[0;34m,\u001b[0m \u001b[0mwrapper\u001b[0m\u001b[0;34m)\u001b[0m\u001b[0;34m\u001b[0m\u001b[0;34m\u001b[0m\u001b[0m\n",
            "\u001b[0;32m/usr/local/lib/python3.9/dist-packages/pandas/util/_decorators.py\u001b[0m in \u001b[0;36mwrapper\u001b[0;34m(*args, **kwargs)\u001b[0m\n\u001b[1;32m    329\u001b[0m                     \u001b[0mstacklevel\u001b[0m\u001b[0;34m=\u001b[0m\u001b[0mfind_stack_level\u001b[0m\u001b[0;34m(\u001b[0m\u001b[0;34m)\u001b[0m\u001b[0;34m,\u001b[0m\u001b[0;34m\u001b[0m\u001b[0;34m\u001b[0m\u001b[0m\n\u001b[1;32m    330\u001b[0m                 )\n\u001b[0;32m--> 331\u001b[0;31m             \u001b[0;32mreturn\u001b[0m \u001b[0mfunc\u001b[0m\u001b[0;34m(\u001b[0m\u001b[0;34m*\u001b[0m\u001b[0margs\u001b[0m\u001b[0;34m,\u001b[0m \u001b[0;34m**\u001b[0m\u001b[0mkwargs\u001b[0m\u001b[0;34m)\u001b[0m\u001b[0;34m\u001b[0m\u001b[0;34m\u001b[0m\u001b[0m\n\u001b[0m\u001b[1;32m    332\u001b[0m \u001b[0;34m\u001b[0m\u001b[0m\n\u001b[1;32m    333\u001b[0m         \u001b[0;31m# error: \"Callable[[VarArg(Any), KwArg(Any)], Any]\" has no\u001b[0m\u001b[0;34m\u001b[0m\u001b[0;34m\u001b[0m\u001b[0m\n",
            "\u001b[0;32m/usr/local/lib/python3.9/dist-packages/pandas/io/parsers/readers.py\u001b[0m in \u001b[0;36mread_csv\u001b[0;34m(filepath_or_buffer, sep, delimiter, header, names, index_col, usecols, squeeze, prefix, mangle_dupe_cols, dtype, engine, converters, true_values, false_values, skipinitialspace, skiprows, skipfooter, nrows, na_values, keep_default_na, na_filter, verbose, skip_blank_lines, parse_dates, infer_datetime_format, keep_date_col, date_parser, dayfirst, cache_dates, iterator, chunksize, compression, thousands, decimal, lineterminator, quotechar, quoting, doublequote, escapechar, comment, encoding, encoding_errors, dialect, error_bad_lines, warn_bad_lines, on_bad_lines, delim_whitespace, low_memory, memory_map, float_precision, storage_options)\u001b[0m\n\u001b[1;32m    948\u001b[0m     \u001b[0mkwds\u001b[0m\u001b[0;34m.\u001b[0m\u001b[0mupdate\u001b[0m\u001b[0;34m(\u001b[0m\u001b[0mkwds_defaults\u001b[0m\u001b[0;34m)\u001b[0m\u001b[0;34m\u001b[0m\u001b[0;34m\u001b[0m\u001b[0m\n\u001b[1;32m    949\u001b[0m \u001b[0;34m\u001b[0m\u001b[0m\n\u001b[0;32m--> 950\u001b[0;31m     \u001b[0;32mreturn\u001b[0m \u001b[0m_read\u001b[0m\u001b[0;34m(\u001b[0m\u001b[0mfilepath_or_buffer\u001b[0m\u001b[0;34m,\u001b[0m \u001b[0mkwds\u001b[0m\u001b[0;34m)\u001b[0m\u001b[0;34m\u001b[0m\u001b[0;34m\u001b[0m\u001b[0m\n\u001b[0m\u001b[1;32m    951\u001b[0m \u001b[0;34m\u001b[0m\u001b[0m\n\u001b[1;32m    952\u001b[0m \u001b[0;34m\u001b[0m\u001b[0m\n",
            "\u001b[0;32m/usr/local/lib/python3.9/dist-packages/pandas/io/parsers/readers.py\u001b[0m in \u001b[0;36m_read\u001b[0;34m(filepath_or_buffer, kwds)\u001b[0m\n\u001b[1;32m    603\u001b[0m \u001b[0;34m\u001b[0m\u001b[0m\n\u001b[1;32m    604\u001b[0m     \u001b[0;31m# Create the parser.\u001b[0m\u001b[0;34m\u001b[0m\u001b[0;34m\u001b[0m\u001b[0m\n\u001b[0;32m--> 605\u001b[0;31m     \u001b[0mparser\u001b[0m \u001b[0;34m=\u001b[0m \u001b[0mTextFileReader\u001b[0m\u001b[0;34m(\u001b[0m\u001b[0mfilepath_or_buffer\u001b[0m\u001b[0;34m,\u001b[0m \u001b[0;34m**\u001b[0m\u001b[0mkwds\u001b[0m\u001b[0;34m)\u001b[0m\u001b[0;34m\u001b[0m\u001b[0;34m\u001b[0m\u001b[0m\n\u001b[0m\u001b[1;32m    606\u001b[0m \u001b[0;34m\u001b[0m\u001b[0m\n\u001b[1;32m    607\u001b[0m     \u001b[0;32mif\u001b[0m \u001b[0mchunksize\u001b[0m \u001b[0;32mor\u001b[0m \u001b[0miterator\u001b[0m\u001b[0;34m:\u001b[0m\u001b[0;34m\u001b[0m\u001b[0;34m\u001b[0m\u001b[0m\n",
            "\u001b[0;32m/usr/local/lib/python3.9/dist-packages/pandas/io/parsers/readers.py\u001b[0m in \u001b[0;36m__init__\u001b[0;34m(self, f, engine, **kwds)\u001b[0m\n\u001b[1;32m   1440\u001b[0m \u001b[0;34m\u001b[0m\u001b[0m\n\u001b[1;32m   1441\u001b[0m         \u001b[0mself\u001b[0m\u001b[0;34m.\u001b[0m\u001b[0mhandles\u001b[0m\u001b[0;34m:\u001b[0m \u001b[0mIOHandles\u001b[0m \u001b[0;34m|\u001b[0m \u001b[0;32mNone\u001b[0m \u001b[0;34m=\u001b[0m \u001b[0;32mNone\u001b[0m\u001b[0;34m\u001b[0m\u001b[0;34m\u001b[0m\u001b[0m\n\u001b[0;32m-> 1442\u001b[0;31m         \u001b[0mself\u001b[0m\u001b[0;34m.\u001b[0m\u001b[0m_engine\u001b[0m \u001b[0;34m=\u001b[0m \u001b[0mself\u001b[0m\u001b[0;34m.\u001b[0m\u001b[0m_make_engine\u001b[0m\u001b[0;34m(\u001b[0m\u001b[0mf\u001b[0m\u001b[0;34m,\u001b[0m \u001b[0mself\u001b[0m\u001b[0;34m.\u001b[0m\u001b[0mengine\u001b[0m\u001b[0;34m)\u001b[0m\u001b[0;34m\u001b[0m\u001b[0;34m\u001b[0m\u001b[0m\n\u001b[0m\u001b[1;32m   1443\u001b[0m \u001b[0;34m\u001b[0m\u001b[0m\n\u001b[1;32m   1444\u001b[0m     \u001b[0;32mdef\u001b[0m \u001b[0mclose\u001b[0m\u001b[0;34m(\u001b[0m\u001b[0mself\u001b[0m\u001b[0;34m)\u001b[0m \u001b[0;34m->\u001b[0m \u001b[0;32mNone\u001b[0m\u001b[0;34m:\u001b[0m\u001b[0;34m\u001b[0m\u001b[0;34m\u001b[0m\u001b[0m\n",
            "\u001b[0;32m/usr/local/lib/python3.9/dist-packages/pandas/io/parsers/readers.py\u001b[0m in \u001b[0;36m_make_engine\u001b[0;34m(self, f, engine)\u001b[0m\n\u001b[1;32m   1733\u001b[0m                 \u001b[0;32mif\u001b[0m \u001b[0;34m\"b\"\u001b[0m \u001b[0;32mnot\u001b[0m \u001b[0;32min\u001b[0m \u001b[0mmode\u001b[0m\u001b[0;34m:\u001b[0m\u001b[0;34m\u001b[0m\u001b[0;34m\u001b[0m\u001b[0m\n\u001b[1;32m   1734\u001b[0m                     \u001b[0mmode\u001b[0m \u001b[0;34m+=\u001b[0m \u001b[0;34m\"b\"\u001b[0m\u001b[0;34m\u001b[0m\u001b[0;34m\u001b[0m\u001b[0m\n\u001b[0;32m-> 1735\u001b[0;31m             self.handles = get_handle(\n\u001b[0m\u001b[1;32m   1736\u001b[0m                 \u001b[0mf\u001b[0m\u001b[0;34m,\u001b[0m\u001b[0;34m\u001b[0m\u001b[0;34m\u001b[0m\u001b[0m\n\u001b[1;32m   1737\u001b[0m                 \u001b[0mmode\u001b[0m\u001b[0;34m,\u001b[0m\u001b[0;34m\u001b[0m\u001b[0;34m\u001b[0m\u001b[0m\n",
            "\u001b[0;32m/usr/local/lib/python3.9/dist-packages/pandas/io/common.py\u001b[0m in \u001b[0;36mget_handle\u001b[0;34m(path_or_buf, mode, encoding, compression, memory_map, is_text, errors, storage_options)\u001b[0m\n\u001b[1;32m    854\u001b[0m         \u001b[0;32mif\u001b[0m \u001b[0mioargs\u001b[0m\u001b[0;34m.\u001b[0m\u001b[0mencoding\u001b[0m \u001b[0;32mand\u001b[0m \u001b[0;34m\"b\"\u001b[0m \u001b[0;32mnot\u001b[0m \u001b[0;32min\u001b[0m \u001b[0mioargs\u001b[0m\u001b[0;34m.\u001b[0m\u001b[0mmode\u001b[0m\u001b[0;34m:\u001b[0m\u001b[0;34m\u001b[0m\u001b[0;34m\u001b[0m\u001b[0m\n\u001b[1;32m    855\u001b[0m             \u001b[0;31m# Encoding\u001b[0m\u001b[0;34m\u001b[0m\u001b[0;34m\u001b[0m\u001b[0m\n\u001b[0;32m--> 856\u001b[0;31m             handle = open(\n\u001b[0m\u001b[1;32m    857\u001b[0m                 \u001b[0mhandle\u001b[0m\u001b[0;34m,\u001b[0m\u001b[0;34m\u001b[0m\u001b[0;34m\u001b[0m\u001b[0m\n\u001b[1;32m    858\u001b[0m                 \u001b[0mioargs\u001b[0m\u001b[0;34m.\u001b[0m\u001b[0mmode\u001b[0m\u001b[0;34m,\u001b[0m\u001b[0;34m\u001b[0m\u001b[0;34m\u001b[0m\u001b[0m\n",
            "\u001b[0;31mFileNotFoundError\u001b[0m: [Errno 2] No such file or directory: '/content/drive/MyDrive/ASL_data_aug/media_pipe_data.csv'"
          ]
        }
      ],
      "source": [
        "df = pd.read_csv(\"/content/drive/MyDrive/ASL_data_aug/media_pipe_data.csv\")\n",
        "df"
      ]
    },
    {
      "cell_type": "code",
      "execution_count": null,
      "metadata": {
        "id": "1NHW1Bby6jWf",
        "outputId": "bd45a89e-27d8-4b08-a5ae-b020d97fcbde",
        "colab": {
          "base_uri": "https://localhost:8080/"
        }
      },
      "outputs": [
        {
          "output_type": "execute_result",
          "data": {
            "text/plain": [
              "array([ 0.55099976,  0.13720125, -0.38962263,  0.99933296])"
            ]
          },
          "metadata": {},
          "execution_count": 4
        }
      ],
      "source": [
        "#test\n",
        "\n",
        "frame = df.iloc[0].to_numpy()\n",
        "frame = frame.reshape((75, 4))\n",
        "frame[0]\n",
        "# new_frame = rotate(frame, 5)\n",
        "# print(new_frame[0])\n",
        "# print(frame[0])"
      ]
    },
    {
      "cell_type": "code",
      "source": [
        "all_frames = df.to_numpy().reshape((70, 75, 4))\n",
        "all_frames[0][0]"
      ],
      "metadata": {
        "colab": {
          "base_uri": "https://localhost:8080/"
        },
        "id": "nKr7TbE9BO0f",
        "outputId": "4cb98406-b548-4bd3-fca8-721b71ba385b"
      },
      "execution_count": null,
      "outputs": [
        {
          "output_type": "execute_result",
          "data": {
            "text/plain": [
              "array([ 0.55099976,  0.13720125, -0.38962263,  0.99933296])"
            ]
          },
          "metadata": {},
          "execution_count": 5
        }
      ]
    },
    {
      "cell_type": "code",
      "source": [
        "def change_origin(frame):\n",
        "  new_origin = np.mean(frame[:,:2], axis=0)\n",
        "  # print(new_origin.shape)\n",
        "  new_frame = np.copy(frame)\n",
        "  new_frame[:,:2] -= new_origin\n",
        "  return frame, new_frame "
      ],
      "metadata": {
        "id": "IBSAnft37hY9"
      },
      "execution_count": null,
      "outputs": []
    },
    {
      "cell_type": "code",
      "source": [
        "def visualize_rotation(func):\n",
        "\n",
        "  def wrap(*args, **kwargs):\n",
        "    original_frame, new_frame = func(*args, **kwargs)\n",
        "    plt.scatter(original_frame[:, 0], original_frame[:, 1], c=\"blue\", label=\"original_data\")\n",
        "    plt.scatter(new_frame[:, 0], new_frame[:, 1], c=\"red\", label=\"new data\")\n",
        "    plt.scatter(0, 0, c=\"black\")\n",
        "    plt.annotate(\"origin\", (0,0))\n",
        "    plt.arrow(0, 0, original_frame[0][0], original_frame[0][1], length_includes_head=True, color=\"blue\", head_width=0.03)\n",
        "    plt.arrow(0, 0, new_frame[0][0], new_frame[0][1], length_includes_head=True, color=\"red\", head_width=0.03)\n",
        "    plt.legend()\n",
        "    return original_frame, new_frame\n",
        "\n",
        "  return wrap"
      ],
      "metadata": {
        "id": "FA6wu80d4Xv6"
      },
      "execution_count": null,
      "outputs": []
    },
    {
      "cell_type": "code",
      "execution_count": null,
      "metadata": {
        "id": "styqDd6N6jWe"
      },
      "outputs": [],
      "source": [
        "def visualize(frame):\n",
        "    coordsX = []\n",
        "    coordsY = []\n",
        "    for i in range(frame.shape[0]):\n",
        "        coordsX.append((frame[i][0]))\n",
        "        coordsY.append((frame[i][1]))\n",
        "    plt.scatter(coordsX, coordsY)\n"
      ]
    },
    {
      "cell_type": "code",
      "execution_count": null,
      "metadata": {
        "id": "r70_XWRT6jWd"
      },
      "outputs": [],
      "source": [
        "@visualize_rotation\n",
        "def rotate(frame, angle, origin=[0, 0]):\n",
        "    normalized_frame = change_origin(frame)\n",
        "    angle_rad = math.radians(angle)\n",
        "    new_frame = np.copy(frame)\n",
        "    rotation_matrix = np.array([[cos(angle_rad), -sin(angle_rad)], [sin(angle_rad), cos(angle_rad)]])\n",
        "    for i in range(len(new_frame)):\n",
        "        new_frame[i][:2] = np.matmul(rotation_matrix, new_frame[i][:2])\n",
        "    return frame, new_frame"
      ]
    },
    {
      "cell_type": "code",
      "execution_count": null,
      "metadata": {
        "id": "Y5TDl11l6jWh",
        "outputId": "cdca76f2-3565-416e-8c8c-039803c89005",
        "colab": {
          "base_uri": "https://localhost:8080/",
          "height": 430
        }
      },
      "outputs": [
        {
          "output_type": "display_data",
          "data": {
            "text/plain": [
              "<Figure size 640x480 with 1 Axes>"
            ],
            "image/png": "[encoded data removed]"
          },
          "metadata": {}
        }
      ],
      "source": [
        "#rotation without changing origin\n",
        "_, f1 = rotate(all_frames[0], 10)"
      ]
    },
    {
      "cell_type": "code",
      "source": [
        "_, frame = change_origin(all_frames[0])\n",
        "_, _=rotate(frame, 10)"
      ],
      "metadata": {
        "colab": {
          "base_uri": "https://localhost:8080/",
          "height": 430
        },
        "id": "Un0trsg0_iy8",
        "outputId": "1f001a0e-e64e-4ac7-9462-6b08f4ef3eac"
      },
      "execution_count": null,
      "outputs": [
        {
          "output_type": "display_data",
          "data": {
            "text/plain": [
              "<Figure size 640x480 with 1 Axes>"
            ],
            "image/png": "[encoded data removed]"
          },
          "metadata": {}
        }
      ]
    },
    {
      "cell_type": "code",
      "source": [
        "class VectorTransformation():\n",
        "\n",
        "  def __init__(self, center_data=False, translation_x=0, translation_y=0, rotation_angle=0, \n",
        "               shear_x=0, shear_y=0, scaling_x=1, scaling_y=1, reflection=False):\n",
        "    self.center = center_data\n",
        "    self.tx = translation_x\n",
        "    self.ty = translation_y\n",
        "    self.angle = math.radians(rotation_angle)\n",
        "    self.shx = shear_x\n",
        "    self.shy = shear_y\n",
        "    self.scale_x = scaling_x\n",
        "    self.scale_y = scaling_y\n",
        "    self.reflect = reflection\n",
        "\n",
        "  def translation_matrix(self):\n",
        "    return np.array([[1, 0, self.tx],\n",
        "                         [0, 1, self.ty],\n",
        "                         [0, 0, 1]])\n",
        "\n",
        "  def rotation_matrix(self):\n",
        "    return np.array([[cos(self.angle), -sin(self.angle), 0], \n",
        "                       [sin(self.angle), cos(self.angle), 0],\n",
        "                       [0, 0, 1]])\n",
        "\n",
        "  def shearx_matrix(self):\n",
        "    return np.array([[1, self.shx, 0],\n",
        "                     [0, 1, 0], \n",
        "                     [0, 0, 1]])\n",
        "    \n",
        "  def sheary_matrix(self):\n",
        "    return np.array([[1, 0, 0],\n",
        "                     [self.shy, 1, 0],\n",
        "                     [0, 0, 1]])\n",
        "    \n",
        "  def scaling_matrix(self):\n",
        "    return np.array([[self.scale_x, 0, 0],\n",
        "                     [0, self.scale_y, 0], \n",
        "                     [0, 0, 1]])\n",
        "    \n",
        "  def reflection_matrix(self):\n",
        "    return np.array([[1, 0, 0],\n",
        "                     [0, int(self.reflect), 0], \n",
        "                     [0, 0, 1]])\n",
        "    \n",
        "  def change_origin(self, frame):\n",
        "    new_origin = np.mean(frame[:,:2], axis=0)\n",
        "    new_frame = np.copy(frame)\n",
        "    new_frame[:,:2] -= new_origin\n",
        "    return new_frame "
      ],
      "metadata": {
        "id": "ZkwqseONrT0C"
      },
      "execution_count": null,
      "outputs": []
    },
    {
      "cell_type": "code",
      "source": [
        "def add_to_class(Class):  \n",
        "    def wrapper(obj):\n",
        "        setattr(Class, obj.__name__, obj)\n",
        "    return wrapper"
      ],
      "metadata": {
        "id": "cRZtJcj7xDvs"
      },
      "execution_count": null,
      "outputs": []
    },
    {
      "cell_type": "code",
      "source": [
        "@add_to_class(VectorTransformation)\n",
        "def transform(self, frame):\n",
        "    new_frame = np.copy(frame)\n",
        "    new_frame[:, 2] = 1\n",
        "\n",
        "    #centering\n",
        "    if self.center:\n",
        "      new_frame = self.change_origin(frame)\n",
        "\n",
        "    for i in range(len(new_frame)):\n",
        "        new_frame[i][:3] = np.matmul(self.translation_matrix(), new_frame[i][:3])\n",
        "        new_frame[i][:3] = np.matmul(self.rotation_matrix(), new_frame[i][:3])\n",
        "        new_frame[i][:3] = np.matmul(self.shearx_matrix(), new_frame[i][:3])\n",
        "        new_frame[i][:3] = np.matmul(self.sheary_matrix(), new_frame[i][:3])\n",
        "        new_frame[i][:3] = np.matmul(self.scaling_matrix(), new_frame[i][:3])\n",
        "\n",
        "    new_frame[:, 2] = frame[:, 2]\n",
        "        \n",
        "    return new_frame\n"
      ],
      "metadata": {
        "id": "NlkGaH4PxvM3"
      },
      "execution_count": null,
      "outputs": []
    },
    {
      "cell_type": "code",
      "source": [
        "@add_to_class(VectorTransformation)\n",
        "def visualize_change(self, original_frame, new_frame):\n",
        "    plt.title(f\"translation: ({self.tx}, {self.ty})\\nrotation: {self.angle},\\n shear: ({self.shx}, {self.shy})\\n scaling: ({self.scale_x}, {self.scale_y})\")\n",
        "    plt.scatter(original_frame[:, 0], original_frame[:, 1], c=\"blue\", label=\"original_data\")\n",
        "    plt.scatter(new_frame[:, 0], new_frame[:, 1], c=\"red\", label=\"new data\")\n",
        "    plt.scatter(0, 0, c=\"black\")\n",
        "    plt.annotate(\"origin\", (0,0))\n",
        "    plt.arrow(0, 0, original_frame[0][0], original_frame[0][1], length_includes_head=True, color=\"blue\", head_width=0.03)\n",
        "    plt.arrow(0, 0, new_frame[0][0], new_frame[0][1], length_includes_head=True, color=\"red\", head_width=0.03)\n",
        "    plt.legend()"
      ],
      "metadata": {
        "id": "NeHBpDXtPdOo"
      },
      "execution_count": null,
      "outputs": []
    },
    {
      "cell_type": "code",
      "source": [
        "data_aug = VectorTransformation(shear_x=2)\n",
        "new_frame = data_aug.transform(all_frames[0])\n",
        "new_frame"
      ],
      "metadata": {
        "colab": {
          "base_uri": "https://localhost:8080/"
        },
        "id": "w9tpdXHKSYCO",
        "outputId": "f66c4181-f1d8-48ec-a38a-d7bf4846b5fd"
      },
      "execution_count": null,
      "outputs": [
        {
          "output_type": "execute_result",
          "data": {
            "text/plain": [
              "array([[ 8.25402260e-01,  1.37201250e-01, -3.89622629e-01,\n",
              "         9.99332964e-01],\n",
              "       [ 7.56486833e-01,  9.67129469e-02, -3.65614057e-01,\n",
              "         9.98801112e-01],\n",
              "       [ 7.64364183e-01,  9.65787172e-02, -3.65343988e-01,\n",
              "         9.98705387e-01],\n",
              "       [ 7.71573365e-01,  9.68367457e-02, -3.65327060e-01,\n",
              "         9.98981297e-01],\n",
              "       [ 7.38781452e-01,  1.01786137e-01, -3.63700062e-01,\n",
              "         9.98838007e-01],\n",
              "       [ 7.35041246e-01,  1.04785852e-01, -3.63448590e-01,\n",
              "         9.98432696e-01],\n",
              "       [ 7.35662326e-01,  1.08696871e-01, -3.63621444e-01,\n",
              "         9.98769104e-01],\n",
              "       [ 8.23204294e-01,  1.14165075e-01, -1.90830350e-01,\n",
              "         9.99564707e-01],\n",
              "       [ 7.78396070e-01,  1.35998070e-01, -1.71027124e-01,\n",
              "         9.99061644e-01],\n",
              "       [ 9.22227383e-01,  1.74995661e-01, -3.22979748e-01,\n",
              "         9.99876261e-01],\n",
              "       [ 8.99934113e-01,  1.82146072e-01, -3.18109989e-01,\n",
              "         9.99800026e-01],\n",
              "       [ 1.27879679e+00,  3.00477087e-01, -1.20973565e-01,\n",
              "         9.99985218e-01],\n",
              "       [ 1.11616498e+00,  3.33849669e-01, -8.14220831e-02,\n",
              "         9.99886990e-01],\n",
              "       [ 1.93854010e+00,  5.87398887e-01, -2.59990901e-01,\n",
              "         9.99755919e-01],\n",
              "       [ 1.62864476e+00,  6.30644619e-01, -3.23682427e-01,\n",
              "         9.98824656e-01],\n",
              "       [ 1.72470015e+00,  5.57932556e-01, -4.11119372e-01,\n",
              "         9.96869624e-01],\n",
              "       [ 1.40856493e+00,  4.61164981e-01, -5.67441344e-01,\n",
              "         9.92938459e-01],\n",
              "       [ 1.69567829e+00,  5.67657709e-01, -4.54827487e-01,\n",
              "         9.55797017e-01],\n",
              "       [ 1.37236989e+00,  4.20757294e-01, -6.18444443e-01,\n",
              "         9.47140038e-01],\n",
              "       [ 1.58301616e+00,  5.14872432e-01, -3.88397425e-01,\n",
              "         9.48584616e-01],\n",
              "       [ 1.26738054e+00,  3.64816695e-01, -5.52337527e-01,\n",
              "         9.28244650e-01],\n",
              "       [ 1.58388799e+00,  5.09850800e-01, -3.83918673e-01,\n",
              "         9.56165016e-01],\n",
              "       [ 1.27278453e+00,  3.71847451e-01, -5.45817554e-01,\n",
              "         9.38358128e-01],\n",
              "       [ 2.29025632e+00,  8.25839937e-01,  2.11385242e-03,\n",
              "         9.42606866e-01],\n",
              "       [ 2.13573578e+00,  8.23132336e-01,  5.27423865e-04,\n",
              "         9.22749758e-01],\n",
              "       [ 3.08763039e+00,  1.23358393e+00,  1.37725815e-01,\n",
              "         1.41728986e-02],\n",
              "       [ 2.93073669e+00,  1.23214567e+00,  1.57068640e-01,\n",
              "         1.53500261e-02],\n",
              "       [ 3.71858144e+00,  1.55321896e+00,  5.21636009e-01,\n",
              "         5.65343107e-05],\n",
              "       [ 3.58232856e+00,  1.56107783e+00,  4.47797626e-01,\n",
              "         8.55569815e-05],\n",
              "       [ 3.83345026e+00,  1.60899997e+00,  5.48059165e-01,\n",
              "         1.67109465e-04],\n",
              "       [ 3.69172722e+00,  1.61761224e+00,  4.67916876e-01,\n",
              "         8.69074211e-05],\n",
              "       [ 3.96326083e+00,  1.68305600e+00,  3.00584316e-01,\n",
              "         9.29969174e-05],\n",
              "       [ 3.88225895e+00,  1.70093894e+00,  1.94662735e-01,\n",
              "         1.44453399e-04],\n",
              "       [ 1.41020450e+00,  4.59741443e-01, -1.12288092e-07,\n",
              "         0.00000000e+00],\n",
              "       [ 1.34729409e+00,  4.18985307e-01, -3.71289765e-03,\n",
              "         0.00000000e+00],\n",
              "       [ 1.33437395e+00,  3.94496888e-01, -1.09055899e-02,\n",
              "         0.00000000e+00],\n",
              "       [ 1.36339879e+00,  3.91646951e-01, -1.80381872e-02,\n",
              "         0.00000000e+00],\n",
              "       [ 1.39313263e+00,  3.94145995e-01, -2.32957024e-02,\n",
              "         0.00000000e+00],\n",
              "       [ 1.26762915e+00,  3.59506458e-01, -2.07179692e-02,\n",
              "         0.00000000e+00],\n",
              "       [ 1.38407999e+00,  3.94696087e-01, -3.34972367e-02,\n",
              "         0.00000000e+00],\n",
              "       [ 1.40939701e+00,  4.12520021e-01, -3.75400670e-02,\n",
              "         0.00000000e+00],\n",
              "       [ 1.39361441e+00,  4.11226898e-01, -3.92195396e-02,\n",
              "         0.00000000e+00],\n",
              "       [ 1.31731081e+00,  3.87307882e-01, -2.56447215e-02,\n",
              "         0.00000000e+00],\n",
              "       [ 1.44934517e+00,  4.30594832e-01, -3.49148549e-02,\n",
              "         0.00000000e+00],\n",
              "       [ 1.45559126e+00,  4.40110981e-01, -3.24290209e-02,\n",
              "         0.00000000e+00],\n",
              "       [ 1.42810500e+00,  4.32562232e-01, -3.17182764e-02,\n",
              "         0.00000000e+00],\n",
              "       [ 1.37842613e+00,  4.20308053e-01, -3.09855081e-02,\n",
              "         0.00000000e+00],\n",
              "       [ 1.49804342e+00,  4.60189939e-01, -3.63444164e-02,\n",
              "         0.00000000e+00],\n",
              "       [ 1.49383640e+00,  4.64272439e-01, -2.87686829e-02,\n",
              "         0.00000000e+00],\n",
              "       [ 1.46340448e+00,  4.54415649e-01, -2.50403602e-02,\n",
              "         0.00000000e+00],\n",
              "       [ 1.44081849e+00,  4.53442216e-01, -3.70464213e-02,\n",
              "         0.00000000e+00],\n",
              "       [ 1.52788568e+00,  4.80715215e-01, -3.71563956e-02,\n",
              "         0.00000000e+00],\n",
              "       [ 1.52297032e+00,  4.83494937e-01, -3.07993684e-02,\n",
              "         0.00000000e+00],\n",
              "       [ 1.49305892e+00,  4.73895073e-01, -2.75282040e-02,\n",
              "         0.00000000e+00],\n",
              "       [ 1.69422883e+00,  5.54766238e-01, -1.01289544e-07,\n",
              "         0.00000000e+00],\n",
              "       [ 1.59199113e+00,  5.13366401e-01,  4.75534750e-03,\n",
              "         0.00000000e+00],\n",
              "       [ 1.51410860e+00,  4.89256501e-01,  3.16970400e-03,\n",
              "         0.00000000e+00],\n",
              "       [ 1.50447071e+00,  4.97105539e-01,  7.33291905e-04,\n",
              "         0.00000000e+00],\n",
              "       [ 1.52702808e+00,  5.16438067e-01, -1.30471983e-03,\n",
              "         0.00000000e+00],\n",
              "       [ 1.47544062e+00,  4.77414161e-01, -8.17857962e-03,\n",
              "         0.00000000e+00],\n",
              "       [ 1.47269467e+00,  4.96846527e-01, -1.49743520e-02,\n",
              "         0.00000000e+00],\n",
              "       [ 1.51263654e+00,  5.12381136e-01, -1.64777618e-02,\n",
              "         0.00000000e+00],\n",
              "       [ 1.52406758e+00,  5.10837615e-01, -1.61511917e-02,\n",
              "         0.00000000e+00],\n",
              "       [ 1.54489475e+00,  5.11710346e-01, -1.38528049e-02,\n",
              "         0.00000000e+00],\n",
              "       [ 1.55222780e+00,  5.38074017e-01, -1.93942375e-02,\n",
              "         0.00000000e+00],\n",
              "       [ 1.58629277e+00,  5.48610091e-01, -1.63786914e-02,\n",
              "         0.00000000e+00],\n",
              "       [ 1.58906156e+00,  5.42363286e-01, -1.32236518e-02,\n",
              "         0.00000000e+00],\n",
              "       [ 1.61932403e+00,  5.47511399e-01, -1.86380465e-02,\n",
              "         0.00000000e+00],\n",
              "       [ 1.63197467e+00,  5.72590232e-01, -2.23755836e-02,\n",
              "         0.00000000e+00],\n",
              "       [ 1.65263730e+00,  5.76340437e-01, -1.50500946e-02,\n",
              "         0.00000000e+00],\n",
              "       [ 1.64676362e+00,  5.66964865e-01, -9.46142618e-03,\n",
              "         0.00000000e+00],\n",
              "       [ 1.69566888e+00,  5.82934678e-01, -2.28031371e-02,\n",
              "         0.00000000e+00],\n",
              "       [ 1.69234204e+00,  5.95200360e-01, -2.49822401e-02,\n",
              "         0.00000000e+00],\n",
              "       [ 1.70389611e+00,  5.96147716e-01, -1.84711553e-02,\n",
              "         0.00000000e+00],\n",
              "       [ 1.70361853e+00,  5.90431154e-01, -1.27090532e-02,\n",
              "         0.00000000e+00]])"
            ]
          },
          "metadata": {},
          "execution_count": 28
        }
      ]
    },
    {
      "cell_type": "code",
      "source": [
        "data_aug.visualize_change(all_frames[0], new_frame)"
      ],
      "metadata": {
        "colab": {
          "base_uri": "https://localhost:8080/",
          "height": 515
        },
        "id": "nxqAWcH7S4kY",
        "outputId": "0acff555-2c82-4427-f798-6feeee21f933"
      },
      "execution_count": null,
      "outputs": [
        {
          "output_type": "display_data",
          "data": {
            "text/plain": [
              "<Figure size 640x480 with 1 Axes>"
            ],
            "image/png": "[encoded data removed]"
          },
          "metadata": {}
        }
      ]
    },
    {
      "cell_type": "markdown",
      "source": [
        "##random funcitons\n"
      ],
      "metadata": {
        "id": "NLcuJcgtMk94"
      }
    },
    {
      "cell_type": "code",
      "source": [
        "import random \n",
        "\n",
        "@add_to_class(VectorTransformation)\n",
        "def translation_matrix(self):\n",
        "    return np.array([[1, 0, random.uniform(0, self.tx)],\n",
        "                         [0, 1, self.ty],\n",
        "                         [0, 0, 1]])\n",
        "\n",
        "@add_to_class(VectorTransformation)\n",
        "def rotation_matrix(self):\n",
        "    return np.array([[cos(random.uniform(0, self.angle)), -sin(random(0,self.angle)), 0], \n",
        "                    [sin(random.uniform(0, self.angle)), cos(random.uniform(0, self.angle)), 0],\n",
        "                    [0, 0, 1]])\n",
        "  \n",
        "@add_to_class(VectorTransformation)\n",
        "def shearx_matrix(self):\n",
        "    return np.array([[1, random.uniform(0, self.shx), 0],\n",
        "                     [0, 1, 0], \n",
        "                     [0, 0, 1]])\n",
        "    \n",
        "@add_to_class(VectorTransformation)\n",
        "def sheary_matrix(self):\n",
        "  return np.array([[1, 0, 0],\n",
        "                  [random.uniform(0, self.shy), 1, 0],\n",
        "                  [0, 0, 1]])\n",
        "    \n",
        "@add_to_class(VectorTransformation)\n",
        "def scaling_matrix(self):\n",
        "  return np.array([[random.uniform(1, self.scale_x), 0, 0],\n",
        "                  [0, random(1, self.scale_y), 0], \n",
        "                  [0, 0, 1]])"
      ],
      "metadata": {
        "colab": {
          "base_uri": "https://localhost:8080/",
          "height": 235
        },
        "id": "l38VgZ6iMqFg",
        "outputId": "89684d7b-7c9b-49da-8f42-1e6668f29543"
      },
      "execution_count": 1,
      "outputs": [
        {
          "output_type": "error",
          "ename": "NameError",
          "evalue": "ignored",
          "traceback": [
            "\u001b[0;31m---------------------------------------------------------------------------\u001b[0m",
            "\u001b[0;31mNameError\u001b[0m                                 Traceback (most recent call last)",
            "\u001b[0;32m<ipython-input-1-3ed369f5d389>\u001b[0m in \u001b[0;36m<cell line: 1>\u001b[0;34m()\u001b[0m\n\u001b[0;32m----> 1\u001b[0;31m \u001b[0;34m@\u001b[0m\u001b[0madd_to_class\u001b[0m\u001b[0;34m(\u001b[0m\u001b[0mVectorTransformation\u001b[0m\u001b[0;34m)\u001b[0m\u001b[0;34m\u001b[0m\u001b[0;34m\u001b[0m\u001b[0m\n\u001b[0m\u001b[1;32m      2\u001b[0m \u001b[0;32mdef\u001b[0m \u001b[0mtranslation_matrix\u001b[0m\u001b[0;34m(\u001b[0m\u001b[0mself\u001b[0m\u001b[0;34m)\u001b[0m\u001b[0;34m:\u001b[0m\u001b[0;34m\u001b[0m\u001b[0;34m\u001b[0m\u001b[0m\n\u001b[1;32m      3\u001b[0m     return np.array([[1, 0, random.uniform(0, self.tx)],\n\u001b[1;32m      4\u001b[0m                          \u001b[0;34m[\u001b[0m\u001b[0;36m0\u001b[0m\u001b[0;34m,\u001b[0m \u001b[0;36m1\u001b[0m\u001b[0;34m,\u001b[0m \u001b[0mself\u001b[0m\u001b[0;34m.\u001b[0m\u001b[0mty\u001b[0m\u001b[0;34m]\u001b[0m\u001b[0;34m,\u001b[0m\u001b[0;34m\u001b[0m\u001b[0;34m\u001b[0m\u001b[0m\n\u001b[1;32m      5\u001b[0m                          [0, 0, 1]])\n",
            "\u001b[0;31mNameError\u001b[0m: name 'add_to_class' is not defined"
          ]
        }
      ]
    },
    {
      "cell_type": "code",
      "source": [
        "@add_to_class(VectorTransformation)\n",
        "def random_transform()"
      ],
      "metadata": {
        "id": "zlUbHPAvOEQs"
      },
      "execution_count": null,
      "outputs": []
    }
  ],
  "metadata": {
    "kernelspec": {
      "display_name": "asl-converter",
      "language": "python",
      "name": "python3"
    },
    "language_info": {
      "codemirror_mode": {
        "name": "ipython",
        "version": 3
      },
      "file_extension": ".py",
      "mimetype": "text/x-python",
      "name": "python",
      "nbconvert_exporter": "python",
      "pygments_lexer": "ipython3",
      "version": "3.8.16"
    },
    "orig_nbformat": 4,
    "colab": {
      "provenance": [],
      "include_colab_link": true
    }
  },
  "nbformat": 4,
  "nbformat_minor": 0
}