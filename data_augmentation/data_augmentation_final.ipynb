{
  "cells": [
    {
      "cell_type": "code",
      "execution_count": 33,
      "metadata": {
        "id": "NieAcbf56jWX"
      },
      "outputs": [],
      "source": [
        "import os\n",
        "import numpy as np\n",
        "import pandas as pd\n",
        "import matplotlib.pyplot as plt\n",
        "import math\n",
        "from math import sin, cos\n",
        "import random"
      ]
    },
    {
      "cell_type": "code",
      "execution_count": 2,
      "metadata": {
        "colab": {
          "base_uri": "https://localhost:8080/"
        },
        "id": "ZK_J6f8LAlc7",
        "outputId": "d40fbb45-0a53-44db-a726-48466dcce566"
      },
      "outputs": [
        {
          "name": "stdout",
          "output_type": "stream",
          "text": [
            "[0    0.60132\n",
            "Name: x1, dtype: float64, 0    0.627795\n",
            "Name: x2, dtype: float64, 0    0.642652\n",
            "Name: x3, dtype: float64, 0    0.657174\n",
            "Name: x4, dtype: float64, 0    0.575772\n",
            "Name: x5, dtype: float64, 0    0.558048\n",
            "Name: x6, dtype: float64, 0    0.542707\n",
            "Name: x7, dtype: float64, 0    0.682693\n",
            "Name: x8, dtype: float64, 0    0.523394\n",
            "Name: x9, dtype: float64, 0    0.631294\n",
            "Name: x10, dtype: float64, 0    0.574355\n",
            "Name: x11, dtype: float64, 0    0.805595\n",
            "Name: x12, dtype: float64, 0    0.404444\n",
            "Name: x13, dtype: float64, 0    0.85469\n",
            "Name: x14, dtype: float64, 0    0.335209\n",
            "Name: x15, dtype: float64, 0    0.836888\n",
            "Name: x16, dtype: float64, 0    0.345838\n",
            "Name: x17, dtype: float64, 0    0.860218\n",
            "Name: x18, dtype: float64, 0    0.321326\n",
            "Name: x19, dtype: float64, 0    0.823123\n",
            "Name: x20, dtype: float64, 0    0.356094\n",
            "Name: x21, dtype: float64, 0    0.804565\n",
            "Name: x22, dtype: float64, 0    0.376291\n",
            "Name: x23, dtype: float64, 0    0.698238\n",
            "Name: x24, dtype: float64, 0    0.451681\n",
            "Name: x25, dtype: float64, 0    0.678811\n",
            "Name: x26, dtype: float64, 0    0.453926\n",
            "Name: x27, dtype: float64, 0    0.666112\n",
            "Name: x28, dtype: float64, 0    0.449551\n",
            "Name: x29, dtype: float64, 0    0.671463\n",
            "Name: x30, dtype: float64, 0    0.448535\n",
            "Name: x31, dtype: float64, 0    0.615137\n",
            "Name: x32, dtype: float64, 0    0.474743\n",
            "Name: x33, dtype: float64, 0    0\n",
            "Name: x34, dtype: int64, 0    0\n",
            "Name: x35, dtype: int64, 0    0\n",
            "Name: x36, dtype: int64, 0    0\n",
            "Name: x37, dtype: int64, 0    0\n",
            "Name: x38, dtype: int64, 0    0\n",
            "Name: x39, dtype: int64, 0    0\n",
            "Name: x40, dtype: int64, 0    0\n",
            "Name: x41, dtype: int64, 0    0\n",
            "Name: x42, dtype: int64, 0    0\n",
            "Name: x43, dtype: int64, 0    0\n",
            "Name: x44, dtype: int64, 0    0\n",
            "Name: x45, dtype: int64, 0    0\n",
            "Name: x46, dtype: int64, 0    0\n",
            "Name: x47, dtype: int64, 0    0\n",
            "Name: x48, dtype: int64, 0    0\n",
            "Name: x49, dtype: int64, 0    0\n",
            "Name: x50, dtype: int64, 0    0\n",
            "Name: x51, dtype: int64, 0    0\n",
            "Name: x52, dtype: int64, 0    0\n",
            "Name: x53, dtype: int64, 0    0\n",
            "Name: x54, dtype: int64, 0    0\n",
            "Name: x55, dtype: int64, 0    0\n",
            "Name: x56, dtype: int64, 0    0\n",
            "Name: x57, dtype: int64, 0    0\n",
            "Name: x58, dtype: int64, 0    0\n",
            "Name: x59, dtype: int64, 0    0\n",
            "Name: x60, dtype: int64, 0    0\n",
            "Name: x61, dtype: int64, 0    0\n",
            "Name: x62, dtype: int64, 0    0\n",
            "Name: x63, dtype: int64, 0    0\n",
            "Name: x64, dtype: int64, 0    0\n",
            "Name: x65, dtype: int64, 0    0\n",
            "Name: x66, dtype: int64, 0    0\n",
            "Name: x67, dtype: int64, 0    0\n",
            "Name: x68, dtype: int64, 0    0\n",
            "Name: x69, dtype: int64, 0    0\n",
            "Name: x70, dtype: int64, 0    0\n",
            "Name: x71, dtype: int64, 0    0\n",
            "Name: x72, dtype: int64, 0    0\n",
            "Name: x73, dtype: int64, 0    0\n",
            "Name: x74, dtype: int64, 0    0\n",
            "Name: x75, dtype: int64]\n",
            "[0    0.806644\n",
            "Name: y1, dtype: float64, 0    0.737637\n",
            "Name: y2, dtype: float64, 0    0.734491\n",
            "Name: y3, dtype: float64, 0    0.731441\n",
            "Name: y4, dtype: float64, 0    0.742778\n",
            "Name: y5, dtype: float64, 0    0.741723\n",
            "Name: y6, dtype: float64, 0    0.740381\n",
            "Name: y7, dtype: float64, 0    0.734894\n",
            "Name: y8, dtype: float64, 0    0.744356\n",
            "Name: y9, dtype: float64, 0    0.851932\n",
            "Name: y10, dtype: float64, 0    0.860781\n",
            "Name: y11, dtype: float64, 0    0.964208\n",
            "Name: y12, dtype: float64, 0    0.957053\n",
            "Name: y13, dtype: float64, 0    1.278425\n",
            "Name: y14, dtype: float64, 0    1.243046\n",
            "Name: y15, dtype: float64, 0    1.542631\n",
            "Name: y16, dtype: float64, 0    1.520204\n",
            "Name: y17, dtype: float64, 0    1.629447\n",
            "Name: y18, dtype: float64, 0    1.616632\n",
            "Name: y19, dtype: float64, 0    1.621363\n",
            "Name: y20, dtype: float64, 0    1.609657\n",
            "Name: y21, dtype: float64, 0    1.585791\n",
            "Name: y22, dtype: float64, 0    1.571812\n",
            "Name: y23, dtype: float64, 0    1.53366\n",
            "Name: y24, dtype: float64, 0    1.533096\n",
            "Name: y25, dtype: float64, 0    2.026971\n",
            "Name: y26, dtype: float64, 0    2.022702\n",
            "Name: y27, dtype: float64, 0    2.480308\n",
            "Name: y28, dtype: float64, 0    2.476603\n",
            "Name: y29, dtype: float64, 0    2.550046\n",
            "Name: y30, dtype: float64, 0    2.553385\n",
            "Name: y31, dtype: float64, 0    2.644233\n",
            "Name: y32, dtype: float64, 0    2.619144\n",
            "Name: y33, dtype: float64, 0    0\n",
            "Name: y34, dtype: int64, 0    0\n",
            "Name: y35, dtype: int64, 0    0\n",
            "Name: y36, dtype: int64, 0    0\n",
            "Name: y37, dtype: int64, 0    0\n",
            "Name: y38, dtype: int64, 0    0\n",
            "Name: y39, dtype: int64, 0    0\n",
            "Name: y40, dtype: int64, 0    0\n",
            "Name: y41, dtype: int64, 0    0\n",
            "Name: y42, dtype: int64, 0    0\n",
            "Name: y43, dtype: int64, 0    0\n",
            "Name: y44, dtype: int64, 0    0\n",
            "Name: y45, dtype: int64, 0    0\n",
            "Name: y46, dtype: int64, 0    0\n",
            "Name: y47, dtype: int64, 0    0\n",
            "Name: y48, dtype: int64, 0    0\n",
            "Name: y49, dtype: int64, 0    0\n",
            "Name: y50, dtype: int64, 0    0\n",
            "Name: y51, dtype: int64, 0    0\n",
            "Name: y52, dtype: int64, 0    0\n",
            "Name: y53, dtype: int64, 0    0\n",
            "Name: y54, dtype: int64, 0    0\n",
            "Name: y55, dtype: int64, 0    0\n",
            "Name: y56, dtype: int64, 0    0\n",
            "Name: y57, dtype: int64, 0    0\n",
            "Name: y58, dtype: int64, 0    0\n",
            "Name: y59, dtype: int64, 0    0\n",
            "Name: y60, dtype: int64, 0    0\n",
            "Name: y61, dtype: int64, 0    0\n",
            "Name: y62, dtype: int64, 0    0\n",
            "Name: y63, dtype: int64, 0    0\n",
            "Name: y64, dtype: int64, 0    0\n",
            "Name: y65, dtype: int64, 0    0\n",
            "Name: y66, dtype: int64, 0    0\n",
            "Name: y67, dtype: int64, 0    0\n",
            "Name: y68, dtype: int64, 0    0\n",
            "Name: y69, dtype: int64, 0    0\n",
            "Name: y70, dtype: int64, 0    0\n",
            "Name: y71, dtype: int64, 0    0\n",
            "Name: y72, dtype: int64, 0    0\n",
            "Name: y73, dtype: int64, 0    0\n",
            "Name: y74, dtype: int64, 0    0\n",
            "Name: y75, dtype: int64]\n",
            "[0   -0.715919\n",
            "Name: z1, dtype: float64, 0   -0.71041\n",
            "Name: z2, dtype: float64, 0   -0.710179\n",
            "Name: z3, dtype: float64, 0   -0.710276\n",
            "Name: z4, dtype: float64, 0   -0.709258\n",
            "Name: z5, dtype: float64, 0   -0.708325\n",
            "Name: z6, dtype: float64, 0   -0.708533\n",
            "Name: z7, dtype: float64, 0   -0.476468\n",
            "Name: z8, dtype: float64, 0   -0.456232\n",
            "Name: z9, dtype: float64, 0   -0.608697\n",
            "Name: z10, dtype: float64, 0   -0.603321\n",
            "Name: z11, dtype: float64, 0   -0.274318\n",
            "Name: z12, dtype: float64, 0   -0.279623\n",
            "Name: z13, dtype: float64, 0   -0.185304\n",
            "Name: z14, dtype: float64, 0   -0.142897\n",
            "Name: z15, dtype: float64, 0   -0.333918\n",
            "Name: z16, dtype: float64, 0   -0.34251\n",
            "Name: z17, dtype: float64, 0   -0.400187\n",
            "Name: z18, dtype: float64, 0   -0.411175\n",
            "Name: z19, dtype: float64, 0   -0.450106\n",
            "Name: z20, dtype: float64, 0   -0.48109\n",
            "Name: z21, dtype: float64, 0   -0.367026\n",
            "Name: z22, dtype: float64, 0   -0.382932\n",
            "Name: z23, dtype: float64, 0   -0.024074\n",
            "Name: z24, dtype: float64, 0    0.028659\n",
            "Name: z25, dtype: float64, 0   -0.113583\n",
            "Name: z26, dtype: float64, 0   -0.08846\n",
            "Name: z27, dtype: float64, 0    0.207427\n",
            "Name: z28, dtype: float64, 0    0.085501\n",
            "Name: z29, dtype: float64, 0    0.216335\n",
            "Name: z30, dtype: float64, 0    0.088738\n",
            "Name: z31, dtype: float64, 0   -0.223102\n",
            "Name: z32, dtype: float64, 0   -0.388004\n",
            "Name: z33, dtype: float64, 0    0\n",
            "Name: z34, dtype: int64, 0    0\n",
            "Name: z35, dtype: int64, 0    0\n",
            "Name: z36, dtype: int64, 0    0\n",
            "Name: z37, dtype: int64, 0    0\n",
            "Name: z38, dtype: int64, 0    0\n",
            "Name: z39, dtype: int64, 0    0\n",
            "Name: z40, dtype: int64, 0    0\n",
            "Name: z41, dtype: int64, 0    0\n",
            "Name: z42, dtype: int64, 0    0\n",
            "Name: z43, dtype: int64, 0    0\n",
            "Name: z44, dtype: int64, 0    0\n",
            "Name: z45, dtype: int64, 0    0\n",
            "Name: z46, dtype: int64, 0    0\n",
            "Name: z47, dtype: int64, 0    0\n",
            "Name: z48, dtype: int64, 0    0\n",
            "Name: z49, dtype: int64, 0    0\n",
            "Name: z50, dtype: int64, 0    0\n",
            "Name: z51, dtype: int64, 0    0\n",
            "Name: z52, dtype: int64, 0    0\n",
            "Name: z53, dtype: int64, 0    0\n",
            "Name: z54, dtype: int64, 0    0\n",
            "Name: z55, dtype: int64, 0    0\n",
            "Name: z56, dtype: int64, 0    0\n",
            "Name: z57, dtype: int64, 0    0\n",
            "Name: z58, dtype: int64, 0    0\n",
            "Name: z59, dtype: int64, 0    0\n",
            "Name: z60, dtype: int64, 0    0\n",
            "Name: z61, dtype: int64, 0    0\n",
            "Name: z62, dtype: int64, 0    0\n",
            "Name: z63, dtype: int64, 0    0\n",
            "Name: z64, dtype: int64, 0    0\n",
            "Name: z65, dtype: int64, 0    0\n",
            "Name: z66, dtype: int64, 0    0\n",
            "Name: z67, dtype: int64, 0    0\n",
            "Name: z68, dtype: int64, 0    0\n",
            "Name: z69, dtype: int64, 0    0\n",
            "Name: z70, dtype: int64, 0    0\n",
            "Name: z71, dtype: int64, 0    0\n",
            "Name: z72, dtype: int64, 0    0\n",
            "Name: z73, dtype: int64, 0    0\n",
            "Name: z74, dtype: int64, 0    0\n",
            "Name: z75, dtype: int64]\n",
            "[0    0.60132\n",
            "Name: x1, dtype: float64, 0    0.627795\n",
            "Name: x2, dtype: float64, 0    0.642652\n",
            "Name: x3, dtype: float64, 0    0.657174\n",
            "Name: x4, dtype: float64, 0    0.575772\n",
            "Name: x5, dtype: float64, 0    0.558048\n",
            "Name: x6, dtype: float64, 0    0.542707\n",
            "Name: x7, dtype: float64, 0    0.682693\n",
            "Name: x8, dtype: float64, 0    0.523394\n",
            "Name: x9, dtype: float64, 0    0.631294\n",
            "Name: x10, dtype: float64, 0    0.574355\n",
            "Name: x11, dtype: float64, 0    0.805595\n",
            "Name: x12, dtype: float64, 0    0.404444\n",
            "Name: x13, dtype: float64, 0    0.85469\n",
            "Name: x14, dtype: float64, 0    0.335209\n",
            "Name: x15, dtype: float64, 0    0.836888\n",
            "Name: x16, dtype: float64, 0    0.345838\n",
            "Name: x17, dtype: float64, 0    0.860218\n",
            "Name: x18, dtype: float64, 0    0.321326\n",
            "Name: x19, dtype: float64, 0    0.823123\n",
            "Name: x20, dtype: float64, 0    0.356094\n",
            "Name: x21, dtype: float64, 0    0.804565\n",
            "Name: x22, dtype: float64, 0    0.376291\n",
            "Name: x23, dtype: float64, 0    0.698238\n",
            "Name: x24, dtype: float64, 0    0.451681\n",
            "Name: x25, dtype: float64, 0    0.678811\n",
            "Name: x26, dtype: float64, 0    0.453926\n",
            "Name: x27, dtype: float64, 0    0.666112\n",
            "Name: x28, dtype: float64, 0    0.449551\n",
            "Name: x29, dtype: float64, 0    0.671463\n",
            "Name: x30, dtype: float64, 0    0.448535\n",
            "Name: x31, dtype: float64, 0    0.615137\n",
            "Name: x32, dtype: float64, 0    0.474743\n",
            "Name: x33, dtype: float64, 0    0\n",
            "Name: x34, dtype: int64, 0    0\n",
            "Name: x35, dtype: int64, 0    0\n",
            "Name: x36, dtype: int64, 0    0\n",
            "Name: x37, dtype: int64, 0    0\n",
            "Name: x38, dtype: int64, 0    0\n",
            "Name: x39, dtype: int64, 0    0\n",
            "Name: x40, dtype: int64, 0    0\n",
            "Name: x41, dtype: int64, 0    0\n",
            "Name: x42, dtype: int64, 0    0\n",
            "Name: x43, dtype: int64, 0    0\n",
            "Name: x44, dtype: int64, 0    0\n",
            "Name: x45, dtype: int64, 0    0\n",
            "Name: x46, dtype: int64, 0    0\n",
            "Name: x47, dtype: int64, 0    0\n",
            "Name: x48, dtype: int64, 0    0\n",
            "Name: x49, dtype: int64, 0    0\n",
            "Name: x50, dtype: int64, 0    0\n",
            "Name: x51, dtype: int64, 0    0\n",
            "Name: x52, dtype: int64, 0    0\n",
            "Name: x53, dtype: int64, 0    0\n",
            "Name: x54, dtype: int64, 0    0\n",
            "Name: x55, dtype: int64, 0    0\n",
            "Name: x56, dtype: int64, 0    0\n",
            "Name: x57, dtype: int64, 0    0\n",
            "Name: x58, dtype: int64, 0    0\n",
            "Name: x59, dtype: int64, 0    0\n",
            "Name: x60, dtype: int64, 0    0\n",
            "Name: x61, dtype: int64, 0    0\n",
            "Name: x62, dtype: int64, 0    0\n",
            "Name: x63, dtype: int64, 0    0\n",
            "Name: x64, dtype: int64, 0    0\n",
            "Name: x65, dtype: int64, 0    0\n",
            "Name: x66, dtype: int64, 0    0\n",
            "Name: x67, dtype: int64, 0    0\n",
            "Name: x68, dtype: int64, 0    0\n",
            "Name: x69, dtype: int64, 0    0\n",
            "Name: x70, dtype: int64, 0    0\n",
            "Name: x71, dtype: int64, 0    0\n",
            "Name: x72, dtype: int64, 0    0\n",
            "Name: x73, dtype: int64, 0    0\n",
            "Name: x74, dtype: int64, 0    0\n",
            "Name: x75, dtype: int64]\n",
            "[0    0.806644\n",
            "Name: y1, dtype: float64, 0    0.737637\n",
            "Name: y2, dtype: float64, 0    0.734491\n",
            "Name: y3, dtype: float64, 0    0.731441\n",
            "Name: y4, dtype: float64, 0    0.742778\n",
            "Name: y5, dtype: float64, 0    0.741723\n",
            "Name: y6, dtype: float64, 0    0.740381\n",
            "Name: y7, dtype: float64, 0    0.734894\n",
            "Name: y8, dtype: float64, 0    0.744356\n",
            "Name: y9, dtype: float64, 0    0.851932\n",
            "Name: y10, dtype: float64, 0    0.860781\n",
            "Name: y11, dtype: float64, 0    0.964208\n",
            "Name: y12, dtype: float64, 0    0.957053\n",
            "Name: y13, dtype: float64, 0    1.278425\n",
            "Name: y14, dtype: float64, 0    1.243046\n",
            "Name: y15, dtype: float64, 0    1.542631\n",
            "Name: y16, dtype: float64, 0    1.520204\n",
            "Name: y17, dtype: float64, 0    1.629447\n",
            "Name: y18, dtype: float64, 0    1.616632\n",
            "Name: y19, dtype: float64, 0    1.621363\n",
            "Name: y20, dtype: float64, 0    1.609657\n",
            "Name: y21, dtype: float64, 0    1.585791\n",
            "Name: y22, dtype: float64, 0    1.571812\n",
            "Name: y23, dtype: float64, 0    1.53366\n",
            "Name: y24, dtype: float64, 0    1.533096\n",
            "Name: y25, dtype: float64, 0    2.026971\n",
            "Name: y26, dtype: float64, 0    2.022702\n",
            "Name: y27, dtype: float64, 0    2.480308\n",
            "Name: y28, dtype: float64, 0    2.476603\n",
            "Name: y29, dtype: float64, 0    2.550046\n",
            "Name: y30, dtype: float64, 0    2.553385\n",
            "Name: y31, dtype: float64, 0    2.644233\n",
            "Name: y32, dtype: float64, 0    2.619144\n",
            "Name: y33, dtype: float64, 0    0\n",
            "Name: y34, dtype: int64, 0    0\n",
            "Name: y35, dtype: int64, 0    0\n",
            "Name: y36, dtype: int64, 0    0\n",
            "Name: y37, dtype: int64, 0    0\n",
            "Name: y38, dtype: int64, 0    0\n",
            "Name: y39, dtype: int64, 0    0\n",
            "Name: y40, dtype: int64, 0    0\n",
            "Name: y41, dtype: int64, 0    0\n",
            "Name: y42, dtype: int64, 0    0\n",
            "Name: y43, dtype: int64, 0    0\n",
            "Name: y44, dtype: int64, 0    0\n",
            "Name: y45, dtype: int64, 0    0\n",
            "Name: y46, dtype: int64, 0    0\n",
            "Name: y47, dtype: int64, 0    0\n",
            "Name: y48, dtype: int64, 0    0\n",
            "Name: y49, dtype: int64, 0    0\n",
            "Name: y50, dtype: int64, 0    0\n",
            "Name: y51, dtype: int64, 0    0\n",
            "Name: y52, dtype: int64, 0    0\n",
            "Name: y53, dtype: int64, 0    0\n",
            "Name: y54, dtype: int64, 0    0\n",
            "Name: y55, dtype: int64, 0    0\n",
            "Name: y56, dtype: int64, 0    0\n",
            "Name: y57, dtype: int64, 0    0\n",
            "Name: y58, dtype: int64, 0    0\n",
            "Name: y59, dtype: int64, 0    0\n",
            "Name: y60, dtype: int64, 0    0\n",
            "Name: y61, dtype: int64, 0    0\n",
            "Name: y62, dtype: int64, 0    0\n",
            "Name: y63, dtype: int64, 0    0\n",
            "Name: y64, dtype: int64, 0    0\n",
            "Name: y65, dtype: int64, 0    0\n",
            "Name: y66, dtype: int64, 0    0\n",
            "Name: y67, dtype: int64, 0    0\n",
            "Name: y68, dtype: int64, 0    0\n",
            "Name: y69, dtype: int64, 0    0\n",
            "Name: y70, dtype: int64, 0    0\n",
            "Name: y71, dtype: int64, 0    0\n",
            "Name: y72, dtype: int64, 0    0\n",
            "Name: y73, dtype: int64, 0    0\n",
            "Name: y74, dtype: int64, 0    0\n",
            "Name: y75, dtype: int64]\n",
            "[0   -0.715919\n",
            "Name: z1, dtype: float64, 0   -0.71041\n",
            "Name: z2, dtype: float64, 0   -0.710179\n",
            "Name: z3, dtype: float64, 0   -0.710276\n",
            "Name: z4, dtype: float64, 0   -0.709258\n",
            "Name: z5, dtype: float64, 0   -0.708325\n",
            "Name: z6, dtype: float64, 0   -0.708533\n",
            "Name: z7, dtype: float64, 0   -0.476468\n",
            "Name: z8, dtype: float64, 0   -0.456232\n",
            "Name: z9, dtype: float64, 0   -0.608697\n",
            "Name: z10, dtype: float64, 0   -0.603321\n",
            "Name: z11, dtype: float64, 0   -0.274318\n",
            "Name: z12, dtype: float64, 0   -0.279623\n",
            "Name: z13, dtype: float64, 0   -0.185304\n",
            "Name: z14, dtype: float64, 0   -0.142897\n",
            "Name: z15, dtype: float64, 0   -0.333918\n",
            "Name: z16, dtype: float64, 0   -0.34251\n",
            "Name: z17, dtype: float64, 0   -0.400187\n",
            "Name: z18, dtype: float64, 0   -0.411175\n",
            "Name: z19, dtype: float64, 0   -0.450106\n",
            "Name: z20, dtype: float64, 0   -0.48109\n",
            "Name: z21, dtype: float64, 0   -0.367026\n",
            "Name: z22, dtype: float64, 0   -0.382932\n",
            "Name: z23, dtype: float64, 0   -0.024074\n",
            "Name: z24, dtype: float64, 0    0.028659\n",
            "Name: z25, dtype: float64, 0   -0.113583\n",
            "Name: z26, dtype: float64, 0   -0.08846\n",
            "Name: z27, dtype: float64, 0    0.207427\n",
            "Name: z28, dtype: float64, 0    0.085501\n",
            "Name: z29, dtype: float64, 0    0.216335\n",
            "Name: z30, dtype: float64, 0    0.088738\n",
            "Name: z31, dtype: float64, 0   -0.223102\n",
            "Name: z32, dtype: float64, 0   -0.388004\n",
            "Name: z33, dtype: float64, 0    0\n",
            "Name: z34, dtype: int64, 0    0\n",
            "Name: z35, dtype: int64, 0    0\n",
            "Name: z36, dtype: int64, 0    0\n",
            "Name: z37, dtype: int64, 0    0\n",
            "Name: z38, dtype: int64, 0    0\n",
            "Name: z39, dtype: int64, 0    0\n",
            "Name: z40, dtype: int64, 0    0\n",
            "Name: z41, dtype: int64, 0    0\n",
            "Name: z42, dtype: int64, 0    0\n",
            "Name: z43, dtype: int64, 0    0\n",
            "Name: z44, dtype: int64, 0    0\n",
            "Name: z45, dtype: int64, 0    0\n",
            "Name: z46, dtype: int64, 0    0\n",
            "Name: z47, dtype: int64, 0    0\n",
            "Name: z48, dtype: int64, 0    0\n",
            "Name: z49, dtype: int64, 0    0\n",
            "Name: z50, dtype: int64, 0    0\n",
            "Name: z51, dtype: int64, 0    0\n",
            "Name: z52, dtype: int64, 0    0\n",
            "Name: z53, dtype: int64, 0    0\n",
            "Name: z54, dtype: int64, 0    0\n",
            "Name: z55, dtype: int64, 0    0\n",
            "Name: z56, dtype: int64, 0    0\n",
            "Name: z57, dtype: int64, 0    0\n",
            "Name: z58, dtype: int64, 0    0\n",
            "Name: z59, dtype: int64, 0    0\n",
            "Name: z60, dtype: int64, 0    0\n",
            "Name: z61, dtype: int64, 0    0\n",
            "Name: z62, dtype: int64, 0    0\n",
            "Name: z63, dtype: int64, 0    0\n",
            "Name: z64, dtype: int64, 0    0\n",
            "Name: z65, dtype: int64, 0    0\n",
            "Name: z66, dtype: int64, 0    0\n",
            "Name: z67, dtype: int64, 0    0\n",
            "Name: z68, dtype: int64, 0    0\n",
            "Name: z69, dtype: int64, 0    0\n",
            "Name: z70, dtype: int64, 0    0\n",
            "Name: z71, dtype: int64, 0    0\n",
            "Name: z72, dtype: int64, 0    0\n",
            "Name: z73, dtype: int64, 0    0\n",
            "Name: z74, dtype: int64, 0    0\n",
            "Name: z75, dtype: int64]\n",
            "[0    0.60132\n",
            "Name: x1, dtype: float64, 0    0.627795\n",
            "Name: x2, dtype: float64, 0    0.642652\n",
            "Name: x3, dtype: float64, 0    0.657174\n",
            "Name: x4, dtype: float64, 0    0.575772\n",
            "Name: x5, dtype: float64, 0    0.558048\n",
            "Name: x6, dtype: float64, 0    0.542707\n",
            "Name: x7, dtype: float64, 0    0.682693\n",
            "Name: x8, dtype: float64, 0    0.523394\n",
            "Name: x9, dtype: float64, 0    0.631294\n",
            "Name: x10, dtype: float64, 0    0.574355\n",
            "Name: x11, dtype: float64, 0    0.805595\n",
            "Name: x12, dtype: float64, 0    0.404444\n",
            "Name: x13, dtype: float64, 0    0.85469\n",
            "Name: x14, dtype: float64, 0    0.335209\n",
            "Name: x15, dtype: float64, 0    0.836888\n",
            "Name: x16, dtype: float64, 0    0.345838\n",
            "Name: x17, dtype: float64, 0    0.860218\n",
            "Name: x18, dtype: float64, 0    0.321326\n",
            "Name: x19, dtype: float64, 0    0.823123\n",
            "Name: x20, dtype: float64, 0    0.356094\n",
            "Name: x21, dtype: float64, 0    0.804565\n",
            "Name: x22, dtype: float64, 0    0.376291\n",
            "Name: x23, dtype: float64, 0    0.698238\n",
            "Name: x24, dtype: float64, 0    0.451681\n",
            "Name: x25, dtype: float64, 0    0.678811\n",
            "Name: x26, dtype: float64, 0    0.453926\n",
            "Name: x27, dtype: float64, 0    0.666112\n",
            "Name: x28, dtype: float64, 0    0.449551\n",
            "Name: x29, dtype: float64, 0    0.671463\n",
            "Name: x30, dtype: float64, 0    0.448535\n",
            "Name: x31, dtype: float64, 0    0.615137\n",
            "Name: x32, dtype: float64, 0    0.474743\n",
            "Name: x33, dtype: float64, 0    0\n",
            "Name: x34, dtype: int64, 0    0\n",
            "Name: x35, dtype: int64, 0    0\n",
            "Name: x36, dtype: int64, 0    0\n",
            "Name: x37, dtype: int64, 0    0\n",
            "Name: x38, dtype: int64, 0    0\n",
            "Name: x39, dtype: int64, 0    0\n",
            "Name: x40, dtype: int64, 0    0\n",
            "Name: x41, dtype: int64, 0    0\n",
            "Name: x42, dtype: int64, 0    0\n",
            "Name: x43, dtype: int64, 0    0\n",
            "Name: x44, dtype: int64, 0    0\n",
            "Name: x45, dtype: int64, 0    0\n",
            "Name: x46, dtype: int64, 0    0\n",
            "Name: x47, dtype: int64, 0    0\n",
            "Name: x48, dtype: int64, 0    0\n",
            "Name: x49, dtype: int64, 0    0\n",
            "Name: x50, dtype: int64, 0    0\n",
            "Name: x51, dtype: int64, 0    0\n",
            "Name: x52, dtype: int64, 0    0\n",
            "Name: x53, dtype: int64, 0    0\n",
            "Name: x54, dtype: int64, 0    0\n",
            "Name: x55, dtype: int64, 0    0\n",
            "Name: x56, dtype: int64, 0    0\n",
            "Name: x57, dtype: int64, 0    0\n",
            "Name: x58, dtype: int64, 0    0\n",
            "Name: x59, dtype: int64, 0    0\n",
            "Name: x60, dtype: int64, 0    0\n",
            "Name: x61, dtype: int64, 0    0\n",
            "Name: x62, dtype: int64, 0    0\n",
            "Name: x63, dtype: int64, 0    0\n",
            "Name: x64, dtype: int64, 0    0\n",
            "Name: x65, dtype: int64, 0    0\n",
            "Name: x66, dtype: int64, 0    0\n",
            "Name: x67, dtype: int64, 0    0\n",
            "Name: x68, dtype: int64, 0    0\n",
            "Name: x69, dtype: int64, 0    0\n",
            "Name: x70, dtype: int64, 0    0\n",
            "Name: x71, dtype: int64, 0    0\n",
            "Name: x72, dtype: int64, 0    0\n",
            "Name: x73, dtype: int64, 0    0\n",
            "Name: x74, dtype: int64, 0    0\n",
            "Name: x75, dtype: int64]\n",
            "[0    0.806644\n",
            "Name: y1, dtype: float64, 0    0.737637\n",
            "Name: y2, dtype: float64, 0    0.734491\n",
            "Name: y3, dtype: float64, 0    0.731441\n",
            "Name: y4, dtype: float64, 0    0.742778\n",
            "Name: y5, dtype: float64, 0    0.741723\n",
            "Name: y6, dtype: float64, 0    0.740381\n",
            "Name: y7, dtype: float64, 0    0.734894\n",
            "Name: y8, dtype: float64, 0    0.744356\n",
            "Name: y9, dtype: float64, 0    0.851932\n",
            "Name: y10, dtype: float64, 0    0.860781\n",
            "Name: y11, dtype: float64, 0    0.964208\n",
            "Name: y12, dtype: float64, 0    0.957053\n",
            "Name: y13, dtype: float64, 0    1.278425\n",
            "Name: y14, dtype: float64, 0    1.243046\n",
            "Name: y15, dtype: float64, 0    1.542631\n",
            "Name: y16, dtype: float64, 0    1.520204\n",
            "Name: y17, dtype: float64, 0    1.629447\n",
            "Name: y18, dtype: float64, 0    1.616632\n",
            "Name: y19, dtype: float64, 0    1.621363\n",
            "Name: y20, dtype: float64, 0    1.609657\n",
            "Name: y21, dtype: float64, 0    1.585791\n",
            "Name: y22, dtype: float64, 0    1.571812\n",
            "Name: y23, dtype: float64, 0    1.53366\n",
            "Name: y24, dtype: float64, 0    1.533096\n",
            "Name: y25, dtype: float64, 0    2.026971\n",
            "Name: y26, dtype: float64, 0    2.022702\n",
            "Name: y27, dtype: float64, 0    2.480308\n",
            "Name: y28, dtype: float64, 0    2.476603\n",
            "Name: y29, dtype: float64, 0    2.550046\n",
            "Name: y30, dtype: float64, 0    2.553385\n",
            "Name: y31, dtype: float64, 0    2.644233\n",
            "Name: y32, dtype: float64, 0    2.619144\n",
            "Name: y33, dtype: float64, 0    0\n",
            "Name: y34, dtype: int64, 0    0\n",
            "Name: y35, dtype: int64, 0    0\n",
            "Name: y36, dtype: int64, 0    0\n",
            "Name: y37, dtype: int64, 0    0\n",
            "Name: y38, dtype: int64, 0    0\n",
            "Name: y39, dtype: int64, 0    0\n",
            "Name: y40, dtype: int64, 0    0\n",
            "Name: y41, dtype: int64, 0    0\n",
            "Name: y42, dtype: int64, 0    0\n",
            "Name: y43, dtype: int64, 0    0\n",
            "Name: y44, dtype: int64, 0    0\n",
            "Name: y45, dtype: int64, 0    0\n",
            "Name: y46, dtype: int64, 0    0\n",
            "Name: y47, dtype: int64, 0    0\n",
            "Name: y48, dtype: int64, 0    0\n",
            "Name: y49, dtype: int64, 0    0\n",
            "Name: y50, dtype: int64, 0    0\n",
            "Name: y51, dtype: int64, 0    0\n",
            "Name: y52, dtype: int64, 0    0\n",
            "Name: y53, dtype: int64, 0    0\n",
            "Name: y54, dtype: int64, 0    0\n",
            "Name: y55, dtype: int64, 0    0\n",
            "Name: y56, dtype: int64, 0    0\n",
            "Name: y57, dtype: int64, 0    0\n",
            "Name: y58, dtype: int64, 0    0\n",
            "Name: y59, dtype: int64, 0    0\n",
            "Name: y60, dtype: int64, 0    0\n",
            "Name: y61, dtype: int64, 0    0\n",
            "Name: y62, dtype: int64, 0    0\n",
            "Name: y63, dtype: int64, 0    0\n",
            "Name: y64, dtype: int64, 0    0\n",
            "Name: y65, dtype: int64, 0    0\n",
            "Name: y66, dtype: int64, 0    0\n",
            "Name: y67, dtype: int64, 0    0\n",
            "Name: y68, dtype: int64, 0    0\n",
            "Name: y69, dtype: int64, 0    0\n",
            "Name: y70, dtype: int64, 0    0\n",
            "Name: y71, dtype: int64, 0    0\n",
            "Name: y72, dtype: int64, 0    0\n",
            "Name: y73, dtype: int64, 0    0\n",
            "Name: y74, dtype: int64, 0    0\n",
            "Name: y75, dtype: int64]\n",
            "[0   -0.715919\n",
            "Name: z1, dtype: float64, 0   -0.71041\n",
            "Name: z2, dtype: float64, 0   -0.710179\n",
            "Name: z3, dtype: float64, 0   -0.710276\n",
            "Name: z4, dtype: float64, 0   -0.709258\n",
            "Name: z5, dtype: float64, 0   -0.708325\n",
            "Name: z6, dtype: float64, 0   -0.708533\n",
            "Name: z7, dtype: float64, 0   -0.476468\n",
            "Name: z8, dtype: float64, 0   -0.456232\n",
            "Name: z9, dtype: float64, 0   -0.608697\n",
            "Name: z10, dtype: float64, 0   -0.603321\n",
            "Name: z11, dtype: float64, 0   -0.274318\n",
            "Name: z12, dtype: float64, 0   -0.279623\n",
            "Name: z13, dtype: float64, 0   -0.185304\n",
            "Name: z14, dtype: float64, 0   -0.142897\n",
            "Name: z15, dtype: float64, 0   -0.333918\n",
            "Name: z16, dtype: float64, 0   -0.34251\n",
            "Name: z17, dtype: float64, 0   -0.400187\n",
            "Name: z18, dtype: float64, 0   -0.411175\n",
            "Name: z19, dtype: float64, 0   -0.450106\n",
            "Name: z20, dtype: float64, 0   -0.48109\n",
            "Name: z21, dtype: float64, 0   -0.367026\n",
            "Name: z22, dtype: float64, 0   -0.382932\n",
            "Name: z23, dtype: float64, 0   -0.024074\n",
            "Name: z24, dtype: float64, 0    0.028659\n",
            "Name: z25, dtype: float64, 0   -0.113583\n",
            "Name: z26, dtype: float64, 0   -0.08846\n",
            "Name: z27, dtype: float64, 0    0.207427\n",
            "Name: z28, dtype: float64, 0    0.085501\n",
            "Name: z29, dtype: float64, 0    0.216335\n",
            "Name: z30, dtype: float64, 0    0.088738\n",
            "Name: z31, dtype: float64, 0   -0.223102\n",
            "Name: z32, dtype: float64, 0   -0.388004\n",
            "Name: z33, dtype: float64, 0    0\n",
            "Name: z34, dtype: int64, 0    0\n",
            "Name: z35, dtype: int64, 0    0\n",
            "Name: z36, dtype: int64, 0    0\n",
            "Name: z37, dtype: int64, 0    0\n",
            "Name: z38, dtype: int64, 0    0\n",
            "Name: z39, dtype: int64, 0    0\n",
            "Name: z40, dtype: int64, 0    0\n",
            "Name: z41, dtype: int64, 0    0\n",
            "Name: z42, dtype: int64, 0    0\n",
            "Name: z43, dtype: int64, 0    0\n",
            "Name: z44, dtype: int64, 0    0\n",
            "Name: z45, dtype: int64, 0    0\n",
            "Name: z46, dtype: int64, 0    0\n",
            "Name: z47, dtype: int64, 0    0\n",
            "Name: z48, dtype: int64, 0    0\n",
            "Name: z49, dtype: int64, 0    0\n",
            "Name: z50, dtype: int64, 0    0\n",
            "Name: z51, dtype: int64, 0    0\n",
            "Name: z52, dtype: int64, 0    0\n",
            "Name: z53, dtype: int64, 0    0\n",
            "Name: z54, dtype: int64, 0    0\n",
            "Name: z55, dtype: int64, 0    0\n",
            "Name: z56, dtype: int64, 0    0\n",
            "Name: z57, dtype: int64, 0    0\n",
            "Name: z58, dtype: int64, 0    0\n",
            "Name: z59, dtype: int64, 0    0\n",
            "Name: z60, dtype: int64, 0    0\n",
            "Name: z61, dtype: int64, 0    0\n",
            "Name: z62, dtype: int64, 0    0\n",
            "Name: z63, dtype: int64, 0    0\n",
            "Name: z64, dtype: int64, 0    0\n",
            "Name: z65, dtype: int64, 0    0\n",
            "Name: z66, dtype: int64, 0    0\n",
            "Name: z67, dtype: int64, 0    0\n",
            "Name: z68, dtype: int64, 0    0\n",
            "Name: z69, dtype: int64, 0    0\n",
            "Name: z70, dtype: int64, 0    0\n",
            "Name: z71, dtype: int64, 0    0\n",
            "Name: z72, dtype: int64, 0    0\n",
            "Name: z73, dtype: int64, 0    0\n",
            "Name: z74, dtype: int64, 0    0\n",
            "Name: z75, dtype: int64]\n"
          ]
        },
        {
          "data": {
            "image/png": "[encoded data removed]",
            "text/plain": [
              "<Figure size 640x480 with 1 Axes>"
            ]
          },
          "metadata": {},
          "output_type": "display_data"
        },
        {
          "data": {
            "image/png": "[encoded data removed]",
            "text/plain": [
              "<Figure size 640x480 with 1 Axes>"
            ]
          },
          "metadata": {},
          "output_type": "display_data"
        }
      ],
      "source": [
        "%run data_visualization.ipynb"
      ]
    },
    {
      "cell_type": "code",
      "execution_count": 3,
      "metadata": {
        "id": "9Qrz7oap6jWa",
        "outputId": "f63e6757-b8fb-4543-d7c5-883020d3fc1f"
      },
      "outputs": [
        {
          "data": {
            "text/plain": [
              "['research',\n",
              " 'hear',\n",
              " 'music',\n",
              " 'brother',\n",
              " 'ocean',\n",
              " 'many',\n",
              " 'i love you',\n",
              " 'dog',\n",
              " 'polite',\n",
              " 'milk',\n",
              " 'bookstore',\n",
              " 'doctor',\n",
              " 'i',\n",
              " 'classroom',\n",
              " 'focus',\n",
              " 'money',\n",
              " 'coffee',\n",
              " 'book',\n",
              " 'phone',\n",
              " 'chicken',\n",
              " 'photographer',\n",
              " 'hamburger',\n",
              " 'good morning',\n",
              " 'open',\n",
              " 'door']"
            ]
          },
          "execution_count": 3,
          "metadata": {},
          "output_type": "execute_result"
        }
      ],
      "source": [
        "# Get all labels\n",
        "names = []\n",
        "for dir in os.listdir(\"/Users/aly/Documents/Programming/Apps/Machine Learning/ASL Converter/training_models/mediapipe/reformatting-the-data/data_25_labels\"):\n",
        "    if dir !=  '.DS_Store':\n",
        "        names.append(dir)\n",
        "names"
      ]
    },
    {
      "cell_type": "code",
      "execution_count": 34,
      "metadata": {
        "colab": {
          "base_uri": "https://localhost:8080/"
        },
        "id": "ign4sjmd7zIG",
        "outputId": "c541e36e-d251-4b87-dee5-a79a2c4e258a"
      },
      "outputs": [
        {
          "data": {
            "text/plain": [
              "(array([3., 4.], dtype=float32),\n",
              " array([[-2., -2.,  3.,  4.],\n",
              "        [ 2.,  2.,  7.,  8.]], dtype=float32))"
            ]
          },
          "execution_count": 34,
          "metadata": {},
          "output_type": "execute_result"
        }
      ],
      "source": [
        "test_arr = np.array([[1,2,3,4],[5,6,7,8]], dtype=np.float32)\n",
        "# test_arr[:,:2]\n",
        "origin = np.mean(test_arr[:,:2], axis=0)\n",
        "test_arr[:,:2] -= origin\n",
        "origin, test_arr"
      ]
    },
    {
      "cell_type": "code",
      "execution_count": 7,
      "metadata": {
        "colab": {
          "base_uri": "https://localhost:8080/"
        },
        "id": "m0xV6NbG0OBJ",
        "outputId": "b438a279-5562-4595-f952-bf8fe3fece8d"
      },
      "outputs": [
        {
          "data": {
            "text/plain": [
              "array([[-2., -2.,  1.,  4.],\n",
              "       [ 2.,  2.,  1.,  8.]], dtype=float32)"
            ]
          },
          "execution_count": 7,
          "metadata": {},
          "output_type": "execute_result"
        }
      ],
      "source": [
        "test_arr[:,2] = 1\n",
        "test_arr"
      ]
    },
    {
      "cell_type": "code",
      "execution_count": 8,
      "metadata": {
        "colab": {
          "base_uri": "https://localhost:8080/"
        },
        "id": "8FnHv0hDG5Se",
        "outputId": "da1172bc-eea0-4ab6-c2d7-e7595afe57bc"
      },
      "outputs": [
        {
          "data": {
            "text/plain": [
              "array([-2.,  2.], dtype=float32)"
            ]
          },
          "execution_count": 8,
          "metadata": {},
          "output_type": "execute_result"
        }
      ],
      "source": [
        "test_arr[:, 1]"
      ]
    },
    {
      "cell_type": "code",
      "execution_count": 35,
      "metadata": {
        "colab": {
          "base_uri": "https://localhost:8080/",
          "height": 430
        },
        "id": "tpwizhUyxgC4",
        "outputId": "fd629afc-4a27-4f00-8ac1-04fa6d16538e"
      },
      "outputs": [
        {
          "data": {
            "image/png": "[encoded data removed]",
            "text/plain": [
              "<Figure size 640x480 with 1 Axes>"
            ]
          },
          "metadata": {},
          "output_type": "display_data"
        }
      ],
      "source": [
        "plt.scatter(test_arr[:,0], test_arr[:, 1])\n",
        "plt.scatter(0, 0, c=\"red\")\n",
        "plt.arrow(0,0,1,1, width=0.03)\n",
        "plt.show()"
      ]
    },
    {
      "cell_type": "code",
      "execution_count": 125,
      "metadata": {
        "colab": {
          "base_uri": "https://localhost:8080/",
          "height": 487
        },
        "id": "D7QGW1C-6jWf",
        "outputId": "49bc3096-8b32-44c6-e7d0-c5ac05fd544f"
      },
      "outputs": [
        {
          "data": {
            "text/html": [
              "<div>\n",
              "<style scoped>\n",
              "    .dataframe tbody tr th:only-of-type {\n",
              "        vertical-align: middle;\n",
              "    }\n",
              "\n",
              "    .dataframe tbody tr th {\n",
              "        vertical-align: top;\n",
              "    }\n",
              "\n",
              "    .dataframe thead th {\n",
              "        text-align: right;\n",
              "    }\n",
              "</style>\n",
              "<table border=\"1\" class=\"dataframe\">\n",
              "  <thead>\n",
              "    <tr style=\"text-align: right;\">\n",
              "      <th></th>\n",
              "      <th>x1</th>\n",
              "      <th>y1</th>\n",
              "      <th>z1</th>\n",
              "      <th>v1</th>\n",
              "      <th>x2</th>\n",
              "      <th>y2</th>\n",
              "      <th>z2</th>\n",
              "      <th>v2</th>\n",
              "      <th>x3</th>\n",
              "      <th>y3</th>\n",
              "      <th>...</th>\n",
              "      <th>z73</th>\n",
              "      <th>v73</th>\n",
              "      <th>x74</th>\n",
              "      <th>y74</th>\n",
              "      <th>z74</th>\n",
              "      <th>v74</th>\n",
              "      <th>x75</th>\n",
              "      <th>y75</th>\n",
              "      <th>z75</th>\n",
              "      <th>v75</th>\n",
              "    </tr>\n",
              "  </thead>\n",
              "  <tbody>\n",
              "    <tr>\n",
              "      <th>0</th>\n",
              "      <td>0.481783</td>\n",
              "      <td>0.263291</td>\n",
              "      <td>-0.251268</td>\n",
              "      <td>0.997624</td>\n",
              "      <td>0.480460</td>\n",
              "      <td>0.229660</td>\n",
              "      <td>-0.217402</td>\n",
              "      <td>0.996738</td>\n",
              "      <td>0.482711</td>\n",
              "      <td>0.231598</td>\n",
              "      <td>...</td>\n",
              "      <td>0.026680</td>\n",
              "      <td>0.0</td>\n",
              "      <td>0.758639</td>\n",
              "      <td>0.786082</td>\n",
              "      <td>0.021126</td>\n",
              "      <td>0.0</td>\n",
              "      <td>0.759593</td>\n",
              "      <td>0.798603</td>\n",
              "      <td>0.017296</td>\n",
              "      <td>0.0</td>\n",
              "    </tr>\n",
              "    <tr>\n",
              "      <th>1</th>\n",
              "      <td>0.481630</td>\n",
              "      <td>0.262819</td>\n",
              "      <td>-0.284726</td>\n",
              "      <td>0.997663</td>\n",
              "      <td>0.480498</td>\n",
              "      <td>0.228990</td>\n",
              "      <td>-0.248803</td>\n",
              "      <td>0.996778</td>\n",
              "      <td>0.482889</td>\n",
              "      <td>0.231058</td>\n",
              "      <td>...</td>\n",
              "      <td>0.023139</td>\n",
              "      <td>0.0</td>\n",
              "      <td>0.762222</td>\n",
              "      <td>0.792105</td>\n",
              "      <td>0.017242</td>\n",
              "      <td>0.0</td>\n",
              "      <td>0.762655</td>\n",
              "      <td>0.803301</td>\n",
              "      <td>0.012939</td>\n",
              "      <td>0.0</td>\n",
              "    </tr>\n",
              "    <tr>\n",
              "      <th>2</th>\n",
              "      <td>0.481624</td>\n",
              "      <td>0.262759</td>\n",
              "      <td>-0.297694</td>\n",
              "      <td>0.997736</td>\n",
              "      <td>0.480709</td>\n",
              "      <td>0.228824</td>\n",
              "      <td>-0.262779</td>\n",
              "      <td>0.996833</td>\n",
              "      <td>0.483267</td>\n",
              "      <td>0.230927</td>\n",
              "      <td>...</td>\n",
              "      <td>0.022072</td>\n",
              "      <td>0.0</td>\n",
              "      <td>0.767398</td>\n",
              "      <td>0.792813</td>\n",
              "      <td>0.015944</td>\n",
              "      <td>0.0</td>\n",
              "      <td>0.769933</td>\n",
              "      <td>0.805204</td>\n",
              "      <td>0.011419</td>\n",
              "      <td>0.0</td>\n",
              "    </tr>\n",
              "    <tr>\n",
              "      <th>3</th>\n",
              "      <td>0.481631</td>\n",
              "      <td>0.262273</td>\n",
              "      <td>-0.336054</td>\n",
              "      <td>0.997899</td>\n",
              "      <td>0.480730</td>\n",
              "      <td>0.228454</td>\n",
              "      <td>-0.301580</td>\n",
              "      <td>0.997060</td>\n",
              "      <td>0.483295</td>\n",
              "      <td>0.230480</td>\n",
              "      <td>...</td>\n",
              "      <td>0.023919</td>\n",
              "      <td>0.0</td>\n",
              "      <td>0.765285</td>\n",
              "      <td>0.792616</td>\n",
              "      <td>0.018403</td>\n",
              "      <td>0.0</td>\n",
              "      <td>0.767586</td>\n",
              "      <td>0.805106</td>\n",
              "      <td>0.014234</td>\n",
              "      <td>0.0</td>\n",
              "    </tr>\n",
              "    <tr>\n",
              "      <th>4</th>\n",
              "      <td>0.481666</td>\n",
              "      <td>0.262271</td>\n",
              "      <td>-0.313654</td>\n",
              "      <td>0.998036</td>\n",
              "      <td>0.480804</td>\n",
              "      <td>0.228475</td>\n",
              "      <td>-0.279114</td>\n",
              "      <td>0.997251</td>\n",
              "      <td>0.483347</td>\n",
              "      <td>0.230481</td>\n",
              "      <td>...</td>\n",
              "      <td>0.020449</td>\n",
              "      <td>0.0</td>\n",
              "      <td>0.767699</td>\n",
              "      <td>0.786754</td>\n",
              "      <td>0.014595</td>\n",
              "      <td>0.0</td>\n",
              "      <td>0.768883</td>\n",
              "      <td>0.800170</td>\n",
              "      <td>0.010294</td>\n",
              "      <td>0.0</td>\n",
              "    </tr>\n",
              "    <tr>\n",
              "      <th>...</th>\n",
              "      <td>...</td>\n",
              "      <td>...</td>\n",
              "      <td>...</td>\n",
              "      <td>...</td>\n",
              "      <td>...</td>\n",
              "      <td>...</td>\n",
              "      <td>...</td>\n",
              "      <td>...</td>\n",
              "      <td>...</td>\n",
              "      <td>...</td>\n",
              "      <td>...</td>\n",
              "      <td>...</td>\n",
              "      <td>...</td>\n",
              "      <td>...</td>\n",
              "      <td>...</td>\n",
              "      <td>...</td>\n",
              "      <td>...</td>\n",
              "      <td>...</td>\n",
              "      <td>...</td>\n",
              "      <td>...</td>\n",
              "      <td>...</td>\n",
              "    </tr>\n",
              "    <tr>\n",
              "      <th>69</th>\n",
              "      <td>0.478060</td>\n",
              "      <td>0.265460</td>\n",
              "      <td>-0.202545</td>\n",
              "      <td>0.999748</td>\n",
              "      <td>0.476053</td>\n",
              "      <td>0.231684</td>\n",
              "      <td>-0.169041</td>\n",
              "      <td>0.999652</td>\n",
              "      <td>0.478467</td>\n",
              "      <td>0.232754</td>\n",
              "      <td>...</td>\n",
              "      <td>0.007984</td>\n",
              "      <td>0.0</td>\n",
              "      <td>0.782588</td>\n",
              "      <td>0.741258</td>\n",
              "      <td>0.000239</td>\n",
              "      <td>0.0</td>\n",
              "      <td>0.782818</td>\n",
              "      <td>0.760302</td>\n",
              "      <td>-0.004702</td>\n",
              "      <td>0.0</td>\n",
              "    </tr>\n",
              "    <tr>\n",
              "      <th>70</th>\n",
              "      <td>0.478110</td>\n",
              "      <td>0.266470</td>\n",
              "      <td>-0.194980</td>\n",
              "      <td>0.999749</td>\n",
              "      <td>0.476170</td>\n",
              "      <td>0.232698</td>\n",
              "      <td>-0.159386</td>\n",
              "      <td>0.999653</td>\n",
              "      <td>0.478609</td>\n",
              "      <td>0.233749</td>\n",
              "      <td>...</td>\n",
              "      <td>0.011121</td>\n",
              "      <td>0.0</td>\n",
              "      <td>0.781909</td>\n",
              "      <td>0.746467</td>\n",
              "      <td>0.004765</td>\n",
              "      <td>0.0</td>\n",
              "      <td>0.782318</td>\n",
              "      <td>0.764514</td>\n",
              "      <td>0.000574</td>\n",
              "      <td>0.0</td>\n",
              "    </tr>\n",
              "    <tr>\n",
              "      <th>71</th>\n",
              "      <td>0.478078</td>\n",
              "      <td>0.267380</td>\n",
              "      <td>-0.193164</td>\n",
              "      <td>0.999755</td>\n",
              "      <td>0.476191</td>\n",
              "      <td>0.233562</td>\n",
              "      <td>-0.158247</td>\n",
              "      <td>0.999660</td>\n",
              "      <td>0.478656</td>\n",
              "      <td>0.234627</td>\n",
              "      <td>...</td>\n",
              "      <td>0.006822</td>\n",
              "      <td>0.0</td>\n",
              "      <td>0.794213</td>\n",
              "      <td>0.731202</td>\n",
              "      <td>0.002150</td>\n",
              "      <td>0.0</td>\n",
              "      <td>0.796758</td>\n",
              "      <td>0.750495</td>\n",
              "      <td>-0.000858</td>\n",
              "      <td>0.0</td>\n",
              "    </tr>\n",
              "    <tr>\n",
              "      <th>72</th>\n",
              "      <td>0.478067</td>\n",
              "      <td>0.267776</td>\n",
              "      <td>-0.195722</td>\n",
              "      <td>0.999757</td>\n",
              "      <td>0.476218</td>\n",
              "      <td>0.234010</td>\n",
              "      <td>-0.160146</td>\n",
              "      <td>0.999661</td>\n",
              "      <td>0.478696</td>\n",
              "      <td>0.235053</td>\n",
              "      <td>...</td>\n",
              "      <td>0.002802</td>\n",
              "      <td>0.0</td>\n",
              "      <td>0.798200</td>\n",
              "      <td>0.729334</td>\n",
              "      <td>-0.003268</td>\n",
              "      <td>0.0</td>\n",
              "      <td>0.803871</td>\n",
              "      <td>0.750718</td>\n",
              "      <td>-0.007041</td>\n",
              "      <td>0.0</td>\n",
              "    </tr>\n",
              "    <tr>\n",
              "      <th>73</th>\n",
              "      <td>0.478045</td>\n",
              "      <td>0.267736</td>\n",
              "      <td>-0.202483</td>\n",
              "      <td>0.999760</td>\n",
              "      <td>0.476222</td>\n",
              "      <td>0.233956</td>\n",
              "      <td>-0.166502</td>\n",
              "      <td>0.999666</td>\n",
              "      <td>0.478700</td>\n",
              "      <td>0.235011</td>\n",
              "      <td>...</td>\n",
              "      <td>0.006624</td>\n",
              "      <td>0.0</td>\n",
              "      <td>0.786988</td>\n",
              "      <td>0.740489</td>\n",
              "      <td>0.001446</td>\n",
              "      <td>0.0</td>\n",
              "      <td>0.790181</td>\n",
              "      <td>0.760615</td>\n",
              "      <td>-0.001883</td>\n",
              "      <td>0.0</td>\n",
              "    </tr>\n",
              "  </tbody>\n",
              "</table>\n",
              "<p>74 rows × 300 columns</p>\n",
              "</div>"
            ],
            "text/plain": [
              "          x1        y1        z1        v1        x2        y2        z2  \\\n",
              "0   0.481783  0.263291 -0.251268  0.997624  0.480460  0.229660 -0.217402   \n",
              "1   0.481630  0.262819 -0.284726  0.997663  0.480498  0.228990 -0.248803   \n",
              "2   0.481624  0.262759 -0.297694  0.997736  0.480709  0.228824 -0.262779   \n",
              "3   0.481631  0.262273 -0.336054  0.997899  0.480730  0.228454 -0.301580   \n",
              "4   0.481666  0.262271 -0.313654  0.998036  0.480804  0.228475 -0.279114   \n",
              "..       ...       ...       ...       ...       ...       ...       ...   \n",
              "69  0.478060  0.265460 -0.202545  0.999748  0.476053  0.231684 -0.169041   \n",
              "70  0.478110  0.266470 -0.194980  0.999749  0.476170  0.232698 -0.159386   \n",
              "71  0.478078  0.267380 -0.193164  0.999755  0.476191  0.233562 -0.158247   \n",
              "72  0.478067  0.267776 -0.195722  0.999757  0.476218  0.234010 -0.160146   \n",
              "73  0.478045  0.267736 -0.202483  0.999760  0.476222  0.233956 -0.166502   \n",
              "\n",
              "          v2        x3        y3  ...       z73  v73       x74       y74  \\\n",
              "0   0.996738  0.482711  0.231598  ...  0.026680  0.0  0.758639  0.786082   \n",
              "1   0.996778  0.482889  0.231058  ...  0.023139  0.0  0.762222  0.792105   \n",
              "2   0.996833  0.483267  0.230927  ...  0.022072  0.0  0.767398  0.792813   \n",
              "3   0.997060  0.483295  0.230480  ...  0.023919  0.0  0.765285  0.792616   \n",
              "4   0.997251  0.483347  0.230481  ...  0.020449  0.0  0.767699  0.786754   \n",
              "..       ...       ...       ...  ...       ...  ...       ...       ...   \n",
              "69  0.999652  0.478467  0.232754  ...  0.007984  0.0  0.782588  0.741258   \n",
              "70  0.999653  0.478609  0.233749  ...  0.011121  0.0  0.781909  0.746467   \n",
              "71  0.999660  0.478656  0.234627  ...  0.006822  0.0  0.794213  0.731202   \n",
              "72  0.999661  0.478696  0.235053  ...  0.002802  0.0  0.798200  0.729334   \n",
              "73  0.999666  0.478700  0.235011  ...  0.006624  0.0  0.786988  0.740489   \n",
              "\n",
              "         z74  v74       x75       y75       z75  v75  \n",
              "0   0.021126  0.0  0.759593  0.798603  0.017296  0.0  \n",
              "1   0.017242  0.0  0.762655  0.803301  0.012939  0.0  \n",
              "2   0.015944  0.0  0.769933  0.805204  0.011419  0.0  \n",
              "3   0.018403  0.0  0.767586  0.805106  0.014234  0.0  \n",
              "4   0.014595  0.0  0.768883  0.800170  0.010294  0.0  \n",
              "..       ...  ...       ...       ...       ...  ...  \n",
              "69  0.000239  0.0  0.782818  0.760302 -0.004702  0.0  \n",
              "70  0.004765  0.0  0.782318  0.764514  0.000574  0.0  \n",
              "71  0.002150  0.0  0.796758  0.750495 -0.000858  0.0  \n",
              "72 -0.003268  0.0  0.803871  0.750718 -0.007041  0.0  \n",
              "73  0.001446  0.0  0.790181  0.760615 -0.001883  0.0  \n",
              "\n",
              "[74 rows x 300 columns]"
            ]
          },
          "execution_count": 125,
          "metadata": {},
          "output_type": "execute_result"
        }
      ],
      "source": [
        "# df = pd.read_csv(\"/Users/aly/Documents/Programming/Apps/Machine Learning/ASL Converter/demo.csv\")\n",
        "df = pd.read_csv(\"/Users/aly/Documents/Programming/Apps/Machine Learning/ASL Converter/demo.csv\")\n",
        "df"
      ]
    },
    {
      "cell_type": "code",
      "execution_count": 126,
      "metadata": {
        "colab": {
          "base_uri": "https://localhost:8080/"
        },
        "id": "1NHW1Bby6jWf",
        "outputId": "bd45a89e-27d8-4b08-a5ae-b020d97fcbde"
      },
      "outputs": [
        {
          "data": {
            "text/plain": [
              "array([ 0.481783  ,  0.26329112, -0.25126788,  0.99762374])"
            ]
          },
          "execution_count": 126,
          "metadata": {},
          "output_type": "execute_result"
        }
      ],
      "source": [
        "#test\n",
        "\n",
        "frame = df.iloc[0].to_numpy()\n",
        "frame = frame.reshape((75, 4))\n",
        "frame[0]\n",
        "# new_frame = rotate(frame, 5)\n",
        "# print(new_frame[0])\n",
        "# print(frame[0])"
      ]
    },
    {
      "cell_type": "code",
      "execution_count": 13,
      "metadata": {
        "id": "QKy76agQLBnh",
        "outputId": "0d9bc987-5f80-4bdf-da4e-c32fefab20ef"
      },
      "outputs": [
        {
          "data": {
            "text/plain": [
              "(74, 300)"
            ]
          },
          "execution_count": 13,
          "metadata": {},
          "output_type": "execute_result"
        }
      ],
      "source": [
        "df.to_numpy().shape"
      ]
    },
    {
      "cell_type": "code",
      "execution_count": 96,
      "metadata": {
        "colab": {
          "base_uri": "https://localhost:8080/"
        },
        "id": "nKr7TbE9BO0f",
        "outputId": "3722eff2-2ad9-43af-e3e6-1b1e354ca77d"
      },
      "outputs": [
        {
          "data": {
            "text/plain": [
              "(74, 75, 4)"
            ]
          },
          "execution_count": 96,
          "metadata": {},
          "output_type": "execute_result"
        }
      ],
      "source": [
        "all_frames = df.to_numpy().reshape((len(df), 75, 4))\n",
        "all_frames[0][0]\n",
        "all_frames.shape"
      ]
    },
    {
      "cell_type": "code",
      "execution_count": 38,
      "metadata": {
        "colab": {
          "base_uri": "https://localhost:8080/"
        },
        "id": "rh9axuVpCjAQ",
        "outputId": "c2afb098-0315-44b7-e456-9f7d9360ada6"
      },
      "outputs": [
        {
          "name": "stdout",
          "output_type": "stream",
          "text": [
            "standard variation x: 0.19378888865030636\n",
            "standard variation y: 0.45007529575079847\n",
            "standard variation z: 0.1921295540159871\n"
          ]
        }
      ],
      "source": [
        "print(f\"standard variation x: {np.std(all_frames[:, :, 0])}\")\n",
        "print(f\"standard variation y: {np.std(all_frames[:, :, 1])}\")\n",
        "print(f\"standard variation z: {np.std(all_frames[:, :, 2])}\")"
      ]
    },
    {
      "cell_type": "code",
      "execution_count": 39,
      "metadata": {
        "id": "IBSAnft37hY9"
      },
      "outputs": [],
      "source": [
        "def change_origin(frame):\n",
        "  new_origin = np.mean(frame[:,:2], axis=0)\n",
        "  # print(new_origin.shape)\n",
        "  new_frame = np.copy(frame)\n",
        "  new_frame[:,:2] -= new_origin\n",
        "  return frame, new_frame "
      ]
    },
    {
      "cell_type": "code",
      "execution_count": 40,
      "metadata": {
        "id": "FA6wu80d4Xv6"
      },
      "outputs": [],
      "source": [
        "def visualize_rotation(func):\n",
        "\n",
        "  def wrap(*args, **kwargs):\n",
        "    original_frame, new_frame = func(*args, **kwargs)\n",
        "    plt.scatter(original_frame[:, 0], original_frame[:, 1], c=\"blue\", label=\"original_data\")\n",
        "    plt.scatter(new_frame[:, 0], new_frame[:, 1], c=\"red\", label=\"new data\")\n",
        "    plt.scatter(0, 0, c=\"black\")\n",
        "    plt.annotate(\"origin\", (0,0))\n",
        "    plt.arrow(0, 0, original_frame[0][0], original_frame[0][1], length_includes_head=True, color=\"blue\", head_width=0.03)\n",
        "    plt.arrow(0, 0, new_frame[0][0], new_frame[0][1], length_includes_head=True, color=\"red\", head_width=0.03)\n",
        "    plt.legend()\n",
        "    return original_frame, new_frame\n",
        "\n",
        "  return wrap"
      ]
    },
    {
      "cell_type": "code",
      "execution_count": 41,
      "metadata": {
        "id": "styqDd6N6jWe"
      },
      "outputs": [],
      "source": [
        "def visualize(frame):\n",
        "    plt.scatter(frame[:, 0], frame[:, 1])\n"
      ]
    },
    {
      "cell_type": "code",
      "execution_count": 42,
      "metadata": {
        "id": "r70_XWRT6jWd"
      },
      "outputs": [],
      "source": [
        "@visualize_rotation\n",
        "def rotate(frame, angle, origin=[0, 0]):\n",
        "    normalized_frame = change_origin(frame)\n",
        "    angle_rad = math.radians(angle)\n",
        "    new_frame = np.copy(frame)\n",
        "    rotation_matrix = np.array([[cos(angle_rad), -sin(angle_rad)], [sin(angle_rad), cos(angle_rad)]])\n",
        "    for i in range(len(new_frame)):\n",
        "        new_frame[i][:2] = np.matmul(rotation_matrix, new_frame[i][:2])\n",
        "    return frame, new_frame"
      ]
    },
    {
      "cell_type": "code",
      "execution_count": 43,
      "metadata": {
        "colab": {
          "base_uri": "https://localhost:8080/",
          "height": 430
        },
        "id": "Y5TDl11l6jWh",
        "outputId": "4d862849-a00e-447d-da4f-905a4cc2aa0d"
      },
      "outputs": [
        {
          "data": {
            "image/png": "[encoded data removed]",
            "text/plain": [
              "<Figure size 640x480 with 1 Axes>"
            ]
          },
          "metadata": {},
          "output_type": "display_data"
        }
      ],
      "source": [
        "#rotation without changing origin\n",
        "_, f1 = rotate(all_frames[0], 10)"
      ]
    },
    {
      "cell_type": "code",
      "execution_count": 44,
      "metadata": {
        "colab": {
          "base_uri": "https://localhost:8080/",
          "height": 430
        },
        "id": "Un0trsg0_iy8",
        "outputId": "0d83e1ad-5cc2-4986-a150-40c67a06727c"
      },
      "outputs": [
        {
          "data": {
            "image/png": "[encoded data removed]",
            "text/plain": [
              "<Figure size 640x480 with 1 Axes>"
            ]
          },
          "metadata": {},
          "output_type": "display_data"
        }
      ],
      "source": [
        "_, frame = change_origin(all_frames[0])\n",
        "_, _=rotate(frame, 10)"
      ]
    },
    {
      "cell_type": "code",
      "execution_count": 45,
      "metadata": {
        "id": "ZkwqseONrT0C"
      },
      "outputs": [],
      "source": [
        "class VectorTransformation():\n",
        "\n",
        "  def __init__(self, center_data=True, translation_x=0, translation_y=0, rotation_angle=0, \n",
        "               shear_x=0, shear_y=0, scaling_x=0, scaling_y=0, reflection=True, random=False):\n",
        "    self.random = random\n",
        "    self.center = center_data\n",
        "    self.reflect = reflection\n",
        "\n",
        "    self.tx_max = translation_x\n",
        "    self.ty_max = translation_y\n",
        "    self.angle_max = math.radians(rotation_angle)\n",
        "    self.shx_max = shear_x\n",
        "    self.shy_max = shear_y\n",
        "    self.scale_x_max = scaling_x\n",
        "    self.scale_y_max = scaling_y\n",
        "\n",
        "    self.tx = translation_x\n",
        "    self.ty = translation_y\n",
        "    self.angle = math.radians(rotation_angle)\n",
        "    self.shx = shear_x\n",
        "    self.shy = shear_y\n",
        "    self.scale_x= scaling_x\n",
        "    self.scale_y = scaling_y\n",
        "\n",
        "  def translation_matrix(self):\n",
        "    return np.array([[1, 0, self.tx],\n",
        "                    [0, 1, self.ty],\n",
        "                    [0, 0, 1]])\n",
        "\n",
        "  def rotation_matrix(self):\n",
        "    return np.array([[cos(self.angle), -sin(self.angle), 0], \n",
        "                       [sin(self.angle), cos(self.angle), 0],\n",
        "                       [0, 0, 1]])\n",
        "\n",
        "  def shearx_matrix(self, sign=0):\n",
        "    return np.array([[1, ((-1)**sign)*self.shx, 0],\n",
        "                     [0, 1, 0], \n",
        "                     [0, 0, 1]])\n",
        "    \n",
        "  def sheary_matrix(self, sign=0):\n",
        "    return np.array([[1, 0, 0],\n",
        "                     [((-1)**sign)*self.shy, 1, 0],\n",
        "                     [0, 0, 1]])\n",
        "    \n",
        "  def scaling_matrix(self):\n",
        "    return np.array([[1+self.scale_x, 0, 0],\n",
        "                     [0, 1+self.scale_y, 0], \n",
        "                     [0, 0, 1]])\n",
        "    \n",
        "  def reflection_matrix(self):\n",
        "    return np.array([[(-1)**(int(self.reflect)), 0, 0],\n",
        "                     [0, 1, 0], \n",
        "                     [0, 0, 1]])\n",
        "    \n",
        "  def change_origin(self, frame):\n",
        "    new_origin = np.mean(frame[:,:2], axis=0)\n",
        "    new_frame = np.copy(frame)\n",
        "    new_frame[:,:2] -= new_origin\n",
        "    return new_frame "
      ]
    },
    {
      "cell_type": "code",
      "execution_count": 46,
      "metadata": {
        "id": "cRZtJcj7xDvs"
      },
      "outputs": [],
      "source": [
        "def add_to_class(Class):  \n",
        "    def wrapper(obj):\n",
        "        setattr(Class, obj.__name__, obj)\n",
        "    return wrapper"
      ]
    },
    {
      "cell_type": "code",
      "execution_count": 47,
      "metadata": {
        "id": "NlkGaH4PxvM3"
      },
      "outputs": [],
      "source": [
        "@add_to_class(VectorTransformation)\n",
        "def transform(self, frame, change_shear_direction=False):\n",
        "    new_frame = np.copy(frame)\n",
        "    # new_frame = np.reshape((1, 3))\n",
        "    new_frame[:, 2] = 1\n",
        "\n",
        "    if self.center:\n",
        "            new_frame = self.change_origin(new_frame)\n",
        "\n",
        "    for i in range(len(new_frame)):\n",
        "        new_frame[i][:3] = np.matmul(self.reflection_matrix(), new_frame[i][:3])\n",
        "        # print(new_frame[i][:3])\n",
        "        new_frame[i][:3] = np.matmul(self.translation_matrix(), new_frame[i][:3])\n",
        "        if change_shear_direction:\n",
        "          new_frame[i][:3] = np.matmul(self.shearx_matrix(int(new_frame[i][0]*new_frame[i][1]<0)), new_frame[i][:3])\n",
        "          # print(\"shear x:\", self.shearx_matrix(int(new_frame[i][0]*new_frame[i][1]<0)))\n",
        "          # print(\"sign: \", int(new_frame[i][0]*new_frame[i][1]<0))\n",
        "          new_frame[i][:3] = np.matmul(self.sheary_matrix(int(new_frame[i][0]*new_frame[i][1]<0)), new_frame[i][:3])\n",
        "        else:\n",
        "          new_frame[i][:3] = np.matmul(self.shearx_matrix(), new_frame[i][:3])\n",
        "          # print(\"shear x:\", self.shearx_matrix())\n",
        "          new_frame[i][:3] = np.matmul(self.sheary_matrix(), new_frame[i][:3])\n",
        "\n",
        "        # print(new_frame[i][:3])\n",
        "        new_frame[i][:3] = np.matmul(self.rotation_matrix(), new_frame[i][:3])\n",
        "        new_frame[i][:3] = np.matmul(self.scaling_matrix(), new_frame[i][:3])\n",
        "\n",
        "    new_frame[:, 2] = frame[:, 2]\n",
        "        \n",
        "    return new_frame\n"
      ]
    },
    {
      "cell_type": "code",
      "execution_count": 48,
      "metadata": {
        "id": "NeHBpDXtPdOo"
      },
      "outputs": [],
      "source": [
        "@add_to_class(VectorTransformation)\n",
        "def visualize_change(self, original_frame, new_frame, plot=False):\n",
        "    if plot:\n",
        "      plt.plot(original_frame[:, 0], original_frame[:, 1], c=\"blue\")\n",
        "      plt.plot(new_frame[:, 0], new_frame[:, 1], c=\"red\")\n",
        "    plt.title(f\"translation: ({self.tx:.3f}, {self.ty:.3f})\\nrotation: {self.angle:.3f},\\n shear: ({self.shx:.3f}, {self.shy:.3f})\\n scaling: ({self.scale_x:.3f}, {self.scale_y:.3f})\")\n",
        "    plt.scatter(original_frame[:, 0], original_frame[:, 1], c=\"blue\", label=\"original_data\")\n",
        "    plt.scatter(new_frame[:, 0], new_frame[:, 1], c=\"red\", label=\"new data\")\n",
        "    plt.scatter(0, 0, c=\"black\")\n",
        "    plt.annotate(\"origin\", (0,0))\n",
        "    plt.arrow(0, 0, original_frame[0][0], original_frame[0][1], length_includes_head=True, color=\"blue\", head_width=0.03)\n",
        "    plt.arrow(0, 0, new_frame[0][0], new_frame[0][1], length_includes_head=True, color=\"red\", head_width=0.03)\n",
        "    plt.axhline(y=0, color=\"black\")\n",
        "    plt.axvline(x=0, color=\"black\")\n",
        "    plt.legend()\n",
        "    #plt.gca().set_aspect('equal', adjustable='box')\n",
        "    plt.xlim([min(np.amin(original_frame[:, 0]), np.amin(new_frame[:, 0]))-1, max(np.amax(original_frame[:, 0]), np.amax(new_frame[:, 0]))+1])\n",
        "    plt.ylim([min(np.amin(original_frame[:, 1]), np.amin(new_frame[:, 1]))-1, max(np.amax(original_frame[:, 1]), np.amax(new_frame[:, 1]))+1])"
      ]
    },
    {
      "cell_type": "code",
      "execution_count": 49,
      "metadata": {
        "id": "w9tpdXHKSYCO"
      },
      "outputs": [],
      "source": [
        "data_aug = VectorTransformation(shear_x=0.2, reflection=False, center_data=True)\n",
        "new_frame = data_aug.transform(all_frames[0])\n",
        "# new_frame"
      ]
    },
    {
      "cell_type": "code",
      "execution_count": 50,
      "metadata": {
        "colab": {
          "base_uri": "https://localhost:8080/",
          "height": 515
        },
        "id": "nxqAWcH7S4kY",
        "outputId": "76b0b625-ff8f-48bb-b189-29c13e69590c"
      },
      "outputs": [
        {
          "data": {
            "image/png": "[encoded data removed]",
            "text/plain": [
              "<Figure size 640x480 with 1 Axes>"
            ]
          },
          "metadata": {},
          "output_type": "display_data"
        }
      ],
      "source": [
        "_, frame = change_origin(new_frame)\n",
        "data_aug.visualize_change(all_frames[0], frame)"
      ]
    },
    {
      "cell_type": "markdown",
      "metadata": {
        "id": "NLcuJcgtMk94"
      },
      "source": [
        "##random funcitons\n"
      ]
    },
    {
      "cell_type": "code",
      "execution_count": 51,
      "metadata": {
        "id": "D0KXbSMAO5BO"
      },
      "outputs": [],
      "source": [
        "@add_to_class(VectorTransformation)\n",
        "def set_random_variables(self):\n",
        "  if self.random:\n",
        "    self.tx = random.uniform(0, self.tx_max)\n",
        "    self.ty = random.uniform(0, self.ty_max)\n",
        "    self.angle = random.uniform(0, self.angle_max)\n",
        "    self.shx = random.uniform(0, self.shx_max)\n",
        "    self.shy = random.uniform(0, self.shy_max)\n",
        "    self.scale_x= random.uniform(0, self.scale_x_max)\n",
        "    self.scale_y = random.uniform(0, self.scale_y_max)"
      ]
    },
    {
      "cell_type": "code",
      "execution_count": 52,
      "metadata": {
        "id": "l38VgZ6iMqFg"
      },
      "outputs": [],
      "source": [
        "import random \n",
        "\n",
        "@add_to_class(VectorTransformation)\n",
        "def random_translation_matrix(self):\n",
        "    return np.array([[1, 0, random.uniform(0, self.tx)],\n",
        "                         [0, 1, self.ty],\n",
        "                         [0, 0, 1]])\n",
        "\n",
        "@add_to_class(VectorTransformation)\n",
        "def random_rotation_matrix(self):\n",
        "    return np.array([[cos(random.uniform(0, self.angle)), -sin(random.uniform(0,self.angle)), 0], \n",
        "                    [sin(random.uniform(0, self.angle)), cos(random.uniform(0, self.angle)), 0],\n",
        "                    [0, 0, 1]])\n",
        "  \n",
        "@add_to_class(VectorTransformation)\n",
        "def random_shearx_matrix(self):\n",
        "    return np.array([[1, random.uniform(0, self.shx), 0],\n",
        "                     [0, 1, 0], \n",
        "                     [0, 0, 1]])\n",
        "    \n",
        "@add_to_class(VectorTransformation)\n",
        "def random_sheary_matrix(self):\n",
        "  return np.array([[1, 0, 0],\n",
        "                  [random.uniform(0, self.shy), 1, 0],\n",
        "                  [0, 0, 1]])\n",
        "    \n",
        "@add_to_class(VectorTransformation)\n",
        "def random_scaling_matrix(self):\n",
        "  return np.array([[random.uniform(1, self.scale_x), 0, 0],\n",
        "                  [0, random.uniform(1, self.scale_y), 0], \n",
        "                  [0, 0, 1]])"
      ]
    },
    {
      "cell_type": "code",
      "execution_count": 53,
      "metadata": {
        "id": "zlUbHPAvOEQs"
      },
      "outputs": [],
      "source": [
        "@add_to_class(VectorTransformation)\n",
        "def random_transform(self, frame):\n",
        "    new_frame = np.copy(frame[:, :2])\n",
        "    # new_frame = new_frame.reshape((1, 3))\n",
        "    new_frame[:, 2] = 1\n",
        "\n",
        "    #centering\n",
        "    if self.center:\n",
        "      new_frame = self.change_origin(frame)\n",
        "\n",
        "    for i in range(len(new_frame)):\n",
        "        new_frame[i][:3] = np.matmul(self.reflection_matrix(), new_frame[i][:3])\n",
        "        new_frame[i][:3] = np.matmul(self.random_translation_matrix(), new_frame[i][:3])\n",
        "        new_frame[i][:3] = np.matmul(self.random_rotation_matrix(), new_frame[i][:3])\n",
        "        new_frame[i][:3] = np.matmul(self.random_shearx_matrix(), new_frame[i][:3])\n",
        "        new_frame[i][:3] = np.matmul(self.random_sheary_matrix(), new_frame[i][:3])\n",
        "        new_frame[i][:3] = np.matmul(self.random_scaling_matrix(), new_frame[i][:3])\n",
        "\n",
        "    new_frame[:, 2] = frame[:, 2]\n",
        "        \n",
        "    return new_frame"
      ]
    },
    {
      "cell_type": "code",
      "execution_count": 54,
      "metadata": {
        "id": "tIZpcYsnRSa0"
      },
      "outputs": [],
      "source": [
        "@add_to_class(VectorTransformation)\n",
        "def get_new_data(self, frames: list([]), ratio, random=True):\n",
        "  new_data = []\n",
        "  # new_labels = []\n",
        "  for j in range(ratio):\n",
        "    new_video = []\n",
        "    self.set_random_variables()\n",
        "    for i in range(len(frames)):\n",
        "      new_video.append(self.transform(frames[i]))\n",
        "        # new_labels.append(labels[i])\n",
        "    new_data.append(new_video)\n",
        "\n",
        "\n",
        "  # return new_data, new_labels\n",
        "  return new_data"
      ]
    },
    {
      "cell_type": "markdown",
      "metadata": {
        "id": "z8ktN1HmRDov"
      },
      "source": [
        "##generating data"
      ]
    },
    {
      "cell_type": "code",
      "execution_count": 55,
      "metadata": {
        "colab": {
          "base_uri": "https://localhost:8080/"
        },
        "id": "nZbZNLDcRG3N",
        "outputId": "16163888-08f5-472d-dec0-adc349334c15"
      },
      "outputs": [
        {
          "data": {
            "text/plain": [
              "(4, 74, 75, 4)"
            ]
          },
          "execution_count": 55,
          "metadata": {},
          "output_type": "execute_result"
        }
      ],
      "source": [
        "data_augmentation = VectorTransformation(translation_x=0.1, translation_y=0.1, shear_x=0.1, shear_y=0.1, reflection=False,\n",
        "                                         rotation_angle=20, center_data=False, random=True)\n",
        "\n",
        "new_data = data_augmentation.get_new_data(all_frames, 4)\n",
        "new_data = np.array(list(new_data))\n",
        "new_data.shape"
      ]
    },
    {
      "cell_type": "code",
      "execution_count": 56,
      "metadata": {
        "colab": {
          "base_uri": "https://localhost:8080/"
        },
        "id": "7K7mQk-ZIa1m",
        "outputId": "039eefaa-9592-475e-db18-7bbe7544c45a"
      },
      "outputs": [
        {
          "name": "stdout",
          "output_type": "stream",
          "text": [
            "[ 0.47979188  0.26481342 -0.13737114  0.99985009] [ 0.48690394  0.39439455 -0.13737114  0.99985009]\n"
          ]
        },
        {
          "data": {
            "text/plain": [
              "(array([ 0.44027525,  0.25504592, -0.38332391,  0.9986214 ]),\n",
              " array([ 0.44872097,  0.37730488, -0.38332391,  0.9986214 ]))"
            ]
          },
          "execution_count": 56,
          "metadata": {},
          "output_type": "execute_result"
        }
      ],
      "source": [
        "print(all_frames[50][0], new_data[0][50][0])\n",
        "all_frames[10][0], new_data[0][10][0]"
      ]
    },
    {
      "cell_type": "code",
      "execution_count": 57,
      "metadata": {
        "colab": {
          "base_uri": "https://localhost:8080/",
          "height": 515
        },
        "id": "_7C48d4wHUZm",
        "outputId": "069b2e4e-7e95-4495-9dcc-60a7ae1b6093"
      },
      "outputs": [
        {
          "data": {
            "image/png": "[encoded data removed]",
            "text/plain": [
              "<Figure size 640x480 with 1 Axes>"
            ]
          },
          "metadata": {},
          "output_type": "display_data"
        }
      ],
      "source": [
        "data_augmentation.visualize_change(all_frames[50], new_data[0][50])"
      ]
    },
    {
      "cell_type": "code",
      "execution_count": null,
      "metadata": {
        "id": "4L8GlJnDLBnl"
      },
      "outputs": [],
      "source": [
        "# Evaluate which values are good for each transformation\n",
        "# Maybe use Unsupervised learning and cluster the augmented data with the original data as centroids\n"
      ]
    },
    {
      "cell_type": "markdown",
      "metadata": {
        "id": "5Ls4Oa2fLg3s"
      },
      "source": [
        "##Visualization on shapes"
      ]
    },
    {
      "cell_type": "code",
      "execution_count": 58,
      "metadata": {
        "colab": {
          "base_uri": "https://localhost:8080/",
          "height": 453
        },
        "id": "fZbVPrcSLjd2",
        "outputId": "09d55d6a-c17a-4312-ed4a-f3d6137c7816"
      },
      "outputs": [
        {
          "data": {
            "text/plain": [
              "<matplotlib.lines.Line2D at 0x169b23fd0>"
            ]
          },
          "execution_count": 58,
          "metadata": {},
          "output_type": "execute_result"
        },
        {
          "data": {
            "image/png": "[encoded data removed]",
            "text/plain": [
              "<Figure size 640x480 with 1 Axes>"
            ]
          },
          "metadata": {},
          "output_type": "display_data"
        }
      ],
      "source": [
        "square = np.array([[0, 0, 1], [1, 0, 1], [1, 1, 1], [0, 1, 1], [0, 0, 1]], dtype=np.float32)\n",
        "plt.plot(square[:, 0], square[:, 1])\n",
        "plt.scatter(square[:, 0], square[:, 1])\n",
        "plt.xlim([-0.5, 1.5])\n",
        "plt.ylim([-0.5, 1.5])\n",
        "plt.axhline(y=0, color=\"black\")\n",
        "plt.axvline(x=0, color=\"black\")"
      ]
    },
    {
      "cell_type": "code",
      "execution_count": 59,
      "metadata": {
        "colab": {
          "base_uri": "https://localhost:8080/"
        },
        "id": "HpRq9zokOPvu",
        "outputId": "9a4b8985-fe1c-44c5-f761-35d652adaa92"
      },
      "outputs": [
        {
          "data": {
            "text/plain": [
              "array([[1., 0., 1.],\n",
              "       [2., 0., 1.],\n",
              "       [2., 1., 1.],\n",
              "       [1., 1., 1.],\n",
              "       [1., 0., 1.]], dtype=float32)"
            ]
          },
          "execution_count": 59,
          "metadata": {},
          "output_type": "execute_result"
        }
      ],
      "source": [
        "vt = VectorTransformation(translation_x=1, center_data=False, reflection=False)\n",
        "new_square = vt.transform(square)\n",
        "new_square"
      ]
    },
    {
      "cell_type": "code",
      "execution_count": 60,
      "metadata": {
        "colab": {
          "base_uri": "https://localhost:8080/",
          "height": 453
        },
        "id": "qIbSIonxPUDl",
        "outputId": "eb092e9e-c294-4666-a296-dac62763fd81"
      },
      "outputs": [
        {
          "data": {
            "text/plain": [
              "<matplotlib.lines.Line2D at 0x169b3eee0>"
            ]
          },
          "execution_count": 60,
          "metadata": {},
          "output_type": "execute_result"
        },
        {
          "data": {
            "image/png": "[encoded data removed]",
            "text/plain": [
              "<Figure size 640x480 with 1 Axes>"
            ]
          },
          "metadata": {},
          "output_type": "display_data"
        }
      ],
      "source": [
        "plt.plot(new_square[:, 0], new_square[:, 1])\n",
        "plt.xlim([-2, 3])\n",
        "plt.ylim([-2, 3])\n",
        "plt.axhline(y=0, color=\"black\")\n",
        "plt.axvline(x=0, color=\"black\")\n"
      ]
    },
    {
      "cell_type": "code",
      "execution_count": 61,
      "metadata": {
        "colab": {
          "base_uri": "https://localhost:8080/",
          "height": 515
        },
        "id": "1c15MlX4tHQu",
        "outputId": "3175b5e0-7f97-4b86-91a0-1f6bf4cc6c28"
      },
      "outputs": [
        {
          "data": {
            "image/png": "[encoded data removed]",
            "text/plain": [
              "<Figure size 640x480 with 1 Axes>"
            ]
          },
          "metadata": {},
          "output_type": "display_data"
        }
      ],
      "source": [
        "vt.visualize_change(square, new_square, plot=True)"
      ]
    },
    {
      "cell_type": "code",
      "execution_count": 62,
      "metadata": {
        "colab": {
          "base_uri": "https://localhost:8080/"
        },
        "id": "V39sgJJLvHCH",
        "outputId": "0e4c1483-28a3-4357-c197-068dc11f6467"
      },
      "outputs": [
        {
          "data": {
            "text/plain": [
              "array([[ 0.25, -0.25,  1.  ],\n",
              "       [ 1.25,  0.75,  1.  ],\n",
              "       [ 1.75,  2.25,  1.  ],\n",
              "       [ 0.75,  1.25,  1.  ]], dtype=float32)"
            ]
          },
          "execution_count": 62,
          "metadata": {},
          "output_type": "execute_result"
        }
      ],
      "source": [
        "vt.shx = 0.5\n",
        "vt.shy = 1\n",
        "vt.center = True\n",
        "square3 = vt.transform(square[:-1])\n",
        "square3"
      ]
    },
    {
      "cell_type": "code",
      "execution_count": 63,
      "metadata": {
        "colab": {
          "base_uri": "https://localhost:8080/",
          "height": 515
        },
        "id": "v1QZDTvQvwJE",
        "outputId": "5809f4fb-060a-4019-e7b8-30ef96c927e0"
      },
      "outputs": [
        {
          "data": {
            "image/png": "[encoded data removed]",
            "text/plain": [
              "<Figure size 640x480 with 1 Axes>"
            ]
          },
          "metadata": {},
          "output_type": "display_data"
        }
      ],
      "source": [
        "square3 = np.append(square3, [square3[0]]).reshape(square.shape)\n",
        "vt.visualize_change(square, square3, plot=True)"
      ]
    },
    {
      "cell_type": "code",
      "execution_count": 64,
      "metadata": {
        "colab": {
          "base_uri": "https://localhost:8080/"
        },
        "id": "HYVcURI4yB5A",
        "outputId": "9ddc27e0-ea9a-4ade-cdcd-717c809f8fa8"
      },
      "outputs": [
        {
          "data": {
            "text/plain": [
              "array([[-1.,  0.,  1.],\n",
              "       [ 1.,  0.,  1.],\n",
              "       [ 3.,  1.,  1.],\n",
              "       [-3.,  1.,  1.]], dtype=float32)"
            ]
          },
          "execution_count": 64,
          "metadata": {},
          "output_type": "execute_result"
        }
      ],
      "source": [
        "vt2 = VectorTransformation(shear_x = 2, center_data=False, reflection=False)\n",
        "\n",
        "r1 = np.array([[-1, 0, 1], [1, 0, 1], [1, 1, 1], [-1, 1, 1], [-1, 0, 1]], dtype=np.float32)\n",
        "\n",
        "r2 = vt2.transform(r1[:-1], change_shear_direction=True)\n",
        "r2 "
      ]
    },
    {
      "cell_type": "code",
      "execution_count": 65,
      "metadata": {
        "colab": {
          "base_uri": "https://localhost:8080/",
          "height": 515
        },
        "id": "9eD-iwO44O4z",
        "outputId": "b71c633c-4b81-43f5-c737-c4b2b894952b"
      },
      "outputs": [
        {
          "data": {
            "image/png": "[encoded data removed]",
            "text/plain": [
              "<Figure size 640x480 with 1 Axes>"
            ]
          },
          "metadata": {},
          "output_type": "display_data"
        }
      ],
      "source": [
        "r2 = np.append(r2, [r2[0]]).reshape(r1.shape)\n",
        "vt2.visualize_change(r1, r2, plot=True)"
      ]
    },
    {
      "cell_type": "code",
      "execution_count": 97,
      "metadata": {},
      "outputs": [
        {
          "data": {
            "text/plain": [
              "(3, 74, 75, 4)"
            ]
          },
          "execution_count": 97,
          "metadata": {},
          "output_type": "execute_result"
        }
      ],
      "source": [
        "data_augmentation = VectorTransformation(translation_x=0.1, translation_y=0.1, shear_x=0.1, shear_y=0.1, reflection=False,\n",
        "                                         rotation_angle=20, center_data=False, random=True)\n",
        "frame = df.iloc[0].to_numpy()\n",
        "frame = frame.reshape((75, 4))\n",
        "\n",
        "x = data_augmentation.get_new_data(frames=all_frames, ratio=3, random=True)\n",
        "x = np.array(x)\n",
        "x.shape"
      ]
    },
    {
      "cell_type": "code",
      "execution_count": 143,
      "metadata": {},
      "outputs": [
        {
          "data": {
            "text/plain": [
              "(45, 300)"
            ]
          },
          "execution_count": 143,
          "metadata": {},
          "output_type": "execute_result"
        }
      ],
      "source": [
        "data_augmentation = VectorTransformation(translation_x=0.1, translation_y=0.1, shear_x=0.1, shear_y=0.1, reflection=False,\n",
        "                                         rotation_angle=20, center_data=False, random=True)\n",
        "frame = df.iloc[0].to_numpy()\n",
        "frame = frame.reshape((75, 4))\n",
        "\n",
        "x = data_augmentation.get_new_data(frames=all_frames, ratio=3, random=True)\n",
        "x = np.array(x)\n",
        "all_frames.shape\n",
        "\n",
        "x[0].reshape((-1, 300)).shape\n"
      ]
    },
    {
      "cell_type": "code",
      "execution_count": 156,
      "metadata": {},
      "outputs": [
        {
          "name": "stdout",
          "output_type": "stream",
          "text": [
            "(45, 300)\n",
            "(61, 300)\n",
            "(102, 300)\n",
            "(91, 300)\n",
            "(71, 300)\n",
            "(120, 300)\n",
            "(72, 300)\n",
            "(77, 300)\n",
            "(172, 300)\n",
            "(81, 300)\n",
            "(51, 300)\n",
            "(62, 300)\n",
            "(81, 300)\n",
            "(120, 300)\n",
            "(71, 300)\n",
            "(91, 300)\n",
            "(82, 300)\n",
            "(95, 300)\n",
            "(141, 300)\n",
            "(78, 300)\n",
            "(79, 300)\n",
            "(93, 300)\n",
            "(141, 300)\n",
            "(71, 300)\n",
            "(79, 300)\n",
            "(75, 300)\n",
            "(88, 300)\n",
            "(70, 300)\n",
            "(101, 300)\n",
            "(98, 300)\n",
            "(123, 300)\n",
            "(46, 300)\n",
            "(81, 300)\n",
            "(149, 300)\n",
            "(97, 300)\n",
            "(70, 300)\n",
            "(131, 300)\n",
            "(74, 300)\n",
            "(111, 300)\n",
            "(131, 300)\n",
            "(63, 300)\n",
            "(81, 300)\n",
            "(148, 300)\n",
            "(75, 300)\n",
            "(62, 300)\n",
            "(57, 300)\n",
            "(91, 300)\n",
            "(107, 300)\n",
            "(65, 300)\n",
            "(50, 300)\n",
            "(90, 300)\n",
            "(131, 300)\n",
            "(85, 300)\n",
            "(125, 300)\n",
            "(39, 300)\n",
            "(68, 300)\n",
            "(61, 300)\n",
            "(74, 300)\n",
            "(75, 300)\n",
            "(121, 300)\n",
            "(91, 300)\n",
            "(81, 300)\n",
            "(90, 300)\n",
            "(68, 300)\n",
            "(88, 300)\n",
            "(81, 300)\n",
            "(69, 300)\n",
            "(103, 300)\n",
            "(159, 300)\n",
            "(200, 300)\n",
            "(80, 300)\n",
            "(131, 300)\n",
            "(76, 300)\n",
            "(51, 300)\n",
            "(22, 300)\n",
            "(66, 300)\n",
            "(62, 300)\n",
            "(164, 300)\n",
            "(54, 300)\n",
            "(118, 300)\n",
            "(133, 300)\n",
            "(90, 300)\n",
            "(53, 300)\n",
            "(154, 300)\n",
            "(189, 300)\n",
            "(91, 300)\n",
            "(129, 300)\n",
            "(133, 300)\n",
            "(116, 300)\n",
            "(48, 300)\n",
            "(92, 300)\n",
            "(101, 300)\n",
            "(83, 300)\n",
            "(111, 300)\n",
            "(132, 300)\n",
            "(71, 300)\n",
            "(149, 300)\n",
            "(211, 300)\n",
            "(61, 300)\n",
            "(131, 300)\n",
            "(63, 300)\n",
            "(133, 300)\n",
            "(115, 300)\n",
            "(191, 300)\n",
            "(85, 300)\n",
            "(189, 300)\n",
            "(125, 300)\n",
            "(112, 300)\n",
            "(74, 300)\n",
            "(106, 300)\n",
            "(61, 300)\n",
            "(46, 300)\n",
            "(101, 300)\n",
            "(68, 300)\n",
            "(62, 300)\n",
            "(71, 300)\n",
            "(143, 300)\n",
            "(111, 300)\n",
            "(56, 300)\n",
            "(61, 300)\n",
            "(28, 300)\n",
            "(57, 300)\n",
            "(134, 300)\n",
            "(58, 300)\n",
            "(119, 300)\n",
            "(91, 300)\n",
            "(167, 300)\n",
            "(112, 300)\n",
            "(75, 300)\n",
            "(89, 300)\n",
            "(70, 300)\n",
            "(83, 300)\n",
            "(149, 300)\n",
            "(52, 300)\n",
            "(71, 300)\n",
            "(47, 300)\n",
            "(149, 300)\n",
            "(126, 300)\n",
            "(51, 300)\n",
            "(73, 300)\n",
            "(76, 300)\n",
            "(54, 300)\n",
            "(67, 300)\n"
          ]
        }
      ],
      "source": [
        "path_4_labels = \"/Users/aly/Documents/Programming/Apps/Machine Learning/ASL Converter/data_augmentation/data_4_labels_augmentation\"\n",
        "data_augmentation = VectorTransformation(translation_x=0.1, translation_y=0.1, shear_x=0.1, shear_y=0.1, reflection=False,\n",
        "                                         rotation_angle=20, center_data=False, random=True)\n",
        "num_coords = 21 + 21 + 33\n",
        "headerList = []\n",
        "for val in range(1, num_coords+1):\n",
        "    headerList += ['x{}'.format(val), 'y{}'.format(val), 'z{}'.format(val), 'v{}'.format(val)]\n",
        "for folder in os.listdir(path_4_labels):\n",
        "    if folder != \".DS_Store\":\n",
        "        files = os.listdir(os.path.join(path_4_labels, folder))\n",
        "        for file in files:\n",
        "            if file != \".DS_Store\":\n",
        "                file_path = (os.path.join(path_4_labels, folder, file))\n",
        "                df = df.drop(\"class\", axis=1)\n",
        "                all_frames = df.to_numpy()\n",
        "                print(all_frames.shape)\n",
        "                all_frames = all_frames.reshape((len(df), 75, 4))\n",
        "                new_frames = np.array(data_augmentation.get_new_data(frames=all_frames, ratio=3, random=True))\n",
        "                for i in range(len(new_frames)):\n",
        "                     # Rename the file\n",
        "                    name = file + \"_AUGMENTED_\" + str(i) + \".csv\"\n",
        "                    video = new_frames[i].reshape((-1, 300))\n",
        "                    pd.DataFrame(video).to_csv(os.path.join(path_4_labels, folder, name), header=headerList, index=False)\n",
        "\n",
        "               \n",
        "                "
      ]
    },
    {
      "cell_type": "code",
      "execution_count": null,
      "metadata": {},
      "outputs": [],
      "source": [
        "data_augmentation = VectorTransformation(translation_x=0.1, translation_y=0.1, shear_x=0.1, shear_y=0.1, reflection=False,\n",
        "                                         rotation_angle=20, center_data=False, random=True)\n",
        "frame = df.iloc[0].to_numpy()\n",
        "frame = frame.reshape((75, 4))\n",
        "\n",
        "x = data_augmentation.get_new_data(frames=all_frames, ratio=3, random=True)\n",
        "x = np.array(x)\n",
        "x.shape\n"
      ]
    },
    {
      "cell_type": "code",
      "execution_count": null,
      "metadata": {},
      "outputs": [],
      "source": [
        "def apply_transformation(file_path, vectorObject, name):\n",
        "    df = pd.read_csv(file_path)\n",
        "    df = df.drop(\"class\", axis=1)\n",
        "    all_frames = df.to_numpy()\n",
        "    print(all_frames.shape)\n",
        "    all_frames = all_frames.reshape((len(df), 75, 4))\n",
        "    new_frames = np.array(data_augmentation.get_new_data(frames=all_frames, ratio=3, random=True))\n",
        "    for i in range(len(new_frames)):\n",
        "          # Rename the file\n",
        "        name = file + \"_AUGMENTED_\" + str(i) + \".csv\"\n",
        "        video = new_frames[i].reshape((-1, 300))\n",
        "        pd.DataFrame(video).to_csv(os.path.join(path_4_labels, folder, name), header=headerList, index=False)\n",
        "    return new_file\n",
        "\n",
        "def translation_matrix(self):\n",
        "    return np.array([[1, 0, self.tx],\n",
        "                    [0, 1, self.ty],\n",
        "                    [0, 0, 1]])\n",
        "\n",
        "  def rotation_matrix(self):\n",
        "    return np.array([[cos(self.angle), -sin(self.angle), 0], \n",
        "                       [sin(self.angle), cos(self.angle), 0],\n",
        "                       [0, 0, 1]])\n",
        "\n",
        "  def shearx_matrix(self, sign=0):\n",
        "    return np.array([[1, ((-1)**sign)*self.shx, 0],\n",
        "                     [0, 1, 0], \n",
        "                     [0, 0, 1]])\n",
        "    \n",
        "  def sheary_matrix(self, sign=0):\n",
        "    return np.array([[1, 0, 0],\n",
        "                     [((-1)**sign)*self.shy, 1, 0],\n",
        "                     [0, 0, 1]])\n",
        "    \n",
        "  def scaling_matrix(self):\n",
        "    return np.array([[1+self.scale_x, 0, 0],\n",
        "                     [0, 1+self.scale_y, 0], \n",
        "                     [0, 0, 1]])\n",
        "    \n",
        "  def reflection_matrix(self):\n",
        "    return np.array([[(-1)**(int(self.reflect)), 0, 0],\n",
        "                     [0, 1, 0], \n",
        "                     [0, 0, 1]])"
      ]
    },
    {
      "cell_type": "code",
      "execution_count": null,
      "metadata": {},
      "outputs": [],
      "source": []
    }
  ],
  "metadata": {
    "colab": {
      "provenance": []
    },
    "kernelspec": {
      "display_name": "asl-converter",
      "language": "python",
      "name": "python3"
    },
    "language_info": {
      "codemirror_mode": {
        "name": "ipython",
        "version": 3
      },
      "file_extension": ".py",
      "mimetype": "text/x-python",
      "name": "python",
      "nbconvert_exporter": "python",
      "pygments_lexer": "ipython3",
      "version": "3.8.16"
    },
    "orig_nbformat": 4
  },
  "nbformat": 4,
  "nbformat_minor": 0
}
