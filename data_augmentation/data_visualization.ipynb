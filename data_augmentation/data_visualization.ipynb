{
 "cells": [
  {
   "cell_type": "code",
   "execution_count": null,
   "metadata": {},
   "outputs": [],
   "source": [
    "import pandas as pd\n",
    "from datetime import datetime\n",
    "import csv\n",
    "import matplotlib.pyplot as plt\n",
    "import matplotlib.dates as mdates\n",
    "%matplotlib inline\n",
    "import matplotlib.pyplot as plt\n",
    "import matplotlib.image as mpimg\n",
    "import statistics\n"
   ]
  },
  {
   "cell_type": "code",
   "execution_count": null,
   "metadata": {},
   "outputs": [],
   "source": [
    "#loading the data\n",
    "\n",
    "def load_data(file_name):\n",
    "    df = pd.read_csv(file_name)\n",
    "    df.head()\n",
    "\n",
    "    x = []\n",
    "    y = []\n",
    "    z = []\n",
    "    v = []\n",
    "\n",
    "    #iterate through every row\n",
    "    for row in range(len(df.index)):\n",
    "        #iterate through every column\n",
    "        for col in df:\n",
    "            if(col[0]=='x'):\n",
    "                #*i am putting it into floats, the values remain with decimals\n",
    "                #!error!, by x.append(df[i]), i am appending the WHOLE column to the list.\n",
    "                    #i just want the first element\n",
    "                x.append(df[col].iloc[row])\n",
    "            \n",
    "            if(col[0]=='y'):\n",
    "                y.append(df[col].iloc[row])\n",
    "            \n",
    "            if(col[0] == 'z'):\n",
    "                z.append(df[col].iloc[row])\n",
    "                \n",
    "            if(col[0]=='v'):\n",
    "                v.append((df[col].iloc[row]))\n",
    "\n",
    "    # print(x)\n",
    "    # print(y)\n",
    "    # print(z)\n",
    "    #transform the pandas series into python list\n",
    "    return [x,y,z,v]\n",
    "\n",
    "x = load_data(\"init_demo.csv\")[0]\n",
    "# print(x)\n",
    "type(x)\n",
    "\n",
    "print(x)\n",
    "print(y)"
   ]
  },
  {
   "cell_type": "code",
   "execution_count": null,
   "metadata": {},
   "outputs": [],
   "source": [
    "# Plotting\n",
    "def scatter_3d(x, y, z):\n",
    "    fig = plt.figure()\n",
    "    ax = fig.add_subplot(111, projection='3d')\n",
    "    ax.scatter(x,y, z)\n",
    "    plt.show()\n"
   ]
  },
  {
   "cell_type": "code",
   "execution_count": null,
   "metadata": {},
   "outputs": [],
   "source": [
    "#plotting x and y\n",
    "def scatter_2d(x,y, title = \"random title\"):\n",
    "    plt.scatter(x, y)\n",
    "    plt.xlabel('X-axis')\n",
    "    plt.ylabel('Y-axis')\n",
    "    plt.title(title)\n",
    "    plt.show()"
   ]
  },
  {
   "cell_type": "code",
   "execution_count": null,
   "metadata": {},
   "outputs": [],
   "source": [
    "def remove_values_from_list(the_list, val):\n",
    "  return [value for value in the_list if value != val]\n",
    "\n",
    "#!don't use the average. use the median! (since there are weird points)\n",
    "\n",
    "def find_center(new_x):\n",
    "    #find the median in a list\n",
    "    final_x = remove_values_from_list(new_x, 0)\n",
    "\n",
    "  \n",
    "  #~ error: sort will sort the entire data, outside of the scope, while sorted() will only sort within the function\n",
    "    # sort(x)\n",
    "    # vs \n",
    "    # x.sorted()\n",
    "    sorted(final_x)\n",
    "\n",
    "\n",
    "    # print(\"final_x is \",final_x)\n",
    "    # return final_x[int(len(final_x)/2)]\n",
    "    # print(statistics.median (final_x))\n",
    "    return statistics.mean(final_x)\n",
    "\n",
    "# file_name = \"init_demo.csv\"\n",
    "# x = load_data(file_name)[0]\n",
    "# print(\"HI\")\n",
    "# print(\"HI\", find_center(x))\n"
   ]
  },
  {
   "cell_type": "code",
   "execution_count": null,
   "metadata": {},
   "outputs": [],
   "source": [
    "file_name = 'init_demo.csv'\n",
    "\n",
    "#running:\n",
    "x = load_data(file_name)[0]\n",
    "y = load_data(file_name)[1]\n",
    "z = load_data(file_name)[2]\n",
    "\n",
    "#!initial \n",
    "scatter_2d(x,y)\n",
    "scatter_3d(x,y,z)\n",
    "\n",
    "# #!transformed\n",
    "# file_name = 'final_demo.csv'\n",
    "# scatter_2d(file_name)\n",
    "# scatter_3d(file_name)"
   ]
  },
  {
   "cell_type": "code",
   "execution_count": null,
   "metadata": {},
   "outputs": [],
   "source": [
    "# #running:\n",
    "# file_name_transformed = '3m1X5NYCA_I238_translation.csv'\n",
    "# x = load_data(file_name_transformed)[0]\n",
    "# y = load_data(file_name_transformed)[1]\n",
    "# z = load_data(file_name_transformed)[2]\n",
    "\n",
    "# #!initial \n",
    "# scatter_2d(x,y)\n",
    "# scatter_3d(x,y,z)"
   ]
  }
 ],
 "metadata": {
  "kernelspec": {
   "display_name": "ml_env",
   "language": "python",
   "name": "python3"
  },
  "language_info": {
   "codemirror_mode": {
    "name": "ipython",
    "version": 3
   },
   "file_extension": ".py",
   "mimetype": "text/x-python",
   "name": "python",
   "nbconvert_exporter": "python",
   "pygments_lexer": "ipython3",
   "version": "3.8.16"
  },
  "orig_nbformat": 4
 },
 "nbformat": 4,
 "nbformat_minor": 2
}
