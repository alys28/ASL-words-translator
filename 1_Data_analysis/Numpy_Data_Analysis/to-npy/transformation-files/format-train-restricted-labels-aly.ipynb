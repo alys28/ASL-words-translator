{
 "cells": [
  {
   "attachments": {},
   "cell_type": "markdown",
   "metadata": {},
   "source": [
    "\n",
    "\n",
    "    ~copy the initial database, DON\"T MODIFY DIRECTLY.\n",
    "    *Delete videos that are not available.\n",
    "\n",
    "\n",
    "    *Process videos by cropping them based on the timestamps and rename in the the following format\n",
    "        ~Label-videoID-1\n",
    "        if there are more than 1 videos, \n",
    "        Label-videoID-2, 3, etc;\n",
    "\n",
    "\n",
    "    *Crop the width and the height of the videos based of the box coordinates provided in the dataset.\n",
    "\n",
    "\n",
    "\n"
   ]
  },
  {
   "cell_type": "code",
<<<<<<< HEAD
   "execution_count": 33,
=======
   "execution_count": 11,
>>>>>>> 8c56df2ed86b793d3713210d7380a6f098f5a0de
   "metadata": {},
   "outputs": [],
   "source": [
    "import cv2\n",
    "import numpy as np\n",
    "from numpy import asarray\n",
    "import pandas as pd\n",
    "from PIL import Image\n",
    "import os\n",
    "import math"
   ]
  },
  {
   "attachments": {},
   "cell_type": "markdown",
   "metadata": {},
   "source": [
    "Here is the format of the videos  I am treating\n",
    "{\"org_text\": \"emotional\", \"clean_text\": \"emotional\", \"start_time\": 0.0, \"signer_id\": 20, \"signer\": 40, \"start\": 0, \"end\": 30, \"file\": \"SignSchool Emotional\", \"label\": 907, \"height\": 360.0, \"fps\": 23.976, \"end_time\": 1.251, \"url\": \"www.youtube.com/watch?v=C59jcSo4fEI\", \"text\": \"emotional\", \"box\": [0.059554219245910645, 0.2810196578502655, 1.0, 0.8543376922607422], \"width\": 640.0},\n",
    "\n",
    "{<given-word>, <start time> <>}"
   ]
  },
  {
   "attachments": {},
   "cell_type": "markdown",
   "metadata": {},
   "source": [
    "importing the data\n"
   ]
  },
  {
   "cell_type": "code",
<<<<<<< HEAD
   "execution_count": null,
=======
   "execution_count": 12,
>>>>>>> 8c56df2ed86b793d3713210d7380a6f098f5a0de
   "metadata": {},
   "outputs": [],
   "source": [
    "# test_df = pd.read_json(\"Datasets/MS-ASL/MS-ASL-with-new-labels/NEW-MSASL-train-file.json\")"
   ]
  },
  {
   "attachments": {},
   "cell_type": "markdown",
   "metadata": {},
   "source": [
    "changing videos to numpy array (function):"
   ]
  },
  {
   "attachments": {},
   "cell_type": "markdown",
   "metadata": {},
   "source": [
    "https://github.com/dxli94/WLASL/blob/master/code/I3D/datasets/nslt_dataset.py"
   ]
  },
  {
   "cell_type": "code",
<<<<<<< HEAD
   "execution_count": 34,
=======
   "execution_count": 13,
>>>>>>> 8c56df2ed86b793d3713210d7380a6f098f5a0de
   "metadata": {},
   "outputs": [],
   "source": [
    "# changing an image into an array\n",
    "def change_img(image_name):\n",
    "    img = Image.open(f\"{image_name}\")\n",
    " \n",
    "    # asarray() class is used to convert\n",
    "    # PIL images into NumPy arrays\n",
    "    numpydata = asarray(img)\n",
    "    \n",
    "    # <class 'numpy.ndarray'>\n",
    "    print(type(numpydata))\n",
    "    \n",
    "    #  shape\n",
    "    print(numpydata.shape)\n",
    "\n",
    "\n",
    "# change_img(\"test_frames/frame_330.jpg\")"
   ]
  },
  {
   "attachments": {},
   "cell_type": "markdown",
   "metadata": {},
   "source": [
    "cutting the videos\n"
   ]
  },
  {
   "attachments": {},
   "cell_type": "markdown",
   "metadata": {},
   "source": [
    "splitting the videos into frames.\n",
    "\n",
    "https://techtutorialsx.com/2021/04/29/python-opencv-splitting-video-frames/"
   ]
  },
  {
   "cell_type": "code",
<<<<<<< HEAD
   "execution_count": null,
=======
   "execution_count": 14,
>>>>>>> 8c56df2ed86b793d3713210d7380a6f098f5a0de
   "metadata": {},
   "outputs": [],
   "source": [
    "# def load_rgb_frames_from_video(vid_root, vid, start, num, resize=(256, 256)):\n",
    "#     video_path = os.path.join(vid_root, vid + '.mp4')\n",
    "\n",
    "#     vidcap = cv2.VideoCapture(video_path)\n",
    "\n",
    "#     frames = []\n",
    "\n",
    "#     total_frames = vidcap.get(cv2.CAP_PROP_FRAME_COUNT)\n",
    "\n",
    "#     vidcap.set(cv2.CAP_PROP_POS_FRAMES, start)\n",
    "#     for offset in range(min(num, int(total_frames - start))):\n",
    "#         success, img = vidcap.read()\n",
    "\n",
    "#         w, h, c = img.shape\n",
    "#         if w < 226 or h < 226:\n",
    "#             d = 226. - min(w, h)\n",
    "#             sc = 1 + d / min(w, h)\n",
    "#             img = cv2.resize(img, dsize=(0, 0), fx=sc, fy=sc)\n",
    "\n",
    "#         if w > 256 or h > 256:\n",
    "#             img = cv2.resize(img, (math.ceil(w * (256 / w)), math.ceil(h * (256 / h))))\n",
    "\n",
    "#         img = (img / 255.) * 2 - 1\n",
    "\n",
    "#         frames.append(img)\n",
    "\n",
    "#     return np.asarray(frames, dtype=np.float32)\n",
    "\n",
    "# #num is the number of frames\n",
    "# li = load_rgb_frames_from_video(\"IMAGE_vision\", \"test-video.mp4\", 0, 60)\n",
    "# for i in li:\n",
    "#     print(i)\n",
    "#     print(\"hi\")\n",
    "#     type(li)"
   ]
  },
  {
   "cell_type": "code",
<<<<<<< HEAD
   "execution_count": null,
=======
   "execution_count": 15,
>>>>>>> 8c56df2ed86b793d3713210d7380a6f098f5a0de
   "metadata": {},
   "outputs": [],
   "source": [
    "# os.mkdir(f\"val_data/{video_path}\",mode=0o666)"
   ]
  },
  {
   "cell_type": "code",
<<<<<<< HEAD
   "execution_count": null,
   "metadata": {},
   "outputs": [],
   "source": []
  },
  {
   "cell_type": "code",
   "execution_count": 35,
=======
   "execution_count": 21,
>>>>>>> 8c56df2ed86b793d3713210d7380a6f098f5a0de
   "metadata": {},
   "outputs": [],
   "source": [
    "def get_image(video_url, video_path, start_time, end_time, fps):\n",
<<<<<<< HEAD
    "    capture = cv2.VideoCapture(f\"training_video_data/{video_url}.mp4\")\n",
=======
    "    capture = cv2.VideoCapture(f\"Datasets/training_video_data/training_video_data/{video_url}.mp4\")\n",
>>>>>>> 8c56df2ed86b793d3713210d7380a6f098f5a0de
    "\n",
    "\n",
    "    frameNr = 0\n",
    "    # fps=int(capture.get(cv2.CAP_PROP_FRAME_COUNTCAP))\n",
    "\n",
    "    #time in seconds\n",
    "    # start_time=start_time\n",
    "    # end_time=end_time\n",
    "\n",
    "    #size of the image\n",
    "    # frameWidth = int(capture.get(cv2.CAP_PROP_FRAME_WIDTH))\n",
    "    # frameHeight = int(capture.get(cv2.CAP_PROP_FRAME_HEIGHT))\n",
    "    # frameWidth = width\n",
    "    # frameHeight = height\n",
    "    \n",
    "    # frameCount = (end_time-start_time)\n",
    "\n",
    "    start_frame=start_time*fps\n",
    "    end_frame=end_time*fps\n",
    "\n",
    "    # buf = np.empty((frameCount, frameHeight, frameWidth, 3), np.dtype('uint8'))\n",
    "\n",
    "    frames=[]\n",
    "    while (True):\n",
    "        success, img = capture.read()\n",
    "        # print(frameNr)\n",
    "        if success and frameNr>start_frame and frameNr<end_frame:\n",
    "            if frameNr%3==0: \n",
    "                # #transform into numpy array\n",
    "                w, h, c = img.shape\n",
    "\n",
    "                if w < 226 or h < 226:\n",
    "                    d = 226. - min(w, h)\n",
    "                    sc = 1 + d / min(w, h)\n",
    "                    img = cv2.resize(img, dsize=(0, 0), fx=sc, fy=sc)\n",
    "\n",
    "                if w > 256 or h > 256:\n",
    "                    img = cv2.resize(img, (math.ceil(w * (256 / w)), math.ceil(h * (256 / h))))\n",
    "\n",
    "                img = (img / 255.) * 2 - 1\n",
    "\n",
    "                frames.append(img)\n",
    "\n",
    "                #this line used to write it into a folder\n",
    "                # cv2.imwrite(f'{video_url}/frame_{frameNr}.jpg', img)\n",
    "\n",
    "        #end of the video, or end of the portion of the video\n",
    "        if frameNr>end_frame:\n",
    "            break\n",
    "    \n",
    "        frameNr = frameNr+1\n",
    "\n",
    "    capture.release()\n",
    "\n",
    "\n",
    "    #return a numpy array.\n",
    "        #saves the video in label/url.npy\n",
    "    mode=0o666\n",
    "\n",
    "    \n",
    "    try:\n",
    "        #if file doesn't exist, create it   \n",
    "        if os.path.isdir(f\"train_data_restricted_labels/{video_path}\") == False:\n",
    "            os.mkdir(f\"train_data_restricted_labels/{video_path}\", mode)\n",
    "        np.save(f\"train_data_restricted_labels/{video_path}/{video_url}\", np.asarray(frames, dtype=np.float32), allow_pickle=True, fix_imports=True)\n",
    "    \n",
    "    except FileNotFoundError:\n",
    "        pass\n",
    "\n",
    "    return np.asarray(frames, dtype=np.float32)\n",
    "        \n",
    "\n",
    "\n",
    "\n",
    "#just give me the video path in here\n",
    "# get_image(\" ALY PUT THE VIDEO PATH, RUN SOME LOOP OR SOMETHING, and it should be fine.\", \"VIDEO URL (which will be the name of the folder)\", \"start_time\", \"endtime\")\n",
    "\n",
    "# get_image(\"alkfjdsl2\", \"test-video2\", 5, 30, 29.97)"
   ]
  },
  {
   "attachments": {},
   "cell_type": "markdown",
   "metadata": {},
   "source": [
    "creating the folders for the labels\n"
   ]
  },
  {
   "cell_type": "code",
<<<<<<< HEAD
   "execution_count": 23,
=======
   "execution_count": 17,
>>>>>>> 8c56df2ed86b793d3713210d7380a6f098f5a0de
   "metadata": {},
   "outputs": [
    {
     "data": {
      "text/html": [
       "<div>\n",
       "<style scoped>\n",
       "    .dataframe tbody tr th:only-of-type {\n",
       "        vertical-align: middle;\n",
       "    }\n",
       "\n",
       "    .dataframe tbody tr th {\n",
       "        vertical-align: top;\n",
       "    }\n",
       "\n",
       "    .dataframe thead th {\n",
       "        text-align: right;\n",
       "    }\n",
       "</style>\n",
       "<table border=\"1\" class=\"dataframe\">\n",
       "  <thead>\n",
       "    <tr style=\"text-align: right;\">\n",
       "      <th></th>\n",
       "      <th>org_text</th>\n",
       "      <th>clean_text</th>\n",
       "      <th>start_time</th>\n",
       "      <th>signer_id</th>\n",
       "      <th>signer</th>\n",
       "      <th>start</th>\n",
       "      <th>end</th>\n",
       "      <th>file</th>\n",
       "      <th>label</th>\n",
       "      <th>height</th>\n",
       "      <th>fps</th>\n",
       "      <th>end_time</th>\n",
       "      <th>url</th>\n",
       "      <th>text</th>\n",
       "      <th>box</th>\n",
       "      <th>width</th>\n",
       "      <th>review</th>\n",
       "      <th>available</th>\n",
       "    </tr>\n",
       "  </thead>\n",
       "  <tbody>\n",
       "    <tr>\n",
       "      <th>0</th>\n",
       "      <td>match [light-a-MATCH]</td>\n",
       "      <td>match</td>\n",
       "      <td>0.0</td>\n",
       "      <td>0</td>\n",
       "      <td>0</td>\n",
       "      <td>0</td>\n",
       "      <td>83</td>\n",
       "      <td>match light-a-MATCH</td>\n",
       "      <td>830</td>\n",
       "      <td>360</td>\n",
       "      <td>30.00</td>\n",
       "      <td>2.767</td>\n",
       "      <td>https://www.youtube.com/watch?v=C37R_Ix8-qs</td>\n",
       "      <td>match</td>\n",
       "      <td>[0.0575446188, 0.21637457610000002, 1, 0.73008...</td>\n",
       "      <td>640</td>\n",
       "      <td>NaN</td>\n",
       "      <td>True</td>\n",
       "    </tr>\n",
       "    <tr>\n",
       "      <th>1</th>\n",
       "      <td>FAIL</td>\n",
       "      <td>fail</td>\n",
       "      <td>0.0</td>\n",
       "      <td>0</td>\n",
       "      <td>-1</td>\n",
       "      <td>0</td>\n",
       "      <td>74</td>\n",
       "      <td>FAIL</td>\n",
       "      <td>542</td>\n",
       "      <td>360</td>\n",
       "      <td>25.00</td>\n",
       "      <td>2.960</td>\n",
       "      <td>https://www.youtube.com/watch?v=PIsUJl8BN_I</td>\n",
       "      <td>fail</td>\n",
       "      <td>[0.0657794178, 0.16717177630000002, 0.93926274...</td>\n",
       "      <td>480</td>\n",
       "      <td>NaN</td>\n",
       "      <td>True</td>\n",
       "    </tr>\n",
       "    <tr>\n",
       "      <th>2</th>\n",
       "      <td>laugh</td>\n",
       "      <td>laugh</td>\n",
       "      <td>0.0</td>\n",
       "      <td>4</td>\n",
       "      <td>26</td>\n",
       "      <td>0</td>\n",
       "      <td>31</td>\n",
       "      <td>SignSchool Laugh with Legs 2</td>\n",
       "      <td>312</td>\n",
       "      <td>360</td>\n",
       "      <td>29.97</td>\n",
       "      <td>1.034</td>\n",
       "      <td>www.youtube.com/watch?v=9FdHlMOnVjg</td>\n",
       "      <td>laugh</td>\n",
       "      <td>[0.13188594580000002, 0.32334136960000004, 1, ...</td>\n",
       "      <td>640</td>\n",
       "      <td>NaN</td>\n",
       "      <td>False</td>\n",
       "    </tr>\n",
       "    <tr>\n",
       "      <th>3</th>\n",
       "      <td>BOOK</td>\n",
       "      <td>book</td>\n",
       "      <td>0.0</td>\n",
       "      <td>0</td>\n",
       "      <td>-1</td>\n",
       "      <td>0</td>\n",
       "      <td>66</td>\n",
       "      <td>BOOK(3)</td>\n",
       "      <td>38</td>\n",
       "      <td>360</td>\n",
       "      <td>25.00</td>\n",
       "      <td>2.640</td>\n",
       "      <td>https://www.youtube.com/watch?v=J7tP98oDxqE</td>\n",
       "      <td>book</td>\n",
       "      <td>[0.055698871600000005, 0.2517327964, 0.9968159...</td>\n",
       "      <td>480</td>\n",
       "      <td>NaN</td>\n",
       "      <td>True</td>\n",
       "    </tr>\n",
       "    <tr>\n",
       "      <th>4</th>\n",
       "      <td>sign-language</td>\n",
       "      <td>sign language</td>\n",
       "      <td>0.0</td>\n",
       "      <td>0</td>\n",
       "      <td>-1</td>\n",
       "      <td>0</td>\n",
       "      <td>75</td>\n",
       "      <td>SIGN-LANGUAGE-S-CLAW-F</td>\n",
       "      <td>848</td>\n",
       "      <td>360</td>\n",
       "      <td>29.97</td>\n",
       "      <td>2.502</td>\n",
       "      <td>www.youtube.com/watch?v=N2mG9ZKjrGA</td>\n",
       "      <td>sign language</td>\n",
       "      <td>[0.0390439928, 0.2419818342, 1, 0.8586810827]</td>\n",
       "      <td>640</td>\n",
       "      <td>NaN</td>\n",
       "      <td>True</td>\n",
       "    </tr>\n",
       "  </tbody>\n",
       "</table>\n",
       "</div>"
      ],
      "text/plain": [
       "                org_text     clean_text  start_time  signer_id  signer  start  \\\n",
       "0  match [light-a-MATCH]          match         0.0          0       0      0   \n",
       "1                   FAIL           fail         0.0          0      -1      0   \n",
       "2                  laugh          laugh         0.0          4      26      0   \n",
       "3                   BOOK           book         0.0          0      -1      0   \n",
       "4          sign-language  sign language         0.0          0      -1      0   \n",
       "\n",
       "   end                          file  label  height    fps  end_time  \\\n",
       "0   83           match light-a-MATCH    830     360  30.00     2.767   \n",
       "1   74                          FAIL    542     360  25.00     2.960   \n",
       "2   31  SignSchool Laugh with Legs 2    312     360  29.97     1.034   \n",
       "3   66                       BOOK(3)     38     360  25.00     2.640   \n",
       "4   75        SIGN-LANGUAGE-S-CLAW-F    848     360  29.97     2.502   \n",
       "\n",
       "                                           url           text  \\\n",
       "0  https://www.youtube.com/watch?v=C37R_Ix8-qs          match   \n",
       "1  https://www.youtube.com/watch?v=PIsUJl8BN_I           fail   \n",
       "2          www.youtube.com/watch?v=9FdHlMOnVjg          laugh   \n",
       "3  https://www.youtube.com/watch?v=J7tP98oDxqE           book   \n",
       "4          www.youtube.com/watch?v=N2mG9ZKjrGA  sign language   \n",
       "\n",
       "                                                 box  width  review  available  \n",
       "0  [0.0575446188, 0.21637457610000002, 1, 0.73008...    640     NaN       True  \n",
       "1  [0.0657794178, 0.16717177630000002, 0.93926274...    480     NaN       True  \n",
       "2  [0.13188594580000002, 0.32334136960000004, 1, ...    640     NaN      False  \n",
       "3  [0.055698871600000005, 0.2517327964, 0.9968159...    480     NaN       True  \n",
       "4      [0.0390439928, 0.2419818342, 1, 0.8586810827]    640     NaN       True  "
      ]
     },
<<<<<<< HEAD
     "execution_count": 23,
=======
     "execution_count": 17,
>>>>>>> 8c56df2ed86b793d3713210d7380a6f098f5a0de
     "metadata": {},
     "output_type": "execute_result"
    }
   ],
   "source": [
<<<<<<< HEAD
    "test_df = pd.read_json('NEW-MSASL_train.json')\n",
=======
    "test_df = pd.read_json('Datasets/MS-ASL/MS-ASL-with-new-labels/NEW-MSASL_train.json')\n",
>>>>>>> 8c56df2ed86b793d3713210d7380a6f098f5a0de
    "test_df.head()"
   ]
  },
  {
   "cell_type": "code",
<<<<<<< HEAD
   "execution_count": 24,
=======
   "execution_count": 18,
>>>>>>> 8c56df2ed86b793d3713210d7380a6f098f5a0de
   "metadata": {},
   "outputs": [
    {
     "name": "stdout",
     "output_type": "stream",
     "text": [
      "hello hi\n",
      "hello h\n"
     ]
    }
   ],
   "source": [
    "hi=\"hello/hi\"\n",
    "str(hi)\n",
    "hi=hi.replace(\"/\", \" \")\n",
    "print(hi)\n",
    "hi=hi[:-1]\n",
    "print(hi)"
   ]
  },
  {
   "cell_type": "code",
<<<<<<< HEAD
   "execution_count": 36,
=======
   "execution_count": 19,
>>>>>>> 8c56df2ed86b793d3713210d7380a6f098f5a0de
   "metadata": {},
   "outputs": [],
   "source": [
    "labels_sets={'cheese',\n",
    " 'chicken',\n",
    " 'church',\n",
    " 'coffee',\n",
    " 'college',\n",
    " 'cook',\n",
    " 'daughter',\n",
    " 'dog',\n",
    " 'door',\n",
    " 'friendly',\n",
    " 'grandmother',\n",
    " 'home',\n",
    " 'hungry',\n",
    " 'milk',\n",
    " 'not know',\n",
    " 'shoes',\n",
    " 'thursday',\n",
    " 'time',\n",
    " 'tomorrow',\n",
    " 'uncle',\n",
    " 'vacation',\n",
    " 'woman',\n",
    " 'your'}"
   ]
  },
  {
   "cell_type": "code",
<<<<<<< HEAD
   "execution_count": 37,
=======
   "execution_count": 22,
>>>>>>> 8c56df2ed86b793d3713210d7380a6f098f5a0de
   "metadata": {},
   "outputs": [
    {
     "name": "stdout",
     "output_type": "stream",
     "text": [
      "80\n",
      "890\n",
      "910\n",
      "1000\n",
      "1120\n",
      "1750\n",
      "1870\n",
      "1880\n",
      "2170\n",
      "2220\n",
      "2940\n",
      "3400\n",
      "3480\n",
      "3700\n",
      "3860\n",
      "3940\n",
      "4750\n",
      "4930\n",
      "5030\n",
      "5080\n",
      "5350\n",
      "6180\n",
      "6500\n",
      "6920\n",
      "7170\n",
      "7940\n",
      "8230\n",
      "8240\n",
      "8270\n",
      "8350\n",
      "8390\n",
      "8540\n",
      "8740\n",
      "8840\n",
      "9060\n",
      "9100\n",
      "9200\n",
      "9300\n",
      "9430\n",
      "9560\n",
      "9910\n",
      "10090\n",
      "10300\n",
      "10520\n",
      "11030\n",
      "11040\n",
      "11150\n",
      "11220\n",
      "11610\n",
      "11750\n",
      "11800\n",
      "11940\n",
      "12130\n",
      "12190\n",
      "12230\n",
      "13570\n",
      "13810\n",
      "14090\n",
      "14470\n",
      "14500\n",
      "14670\n",
      "15290\n",
      "15310\n",
      "15760\n",
      "16020\n",
      "16030\n"
     ]
    }
   ],
   "source": [
    "for idx in range(0, len(test_df)-1):\n",
    "    #if the file is available:\n",
    "    if test_df.loc[idx, \"available\"]==False:\n",
    "        continue\n",
    "\n",
    "    clean_text=test_df.loc[idx, \"clean_text\"]\n",
    "    str(clean_text)\n",
    "    clean_text=clean_text.replace(\"/\", \" \")\n",
    "    if clean_text[-1]==\" \":\n",
    "        clean_text[:-1]\n",
    "\n",
    "    present=False\n",
    "    for i in labels_sets:\n",
    "        if i==clean_text:\n",
    "            present=True\n",
    "            break\n",
    "\n",
    "    if(present!=True):\n",
    "        continue\n",
    "\n",
    "    #file-name\n",
    "    file_name=test_df.loc[idx, \"url\"][-11:]#[24:]\n",
    "    # org_text=org_text.replace(\"/\", \" \")\n",
    "\n",
    "\n",
    "    start_time = test_df.loc[idx, \"start_time\"]\n",
    "\n",
    "    end_time=test_df.loc[idx, \"end_time\"]\n",
    "\n",
    "    fps=test_df.loc[idx, \"fps\"]\n",
    "    \n",
    "    #replacing all odd characters\n",
    "    \n",
    "\n",
    "    #if your, I am at \"start\" 2578, /25 for the idxth word\n",
    "    if idx%10==0:\n",
    "        print(idx)\n",
    "\n",
    "    #if file was already created:\n",
    "    if os.path.exists(f\"train_data_restricted_labels/{clean_text}/{file_name}.npy\") == True:\n",
    "        continue\n",
    "\n",
    "    get_image(file_name, clean_text, start_time, end_time, fps)\n",
    "    \n",
    "\n",
    "    "
   ]
<<<<<<< HEAD
  },
  {
   "cell_type": "code",
   "execution_count": null,
   "metadata": {},
   "outputs": [],
   "source": []
=======
>>>>>>> 8c56df2ed86b793d3713210d7380a6f098f5a0de
  }
 ],
 "metadata": {
  "kernelspec": {
<<<<<<< HEAD
   "display_name": "tf-asl",
=======
   "display_name": "env",
>>>>>>> 8c56df2ed86b793d3713210d7380a6f098f5a0de
   "language": "python",
   "name": "python3"
  },
  "language_info": {
   "codemirror_mode": {
    "name": "ipython",
    "version": 3
   },
   "file_extension": ".py",
   "mimetype": "text/x-python",
   "name": "python",
   "nbconvert_exporter": "python",
   "pygments_lexer": "ipython3",
<<<<<<< HEAD
   "version": "3.10.9"
=======
   "version": "3.9.9"
>>>>>>> 8c56df2ed86b793d3713210d7380a6f098f5a0de
  },
  "orig_nbformat": 4,
  "vscode": {
   "interpreter": {
<<<<<<< HEAD
    "hash": "17062ca204f66f718896ff35a055f4f5637bca1ea6e288aa2be1f036ecf3bc83"
=======
    "hash": "5a1f3fb68dd2ba2ba2967be31133212ab5289cf599836f8f402dc82a3e66207d"
>>>>>>> 8c56df2ed86b793d3713210d7380a6f098f5a0de
   }
  }
 },
 "nbformat": 4,
 "nbformat_minor": 2
}
