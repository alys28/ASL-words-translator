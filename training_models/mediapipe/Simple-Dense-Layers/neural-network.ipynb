{
  "cells": [
    {
      "cell_type": "code",
      "execution_count": 1,
      "metadata": {},
      "outputs": [],
      "source": [
        "import tensorflow as tf\n",
        "from tensorflow.keras.layers import Dense, Dropout\n",
        "from tensorflow.keras import Sequential\n",
        "import keras\n",
        "import numpy as np\n",
        "import pandas as pd"
      ]
    },
    {
      "cell_type": "code",
      "execution_count": 2,
      "metadata": {},
      "outputs": [
        {
          "name": "stdout",
          "output_type": "stream",
          "text": [
            "      class        x1        y1        z1        v1        x2        y2  \\\n",
            "0    coffee  0.490560  0.290803 -0.457349  0.999989  0.507861  0.251743   \n",
            "1    coffee  0.490317  0.296208 -0.467214  0.999987  0.507768  0.253555   \n",
            "2    coffee  0.490271  0.300322 -0.470750  0.999986  0.507730  0.255209   \n",
            "3    coffee  0.490268  0.302454 -0.487628  0.999985  0.507728  0.256161   \n",
            "4    coffee  0.490803  0.303688 -0.505418  0.999985  0.507995  0.256749   \n",
            "..      ...       ...       ...       ...       ...       ...       ...   \n",
            "110  coffee  0.496863  0.302861 -0.649061  0.999965  0.513863  0.255302   \n",
            "111  coffee  0.496631  0.301382 -0.643764  0.999955  0.513532  0.254744   \n",
            "112  coffee  0.496510  0.300023 -0.687388  0.999919  0.513147  0.254390   \n",
            "113  coffee  0.496565  0.299678 -0.744448  0.999876  0.513067  0.254359   \n",
            "114  coffee  0.496665  0.299629 -0.655965  0.999852  0.513007  0.254376   \n",
            "\n",
            "           z2        v2        x3  ...       z73  v73       x74       y74  \\\n",
            "0   -0.412709  0.999987  0.516950  ... -0.039968  0.0  0.496138  0.838479   \n",
            "1   -0.425430  0.999984  0.516758  ... -0.032240  0.0  0.499593  0.842492   \n",
            "2   -0.429952  0.999982  0.516656  ... -0.032046  0.0  0.501178  0.847488   \n",
            "3   -0.446110  0.999981  0.516634  ... -0.032033  0.0  0.500290  0.853992   \n",
            "4   -0.462483  0.999980  0.516718  ... -0.031262  0.0  0.500826  0.858976   \n",
            "..        ...       ...       ...  ...       ...  ...       ...       ...   \n",
            "110 -0.599471  0.999905  0.523044  ...  0.000000  0.0  0.000000  0.000000   \n",
            "111 -0.594247  0.999894  0.522931  ...  0.000000  0.0  0.000000  0.000000   \n",
            "112 -0.633070  0.999848  0.522765  ...  0.000000  0.0  0.000000  0.000000   \n",
            "113 -0.690254  0.999778  0.522710  ...  0.000000  0.0  0.000000  0.000000   \n",
            "114 -0.606255  0.999730  0.522649  ...  0.000000  0.0  0.000000  0.000000   \n",
            "\n",
            "          z74  v74       x75       y75       z75  v75  \n",
            "0   -0.032200  0.0  0.510814  0.841485 -0.026400  0.0  \n",
            "1   -0.023976  0.0  0.513295  0.845279 -0.018187  0.0  \n",
            "2   -0.023551  0.0  0.515599  0.849821 -0.017611  0.0  \n",
            "3   -0.023843  0.0  0.514286  0.856211 -0.018308  0.0  \n",
            "4   -0.022877  0.0  0.514729  0.861247 -0.017345  0.0  \n",
            "..        ...  ...       ...       ...       ...  ...  \n",
            "110  0.000000  0.0  0.000000  0.000000  0.000000  0.0  \n",
            "111  0.000000  0.0  0.000000  0.000000  0.000000  0.0  \n",
            "112  0.000000  0.0  0.000000  0.000000  0.000000  0.0  \n",
            "113  0.000000  0.0  0.000000  0.000000  0.000000  0.0  \n",
            "114  0.000000  0.0  0.000000  0.000000  0.000000  0.0  \n",
            "\n",
            "[115 rows x 301 columns]\n",
            "      class        x1        y1        z1        v1        x2        y2  \\\n",
            "0    coffee  0.515050  0.337479 -0.798418  0.999485  0.524108  0.302156   \n",
            "1    coffee  0.514914  0.337661 -0.793975  0.999504  0.524079  0.302088   \n",
            "2    coffee  0.514846  0.337965 -0.765427  0.999515  0.524072  0.302107   \n",
            "3    coffee  0.514829  0.337725 -0.752842  0.999517  0.524080  0.301461   \n",
            "4    coffee  0.514829  0.337339 -0.762397  0.999538  0.524121  0.300769   \n",
            "..      ...       ...       ...       ...       ...       ...       ...   \n",
            "128  coffee  0.521676  0.344556 -0.683892  0.999849  0.530007  0.306479   \n",
            "129  coffee  0.521711  0.342648 -0.677706  0.999824  0.529994  0.304427   \n",
            "130  coffee  0.521753  0.340865 -0.724294  0.999812  0.529988  0.302698   \n",
            "131  coffee  0.521865  0.340134 -0.748141  0.999800  0.529992  0.301843   \n",
            "132  coffee  0.521859  0.339480 -0.760473  0.999797  0.529952  0.301268   \n",
            "\n",
            "           z2        v2        x3  ...  z73  v73  x74  y74  z74  v74  x75  \\\n",
            "0   -0.776017  0.999213  0.530822  ...  0.0  0.0  0.0  0.0  0.0  0.0  0.0   \n",
            "1   -0.771250  0.999240  0.530775  ...  0.0  0.0  0.0  0.0  0.0  0.0  0.0   \n",
            "2   -0.741962  0.999251  0.530759  ...  0.0  0.0  0.0  0.0  0.0  0.0  0.0   \n",
            "3   -0.728369  0.999248  0.530767  ...  0.0  0.0  0.0  0.0  0.0  0.0  0.0   \n",
            "4   -0.738645  0.999275  0.530822  ...  0.0  0.0  0.0  0.0  0.0  0.0  0.0   \n",
            "..        ...       ...       ...  ...  ...  ...  ...  ...  ...  ...  ...   \n",
            "128 -0.654448  0.999747  0.537098  ...  0.0  0.0  0.0  0.0  0.0  0.0  0.0   \n",
            "129 -0.648444  0.999701  0.537077  ...  0.0  0.0  0.0  0.0  0.0  0.0  0.0   \n",
            "130 -0.696996  0.999678  0.537062  ...  0.0  0.0  0.0  0.0  0.0  0.0  0.0   \n",
            "131 -0.721926  0.999652  0.537061  ...  0.0  0.0  0.0  0.0  0.0  0.0  0.0   \n",
            "132 -0.734102  0.999645  0.537028  ...  0.0  0.0  0.0  0.0  0.0  0.0  0.0   \n",
            "\n",
            "     y75  z75  v75  \n",
            "0    0.0  0.0  0.0  \n",
            "1    0.0  0.0  0.0  \n",
            "2    0.0  0.0  0.0  \n",
            "3    0.0  0.0  0.0  \n",
            "4    0.0  0.0  0.0  \n",
            "..   ...  ...  ...  \n",
            "128  0.0  0.0  0.0  \n",
            "129  0.0  0.0  0.0  \n",
            "130  0.0  0.0  0.0  \n",
            "131  0.0  0.0  0.0  \n",
            "132  0.0  0.0  0.0  \n",
            "\n",
            "[133 rows x 301 columns]\n",
            "      class        x1        y1        z1        v1        x2        y2  \\\n",
            "0    coffee  0.490560  0.290803 -0.457349  0.999989  0.507861  0.251743   \n",
            "1    coffee  0.490317  0.296208 -0.467214  0.999987  0.507768  0.253555   \n",
            "2    coffee  0.490271  0.300322 -0.470750  0.999986  0.507730  0.255209   \n",
            "3    coffee  0.490268  0.302454 -0.487628  0.999985  0.507728  0.256161   \n",
            "4    coffee  0.490803  0.303688 -0.505418  0.999985  0.507995  0.256749   \n",
            "..      ...       ...       ...       ...       ...       ...       ...   \n",
            "128  coffee  0.521676  0.344556 -0.683892  0.999849  0.530007  0.306479   \n",
            "129  coffee  0.521711  0.342648 -0.677706  0.999824  0.529994  0.304427   \n",
            "130  coffee  0.521753  0.340865 -0.724294  0.999812  0.529988  0.302698   \n",
            "131  coffee  0.521865  0.340134 -0.748141  0.999800  0.529992  0.301843   \n",
            "132  coffee  0.521859  0.339480 -0.760473  0.999797  0.529952  0.301268   \n",
            "\n",
            "           z2        v2        x3  ...       z73  v73       x74       y74  \\\n",
            "0   -0.412709  0.999987  0.516950  ... -0.039968  0.0  0.496138  0.838479   \n",
            "1   -0.425430  0.999984  0.516758  ... -0.032240  0.0  0.499593  0.842492   \n",
            "2   -0.429952  0.999982  0.516656  ... -0.032046  0.0  0.501178  0.847488   \n",
            "3   -0.446110  0.999981  0.516634  ... -0.032033  0.0  0.500290  0.853992   \n",
            "4   -0.462483  0.999980  0.516718  ... -0.031262  0.0  0.500826  0.858976   \n",
            "..        ...       ...       ...  ...       ...  ...       ...       ...   \n",
            "128 -0.654448  0.999747  0.537098  ...  0.000000  0.0  0.000000  0.000000   \n",
            "129 -0.648444  0.999701  0.537077  ...  0.000000  0.0  0.000000  0.000000   \n",
            "130 -0.696996  0.999678  0.537062  ...  0.000000  0.0  0.000000  0.000000   \n",
            "131 -0.721926  0.999652  0.537061  ...  0.000000  0.0  0.000000  0.000000   \n",
            "132 -0.734102  0.999645  0.537028  ...  0.000000  0.0  0.000000  0.000000   \n",
            "\n",
            "          z74  v74       x75       y75       z75  v75  \n",
            "0   -0.032200  0.0  0.510814  0.841485 -0.026400  0.0  \n",
            "1   -0.023976  0.0  0.513295  0.845279 -0.018187  0.0  \n",
            "2   -0.023551  0.0  0.515599  0.849821 -0.017611  0.0  \n",
            "3   -0.023843  0.0  0.514286  0.856211 -0.018308  0.0  \n",
            "4   -0.022877  0.0  0.514729  0.861247 -0.017345  0.0  \n",
            "..        ...  ...       ...       ...       ...  ...  \n",
            "128  0.000000  0.0  0.000000  0.000000  0.000000  0.0  \n",
            "129  0.000000  0.0  0.000000  0.000000  0.000000  0.0  \n",
            "130  0.000000  0.0  0.000000  0.000000  0.000000  0.0  \n",
            "131  0.000000  0.0  0.000000  0.000000  0.000000  0.0  \n",
            "132  0.000000  0.0  0.000000  0.000000  0.000000  0.0  \n",
            "\n",
            "[248 rows x 301 columns]\n"
          ]
        }
      ],
      "source": [
        "#import the data ---> these lines are just testing.\n",
        "test = pd.read_csv(\"data_four_labels/coffee/_wijo648v0g3208.csv\")\n",
        "print(test)\n",
        "\n",
        "test2=pd.read_csv(\"data_four_labels/coffee/2sGQuduhAf41354.csv\")\n",
        "print(test2)\n",
        "\n",
        "final_df=pd.concat([test,test2])\n",
        "print(final_df)"
      ]
    },
    {
      "cell_type": "code",
<<<<<<< HEAD
      "execution_count": 3,
=======
      "execution_count": 2,
>>>>>>> b1abb53b06ecd40a68897770d8f10465eba2a1c5
      "metadata": {},
      "outputs": [
        {
          "name": "stdout",
          "output_type": "stream",
          "text": [
            "coffee\n",
            "dog\n",
            "door\n",
            "milk\n",
<<<<<<< HEAD
            "(9776, 301) (3667, 301)\n",
            "training set:\n",
            "     class        x1        y1        z1        v1        x2        y2  \\\n",
            "0   coffee  0.606142  0.244242 -0.815652  0.999938  0.623723  0.211371   \n",
            "1   coffee  0.606009  0.244254 -0.815749  0.999938  0.623691  0.211367   \n",
            "2   coffee  0.605101  0.244437 -0.754448  0.999933  0.623574  0.211543   \n",
            "3   coffee  0.602850  0.244439 -0.760619  0.999929  0.622494  0.211495   \n",
            "4   coffee  0.602109  0.244449 -0.827007  0.999929  0.622169  0.211413   \n",
            "..     ...       ...       ...       ...       ...       ...       ...   \n",
            "75    milk  0.497894  0.306149 -0.517604  0.999934  0.515566  0.259491   \n",
            "76    milk  0.497847  0.305891 -0.508041  0.999933  0.515531  0.259391   \n",
            "77    milk  0.497788  0.305599 -0.499464  0.999932  0.515466  0.259253   \n",
            "78    milk  0.497708  0.305279 -0.495048  0.999933  0.515386  0.259108   \n",
            "79    milk  0.497436  0.305055 -0.492145  0.999933  0.515184  0.258973   \n",
            "\n",
            "          z2        v2        x3  ...       z73  v73       x74       y74  \\\n",
            "0  -0.776338  0.999922  0.634001  ... -0.036408  0.0  0.659736  0.707858   \n",
            "1  -0.775937  0.999923  0.633704  ... -0.031901  0.0  0.660784  0.701760   \n",
            "2  -0.711242  0.999918  0.633406  ... -0.031837  0.0  0.664421  0.694444   \n",
            "3  -0.722415  0.999914  0.632134  ... -0.033219  0.0  0.666726  0.688564   \n",
            "4  -0.783732  0.999915  0.631638  ... -0.035322  0.0  0.662254  0.690637   \n",
            "..       ...       ...       ...  ...       ...  ...       ...       ...   \n",
            "75 -0.484481  0.999870  0.526420  ...  0.000000  0.0  0.000000  0.000000   \n",
            "76 -0.473689  0.999870  0.526399  ...  0.000000  0.0  0.000000  0.000000   \n",
            "77 -0.464760  0.999870  0.526358  ...  0.000000  0.0  0.000000  0.000000   \n",
            "78 -0.460512  0.999872  0.526302  ...  0.000000  0.0  0.000000  0.000000   \n",
            "79 -0.458362  0.999873  0.526164  ...  0.000000  0.0  0.000000  0.000000   \n",
            "\n",
            "         z74  v74       x75       y75       z75  v75  \n",
            "0  -0.029399  0.0  0.671787  0.705231 -0.024129  0.0  \n",
            "1  -0.027481  0.0  0.672509  0.700027 -0.023272  0.0  \n",
            "2  -0.027150  0.0  0.676313  0.692712 -0.022846  0.0  \n",
            "3  -0.028706  0.0  0.678016  0.686593 -0.024647  0.0  \n",
            "4  -0.030620  0.0  0.674081  0.689211 -0.026338  0.0  \n",
            "..       ...  ...       ...       ...       ...  ...  \n",
            "75  0.000000  0.0  0.000000  0.000000  0.000000  0.0  \n",
            "76  0.000000  0.0  0.000000  0.000000  0.000000  0.0  \n",
            "77  0.000000  0.0  0.000000  0.000000  0.000000  0.0  \n",
            "78  0.000000  0.0  0.000000  0.000000  0.000000  0.0  \n",
            "79  0.000000  0.0  0.000000  0.000000  0.000000  0.0  \n",
            "\n",
            "[9776 rows x 301 columns]\n",
=======
            "(1075316, 301)\n",
            "training set:\n",
            "     class        x1        y1        z1        v1        x2        y2  \\\n",
            "0   coffee  0.000000  0.000000  0.000000  0.000000  0.000000  0.000000   \n",
            "1   coffee  0.423427  0.354855 -0.617694  0.998979  0.440213  0.317263   \n",
            "2   coffee  0.424139  0.354806 -0.617070  0.998981  0.441051  0.318169   \n",
            "3   coffee  0.424664  0.354835 -0.615231  0.999022  0.441559  0.319315   \n",
            "4   coffee  0.425134  0.354826 -0.615926  0.999066  0.441977  0.319954   \n",
            "..     ...       ...       ...       ...       ...       ...       ...   \n",
            "58    milk -0.191310 -1.125066 -0.702435  0.999928 -0.174473 -1.166656   \n",
            "59    milk -0.193735 -1.138487 -0.734255  0.999924 -0.177026 -1.180538   \n",
            "60    milk -0.195721 -1.150853 -0.751939  0.999923 -0.179062 -1.193187   \n",
            "61    milk -0.336811 -0.877827 -0.785117  0.999924 -0.320148 -0.920417   \n",
            "62    milk -0.336718 -0.886014 -0.764506  0.999915 -0.319935 -0.928561   \n",
            "\n",
            "          z2        v2        x3  ...       z73  v73       x74       y74  \\\n",
            "0   0.000000  0.000000  0.000000  ...  0.000000  0.0  0.000000  0.000000   \n",
            "1  -0.580645  0.997389  0.449105  ...  0.000000  0.0  0.000000  0.000000   \n",
            "2  -0.579195  0.997403  0.450943  ...  0.000000  0.0  0.000000  0.000000   \n",
            "3  -0.576599  0.997507  0.451987  ...  0.000000  0.0  0.000000  0.000000   \n",
            "4  -0.577035  0.997618  0.452693  ...  0.000000  0.0  0.000000  0.000000   \n",
            "..       ...       ...       ...  ...       ...  ...       ...       ...   \n",
            "58 -0.659299  0.999839 -0.163195  ... -0.029533  0.0 -0.196702 -0.503827   \n",
            "59 -0.690018  0.999835 -0.165670  ... -0.028691  0.0 -0.192519 -0.504607   \n",
            "60 -0.707677  0.999837 -0.167636  ... -0.027066  0.0 -0.197572 -0.504966   \n",
            "61 -0.740499  0.999838 -0.308623  ... -0.027302  0.0 -0.331969 -0.212325   \n",
            "62 -0.720525  0.999823 -0.308374  ... -0.027095  0.0 -0.334328 -0.209678   \n",
            "\n",
            "         z74  v74       x75       y75       z75  v75  \n",
            "0   0.000000  0.0  0.000000  0.000000  0.000000  0.0  \n",
            "1   0.000000  0.0  0.000000  0.000000  0.000000  0.0  \n",
            "2   0.000000  0.0  0.000000  0.000000  0.000000  0.0  \n",
            "3   0.000000  0.0  0.000000  0.000000  0.000000  0.0  \n",
            "4   0.000000  0.0  0.000000  0.000000  0.000000  0.0  \n",
            "..       ...  ...       ...       ...       ...  ...  \n",
            "58 -0.027965  0.0 -0.208004 -0.496547 -0.026665  0.0  \n",
            "59 -0.026823  0.0 -0.197375 -0.496716 -0.025216  0.0  \n",
            "60 -0.026401  0.0 -0.208343 -0.496308 -0.025580  0.0  \n",
            "61 -0.026766  0.0 -0.341507 -0.201110 -0.025963  0.0  \n",
            "62 -0.025619  0.0 -0.343958 -0.198167 -0.024236  0.0  \n",
            "\n",
            "[1075316 rows x 301 columns]\n",
>>>>>>> b1abb53b06ecd40a68897770d8f10465eba2a1c5
            "testing set: \n"
          ]
        }
      ],
      "source": [
        "import glob\n",
        "\n",
        "train_df = pd.DataFrame()\n",
        "test_df = pd.DataFrame()\n",
        "names = [\"coffee\", \"dog\", \"door\", \"milk\"]\n",
        "i = 0\n",
        "\n",
        "for label in names:\n",
<<<<<<< HEAD
        "    # files = glob.glob(f\"/Users/aly/Documents/Programming/Apps/Machine Learning/ASL Converter/data_augmentation/data_four_labels_augmentation/{label}/*.csv\")\n",
        "    files = glob.glob(f\"data_four_labels/{label}/*.csv\")\n",
=======
        "    files = glob.glob(f\"C:/Users/malik/Desktop/ASL-Aly/ASL-words-translator/data_augmentation/data_four_labels_augmentation/train/{label}/*.csv\")\n",
>>>>>>> b1abb53b06ecd40a68897770d8f10465eba2a1c5
        "    print(label)\n",
        "    for f in files:\n",
        "        csv = pd.read_csv(f)\n",
        "        if csv.isnull().values.any():\n",
        "            continue\n",
        "        #this is in order to separate the training set from the test set (setting 25% of values) \n",
        "        train_df = pd.concat([train_df, csv])\n",
        "           \n",
        "        \n",
        "\n",
        "print(train_df.shape)\n",
        "print(\"training set:\")\n",
        "print(train_df)\n",
        "print(\"testing set: \")\n",
        "# test_df.head()"
      ]
    },
    {
      "cell_type": "code",
      "execution_count": 3,
      "metadata": {},
      "outputs": [
        {
          "name": "stdout",
          "output_type": "stream",
          "text": [
            "coffee\n",
            "dog\n",
            "door\n",
            "milk\n",
            "(1075316, 301) (190484, 301)\n",
            "testing set:\n",
            "     class        x1        y1        z1        v1        x2        y2  \\\n",
            "0   coffee  0.515050  0.337479 -0.798418  0.999485  0.502286  0.301752   \n",
            "1   coffee  0.514914  0.337661 -0.793975  0.999504  0.501875  0.301790   \n",
            "2   coffee  0.514846  0.337965 -0.765427  0.999515  0.501678  0.301917   \n",
            "3   coffee  0.514829  0.337725 -0.752842  0.999517  0.501619  0.301491   \n",
            "4   coffee  0.514829  0.337339 -0.762397  0.999538  0.501614  0.300717   \n",
            "..     ...       ...       ...       ...       ...       ...       ...   \n",
            "75    milk -0.702076 -0.486400 -0.517604  0.999934 -0.686298 -0.529097   \n",
            "76    milk -0.702406 -0.495801 -0.508041  0.999933 -0.686678 -0.538462   \n",
            "77    milk -0.702927 -0.497457 -0.499464  0.999932 -0.687244 -0.540132   \n",
            "78    milk -0.702413 -0.498265 -0.495048  0.999933 -0.686771 -0.540916   \n",
            "79    milk -0.702139 -0.498203 -0.492145  0.999933 -0.686619 -0.540838   \n",
            "\n",
            "          z2        v2        x3  ...  z73  v73       x74       y74  z74  v74  \\\n",
            "0  -0.782132  0.999213  0.492777  ...  0.0  0.0  0.000000  0.000000  0.0  0.0   \n",
            "1  -0.776612  0.999240  0.492405  ...  0.0  0.0  0.000000  0.000000  0.0  0.0   \n",
            "2  -0.748085  0.999251  0.492242  ...  0.0  0.0  0.000000  0.000000  0.0  0.0   \n",
            "3  -0.734861  0.999248  0.492160  ...  0.0  0.0  0.000000  0.000000  0.0  0.0   \n",
            "4  -0.744947  0.999275  0.492145  ...  0.0  0.0  0.000000  0.000000  0.0  0.0   \n",
            "..       ...       ...       ...  ...  ...  ...       ...       ...  ...  ...   \n",
            "75 -0.487753  0.999870 -0.675641  ...  0.0  0.0 -0.204182 -0.792549  0.0  0.0   \n",
            "76 -0.476355  0.999870 -0.676024  ...  0.0  0.0 -0.204559 -0.801693  0.0  0.0   \n",
            "77 -0.468042  0.999870 -0.676611  ...  0.0  0.0 -0.205139 -0.803056  0.0  0.0   \n",
            "78 -0.463796  0.999872 -0.676174  ...  0.0  0.0 -0.204705 -0.803545  0.0  0.0   \n",
            "79 -0.460701  0.999873 -0.676070  ...  0.0  0.0 -0.204703 -0.803258  0.0  0.0   \n",
            "\n",
            "         x75       y75  z75  v75  \n",
            "0   0.000000  0.000000  0.0  0.0  \n",
            "1   0.000000  0.000000  0.0  0.0  \n",
            "2   0.000000  0.000000  0.0  0.0  \n",
            "3   0.000000  0.000000  0.0  0.0  \n",
            "4   0.000000  0.000000  0.0  0.0  \n",
            "..       ...       ...  ...  ...  \n",
            "75 -0.204182 -0.792549  0.0  0.0  \n",
            "76 -0.204559 -0.801693  0.0  0.0  \n",
            "77 -0.205139 -0.803056  0.0  0.0  \n",
            "78 -0.204705 -0.803545  0.0  0.0  \n",
            "79 -0.204703 -0.803258  0.0  0.0  \n",
            "\n",
            "[190484 rows x 301 columns]\n"
          ]
        }
      ],
      "source": [
        "# test dataset\n",
        "for label in names:\n",
        "    files = glob.glob(f\"C:/Users/malik/Desktop/ASL-Aly/ASL-words-translator/data_augmentation/data_four_labels_augmentation/test/{label}/*.csv\")\n",
        "    print(label)\n",
        "    for f in files:\n",
        "        csv = pd.read_csv(f)\n",
        "        if csv.isnull().values.any():\n",
        "            continue\n",
        "        #this is in order to separate the training set from the test set (setting 25% of values) \n",
        "        test_df = pd.concat([test_df, csv])\n",
        "print(train_df.shape, test_df.shape)\n",
        "print(\"testing set:\")\n",
        "print(test_df)\n"
      ]
    },
    {
      "cell_type": "code",
      "execution_count": 108,
      "metadata": {},
      "outputs": [
        {
          "name": "stdout",
          "output_type": "stream",
          "text": [
            "0\n",
            "1\n",
            "2\n",
            "3\n",
            "5\n",
            "6\n",
            "class      coffee\n",
            "x1       0.758414\n",
            "y1       0.741461\n",
            "z1      -0.333028\n",
            "v1       0.998306\n",
            "           ...   \n",
            "v74           0.0\n",
            "x75          -0.0\n",
            "y75           0.0\n",
            "z75           0.0\n",
            "v75           0.0\n",
            "Name: 10, Length: 301, dtype: object\n"
          ]
        }
      ],
      "source": [
        "csv = pd.read_csv(\"C:/Users/malik/Desktop/ASL-Aly/ASL-words-translator/data_augmentation/data_four_labels_augmentation/coffee/c0tloO5tJUY7125.csv_projective_geo_7_True.csv\")\n",
        "for index, row in csv.iterrows():\n",
        "    if row.isnull().values.any():\n",
        "        print(index)\n",
        "print(csv.iloc[10])"
      ]
    },
    {
      "attachments": {},
      "cell_type": "markdown",
      "metadata": {},
      "source": [
        "### Since I am working on varying time frames, I will be concatenating the data into sets of n-frames together as one datapoint\n"
      ]
    },
    {
      "attachments": {},
      "cell_type": "markdown",
      "metadata": {},
      "source": [
        "## ok, use lists next time, and then transform into a pandas dataframe\n"
      ]
    },
    {
      "cell_type": "code",
      "execution_count": 143,
      "metadata": {},
      "outputs": [],
      "source": [
        "def header(FrameNumber, className):\n",
        "    #at first, only one element, the class name\n",
        "    headerList=[className]\n",
        "    for i in range(FrameNumber):\n",
        "        for val in range(1, num_coords+1):        \n",
        "            headerList += ['x{}'.format(val), 'y{}'.format(val), 'z{}'.format(val), 'v{}'.format(val)]\n",
        "            all_frames = all_frames.reshape((len(df), 75, 4))\n",
        "    print(headerList)\n",
        "    return headerList\n"
      ]
    },
    {
      "attachments": {},
      "cell_type": "markdown",
      "metadata": {},
      "source": [
        "#### separating the features from the labels (just some testing, not actually used)"
      ]
    },
    {
      "cell_type": "code",
      "execution_count": 4,
      "metadata": {},
      "outputs": [],
      "source": [
        "def seperate_label(df):\n",
        "    df_features = df.copy()\n",
        "\n",
        "    df_labels = df_features.pop(\"class\")\n",
        "\n",
        "    df_features = np.array(df_features)\n",
        "    # df_labels = np.array(df_labels)\n",
        "    print(df_features.shape)\n",
        "    print(df_labels.shape, type(df_labels))\n",
        "    return df_features, df_labels"
      ]
    },
    {
      "cell_type": "code",
      "execution_count": 5,
      "metadata": {},
      "outputs": [
        {
          "name": "stdout",
          "output_type": "stream",
          "text": [
<<<<<<< HEAD
            "(9776, 300)\n",
            "(9776,) <class 'pandas.core.series.Series'>\n"
=======
            "(1075316, 300)\n",
            "(1075316,) <class 'pandas.core.series.Series'>\n"
>>>>>>> b1abb53b06ecd40a68897770d8f10465eba2a1c5
          ]
        }
      ],
      "source": [
        "X_train, Y_train = seperate_label(train_df)"
      ]
    },
    {
      "cell_type": "code",
      "execution_count": 6,
      "metadata": {},
      "outputs": [
        {
          "name": "stdout",
          "output_type": "stream",
          "text": [
<<<<<<< HEAD
            "(3667, 300)\n",
            "(3667,) <class 'pandas.core.series.Series'>\n"
=======
            "(190484, 300)\n",
            "(190484,) <class 'pandas.core.series.Series'>\n"
>>>>>>> b1abb53b06ecd40a68897770d8f10465eba2a1c5
          ]
        }
      ],
      "source": [
        "X_val, Y_val = seperate_label(test_df)"
      ]
    },
    {
      "cell_type": "code",
      "execution_count": null,
      "metadata": {},
      "outputs": [],
      "source": [
        "# mydict = [{'a': 1, 'b': 2, 'c': 3, 'd': 4},\n",
        "#           {'a': 100, 'b': 200, 'c': 300, 'd': 400},\n",
        "#           {'a': 1000, 'b': 2000, 'c': 3000, 'd': 4000 }]\n",
        "# df = pd.DataFrame(mydict)\n",
        "# print(df.head())\n",
        "# mylist = []\n",
        "# mylist.append(df.iloc[1])\n",
        "# for i in mylist:\n",
        "#     print(i)\n",
        "#     # for l in i:\n",
        "#     #     print(l)"
      ]
    },
    {
      "attachments": {},
      "cell_type": "markdown",
      "metadata": {},
      "source": [
        "I\"ll also remap every string to an int\n",
        "per example, \n",
        "through a dictionary"
      ]
    },
    {
      "cell_type": "code",
      "execution_count": 7,
      "metadata": {},
      "outputs": [],
      "source": [
        "def reformat_label(df_labels):    \n",
        "#should be between 0 and 3\n",
        "    dicti={\"coffee\": 0, \"dog\": 1, \"door\": 2, \"milk\": 3}\n",
        "    # for element in df_labels:\n",
        "    #     element = dicti[element]\n",
        "\n",
        "    def change_label(x):\n",
        "        return dicti[x]\n",
        "\n",
        "    df_labels = df_labels.apply(change_label)\n",
        "    df_labels.head()\n",
        "    return df_labels\n",
        "\n",
        "Y_train = reformat_label(Y_train)\n",
        "Y_val = reformat_label(Y_val)"
      ]
    },
    {
      "cell_type": "code",
      "execution_count": 8,
      "metadata": {},
      "outputs": [
        {
          "data": {
            "text/plain": [
              "(0     0\n",
<<<<<<< HEAD
=======
              " 1     0\n",
              " 2     0\n",
              " 3     0\n",
              " 4     0\n",
              "      ..\n",
              " 58    3\n",
              " 59    3\n",
              " 60    3\n",
              " 61    3\n",
              " 62    3\n",
              " Name: class, Length: 1075316, dtype: int64,\n",
              " 0     0\n",
>>>>>>> b1abb53b06ecd40a68897770d8f10465eba2a1c5
              " 1     0\n",
              " 2     0\n",
              " 3     0\n",
              " 4     0\n",
              "      ..\n",
              " 75    3\n",
              " 76    3\n",
              " 77    3\n",
              " 78    3\n",
              " 79    3\n",
<<<<<<< HEAD
              " Name: class, Length: 9776, dtype: int64,\n",
              " 0      0\n",
              " 1      0\n",
              " 2      0\n",
              " 3      0\n",
              " 4      0\n",
              "       ..\n",
              " 159    3\n",
              " 160    3\n",
              " 161    3\n",
              " 162    3\n",
              " 163    3\n",
              " Name: class, Length: 3667, dtype: int64)"
=======
              " Name: class, Length: 190484, dtype: int64)"
>>>>>>> b1abb53b06ecd40a68897770d8f10465eba2a1c5
            ]
          },
          "execution_count": 8,
          "metadata": {},
          "output_type": "execute_result"
        }
      ],
      "source": [
        "Y_train, Y_val"
      ]
    },
    {
      "cell_type": "code",
      "execution_count": 9,
      "metadata": {},
      "outputs": [
        {
          "name": "stdout",
          "output_type": "stream",
          "text": [
<<<<<<< HEAD
            "(9776, 1) (3667, 1)\n"
=======
            "(1075316, 1) (190484, 1)\n"
>>>>>>> b1abb53b06ecd40a68897770d8f10465eba2a1c5
          ]
        }
      ],
      "source": [
        "#I have to make each label a single vector \n",
        "# I can just rotate (transpose, since now I have a single rolumn, I will make it into many rows)! \n",
        "Y_train = np.array([Y_train]).T\n",
        "Y_val = np.array([Y_val]).T\n",
        "print(Y_train.shape, Y_val.shape)"
      ]
    },
    {
      "cell_type": "code",
      "execution_count": null,
      "metadata": {},
      "outputs": [],
      "source": []
    },
    {
      "attachments": {},
      "cell_type": "markdown",
      "metadata": {},
      "source": [
        "#### train_test_split\n",
        "\n",
        "##### I'll split into train and val, and then tensorflow will split for me in train and test"
      ]
    },
    {
      "cell_type": "code",
      "execution_count": 10,
      "metadata": {},
      "outputs": [
        {
          "data": {
            "text/plain": [
<<<<<<< HEAD
              "(array([[ 0.53891486,  0.3667444 , -0.58347023, ...,  0.        ,\n",
              "          0.        ,  0.        ],\n",
              "        [ 0.51216543,  0.22902365, -0.50954175, ...,  0.        ,\n",
              "          0.        ,  0.        ],\n",
              "        [ 0.48298231,  0.25468689, -0.52562565, ...,  0.        ,\n",
              "          0.        ,  0.        ],\n",
              "        ...,\n",
              "        [ 0.69303405,  0.32725036, -0.30897957, ...,  0.48944685,\n",
              "         -0.02432649,  0.        ],\n",
              "        [ 0.31904715,  0.31237128, -0.70534962, ...,  0.        ,\n",
              "          0.        ,  0.        ],\n",
              "        [ 0.49790773,  0.20905493, -0.65739161, ...,  0.        ,\n",
              "          0.        ,  0.        ]]),\n",
              " array([[1],\n",
              "        [3],\n",
              "        [3],\n",
              "        ...,\n",
              "        [2],\n",
              "        [1],\n",
=======
              "((1075316, 300),\n",
              " array([[1],\n",
              "        [0],\n",
              "        [0],\n",
              "        ...,\n",
              "        [3],\n",
              "        [0],\n",
>>>>>>> b1abb53b06ecd40a68897770d8f10465eba2a1c5
              "        [1]], dtype=int64))"
            ]
          },
          "execution_count": 10,
          "metadata": {},
          "output_type": "execute_result"
        }
      ],
      "source": [
        "from sklearn.utils import shuffle\n",
        "\n",
        "X_train,Y_train = shuffle(X_train, Y_train, random_state=0)\n",
        "X_val,Y_val = shuffle(X_val, Y_val, random_state=0)\n",
        "X_train.shape, Y_train\n"
      ]
    },
    {
      "attachments": {},
      "cell_type": "markdown",
      "metadata": {},
      "source": [
        "## creating the model"
      ]
    },
    {
      "cell_type": "code",
<<<<<<< HEAD
      "execution_count": 11,
      "metadata": {},
      "outputs": [],
      "source": [
        "model = Sequential([\n",
        "    Dense(units=128, activation='relu'),\n",
        "    Dense(units=64, activation='relu',\n",
        "          kernel_regularizer=keras.regularizers.l1_l2(0.01)),\n",
        "    Dropout(0.1),\n",
        "    Dense(units=512, activation='relu'),\n",
        "    Dense(units=256, activation='relu',\n",
        "          kernel_regularizer=keras.regularizers.l1_l2(0.01)),\n",
        "    Dense(units=128, activation='relu'),\n",
        "    Dense(units=16, activation='relu', \n",
        "          kernel_regularizer=keras.regularizers.l1_l2(0.01)),\n",
        "    Dense(units=4, activation='softmax')\n",
        "])\n",
        "\n",
        "# model = Sequential([\n",
        "#     Dense(units=128, activation='relu'),\n",
        "#     Dense(units=64, activation='relu',\n",
        "#           kernel_regularizer=keras.regularizers.l1_l2(0.01)),\n",
        "#     Dropout(0.1),\n",
        "#     Dense(units=4, activation='softmax')\n",
        "# ])"
=======
      "execution_count": 15,
      "metadata": {},
      "outputs": [],
      "source": [
        "with tf.device('/cpu:0'):\n",
        "    model = Sequential([\n",
        "        Dense(units=128, activation='relu', input_shape=(300,)),\n",
        "        Dense(units=64, activation='relu',\n",
        "            kernel_regularizer=keras.regularizers.l1_l2(0.05)),\n",
        "        Dense(units=256, activation='relu'),\n",
        "        Dropout(0.3),\n",
        "        Dense(units=128, activation='relu'),\n",
        "        Dense(units=64, activation='relu'),\n",
        "        Dense(units=16, activation='relu', \n",
        "            kernel_regularizer=keras.regularizers.l1_l2(0.01)),\n",
        "        Dropout(0.3),\n",
        "        Dense(units=4, activation='softmax')\n",
        "])"
>>>>>>> b1abb53b06ecd40a68897770d8f10465eba2a1c5
      ]
    },
    {
      "cell_type": "code",
<<<<<<< HEAD
      "execution_count": 12,
=======
      "execution_count": 16,
>>>>>>> b1abb53b06ecd40a68897770d8f10465eba2a1c5
      "metadata": {},
      "outputs": [],
      "source": [
        "#cost function\n",
        "from tensorflow.keras.losses import SparseCategoricalCrossentropy\n",
        "from tensorflow.keras.optimizers import Adam\n",
        "\n",
        "model.compile(loss=SparseCategoricalCrossentropy(), optimizer=Adam(), metrics=[\"accuracy\"])"
      ]
    },
    {
      "attachments": {},
      "cell_type": "markdown",
      "metadata": {},
      "source": [
        "### checkpoints are like saving the model, but at different epochs\n"
      ]
    },
    {
      "cell_type": "code",
<<<<<<< HEAD
      "execution_count": 13,
=======
      "execution_count": 17,
>>>>>>> b1abb53b06ecd40a68897770d8f10465eba2a1c5
      "metadata": {},
      "outputs": [],
      "source": [
        "checkpoint = tf.keras.callbacks.ModelCheckpoint(\n",
<<<<<<< HEAD
        "    # \"/Users/aly/Documents/Programming/Apps/Machine Learning/ASL Converter/training_models/mediapipe/Simple-Dense-Layers/AUGMENTED-regularized.{epoch:02d}-{val_accuracy:.2f}\",\n",
        "    \"Simple-Dense-Layers/AUGMENTED-regularized.{epoch:02d}-{val_accuracy:.2f}\",\n",
=======
        "    \"C:/Users/malik/Desktop/ASL-Aly/ASL-words-translator/training_models/mediapipe/Simple-Dense-Layers/AUGMENTED-FULL-REFLECTION-WITHOUT-LEAKAGE.{epoch:02d}-{val_accuracy:.2f}\",\n",
>>>>>>> b1abb53b06ecd40a68897770d8f10465eba2a1c5
        "    monitor='val_accuracy',\n",
        "    verbose=0,\n",
        "    save_best_only=True,\n",
        "    save_weights_only=False,\n",
        "    mode='auto',\n",
        "    #everytime the accuracy gets better, it saves\n",
        "    save_freq='epoch',\n",
        ")"
      ]
    },
    {
      "cell_type": "code",
<<<<<<< HEAD
      "execution_count": 14,
=======
      "execution_count": null,
      "metadata": {},
      "outputs": [],
      "source": []
    },
    {
      "cell_type": "code",
      "execution_count": 18,
>>>>>>> b1abb53b06ecd40a68897770d8f10465eba2a1c5
      "metadata": {},
      "outputs": [
        {
          "name": "stdout",
          "output_type": "stream",
          "text": [
            "Epoch 1/50\n",
<<<<<<< HEAD
            "295/306 [===========================>..] - ETA: 0s - loss: 10.2274 - accuracy: 0.4592INFO:tensorflow:Assets written to: Simple-Dense-Layers\\AUGMENTED-regularized.01-0.44\\assets\n",
            "306/306 [==============================] - 7s 14ms/step - loss: 9.9259 - accuracy: 0.4605 - val_loss: 1.5729 - val_accuracy: 0.4415\n",
            "Epoch 2/50\n",
            "298/306 [============================>.] - ETA: 0s - loss: 1.3401 - accuracy: 0.5220INFO:tensorflow:Assets written to: Simple-Dense-Layers\\AUGMENTED-regularized.02-0.50\\assets\n",
            "306/306 [==============================] - 3s 11ms/step - loss: 1.3393 - accuracy: 0.5227 - val_loss: 1.4078 - val_accuracy: 0.4996\n",
            "Epoch 3/50\n",
            "304/306 [============================>.] - ETA: 0s - loss: 1.2499 - accuracy: 0.5432INFO:tensorflow:Assets written to: Simple-Dense-Layers\\AUGMENTED-regularized.03-0.52\\assets\n",
            "306/306 [==============================] - 3s 10ms/step - loss: 1.2495 - accuracy: 0.5431 - val_loss: 1.3567 - val_accuracy: 0.5247\n",
            "Epoch 4/50\n",
            "295/306 [===========================>..] - ETA: 0s - loss: 1.1867 - accuracy: 0.5823INFO:tensorflow:Assets written to: Simple-Dense-Layers\\AUGMENTED-regularized.04-0.54\\assets\n",
            "306/306 [==============================] - 3s 10ms/step - loss: 1.1859 - accuracy: 0.5824 - val_loss: 1.3275 - val_accuracy: 0.5416\n",
            "Epoch 5/50\n",
            "297/306 [============================>.] - ETA: 0s - loss: 1.1251 - accuracy: 0.6040INFO:tensorflow:Assets written to: Simple-Dense-Layers\\AUGMENTED-regularized.05-0.54\\assets\n",
            "306/306 [==============================] - 3s 10ms/step - loss: 1.1260 - accuracy: 0.6031 - val_loss: 1.3455 - val_accuracy: 0.5446\n",
            "Epoch 6/50\n",
            "299/306 [============================>.] - ETA: 0s - loss: 1.0955 - accuracy: 0.6119INFO:tensorflow:Assets written to: Simple-Dense-Layers\\AUGMENTED-regularized.06-0.58\\assets\n",
            "306/306 [==============================] - 3s 11ms/step - loss: 1.0956 - accuracy: 0.6114 - val_loss: 1.2968 - val_accuracy: 0.5765\n",
            "Epoch 7/50\n",
            "306/306 [==============================] - 2s 5ms/step - loss: 1.0617 - accuracy: 0.6260 - val_loss: 1.2844 - val_accuracy: 0.5683\n",
            "Epoch 8/50\n",
            "299/306 [============================>.] - ETA: 0s - loss: 1.0466 - accuracy: 0.6345INFO:tensorflow:Assets written to: Simple-Dense-Layers\\AUGMENTED-regularized.08-0.58\\assets\n",
            "306/306 [==============================] - 3s 10ms/step - loss: 1.0471 - accuracy: 0.6348 - val_loss: 1.2908 - val_accuracy: 0.5833\n",
            "Epoch 9/50\n",
            "306/306 [==============================] - 2s 5ms/step - loss: 1.0281 - accuracy: 0.6377 - val_loss: 1.3017 - val_accuracy: 0.5719\n",
            "Epoch 10/50\n",
            "303/306 [============================>.] - ETA: 0s - loss: 1.0137 - accuracy: 0.6407INFO:tensorflow:Assets written to: Simple-Dense-Layers\\AUGMENTED-regularized.10-0.61\\assets\n",
            "306/306 [==============================] - 3s 11ms/step - loss: 1.0133 - accuracy: 0.6399 - val_loss: 1.2848 - val_accuracy: 0.6054\n",
            "Epoch 11/50\n",
            "306/306 [==============================] - 2s 5ms/step - loss: 1.0150 - accuracy: 0.6400 - val_loss: 1.2949 - val_accuracy: 0.5724\n",
            "Epoch 12/50\n",
            "306/306 [==============================] - 2s 5ms/step - loss: 0.9938 - accuracy: 0.6444 - val_loss: 1.2907 - val_accuracy: 0.5569\n",
            "Epoch 13/50\n",
            "306/306 [==============================] - 2s 5ms/step - loss: 0.9865 - accuracy: 0.6470 - val_loss: 1.2749 - val_accuracy: 0.5664\n",
            "Epoch 14/50\n",
            "306/306 [==============================] - 2s 6ms/step - loss: 0.9799 - accuracy: 0.6518 - val_loss: 1.2732 - val_accuracy: 0.5590\n",
            "Epoch 15/50\n",
            "306/306 [==============================] - 2s 5ms/step - loss: 0.9687 - accuracy: 0.6614 - val_loss: 1.2578 - val_accuracy: 0.5879\n",
            "Epoch 16/50\n",
            "306/306 [==============================] - 1s 5ms/step - loss: 0.9603 - accuracy: 0.6690 - val_loss: 1.3220 - val_accuracy: 0.5151\n",
            "Epoch 17/50\n",
            "306/306 [==============================] - 1s 5ms/step - loss: 0.9519 - accuracy: 0.6718 - val_loss: 1.3826 - val_accuracy: 0.5710\n",
            "Epoch 18/50\n",
            "306/306 [==============================] - 1s 5ms/step - loss: 0.9470 - accuracy: 0.6842 - val_loss: 1.2780 - val_accuracy: 0.5582\n",
            "Epoch 19/50\n",
            "306/306 [==============================] - 1s 5ms/step - loss: 0.9307 - accuracy: 0.6974 - val_loss: 1.2972 - val_accuracy: 0.5800\n",
            "Epoch 20/50\n",
            "306/306 [==============================] - 2s 6ms/step - loss: 0.9224 - accuracy: 0.7056 - val_loss: 1.3588 - val_accuracy: 0.5528\n",
            "Epoch 21/50\n",
            "306/306 [==============================] - 1s 5ms/step - loss: 0.9116 - accuracy: 0.7159 - val_loss: 1.3499 - val_accuracy: 0.5547\n",
            "Epoch 22/50\n",
            "306/306 [==============================] - 1s 5ms/step - loss: 0.9081 - accuracy: 0.7223 - val_loss: 1.3666 - val_accuracy: 0.5566\n",
            "Epoch 23/50\n",
            "306/306 [==============================] - 2s 5ms/step - loss: 0.8911 - accuracy: 0.7352 - val_loss: 1.3404 - val_accuracy: 0.5858\n",
            "Epoch 24/50\n",
            "306/306 [==============================] - 2s 5ms/step - loss: 0.8720 - accuracy: 0.7456 - val_loss: 1.4576 - val_accuracy: 0.5560\n",
            "Epoch 25/50\n",
            "306/306 [==============================] - 2s 5ms/step - loss: 0.8710 - accuracy: 0.7495 - val_loss: 1.4105 - val_accuracy: 0.5604\n",
            "Epoch 26/50\n",
            "306/306 [==============================] - 1s 5ms/step - loss: 0.8496 - accuracy: 0.7638 - val_loss: 1.3529 - val_accuracy: 0.5888\n",
            "Epoch 27/50\n",
            "306/306 [==============================] - 1s 4ms/step - loss: 0.8449 - accuracy: 0.7662 - val_loss: 1.5413 - val_accuracy: 0.5569\n",
            "Epoch 28/50\n",
            "306/306 [==============================] - 1s 4ms/step - loss: 0.8381 - accuracy: 0.7752 - val_loss: 1.4375 - val_accuracy: 0.6027\n",
            "Epoch 29/50\n",
            "306/306 [==============================] - 1s 4ms/step - loss: 0.8193 - accuracy: 0.7828 - val_loss: 1.4730 - val_accuracy: 0.5669\n",
            "Epoch 30/50\n",
            "306/306 [==============================] - 2s 5ms/step - loss: 0.8062 - accuracy: 0.7893 - val_loss: 1.5285 - val_accuracy: 0.5803\n",
            "Epoch 31/50\n",
            "306/306 [==============================] - 2s 5ms/step - loss: 0.7991 - accuracy: 0.7957 - val_loss: 1.6387 - val_accuracy: 0.5593\n",
            "Epoch 32/50\n",
            "306/306 [==============================] - 2s 5ms/step - loss: 0.7805 - accuracy: 0.8034 - val_loss: 1.5984 - val_accuracy: 0.5787\n",
            "Epoch 33/50\n",
            "306/306 [==============================] - 2s 5ms/step - loss: 0.7804 - accuracy: 0.8060 - val_loss: 1.6391 - val_accuracy: 0.5822\n",
            "Epoch 34/50\n",
            "306/306 [==============================] - 1s 5ms/step - loss: 0.7652 - accuracy: 0.8155 - val_loss: 1.5628 - val_accuracy: 0.5800\n",
            "Epoch 35/50\n",
            "306/306 [==============================] - 2s 5ms/step - loss: 0.7564 - accuracy: 0.8178 - val_loss: 1.8882 - val_accuracy: 0.5650\n",
            "Epoch 36/50\n",
            "306/306 [==============================] - 2s 6ms/step - loss: 0.7540 - accuracy: 0.8185 - val_loss: 1.8592 - val_accuracy: 0.5708\n",
            "Epoch 37/50\n",
            "306/306 [==============================] - 2s 5ms/step - loss: 0.7368 - accuracy: 0.8264 - val_loss: 1.9225 - val_accuracy: 0.5645\n",
            "Epoch 38/50\n",
            "306/306 [==============================] - 2s 5ms/step - loss: 0.7470 - accuracy: 0.8233 - val_loss: 1.7556 - val_accuracy: 0.5664\n",
            "Epoch 39/50\n",
            "306/306 [==============================] - 1s 5ms/step - loss: 0.7281 - accuracy: 0.8277 - val_loss: 1.9828 - val_accuracy: 0.5699\n",
            "Epoch 40/50\n",
            "306/306 [==============================] - 2s 5ms/step - loss: 0.7396 - accuracy: 0.8262 - val_loss: 1.7089 - val_accuracy: 0.5852\n",
            "Epoch 41/50\n",
            "306/306 [==============================] - 1s 5ms/step - loss: 0.7144 - accuracy: 0.8360 - val_loss: 1.8999 - val_accuracy: 0.5751\n",
            "Epoch 42/50\n",
            "306/306 [==============================] - 1s 5ms/step - loss: 0.7217 - accuracy: 0.8296 - val_loss: 1.9354 - val_accuracy: 0.5683\n",
            "Epoch 43/50\n",
            "306/306 [==============================] - 1s 5ms/step - loss: 0.7201 - accuracy: 0.8318 - val_loss: 1.8589 - val_accuracy: 0.5754\n",
            "Epoch 44/50\n",
            "306/306 [==============================] - 1s 5ms/step - loss: 0.7022 - accuracy: 0.8418 - val_loss: 1.8253 - val_accuracy: 0.5839\n",
            "Epoch 45/50\n",
            "306/306 [==============================] - 2s 5ms/step - loss: 0.6995 - accuracy: 0.8406 - val_loss: 2.0261 - val_accuracy: 0.5757\n",
            "Epoch 46/50\n",
            "306/306 [==============================] - 1s 5ms/step - loss: 0.7001 - accuracy: 0.8408 - val_loss: 2.0244 - val_accuracy: 0.5525\n",
            "Epoch 47/50\n",
            "306/306 [==============================] - 1s 5ms/step - loss: 0.6854 - accuracy: 0.8470 - val_loss: 1.9435 - val_accuracy: 0.5721\n",
            "Epoch 48/50\n",
            "306/306 [==============================] - 1s 5ms/step - loss: 0.6889 - accuracy: 0.8435 - val_loss: 2.0220 - val_accuracy: 0.5569\n",
            "Epoch 49/50\n",
            "306/306 [==============================] - 2s 5ms/step - loss: 0.6752 - accuracy: 0.8498 - val_loss: 2.0353 - val_accuracy: 0.5825\n",
            "Epoch 50/50\n",
            "306/306 [==============================] - 2s 6ms/step - loss: 0.6662 - accuracy: 0.8555 - val_loss: 1.9476 - val_accuracy: 0.5751\n"
=======
            "33593/33604 [============================>.] - ETA: 0s - loss: 0.8255 - accuracy: 0.6944INFO:tensorflow:Assets written to: C:/Users/malik/Desktop/ASL-Aly/ASL-words-translator/training_models/mediapipe/Simple-Dense-Layers\\AUGMENTED-FULL-REFLECTION-WITHOUT-LEAKAGE.01-0.63\\assets\n",
            "33604/33604 [==============================] - 93s 3ms/step - loss: 0.8255 - accuracy: 0.6945 - val_loss: 1.1585 - val_accuracy: 0.6298\n",
            "Epoch 2/50\n",
            "33589/33604 [============================>.] - ETA: 0s - loss: 0.5607 - accuracy: 0.8052INFO:tensorflow:Assets written to: C:/Users/malik/Desktop/ASL-Aly/ASL-words-translator/training_models/mediapipe/Simple-Dense-Layers\\AUGMENTED-FULL-REFLECTION-WITHOUT-LEAKAGE.02-0.63\\assets\n",
            "33604/33604 [==============================] - 96s 3ms/step - loss: 0.5607 - accuracy: 0.8052 - val_loss: 2.0092 - val_accuracy: 0.6316\n",
            "Epoch 3/50\n",
            "33604/33604 [==============================] - 92s 3ms/step - loss: 0.5142 - accuracy: 0.8284 - val_loss: 1.3289 - val_accuracy: 0.6155\n",
            "Epoch 4/50\n",
            "33604/33604 [==============================] - 92s 3ms/step - loss: 0.4926 - accuracy: 0.8383 - val_loss: 1.3479 - val_accuracy: 0.6286\n",
            "Epoch 5/50\n",
            "33604/33604 [==============================] - 93s 3ms/step - loss: 0.4761 - accuracy: 0.8442 - val_loss: 1.5366 - val_accuracy: 0.6141\n",
            "Epoch 6/50\n",
            "33604/33604 [==============================] - 93s 3ms/step - loss: 0.4634 - accuracy: 0.8493 - val_loss: 1.7108 - val_accuracy: 0.5891\n",
            "Epoch 7/50\n",
            "33604/33604 [==============================] - 94s 3ms/step - loss: 0.4544 - accuracy: 0.8531 - val_loss: 1.4546 - val_accuracy: 0.6241\n",
            "Epoch 8/50\n",
            "33604/33604 [==============================] - 94s 3ms/step - loss: 0.4472 - accuracy: 0.8562 - val_loss: 1.5849 - val_accuracy: 0.6190\n",
            "Epoch 9/50\n",
            "33604/33604 [==============================] - 94s 3ms/step - loss: 0.4405 - accuracy: 0.8592 - val_loss: 1.6722 - val_accuracy: 0.6094\n",
            "Epoch 10/50\n",
            "33604/33604 [==============================] - 94s 3ms/step - loss: 0.4338 - accuracy: 0.8629 - val_loss: 1.8375 - val_accuracy: 0.6072\n",
            "Epoch 11/50\n",
            "33604/33604 [==============================] - 95s 3ms/step - loss: 0.4282 - accuracy: 0.8660 - val_loss: 1.5026 - val_accuracy: 0.6280\n",
            "Epoch 12/50\n",
            "33604/33604 [==============================] - 95s 3ms/step - loss: 0.4211 - accuracy: 0.8695 - val_loss: 1.7481 - val_accuracy: 0.6254\n",
            "Epoch 13/50\n",
            "33604/33604 [==============================] - 95s 3ms/step - loss: 0.4172 - accuracy: 0.8720 - val_loss: 1.6540 - val_accuracy: 0.6185\n",
            "Epoch 14/50\n",
            "33604/33604 [==============================] - 95s 3ms/step - loss: 0.4139 - accuracy: 0.8738 - val_loss: 1.7464 - val_accuracy: 0.6020\n",
            "Epoch 15/50\n",
            "33604/33604 [==============================] - 95s 3ms/step - loss: 0.4101 - accuracy: 0.8763 - val_loss: 1.6401 - val_accuracy: 0.6197\n",
            "Epoch 16/50\n",
            "33592/33604 [============================>.] - ETA: 0s - loss: 0.4059 - accuracy: 0.8779INFO:tensorflow:Assets written to: C:/Users/malik/Desktop/ASL-Aly/ASL-words-translator/training_models/mediapipe/Simple-Dense-Layers\\AUGMENTED-FULL-REFLECTION-WITHOUT-LEAKAGE.16-0.65\\assets\n",
            "33604/33604 [==============================] - 96s 3ms/step - loss: 0.4059 - accuracy: 0.8779 - val_loss: 1.7629 - val_accuracy: 0.6451\n",
            "Epoch 17/50\n",
            "33587/33604 [============================>.] - ETA: 0s - loss: 0.4029 - accuracy: 0.8808INFO:tensorflow:Assets written to: C:/Users/malik/Desktop/ASL-Aly/ASL-words-translator/training_models/mediapipe/Simple-Dense-Layers\\AUGMENTED-FULL-REFLECTION-WITHOUT-LEAKAGE.17-0.66\\assets\n",
            "33604/33604 [==============================] - 95s 3ms/step - loss: 0.4029 - accuracy: 0.8808 - val_loss: 1.6635 - val_accuracy: 0.6640\n",
            "Epoch 18/50\n",
            "33604/33604 [==============================] - 104s 3ms/step - loss: 0.3991 - accuracy: 0.8838 - val_loss: 1.2741 - val_accuracy: 0.6245\n",
            "Epoch 19/50\n",
            "33604/33604 [==============================] - 102s 3ms/step - loss: 0.3964 - accuracy: 0.8862 - val_loss: 1.7670 - val_accuracy: 0.5999\n",
            "Epoch 20/50\n",
            "33604/33604 [==============================] - 102s 3ms/step - loss: 0.3924 - accuracy: 0.8878 - val_loss: 1.8645 - val_accuracy: 0.6489\n",
            "Epoch 21/50\n",
            "33604/33604 [==============================] - 102s 3ms/step - loss: 0.3868 - accuracy: 0.8907 - val_loss: 1.3345 - val_accuracy: 0.6531\n",
            "Epoch 22/50\n",
            "33604/33604 [==============================] - 102s 3ms/step - loss: 0.3840 - accuracy: 0.8921 - val_loss: 1.8058 - val_accuracy: 0.6391\n",
            "Epoch 23/50\n",
            "33604/33604 [==============================] - ETA: 0s - loss: 0.3800 - accuracy: 0.8948INFO:tensorflow:Assets written to: C:/Users/malik/Desktop/ASL-Aly/ASL-words-translator/training_models/mediapipe/Simple-Dense-Layers\\AUGMENTED-FULL-REFLECTION-WITHOUT-LEAKAGE.23-0.68\\assets\n",
            "33604/33604 [==============================] - 103s 3ms/step - loss: 0.3800 - accuracy: 0.8948 - val_loss: 1.4823 - val_accuracy: 0.6785\n",
            "Epoch 24/50\n",
            "33604/33604 [==============================] - 96s 3ms/step - loss: 0.3765 - accuracy: 0.8958 - val_loss: 1.9574 - val_accuracy: 0.6321\n",
            "Epoch 25/50\n",
            "33604/33604 [==============================] - 96s 3ms/step - loss: 0.3727 - accuracy: 0.8974 - val_loss: 1.7228 - val_accuracy: 0.6719\n",
            "Epoch 26/50\n",
            "33604/33604 [==============================] - 97s 3ms/step - loss: 0.3723 - accuracy: 0.8969 - val_loss: 2.0518 - val_accuracy: 0.6527\n",
            "Epoch 27/50\n",
            "33604/33604 [==============================] - 97s 3ms/step - loss: 0.3684 - accuracy: 0.8991 - val_loss: 2.0486 - val_accuracy: 0.6451\n",
            "Epoch 28/50\n",
            "33604/33604 [==============================] - 97s 3ms/step - loss: 0.3649 - accuracy: 0.9005 - val_loss: 1.4977 - val_accuracy: 0.6780\n",
            "Epoch 29/50\n",
            "33604/33604 [==============================] - 98s 3ms/step - loss: 0.3626 - accuracy: 0.9013 - val_loss: 1.5323 - val_accuracy: 0.6424\n",
            "Epoch 30/50\n",
            "33604/33604 [==============================] - 97s 3ms/step - loss: 0.3612 - accuracy: 0.9019 - val_loss: 1.6762 - val_accuracy: 0.6445\n",
            "Epoch 31/50\n",
            "33604/33604 [==============================] - 98s 3ms/step - loss: 0.3580 - accuracy: 0.9031 - val_loss: 1.7331 - val_accuracy: 0.6289\n",
            "Epoch 32/50\n",
            "33604/33604 [==============================] - 97s 3ms/step - loss: 0.3575 - accuracy: 0.9037 - val_loss: 1.7627 - val_accuracy: 0.6650\n",
            "Epoch 33/50\n",
            "33604/33604 [==============================] - 98s 3ms/step - loss: 0.3544 - accuracy: 0.9050 - val_loss: 2.0064 - val_accuracy: 0.6054\n",
            "Epoch 34/50\n",
            "33604/33604 [==============================] - 98s 3ms/step - loss: 0.3529 - accuracy: 0.9058 - val_loss: 1.5836 - val_accuracy: 0.6669\n",
            "Epoch 35/50\n",
            "33604/33604 [==============================] - 99s 3ms/step - loss: 0.3497 - accuracy: 0.9069 - val_loss: 1.3823 - val_accuracy: 0.6491\n",
            "Epoch 36/50\n",
            "33604/33604 [==============================] - 98s 3ms/step - loss: 0.3495 - accuracy: 0.9071 - val_loss: 1.7349 - val_accuracy: 0.6730\n",
            "Epoch 37/50\n",
            "33604/33604 [==============================] - 99s 3ms/step - loss: 0.3473 - accuracy: 0.9082 - val_loss: 1.8270 - val_accuracy: 0.6359\n",
            "Epoch 38/50\n",
            "33604/33604 [==============================] - 101s 3ms/step - loss: 0.3462 - accuracy: 0.9088 - val_loss: 1.8161 - val_accuracy: 0.6269\n",
            "Epoch 39/50\n",
            "33604/33604 [==============================] - 102s 3ms/step - loss: 0.3440 - accuracy: 0.9095 - val_loss: 1.7514 - val_accuracy: 0.6667\n",
            "Epoch 40/50\n",
            "33604/33604 [==============================] - 102s 3ms/step - loss: 0.3444 - accuracy: 0.9100 - val_loss: 1.6492 - val_accuracy: 0.6616\n",
            "Epoch 41/50\n",
            "33604/33604 [==============================] - 98s 3ms/step - loss: 0.3418 - accuracy: 0.9106 - val_loss: 1.5898 - val_accuracy: 0.6319\n",
            "Epoch 42/50\n",
            "33604/33604 [==============================] - 100s 3ms/step - loss: 0.3413 - accuracy: 0.9108 - val_loss: 1.8989 - val_accuracy: 0.6274\n",
            "Epoch 43/50\n",
            "33596/33604 [============================>.] - ETA: 0s - loss: 0.3412 - accuracy: 0.9112INFO:tensorflow:Assets written to: C:/Users/malik/Desktop/ASL-Aly/ASL-words-translator/training_models/mediapipe/Simple-Dense-Layers\\AUGMENTED-FULL-REFLECTION-WITHOUT-LEAKAGE.43-0.68\\assets\n",
            "33604/33604 [==============================] - 101s 3ms/step - loss: 0.3412 - accuracy: 0.9112 - val_loss: 1.7400 - val_accuracy: 0.6799\n",
            "Epoch 44/50\n",
            "33604/33604 [==============================] - 94s 3ms/step - loss: 0.3389 - accuracy: 0.9118 - val_loss: 1.6090 - val_accuracy: 0.6707\n",
            "Epoch 45/50\n",
            "33604/33604 [==============================] - 100s 3ms/step - loss: 0.3381 - accuracy: 0.9120 - val_loss: 1.8661 - val_accuracy: 0.6762\n",
            "Epoch 46/50\n",
            "33604/33604 [==============================] - 100s 3ms/step - loss: 0.3433 - accuracy: 0.9110 - val_loss: 1.6997 - val_accuracy: 0.6594\n",
            "Epoch 47/50\n",
            "33604/33604 [==============================] - 99s 3ms/step - loss: 0.3476 - accuracy: 0.9095 - val_loss: 1.9752 - val_accuracy: 0.6616\n",
            "Epoch 48/50\n",
            "33597/33604 [============================>.] - ETA: 0s - loss: 0.3366 - accuracy: 0.9129INFO:tensorflow:Assets written to: C:/Users/malik/Desktop/ASL-Aly/ASL-words-translator/training_models/mediapipe/Simple-Dense-Layers\\AUGMENTED-FULL-REFLECTION-WITHOUT-LEAKAGE.48-0.69\\assets\n",
            "33604/33604 [==============================] - 101s 3ms/step - loss: 0.3366 - accuracy: 0.9129 - val_loss: 1.8928 - val_accuracy: 0.6856\n",
            "Epoch 49/50\n",
            "33604/33604 [==============================] - 106s 3ms/step - loss: 0.3337 - accuracy: 0.9139 - val_loss: 1.5750 - val_accuracy: 0.6669\n",
            "Epoch 50/50\n",
            "33604/33604 [==============================] - 107s 3ms/step - loss: 0.3342 - accuracy: 0.9139 - val_loss: 1.8074 - val_accuracy: 0.6579\n"
>>>>>>> b1abb53b06ecd40a68897770d8f10465eba2a1c5
          ]
        }
      ],
      "source": [
        "#fitting\n",
        "with tf.device('/cpu:0'):\n",
        "    history = model.fit(X_train,Y_train, epochs=50, batch_size=32, validation_data=(X_val,Y_val), callbacks=[checkpoint])"
      ]
    },
    {
      "cell_type": "code",
      "execution_count": 15,
      "metadata": {},
      "outputs": [
        {
          "name": "stdout",
          "output_type": "stream",
          "text": [
            "115/115 [==============================] - 0s 2ms/step - loss: 1.9476 - accuracy: 0.5751\n",
            "Model: \"sequential\"\n",
            "_________________________________________________________________\n",
            " Layer (type)                Output Shape              Param #   \n",
            "=================================================================\n",
            " dense (Dense)               (None, 128)               38528     \n",
            "                                                                 \n",
            " dense_1 (Dense)             (None, 64)                8256      \n",
            "                                                                 \n",
            " dropout (Dropout)           (None, 64)                0         \n",
            "                                                                 \n",
            " dense_2 (Dense)             (None, 512)               33280     \n",
            "                                                                 \n",
            " dense_3 (Dense)             (None, 256)               131328    \n",
            "                                                                 \n",
            " dense_4 (Dense)             (None, 128)               32896     \n",
            "                                                                 \n",
            " dense_5 (Dense)             (None, 16)                2064      \n",
            "                                                                 \n",
            " dense_6 (Dense)             (None, 4)                 68        \n",
            "                                                                 \n",
            "=================================================================\n",
            "Total params: 246,420\n",
            "Trainable params: 246,420\n",
            "Non-trainable params: 0\n",
            "_________________________________________________________________\n"
          ]
        }
      ],
      "source": [
        "model.evaluate(X_val,Y_val)\n",
        "model.summary()"
      ]
    },
    {
      "attachments": {},
      "cell_type": "markdown",
      "metadata": {},
      "source": [
        "## save the model"
      ]
    },
    {
      "cell_type": "code",
      "execution_count": null,
      "metadata": {},
      "outputs": [],
      "source": [
        "model.save(\"saved_model\")"
      ]
    },
    {
      "cell_type": "code",
      "execution_count": null,
      "metadata": {},
      "outputs": [],
      "source": [
        "test_df = np.array([[0.4981820583343506,0.3041764795780182,-0.39641207456588745,0.9999492764472961,0.5154309272766113,0.2550220787525177,-0.34935909509658813,0.9998473525047302,0.5238351225852966,0.2552952766418457,-0.34945884346961975,0.9998874068260193,0.5324825644493103,0.25629663467407227,-0.3490661680698395,0.9998465776443481,0.480642706155777,0.258960485458374,-0.35233527421951294,0.9998729228973389,0.46913933753967285,0.26167136430740356,-0.3522539734840393,0.9999103546142578,0.4588560163974762,0.26559099555015564,-0.35270392894744873,0.9998877644538879,0.5477309823036194,0.2884930372238159,-0.08250369131565094,0.9998624324798584,0.44203734397888184,0.2937893569469452,-0.08980625122785568,0.9999209046363831,0.5207302570343018,0.3572015166282654,-0.2996494770050049,0.9999455809593201,0.4778904318809509,0.35783419013023376,-0.303683340549469,0.9999536871910095,0.6314497590065002,0.5698841214179993,0.008182904683053493,0.9999152421951294,0.37602466344833374,0.5611208081245422,0.020433634519577026,0.9998253583908081,0.7292965650558472,0.9798671007156372,-0.32061514258384705,0.9971438646316528,0.20657332241535187,0.8604757785797119,-0.35482174158096313,0.9956580996513367,0.5498597621917725,0.8489202857017517,-0.7637590169906616,0.9986798167228699,0.37362605333328247,0.6491265296936035,-0.8803924322128296,0.9952695369720459,0.4984210431575775,0.8526077270507812,-0.8525819778442383,0.9939749836921692,0.4279037117958069,0.6301683187484741,-0.9744688868522644,0.9816589951515198,0.49681568145751953,0.7763991355895996,-0.7786155939102173,0.9938353300094604,0.43934187293052673,0.5735072493553162,-0.9105846285820007,0.9798092246055603,0.5083235502243042,0.7676472067832947,-0.7398286461830139,0.991555392742157,0.4291306436061859,0.581972599029541,-0.8635354042053223,0.9797517657279968,0.5966092348098755,1.2567808628082275,-0.008524066768586636,0.1589588075876236,0.38996055722236633,1.2599668502807617,0.010765359736979008,0.17815829813480377,0.5948789715766907,1.8001701831817627,0.003953699953854084,0.012086698785424232,0.4031899869441986,1.7931101322174072,-0.015372313559055328,0.00784522294998169,0.6021834015846252,2.2724609375,0.30393192172050476,0.0014408509014174342,0.42258867621421814,2.2609975337982178,0.15069334208965302,0.0005837850621901453,0.6074386835098267,2.337127685546875,0.3106561303138733,0.0007881768397055566,0.41845861077308655,2.323322296142578,0.15600086748600006,0.0007185556460171938,0.5843966603279114,2.4317216873168945,-0.0522509329020977,0.0006601922796107829,0.4535377621650696,2.422938585281372,-0.2161559760570526,0.001258615986444056,0.373634397983551,0.6499707102775574,-1.8444630711655918e-07,0.0,0.39679813385009766,0.5777179598808289,0.0013798748841509223,0.0,0.43735894560813904,0.534506618976593,-0.00420121755450964,0.0,0.47639840841293335,0.5254983901977539,-0.01024630106985569,0.0,0.5027356743812561,0.5411986708641052,-0.014173091389238834,0.0,0.45060163736343384,0.5403348207473755,-0.015738490968942642,0.0,0.5017736554145813,0.5638222098350525,-0.02503901533782482,0.0,0.4914117455482483,0.5653451681137085,-0.027088096365332603,0.0,0.47413501143455505,0.564212441444397,-0.0264134518802166,0.0,0.4494023323059082,0.5912742614746094,-0.021495746448636055,0.0,0.5018069744110107,0.6102883815765381,-0.025984806939959526,0.0,0.4879333972930908,0.6084942817687988,-0.0215410478413105,0.0,0.46763357520103455,0.6072394847869873,-0.018301531672477722,0.0,0.44739097356796265,0.6418318152427673,-0.02643604204058647,0.0,0.4959167242050171,0.6526373028755188,-0.02697780914604664,0.0,0.48271769285202026,0.6494451761245728,-0.015943871811032295,0.0,0.46350032091140747,0.6479849815368652,-0.009380415081977844,0.0,0.4440409541130066,0.686765730381012,-0.03130561113357544,0.0,0.48238319158554077,0.6835903525352478,-0.027893563732504845,0.0,0.4705689549446106,0.6809285879135132,-0.01684371940791607,0.0,0.4541867673397064,0.6818298101425171,-0.009424922056496143,0.0,0.5541528463363647,0.8231633305549622,-1.2188849041194771e-07,0.0,0.5286245942115784,0.7567625045776367,0.002618174534291029,0.0,0.490420401096344,0.725986659526825,-0.0019848633091896772,0.0,0.45551788806915283,0.727816104888916,-0.006525832694023848,0.0,0.4336313307285309,0.7500261068344116,-0.011036446318030357,0.0,0.4799780249595642,0.7299957275390625,-0.022469153627753258,0.0,0.4273468255996704,0.7438825368881226,-0.032165635377168655,0.0,0.4391612410545349,0.7527205348014832,-0.0347185879945755,0.0,0.4578348398208618,0.7505552768707275,-0.034520745277404785,0.0,0.4814111292362213,0.783324658870697,-0.027409298345446587,0.0,0.4299897849559784,0.79166579246521,-0.032714203000068665,0.0,0.4421943128108978,0.7919579744338989,-0.02897382713854313,0.0,0.4601382911205292,0.789323091506958,-0.02673531323671341,0.0,0.4840109646320343,0.8338181972503662,-0.03076060861349106,0.0,0.4401523470878601,0.8343431949615479,-0.032595742493867874,0.0,0.45229482650756836,0.8290730118751526,-0.02321871742606163,0.0,0.467772513628006,0.826426088809967,-0.01786368153989315,0.0,0.4874705970287323,0.8772450685501099,-0.03356040641665459,0.0,0.4529787600040436,0.8700811266899109,-0.03298313543200493,0.0,0.4627114236354828,0.8613516688346863,-0.02354632131755352,0.0,0.4751517176628113,0.8603678345680237,-0.016946855932474136,0.0]])\n",
        "#this is coffee\n",
        "\n",
        "model.predict(test_df)"
      ]
    },
    {
      "cell_type": "code",
      "execution_count": 120,
      "metadata": {},
      "outputs": [
        {
          "data": {
            "image/png": "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",
            "text/plain": [
              "<Figure size 640x480 with 1 Axes>"
            ]
          },
          "metadata": {},
          "output_type": "display_data"
        }
      ],
      "source": [
        "from matplotlib import pyplot as plt\n",
        "plt.plot(history.history['accuracy'])\n",
        "plt.plot(history.history['val_accuracy'])\n",
        "plt.title('model accuracy')\n",
        "plt.ylabel('accuracy')\n",
        "plt.xlabel('epoch')\n",
        "plt.legend(['train', 'val'], loc='upper left')\n",
        "plt.savefig('accuracy_4_labels_regularization.png')\n",
        "plt.show()"
      ]
    },
    {
      "cell_type": "code",
      "execution_count": 121,
      "metadata": {},
      "outputs": [
        {
          "data": {
            "image/png": "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",
            "text/plain": [
              "<Figure size 640x480 with 1 Axes>"
            ]
          },
          "metadata": {},
          "output_type": "display_data"
        }
      ],
      "source": [
        "plt.plot(history.history['loss'])\n",
        "plt.plot(history.history['val_loss'])\n",
        "plt.title('model loss')\n",
        "plt.ylabel('loss')\n",
        "plt.xlabel('epoch')\n",
        "plt.legend(['train', 'val'], loc='upper left')\n",
        "plt.savefig('loss_4_labels_regularization.png')\n",
        "plt.show()\n"
      ]
    },
    {
      "attachments": {},
      "cell_type": "markdown",
      "metadata": {},
      "source": [
        "## THis is the model I had written in the past\n"
      ]
    },
    {
      "cell_type": "code",
      "execution_count": null,
      "metadata": {},
      "outputs": [],
      "source": [
        "model2 = Sequential([\n",
        "    Dense(units=128, activation='relu'),\n",
        "    Dense(units=64, activation='relu'),\n",
        "    Dense(units=4, activation='softmax')\n",
        "])\n",
        "model2.compile(loss=SparseCategoricalCrossentropy(), optimizer=Adam(), metrics=[\"accuracy\"])"
      ]
    },
    {
      "cell_type": "code",
      "execution_count": null,
      "metadata": {},
      "outputs": [],
      "source": [
        "history2 = model2.fit(X_train,Y_train, epochs=20, validation_data=(X_val,Y_val))"
      ]
    },
    {
      "cell_type": "code",
      "execution_count": null,
      "metadata": {},
      "outputs": [],
      "source": [
        "from matplotlib import pyplot as plt\n",
        "plt.plot(history2.history['accuracy'])\n",
        "plt.plot(history2.history['val_accuracy'])\n",
        "plt.title('model accuracy')\n",
        "plt.ylabel('accuracy')\n",
        "plt.xlabel('epoch')\n",
        "plt.legend(['train', 'val'], loc='upper left')\n",
        "plt.savefig('accuracy_4_labels_no_regularization.png')\n",
        "plt.show()"
      ]
    },
    {
      "cell_type": "code",
      "execution_count": null,
      "metadata": {},
      "outputs": [],
      "source": [
        "plt.plot(history2.history['loss'])\n",
        "plt.plot(history2.history['val_loss'])\n",
        "plt.title('model loss')\n",
        "plt.ylabel('loss')\n",
        "plt.xlabel('epoch')\n",
        "plt.legend(['train', 'val'], loc='upper left')\n",
        "plt.savefig('loss_4_labels_no_regularization.png')\n",
        "plt.show()\n"
      ]
    }
  ],
  "metadata": {
    "kernelspec": {
      "display_name": "Python 3 (ipykernel)",
      "language": "python",
      "name": "python3"
    },
    "language_info": {
      "codemirror_mode": {
        "name": "ipython",
        "version": 3
      },
      "file_extension": ".py",
      "mimetype": "text/x-python",
      "name": "python",
      "nbconvert_exporter": "python",
      "pygments_lexer": "ipython3",
      "version": "3.9.9"
    }
  },
  "nbformat": 4,
  "nbformat_minor": 2
}
