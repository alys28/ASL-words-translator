{
 "cells": [
  {
   "cell_type": "code",
   "execution_count": 14,
   "metadata": {},
   "outputs": [],
   "source": [
    "import tensorflow as tf\n",
    "from tensorflow.keras.layers import Dense, Dropout\n",
    "import keras\n",
    "from tensorflow.keras import Sequential\n",
    "import os\n",
    "import numpy as np\n",
    "import pandas as pd"
   ]
  },
  {
   "cell_type": "code",
   "execution_count": 2,
   "metadata": {},
   "outputs": [],
   "source": [
    "names = [\n",
    " 'music',\n",
    " 'brother',\n",
    " 'ocean',\n",
    " 'i love you',\n",
    " 'dog',\n",
    " 'polite',\n",
    " 'milk',\n",
    " 'money',\n",
    " 'coffee',\n",
    " 'door']"
   ]
  },
  {
   "cell_type": "code",
   "execution_count": 3,
   "metadata": {},
   "outputs": [
    {
     "data": {
      "text/plain": [
       "10"
      ]
     },
     "execution_count": 3,
     "metadata": {},
     "output_type": "execute_result"
    }
   ],
   "source": [
    "len(names)"
   ]
  },
  {
   "cell_type": "code",
   "execution_count": 6,
   "metadata": {},
   "outputs": [
    {
     "name": "stdout",
     "output_type": "stream",
     "text": [
      "(19101, 301) (5329, 301)\n"
     ]
    }
   ],
   "source": [
    "import glob\n",
    "\n",
    "train_df = pd.DataFrame()\n",
    "test_df = pd.DataFrame()\n",
    "i = 0\n",
    "for label in names:\n",
    "    files = glob.glob(f\"/Users/aly/Documents/Programming/Apps/Machine Learning/ASL Converter/training_models/mediapipe/reformatting-the-data/data_25_labels/{label}/*.csv\")\n",
    "    for f in files:\n",
    "        csv = pd.read_csv(f)\n",
    "        if i%5 != 0:    \n",
    "            train_df = pd.concat([train_df, csv])\n",
    "        else:\n",
    "            test_df = pd.concat([test_df, csv])\n",
    "        i += 1\n",
    "        \n",
    "\n",
    "print(train_df.shape, test_df.shape)"
   ]
  },
  {
   "cell_type": "code",
   "execution_count": 7,
   "metadata": {},
   "outputs": [],
   "source": [
    "def seperate_label(df):\n",
    "    df_features = df.copy()\n",
    "\n",
    "    df_labels = df_features.pop(\"class\")\n",
    "\n",
    "    df_features = np.array(df_features)\n",
    "    # df_labels = np.array(df_labels)\n",
    "    print(df_features.shape)\n",
    "    print(df_labels.shape, type(df_labels))\n",
    "    return df_features, df_labels"
   ]
  },
  {
   "cell_type": "code",
   "execution_count": 8,
   "metadata": {},
   "outputs": [
    {
     "name": "stdout",
     "output_type": "stream",
     "text": [
      "(19101, 300)\n",
      "(19101,) <class 'pandas.core.series.Series'>\n"
     ]
    }
   ],
   "source": [
    "X_train, Y_train = seperate_label(train_df)"
   ]
  },
  {
   "cell_type": "code",
   "execution_count": 9,
   "metadata": {},
   "outputs": [
    {
     "name": "stdout",
     "output_type": "stream",
     "text": [
      "(5329, 300)\n",
      "(5329,) <class 'pandas.core.series.Series'>\n"
     ]
    }
   ],
   "source": [
    "X_val, Y_val = seperate_label(test_df)"
   ]
  },
  {
   "cell_type": "code",
   "execution_count": 10,
   "metadata": {},
   "outputs": [
    {
     "data": {
      "text/plain": [
       "{'music': 0,\n",
       " 'brother': 1,\n",
       " 'ocean': 2,\n",
       " 'i love you': 3,\n",
       " 'dog': 4,\n",
       " 'polite': 5,\n",
       " 'milk': 6,\n",
       " 'money': 7,\n",
       " 'coffee': 8,\n",
       " 'door': 9}"
      ]
     },
     "execution_count": 10,
     "metadata": {},
     "output_type": "execute_result"
    }
   ],
   "source": [
    "dicti = {names[i]: i for i in range(len(names))}\n",
    "dicti"
   ]
  },
  {
   "cell_type": "code",
   "execution_count": 11,
   "metadata": {},
   "outputs": [],
   "source": [
    "def reformat_label(df_labels):    \n",
    "#should be between 0 and 3\n",
    "    # for element in df_labels:\n",
    "    #     element = dicti[element]\n",
    "\n",
    "    def change_label(x):\n",
    "        return dicti[x]\n",
    "\n",
    "    df_labels = df_labels.apply(change_label)\n",
    "    df_labels.head()\n",
    "    return df_labels\n",
    "\n",
    "Y_train = reformat_label(Y_train)\n",
    "Y_val = reformat_label(Y_val)"
   ]
  },
  {
   "cell_type": "code",
   "execution_count": 12,
   "metadata": {},
   "outputs": [
    {
     "data": {
      "text/plain": [
       "(0     0\n",
       " 1     0\n",
       " 2     0\n",
       " 3     0\n",
       " 4     0\n",
       "      ..\n",
       " 49    9\n",
       " 50    9\n",
       " 51    9\n",
       " 52    9\n",
       " 53    9\n",
       " Name: class, Length: 19101, dtype: int64,\n",
       " 0     0\n",
       " 1     0\n",
       " 2     0\n",
       " 3     0\n",
       " 4     0\n",
       "      ..\n",
       " 62    9\n",
       " 63    9\n",
       " 64    9\n",
       " 65    9\n",
       " 66    9\n",
       " Name: class, Length: 5329, dtype: int64)"
      ]
     },
     "execution_count": 12,
     "metadata": {},
     "output_type": "execute_result"
    }
   ],
   "source": [
    "Y_train, Y_val"
   ]
  },
  {
   "cell_type": "code",
   "execution_count": 13,
   "metadata": {},
   "outputs": [
    {
     "name": "stdout",
     "output_type": "stream",
     "text": [
      "(19101, 1) (5329, 1)\n"
     ]
    }
   ],
   "source": [
    "#I have to make each label a single vector \n",
    "# I can just rotate (transpose, since now I have a single rolumn, I will make it into many rows)! \n",
    "Y_train = np.array([Y_train]).T\n",
    "Y_val = np.array([Y_val]).T\n",
    "print(Y_train.shape, Y_val.shape)"
   ]
  },
  {
   "cell_type": "code",
   "execution_count": 15,
   "metadata": {},
   "outputs": [
    {
     "data": {
      "text/plain": [
       "(array([[ 0.46710524,  0.37786728, -0.5233407 , ...,  0.82614565,\n",
       "         -0.01049773,  0.        ],\n",
       "        [ 0.51885402,  0.35000384, -0.84283555, ...,  0.        ,\n",
       "          0.        ,  0.        ],\n",
       "        [ 0.5758189 ,  0.24245074, -0.43719378, ...,  0.98968548,\n",
       "         -0.02040255,  0.        ],\n",
       "        ...,\n",
       "        [ 0.49153692,  0.33117181, -0.58112657, ...,  0.        ,\n",
       "          0.        ,  0.        ],\n",
       "        [ 0.52043146,  0.23756535, -0.81144363, ...,  0.        ,\n",
       "          0.        ,  0.        ],\n",
       "        [ 0.48301202,  0.23721303, -0.93980378, ...,  0.        ,\n",
       "          0.        ,  0.        ]]),\n",
       " array([[1],\n",
       "        [5],\n",
       "        [1],\n",
       "        ...,\n",
       "        [6],\n",
       "        [6],\n",
       "        [1]]))"
      ]
     },
     "execution_count": 15,
     "metadata": {},
     "output_type": "execute_result"
    }
   ],
   "source": [
    "from sklearn.utils import shuffle\n",
    "\n",
    "X_train,Y_train = shuffle(X_train, Y_train, random_state=0)\n",
    "X_val,Y_val = shuffle(X_val, Y_val, random_state=0)\n",
    "X_train, Y_train"
   ]
  },
  {
   "cell_type": "code",
   "execution_count": 32,
   "metadata": {},
   "outputs": [],
   "source": [
    "model = Sequential([\n",
    "    Dense(units=256, activation='relu'),\n",
    "    Dense(units=200, activation='relu',\n",
    "          kernel_regularizer=keras.regularizers.l1_l2(0.01)),\n",
    "    Dense(units=200, activation='relu',\n",
    "          kernel_regularizer=keras.regularizers.l2(0.01)),\n",
    "    Dense(units=10, activation='softmax')\n",
    "])"
   ]
  },
  {
   "cell_type": "code",
   "execution_count": 33,
   "metadata": {},
   "outputs": [],
   "source": [
    "checkpoint = tf.keras.callbacks.ModelCheckpoint(\n",
    "    \"/Users/aly/Documents/Programming/Apps/Machine Learning/ASL Converter/training_models/mediapipe/Simple-Dense-Layers/regularized-10-labels.{epoch:02d}-{val_accuracy:.2f}\",\n",
    "    monitor='val_accuracy',\n",
    "    verbose=0,\n",
    "    save_best_only=True,\n",
    "    save_weights_only=False,\n",
    "    mode='auto',\n",
    "    save_freq='epoch',\n",
    ")"
   ]
  },
  {
   "cell_type": "code",
   "execution_count": 34,
   "metadata": {},
   "outputs": [],
   "source": [
    "#cost function\n",
    "from tensorflow.keras.losses import SparseCategoricalCrossentropy\n",
    "from tensorflow.keras.optimizers import Adam\n",
    "\n",
    "model.compile(loss=SparseCategoricalCrossentropy(), optimizer=Adam(), metrics=[\"accuracy\"])"
   ]
  },
  {
   "cell_type": "code",
   "execution_count": 36,
   "metadata": {},
   "outputs": [
    {
     "name": "stdout",
     "output_type": "stream",
     "text": [
      "Epoch 1/20\n"
     ]
    },
    {
     "name": "stderr",
     "output_type": "stream",
     "text": [
      "2023-03-26 00:06:42.377644: I tensorflow/core/grappler/optimizers/custom_graph_optimizer_registry.cc:113] Plugin optimizer for device_type GPU is enabled.\n"
     ]
    },
    {
     "name": "stdout",
     "output_type": "stream",
     "text": [
      "383/383 [==============================] - ETA: 0s - loss: 5.7719 - accuracy: 0.2678"
     ]
    },
    {
     "name": "stderr",
     "output_type": "stream",
     "text": [
      "2023-03-26 00:06:47.152881: I tensorflow/core/grappler/optimizers/custom_graph_optimizer_registry.cc:113] Plugin optimizer for device_type GPU is enabled.\n"
     ]
    },
    {
     "name": "stdout",
     "output_type": "stream",
     "text": [
      "INFO:tensorflow:Assets written to: /Users/aly/Documents/Programming/Apps/Machine Learning/ASL Converter/training_models/mediapipe/Simple-Dense-Layers/regularized-10-labels.01-0.34/assets\n",
      "383/383 [==============================] - 7s 16ms/step - loss: 5.7719 - accuracy: 0.2678 - val_loss: 2.0682 - val_accuracy: 0.3355\n",
      "Epoch 2/20\n",
      "383/383 [==============================] - ETA: 0s - loss: 1.9356 - accuracy: 0.3380INFO:tensorflow:Assets written to: /Users/aly/Documents/Programming/Apps/Machine Learning/ASL Converter/training_models/mediapipe/Simple-Dense-Layers/regularized-10-labels.02-0.34/assets\n",
      "383/383 [==============================] - 5s 12ms/step - loss: 1.9356 - accuracy: 0.3380 - val_loss: 2.0342 - val_accuracy: 0.3408\n",
      "Epoch 3/20\n",
      "383/383 [==============================] - 4s 10ms/step - loss: 1.8377 - accuracy: 0.3718 - val_loss: 1.9167 - val_accuracy: 0.3374\n",
      "Epoch 4/20\n",
      "381/383 [============================>.] - ETA: 0s - loss: 1.7747 - accuracy: 0.3933INFO:tensorflow:Assets written to: /Users/aly/Documents/Programming/Apps/Machine Learning/ASL Converter/training_models/mediapipe/Simple-Dense-Layers/regularized-10-labels.04-0.36/assets\n",
      "383/383 [==============================] - 4s 10ms/step - loss: 1.7747 - accuracy: 0.3932 - val_loss: 1.9422 - val_accuracy: 0.3639\n",
      "Epoch 5/20\n",
      "383/383 [==============================] - 4s 9ms/step - loss: 1.7150 - accuracy: 0.4215 - val_loss: 1.9337 - val_accuracy: 0.3477\n",
      "Epoch 6/20\n",
      "383/383 [==============================] - 4s 11ms/step - loss: 1.6429 - accuracy: 0.4645 - val_loss: 1.9419 - val_accuracy: 0.3545\n",
      "Epoch 7/20\n",
      "379/383 [============================>.] - ETA: 0s - loss: 1.5661 - accuracy: 0.5033INFO:tensorflow:Assets written to: /Users/aly/Documents/Programming/Apps/Machine Learning/ASL Converter/training_models/mediapipe/Simple-Dense-Layers/regularized-10-labels.07-0.39/assets\n",
      "383/383 [==============================] - 5s 13ms/step - loss: 1.5654 - accuracy: 0.5038 - val_loss: 1.9313 - val_accuracy: 0.3899\n",
      "Epoch 8/20\n",
      "378/383 [============================>.] - ETA: 0s - loss: 1.5072 - accuracy: 0.5367INFO:tensorflow:Assets written to: /Users/aly/Documents/Programming/Apps/Machine Learning/ASL Converter/training_models/mediapipe/Simple-Dense-Layers/regularized-10-labels.08-0.42/assets\n",
      "383/383 [==============================] - 5s 12ms/step - loss: 1.5067 - accuracy: 0.5369 - val_loss: 1.9180 - val_accuracy: 0.4215\n",
      "Epoch 9/20\n",
      "383/383 [==============================] - 3s 9ms/step - loss: 1.4711 - accuracy: 0.5556 - val_loss: 1.8957 - val_accuracy: 0.4102\n",
      "Epoch 10/20\n",
      "383/383 [==============================] - 3s 8ms/step - loss: 1.4088 - accuracy: 0.5828 - val_loss: 2.0057 - val_accuracy: 0.3877\n",
      "Epoch 11/20\n",
      "383/383 [==============================] - 3s 8ms/step - loss: 1.3748 - accuracy: 0.5950 - val_loss: 1.9201 - val_accuracy: 0.3926\n",
      "Epoch 12/20\n",
      "383/383 [==============================] - ETA: 0s - loss: 1.3336 - accuracy: 0.6054INFO:tensorflow:Assets written to: /Users/aly/Documents/Programming/Apps/Machine Learning/ASL Converter/training_models/mediapipe/Simple-Dense-Layers/regularized-10-labels.12-0.43/assets\n",
      "383/383 [==============================] - 4s 10ms/step - loss: 1.3336 - accuracy: 0.6054 - val_loss: 1.8344 - val_accuracy: 0.4339\n",
      "Epoch 13/20\n",
      "383/383 [==============================] - 5s 13ms/step - loss: 1.3078 - accuracy: 0.6191 - val_loss: 1.8692 - val_accuracy: 0.4250\n",
      "Epoch 14/20\n",
      "380/383 [============================>.] - ETA: 0s - loss: 1.2673 - accuracy: 0.6366INFO:tensorflow:Assets written to: /Users/aly/Documents/Programming/Apps/Machine Learning/ASL Converter/training_models/mediapipe/Simple-Dense-Layers/regularized-10-labels.14-0.46/assets\n",
      "383/383 [==============================] - 5s 13ms/step - loss: 1.2675 - accuracy: 0.6362 - val_loss: 1.8100 - val_accuracy: 0.4566\n",
      "Epoch 15/20\n",
      "382/383 [============================>.] - ETA: 0s - loss: 1.2412 - accuracy: 0.6414INFO:tensorflow:Assets written to: /Users/aly/Documents/Programming/Apps/Machine Learning/ASL Converter/training_models/mediapipe/Simple-Dense-Layers/regularized-10-labels.15-0.46/assets\n",
      "383/383 [==============================] - 5s 12ms/step - loss: 1.2412 - accuracy: 0.6414 - val_loss: 1.8237 - val_accuracy: 0.4607\n",
      "Epoch 16/20\n",
      "380/383 [============================>.] - ETA: 0s - loss: 1.2134 - accuracy: 0.6548INFO:tensorflow:Assets written to: /Users/aly/Documents/Programming/Apps/Machine Learning/ASL Converter/training_models/mediapipe/Simple-Dense-Layers/regularized-10-labels.16-0.48/assets\n",
      "383/383 [==============================] - 4s 11ms/step - loss: 1.2135 - accuracy: 0.6551 - val_loss: 1.8055 - val_accuracy: 0.4783\n",
      "Epoch 17/20\n",
      "383/383 [==============================] - 4s 10ms/step - loss: 1.1959 - accuracy: 0.6609 - val_loss: 1.8057 - val_accuracy: 0.4757\n",
      "Epoch 18/20\n",
      "377/383 [============================>.] - ETA: 0s - loss: 1.1754 - accuracy: 0.6698INFO:tensorflow:Assets written to: /Users/aly/Documents/Programming/Apps/Machine Learning/ASL Converter/training_models/mediapipe/Simple-Dense-Layers/regularized-10-labels.18-0.49/assets\n",
      "383/383 [==============================] - 5s 13ms/step - loss: 1.1750 - accuracy: 0.6700 - val_loss: 1.8247 - val_accuracy: 0.4948\n",
      "Epoch 19/20\n",
      "383/383 [==============================] - 4s 10ms/step - loss: 1.1587 - accuracy: 0.6794 - val_loss: 1.8735 - val_accuracy: 0.4875\n",
      "Epoch 20/20\n",
      "383/383 [==============================] - 3s 9ms/step - loss: 1.1476 - accuracy: 0.6835 - val_loss: 1.8607 - val_accuracy: 0.4695\n"
     ]
    }
   ],
   "source": [
    "history = model.fit(X_train,Y_train, epochs=20, batch_size=50, validation_data=(X_val, Y_val), callbacks=[checkpoint])"
   ]
  },
  {
   "cell_type": "code",
   "execution_count": 37,
   "metadata": {},
   "outputs": [
    {
     "name": "stdout",
     "output_type": "stream",
     "text": [
      "INFO:tensorflow:Assets written to: saved_model_10_labels/assets\n"
     ]
    }
   ],
   "source": [
    "model.save(\"saved_model_10_labels\")"
   ]
  },
  {
   "cell_type": "code",
   "execution_count": 40,
   "metadata": {},
   "outputs": [
    {
     "data": {
      "image/png": "[encoded data removed]",
      "text/plain": [
       "<Figure size 640x480 with 1 Axes>"
      ]
     },
     "metadata": {},
     "output_type": "display_data"
    }
   ],
   "source": [
    "from matplotlib import pyplot as plt\n",
    "plt.plot(history.history['accuracy'])\n",
    "plt.plot(history.history['val_accuracy'])\n",
    "plt.title('model accuracy')\n",
    "plt.ylabel('accuracy')\n",
    "plt.xlabel('epoch')\n",
    "plt.legend(['train', 'val'], loc='upper left')\n",
    "plt.savefig('accuracy_10_labels.png')\n",
    "plt.show()"
   ]
  },
  {
   "cell_type": "code",
   "execution_count": 41,
   "metadata": {},
   "outputs": [
    {
     "data": {
      "image/png": "[encoded data removed]",
      "text/plain": [
       "<Figure size 640x480 with 1 Axes>"
      ]
     },
     "metadata": {},
     "output_type": "display_data"
    }
   ],
   "source": [
    "plt.plot(history.history['loss'])\n",
    "plt.plot(history.history['val_loss'])\n",
    "plt.title('model loss')\n",
    "plt.ylabel('loss')\n",
    "plt.xlabel('epoch')\n",
    "plt.legend(['train', 'val'], loc='upper left')\n",
    "plt.savefig('loss_10_labels.png')\n",
    "plt.show()"
   ]
  },
  {
   "cell_type": "code",
   "execution_count": null,
   "metadata": {},
   "outputs": [],
   "source": []
  }
 ],
 "metadata": {
  "kernelspec": {
   "display_name": "asl-converter",
   "language": "python",
   "name": "python3"
  },
  "language_info": {
   "codemirror_mode": {
    "name": "ipython",
    "version": 3
   },
   "file_extension": ".py",
   "mimetype": "text/x-python",
   "name": "python",
   "nbconvert_exporter": "python",
   "pygments_lexer": "ipython3",
   "version": "3.8.16"
  },
  "orig_nbformat": 4
 },
 "nbformat": 4,
 "nbformat_minor": 2
}
