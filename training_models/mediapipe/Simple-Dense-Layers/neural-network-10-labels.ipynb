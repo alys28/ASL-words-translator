{
 "cells": [
  {
   "cell_type": "code",
   "execution_count": 1,
   "metadata": {},
   "outputs": [],
   "source": [
    "import tensorflow as tf\n",
    "from tensorflow.keras.layers import Dense\n",
    "from tensorflow.keras import Sequential\n",
    "import os\n",
    "import numpy as np\n",
    "import pandas as pd"
   ]
  },
  {
   "cell_type": "code",
   "execution_count": 6,
   "metadata": {},
   "outputs": [],
   "source": [
    "names = [\n",
    " 'music',\n",
    " 'brother',\n",
    " 'ocean',\n",
    " 'i love you',\n",
    " 'dog',\n",
    " 'polite',\n",
    " 'milk',\n",
    " 'money',\n",
    " 'coffee',\n",
    " 'door']"
   ]
  },
  {
   "cell_type": "code",
   "execution_count": 7,
   "metadata": {},
   "outputs": [
    {
     "data": {
      "text/plain": [
       "10"
      ]
     },
     "execution_count": 7,
     "metadata": {},
     "output_type": "execute_result"
    }
   ],
   "source": [
    "len(names)"
   ]
  },
  {
   "cell_type": "code",
   "execution_count": 8,
   "metadata": {},
   "outputs": [
    {
     "name": "stdout",
     "output_type": "stream",
     "text": [
      "    class        x1        y1        z1        v1        x2        y2  \\\n",
      "0   music  0.510927  0.266515 -0.612352  0.999522  0.521480  0.245207   \n",
      "1   music  0.510671  0.267104 -0.641056  0.999552  0.521454  0.245630   \n",
      "2   music  0.510515  0.267290 -0.646706  0.999580  0.521436  0.245851   \n",
      "3   music  0.510243  0.267347 -0.649374  0.999607  0.521376  0.245964   \n",
      "4   music  0.510031  0.267435 -0.646747  0.999630  0.521279  0.246073   \n",
      "..    ...       ...       ...       ...       ...       ...       ...   \n",
      "62   door  0.524986  0.247936 -0.857997  0.997421  0.539278  0.204997   \n",
      "63   door  0.525036  0.246169 -0.849091  0.995625  0.539338  0.203739   \n",
      "64   door  0.525020  0.243054 -0.829668  0.993639  0.539431  0.201486   \n",
      "65   door  0.524460  0.240872 -0.891451  0.992904  0.539293  0.199475   \n",
      "66   door  0.523154  0.238548 -0.873610  0.988032  0.539075  0.197419   \n",
      "\n",
      "          z2        v2        x3  ...  z73  v73  x74  y74  z74  v74  x75  y75  \\\n",
      "0  -0.579605  0.999107  0.527378  ...  0.0  0.0  0.0  0.0  0.0  0.0  0.0  0.0   \n",
      "1  -0.607032  0.999162  0.527467  ...  0.0  0.0  0.0  0.0  0.0  0.0  0.0  0.0   \n",
      "2  -0.612807  0.999216  0.527539  ...  0.0  0.0  0.0  0.0  0.0  0.0  0.0  0.0   \n",
      "3  -0.615573  0.999267  0.527551  ...  0.0  0.0  0.0  0.0  0.0  0.0  0.0  0.0   \n",
      "4  -0.613008  0.999310  0.527548  ...  0.0  0.0  0.0  0.0  0.0  0.0  0.0  0.0   \n",
      "..       ...       ...       ...  ...  ...  ...  ...  ...  ...  ...  ...  ...   \n",
      "62 -0.798885  0.995757  0.549083  ...  0.0  0.0  0.0  0.0  0.0  0.0  0.0  0.0   \n",
      "63 -0.798137  0.992933  0.549140  ...  0.0  0.0  0.0  0.0  0.0  0.0  0.0  0.0   \n",
      "64 -0.781126  0.990448  0.549258  ...  0.0  0.0  0.0  0.0  0.0  0.0  0.0  0.0   \n",
      "65 -0.842535  0.989874  0.549233  ...  0.0  0.0  0.0  0.0  0.0  0.0  0.0  0.0   \n",
      "66 -0.825138  0.985300  0.549143  ...  0.0  0.0  0.0  0.0  0.0  0.0  0.0  0.0   \n",
      "\n",
      "    z75  v75  \n",
      "0   0.0  0.0  \n",
      "1   0.0  0.0  \n",
      "2   0.0  0.0  \n",
      "3   0.0  0.0  \n",
      "4   0.0  0.0  \n",
      "..  ...  ...  \n",
      "62  0.0  0.0  \n",
      "63  0.0  0.0  \n",
      "64  0.0  0.0  \n",
      "65  0.0  0.0  \n",
      "66  0.0  0.0  \n",
      "\n",
      "[24430 rows x 301 columns]\n"
     ]
    }
   ],
   "source": [
    "import glob\n",
    "\n",
    "df = pd.DataFrame()\n",
    "for label in names:\n",
    "    files = glob.glob(f\"/Users/aly/Documents/Programming/Apps/Machine Learning/ASL Converter/training_models/mediapipe/reformatting-the-data/data_25_labels/{label}/*.csv\")\n",
    "    for f in files:\n",
    "        csv = pd.read_csv(f)\n",
    "        df = pd.concat([df, csv])\n",
    "\n",
    "print(df)"
   ]
  },
  {
   "cell_type": "code",
   "execution_count": 9,
   "metadata": {},
   "outputs": [
    {
     "name": "stdout",
     "output_type": "stream",
     "text": [
      "(24430, 300)\n",
      "(24430,)\n"
     ]
    },
    {
     "data": {
      "text/plain": [
       "0    music\n",
       "1    music\n",
       "2    music\n",
       "3    music\n",
       "4    music\n",
       "Name: class, dtype: object"
      ]
     },
     "execution_count": 9,
     "metadata": {},
     "output_type": "execute_result"
    }
   ],
   "source": [
    "df_features = df.copy()\n",
    "\n",
    "df_labels = df_features.pop(\"class\")\n",
    "\n",
    "df_features = np.array(df_features)\n",
    "\n",
    "print(df_features.shape)\n",
    "print(df_labels.shape)\n",
    "df_labels.head()"
   ]
  },
  {
   "cell_type": "code",
   "execution_count": 10,
   "metadata": {},
   "outputs": [
    {
     "data": {
      "text/plain": [
       "{'music': 0,\n",
       " 'brother': 1,\n",
       " 'ocean': 2,\n",
       " 'i love you': 3,\n",
       " 'dog': 4,\n",
       " 'polite': 5,\n",
       " 'milk': 6,\n",
       " 'money': 7,\n",
       " 'coffee': 8,\n",
       " 'door': 9}"
      ]
     },
     "execution_count": 10,
     "metadata": {},
     "output_type": "execute_result"
    }
   ],
   "source": [
    "dicti = {names[i]: i for i in range(len(names))}\n",
    "dicti"
   ]
  },
  {
   "cell_type": "code",
   "execution_count": 11,
   "metadata": {},
   "outputs": [
    {
     "data": {
      "text/plain": [
       "0    0\n",
       "1    0\n",
       "2    0\n",
       "3    0\n",
       "4    0\n",
       "Name: class, dtype: int64"
      ]
     },
     "execution_count": 11,
     "metadata": {},
     "output_type": "execute_result"
    }
   ],
   "source": [
    "def change_label(x):\n",
    "    return dicti[x]\n",
    "\n",
    "df_labels = df_labels.apply(change_label)\n",
    "df_labels.head()"
   ]
  },
  {
   "cell_type": "code",
   "execution_count": 12,
   "metadata": {},
   "outputs": [],
   "source": [
    "df_labels = np.array([df_labels]).T\n"
   ]
  },
  {
   "cell_type": "code",
   "execution_count": 13,
   "metadata": {},
   "outputs": [
    {
     "name": "stdout",
     "output_type": "stream",
     "text": [
      "(19544, 300)\n",
      "[[ 0.33048332  0.26185474 -0.41955152 ...  0.48287541 -0.00866116\n",
      "   0.        ]\n",
      " [ 0.51163518  0.29952836 -0.2786167  ...  0.          0.\n",
      "   0.        ]\n",
      " [ 0.30530292  0.35854673 -0.54659903 ...  0.85765427 -0.03312659\n",
      "   0.        ]\n",
      " ...\n",
      " [ 0.48500836  0.30808356 -0.34180525 ...  0.505153   -0.01313204\n",
      "   0.        ]\n",
      " [ 0.49011928  0.32622653 -0.61105752 ...  0.          0.\n",
      "   0.        ]\n",
      " [ 0.49476928  0.31737584 -0.3272993  ...  0.70841032 -0.00881404\n",
      "   0.        ]]\n",
      "(19544, 1)\n",
      "[[8]\n",
      " [0]\n",
      " [7]\n",
      " ...\n",
      " [1]\n",
      " [6]\n",
      " [1]]\n"
     ]
    }
   ],
   "source": [
    "from sklearn.model_selection import train_test_split\n",
    "\n",
    "X_train, X_val, y_train, y_val = train_test_split(df_features, df_labels, test_size=0.2)\n",
    "print(X_train.shape)\n",
    "print(X_train)\n",
    "print(y_train.shape)\n",
    "print(y_train)"
   ]
  },
  {
   "cell_type": "code",
   "execution_count": 14,
   "metadata": {},
   "outputs": [
    {
     "name": "stdout",
     "output_type": "stream",
     "text": [
      "Metal device set to: Apple M1\n",
      "\n",
      "systemMemory: 16.00 GB\n",
      "maxCacheSize: 5.33 GB\n",
      "\n"
     ]
    },
    {
     "name": "stderr",
     "output_type": "stream",
     "text": [
      "2023-03-23 22:54:39.904438: I tensorflow/core/common_runtime/pluggable_device/pluggable_device_factory.cc:305] Could not identify NUMA node of platform GPU ID 0, defaulting to 0. Your kernel may not have been built with NUMA support.\n",
      "2023-03-23 22:54:39.904644: I tensorflow/core/common_runtime/pluggable_device/pluggable_device_factory.cc:271] Created TensorFlow device (/job:localhost/replica:0/task:0/device:GPU:0 with 0 MB memory) -> physical PluggableDevice (device: 0, name: METAL, pci bus id: <undefined>)\n"
     ]
    }
   ],
   "source": [
    "model = Sequential([\n",
    "    #if it overfits, I can use dropout layers (it only gets some of the inputs from the previous, so you wanna )\n",
    "    Dense(units=256, activation='relu'),\n",
    "    Dense(units=64, activation='relu'),\n",
    "    Dense(units=10, activation='softmax')\n",
    "])"
   ]
  },
  {
   "cell_type": "code",
   "execution_count": 15,
   "metadata": {},
   "outputs": [],
   "source": [
    "#cost function\n",
    "from tensorflow.keras.losses import SparseCategoricalCrossentropy\n",
    "from tensorflow.keras.optimizers import Adam\n",
    "\n",
    "model.compile(loss=SparseCategoricalCrossentropy(), optimizer=Adam(), metrics=[\"accuracy\"])"
   ]
  },
  {
   "cell_type": "code",
   "execution_count": 16,
   "metadata": {},
   "outputs": [
    {
     "name": "stdout",
     "output_type": "stream",
     "text": [
      "Epoch 1/10\n"
     ]
    },
    {
     "name": "stderr",
     "output_type": "stream",
     "text": [
      "2023-03-23 22:54:47.454940: W tensorflow/core/platform/profile_utils/cpu_utils.cc:128] Failed to get CPU frequency: 0 Hz\n",
      "2023-03-23 22:54:47.831589: I tensorflow/core/grappler/optimizers/custom_graph_optimizer_registry.cc:113] Plugin optimizer for device_type GPU is enabled.\n"
     ]
    },
    {
     "name": "stdout",
     "output_type": "stream",
     "text": [
      "550/550 [==============================] - ETA: 0s - loss: 1.7302 - accuracy: 0.3784"
     ]
    },
    {
     "name": "stderr",
     "output_type": "stream",
     "text": [
      "2023-03-23 22:54:52.446230: I tensorflow/core/grappler/optimizers/custom_graph_optimizer_registry.cc:113] Plugin optimizer for device_type GPU is enabled.\n"
     ]
    },
    {
     "name": "stdout",
     "output_type": "stream",
     "text": [
      "550/550 [==============================] - 5s 8ms/step - loss: 1.7302 - accuracy: 0.3784 - val_loss: 1.4705 - val_accuracy: 0.4803\n",
      "Epoch 2/10\n",
      "550/550 [==============================] - 4s 8ms/step - loss: 1.3146 - accuracy: 0.5404 - val_loss: 1.1975 - val_accuracy: 0.5974\n",
      "Epoch 3/10\n",
      "550/550 [==============================] - 4s 6ms/step - loss: 1.0910 - accuracy: 0.6270 - val_loss: 1.0054 - val_accuracy: 0.6665\n",
      "Epoch 4/10\n",
      "550/550 [==============================] - 4s 8ms/step - loss: 0.9402 - accuracy: 0.6818 - val_loss: 0.9001 - val_accuracy: 0.7043\n",
      "Epoch 5/10\n",
      "550/550 [==============================] - 3s 6ms/step - loss: 0.8332 - accuracy: 0.7203 - val_loss: 0.8009 - val_accuracy: 0.7146\n",
      "Epoch 6/10\n",
      "550/550 [==============================] - 3s 6ms/step - loss: 0.7438 - accuracy: 0.7529 - val_loss: 0.7236 - val_accuracy: 0.7724\n",
      "Epoch 7/10\n",
      "550/550 [==============================] - 3s 6ms/step - loss: 0.6766 - accuracy: 0.7759 - val_loss: 0.7007 - val_accuracy: 0.7678\n",
      "Epoch 8/10\n",
      "550/550 [==============================] - 3s 6ms/step - loss: 0.6314 - accuracy: 0.7894 - val_loss: 0.6778 - val_accuracy: 0.7693\n",
      "Epoch 9/10\n",
      "550/550 [==============================] - 3s 6ms/step - loss: 0.5827 - accuracy: 0.8085 - val_loss: 0.5753 - val_accuracy: 0.8148\n",
      "Epoch 10/10\n",
      "550/550 [==============================] - 3s 6ms/step - loss: 0.5479 - accuracy: 0.8180 - val_loss: 0.5521 - val_accuracy: 0.8205\n"
     ]
    }
   ],
   "source": [
    "history = model.fit(X_train,y_train, epochs=10, validation_split=0.1)"
   ]
  },
  {
   "cell_type": "code",
   "execution_count": 17,
   "metadata": {},
   "outputs": [
    {
     "name": "stdout",
     "output_type": "stream",
     "text": [
      "INFO:tensorflow:Assets written to: saved_model_10_labels/assets\n"
     ]
    }
   ],
   "source": [
    "model.save(\"saved_model_10_labels\")"
   ]
  }
 ],
 "metadata": {
  "kernelspec": {
   "display_name": "asl-converter",
   "language": "python",
   "name": "python3"
  },
  "language_info": {
   "codemirror_mode": {
    "name": "ipython",
    "version": 3
   },
   "file_extension": ".py",
   "mimetype": "text/x-python",
   "name": "python",
   "nbconvert_exporter": "python",
   "pygments_lexer": "ipython3",
   "version": "3.8.16"
  },
  "orig_nbformat": 4
 },
 "nbformat": 4,
 "nbformat_minor": 2
}
