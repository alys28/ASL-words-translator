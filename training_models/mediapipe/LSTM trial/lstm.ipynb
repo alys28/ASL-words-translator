{
 "cells": [
  {
   "cell_type": "code",
   "execution_count": 5,
   "metadata": {},
   "outputs": [
    {
     "name": "stdout",
     "output_type": "stream",
     "text": [
      "\u001b[1;31merror\u001b[0m: \u001b[1mexternally-managed-environment\u001b[0m\n",
      "\n",
      "\u001b[31m×\u001b[0m This environment is externally managed\n",
      "\u001b[31m╰─>\u001b[0m \n",
      "\u001b[31m   \u001b[0m The system-wide Python installation in Gentoo should be maintained\n",
      "\u001b[31m   \u001b[0m using the system package manager (e.g. emerge).\n",
      "\u001b[31m   \u001b[0m \n",
      "\u001b[31m   \u001b[0m If the package in question is not packaged for Gentoo, please\n",
      "\u001b[31m   \u001b[0m consider installing it inside a virtual environment, e.g.:\n",
      "\u001b[31m   \u001b[0m \n",
      "\u001b[31m   \u001b[0m python -m venv /path/to/venv\n",
      "\u001b[31m   \u001b[0m . /path/to/venv/bin/activate\n",
      "\u001b[31m   \u001b[0m pip install mypackage\n",
      "\u001b[31m   \u001b[0m \n",
      "\u001b[31m   \u001b[0m To exit the virtual environment, run:\n",
      "\u001b[31m   \u001b[0m \n",
      "\u001b[31m   \u001b[0m deactivate\n",
      "\u001b[31m   \u001b[0m \n",
      "\u001b[31m   \u001b[0m The virtual environment is not deleted, and can be re-entered by\n",
      "\u001b[31m   \u001b[0m re-sourcing the activate file.\n",
      "\n",
      "\u001b[1;35mnote\u001b[0m: If you believe this is a mistake, please contact your Python installation or OS distribution provider. You can override this, at the risk of breaking your Python installation or OS, by passing --break-system-packages.\n",
      "\u001b[1;36mhint\u001b[0m: See PEP 668 for the detailed specification.\n"
     ]
    }
   ],
   "source": [
    "!pip install tensorflow"
   ]
  },
  {
   "cell_type": "code",
   "execution_count": 3,
   "metadata": {},
   "outputs": [
    {
     "ename": "ModuleNotFoundError",
     "evalue": "No module named 'tensorflow'",
     "output_type": "error",
     "traceback": [
      "\u001b[0;31m---------------------------------------------------------------------------\u001b[0m",
      "\u001b[0;31mModuleNotFoundError\u001b[0m                       Traceback (most recent call last)",
      "Cell \u001b[0;32mIn[3], line 1\u001b[0m\n\u001b[0;32m----> 1\u001b[0m \u001b[39mimport\u001b[39;00m \u001b[39mtensorflow\u001b[39;00m \u001b[39mas\u001b[39;00m \u001b[39mtf\u001b[39;00m\n\u001b[1;32m      2\u001b[0m \u001b[39mimport\u001b[39;00m \u001b[39mos\u001b[39;00m\n\u001b[1;32m      3\u001b[0m \u001b[39mimport\u001b[39;00m \u001b[39mnumpy\u001b[39;00m \u001b[39mas\u001b[39;00m \u001b[39mnp\u001b[39;00m\n",
      "\u001b[0;31mModuleNotFoundError\u001b[0m: No module named 'tensorflow'"
     ]
    }
   ],
   "source": [
    "import tensorflow as tf\n",
    "import os\n",
    "import numpy as np\n",
    "import pandas as pd"
   ]
  },
  {
   "cell_type": "code",
   "execution_count": 6,
   "metadata": {},
   "outputs": [],
   "source": [
    "def process_csv_file(file):\n",
    "    csv_data = pd.read_csv(file)\n",
    "    try:\n",
    "        csv_data = csv_data.drop(\"class\", axis = 1)\n",
    "    except KeyError:\n",
    "        pass\n",
    "    return (csv_data.to_numpy())"
   ]
  },
  {
   "cell_type": "code",
   "execution_count": 7,
   "metadata": {},
   "outputs": [],
   "source": [
    "def set_padding(arr, max_length):\n",
    "    arr = np.append(arr, np.zeros((max_length-arr.shape[0],300)), axis=0)\n",
    "    return np.expand_dims(arr, 0)"
   ]
  },
  {
   "cell_type": "code",
   "execution_count": 11,
   "metadata": {},
   "outputs": [],
   "source": [
    "def prepare_data(folder_path, labels):\n",
    "    total = 0\n",
    "    max_length = 0\n",
    "    # find max length\n",
    "    for folder in os.listdir(folder_path):\n",
    "        if folder != \".DS_Store\":\n",
    "            total += len(os.listdir(os.path.join(folder_path, folder)))\n",
    "            for file in os.listdir(os.path.join(folder_path, folder)):\n",
    "                data = process_csv_file(os.path.join(folder_path, folder, file))\n",
    "                if data.shape[0] > max_length:\n",
    "                    max_length = data.shape[0]\n",
    "    # Make the arrays\n",
    "    X = np.empty((0, max_length, 300))\n",
    "    Y = np.empty((0,), int)\n",
    "    for folder in os.listdir(folder_path):\n",
    "        print(folder)\n",
    "        if folder != \".DS_Store\":\n",
    "            for file in os.listdir(os.path.join(folder_path, folder)):\n",
    "                data = process_csv_file(os.path.join(folder_path, folder, file))\n",
    "                data = set_padding(data, max_length)\n",
    "                X = np.vstack((X, data))\n",
    "                Y = np.append(Y, labels[folder])\n",
    "    print(total, max_length)\n",
    "    return X, Y\n"
   ]
  },
  {
   "cell_type": "code",
   "execution_count": 25,
   "metadata": {},
   "outputs": [
    {
     "data": {
      "text/plain": [
       "array([[ 0.49718088,  0.25081992, -0.48320499, ...,  0.77923   ,\n",
       "        -0.05017287,  0.        ],\n",
       "       [ 0.49774376,  0.25079364, -0.77710956, ...,  0.79552472,\n",
       "        -0.05187845,  0.        ],\n",
       "       [ 0.49550352,  0.25237963, -0.72304803, ...,  0.80509031,\n",
       "        -0.04531861,  0.        ],\n",
       "       ...,\n",
       "       [ 0.        ,  0.        ,  0.        , ...,  0.        ,\n",
       "         0.        ,  0.        ],\n",
       "       [ 0.        ,  0.        ,  0.        , ...,  0.        ,\n",
       "         0.        ,  0.        ],\n",
       "       [ 0.        ,  0.        ,  0.        , ...,  0.        ,\n",
       "         0.        ,  0.        ]])"
      ]
     },
     "execution_count": 25,
     "metadata": {},
     "output_type": "execute_result"
    }
   ],
   "source": [
    "X[0]"
   ]
  },
  {
   "cell_type": "code",
   "execution_count": 12,
   "metadata": {
    "scrolled": false
   },
   "outputs": [
    {
     "name": "stdout",
     "output_type": "stream",
     "text": [
      ".DS_Store\n",
      "dog\n",
      "milk\n",
      "coffee\n",
      "door\n",
      "572 211\n"
     ]
    }
   ],
   "source": [
    "folder_path = \"/Users/aly/Documents/Programming/Apps/Machine Learning/ASL Converter/training_models/mediapipe/LSTM trial/data_4_labels_augmentation\"\n",
    "labels= {\"coffee\": 0, 'dog': 1, 'milk': 2, 'door': 3}\n",
    "X, Y = prepare_data(folder_path, labels)"
   ]
  },
  {
   "cell_type": "code",
   "execution_count": 13,
   "metadata": {},
   "outputs": [
    {
     "name": "stdout",
     "output_type": "stream",
     "text": [
      "[[ 711  632   71    0    0    0]\n",
      " [  73    8 3215   55  927    0]\n",
      " [  83   91    1  645 1253  927]]\n"
     ]
    }
   ],
   "source": [
    "padded_inputs = tf.keras.preprocessing.sequence.pad_sequences(\n",
    "    [\n",
    "    [711, 632, 71],\n",
    "    [73, 8, 3215, 55, 927],\n",
    "    [83, 91, 1, 645, 1253, 927],\n",
    "], padding=\"post\"\n",
    ")\n",
    "# print(X[0][1])\n",
    "print(((padded_inputs)))"
   ]
  },
  {
   "cell_type": "code",
   "execution_count": null,
   "metadata": {},
   "outputs": [],
   "source": []
  },
  {
   "cell_type": "code",
   "execution_count": 24,
   "metadata": {
    "scrolled": true
   },
   "outputs": [
    {
     "data": {
      "text/plain": [
       "array([1, 1, 1, 1, 1, 1, 1, 1, 1, 1, 1, 1, 1, 1, 1, 1, 1, 1, 1, 1, 1, 1,\n",
       "       1, 1, 1, 1, 1, 1, 1, 1, 1, 1, 1, 1, 1, 1, 1, 1, 1, 1, 1, 1, 1, 1,\n",
       "       1, 1, 1, 1, 1, 1, 1, 1, 1, 1, 1, 1, 1, 1, 1, 1, 1, 1, 1, 1, 1, 1,\n",
       "       1, 1, 1, 1, 1, 1, 1, 1, 1, 1, 1, 1, 1, 1, 1, 1, 1, 1, 1, 1, 1, 1,\n",
       "       1, 1, 1, 1, 1, 1, 1, 1, 1, 1, 1, 1, 1, 1, 1, 1, 1, 1, 1, 1, 1, 1,\n",
       "       1, 1, 1, 1, 1, 1, 1, 1, 1, 1, 1, 1, 1, 1, 1, 1, 1, 1, 1, 1, 1, 1,\n",
       "       1, 1, 1, 1, 1, 1, 1, 1, 1, 1, 1, 1, 2, 2, 2, 2, 2, 2, 2, 2, 2, 2,\n",
       "       2, 2, 2, 2, 2, 2, 2, 2, 2, 2, 2, 2, 2, 2, 2, 2, 2, 2, 2, 2, 2, 2,\n",
       "       2, 2, 2, 2, 2, 2, 2, 2, 2, 2, 2, 2, 2, 2, 2, 2, 2, 2, 2, 2, 2, 2,\n",
       "       2, 2, 2, 2, 2, 2, 2, 2, 2, 2, 2, 2, 2, 2, 2, 2, 2, 2, 2, 2, 2, 2,\n",
       "       2, 2, 2, 2, 2, 2, 2, 2, 2, 2, 2, 2, 2, 2, 2, 2, 2, 2, 2, 2, 2, 2,\n",
       "       2, 2, 2, 2, 2, 2, 2, 2, 2, 2, 2, 2, 2, 2, 2, 2, 2, 2, 2, 2, 2, 2,\n",
       "       2, 2, 2, 2, 2, 2, 2, 2, 2, 2, 2, 2, 2, 2, 2, 2, 2, 2, 2, 2, 2, 2,\n",
       "       2, 2, 2, 2, 2, 2, 2, 2, 2, 2, 2, 2, 2, 2, 2, 2, 2, 2, 2, 2, 2, 2,\n",
       "       2, 2, 2, 2, 2, 2, 2, 2, 2, 2, 2, 2, 2, 2, 2, 2, 2, 2, 2, 2, 2, 2,\n",
       "       2, 2, 0, 0, 0, 0, 0, 0, 0, 0, 0, 0, 0, 0, 0, 0, 0, 0, 0, 0, 0, 0,\n",
       "       0, 0, 0, 0, 0, 0, 0, 0, 0, 0, 0, 0, 0, 0, 0, 0, 0, 0, 0, 0, 0, 0,\n",
       "       0, 0, 0, 0, 0, 0, 0, 0, 0, 0, 0, 0, 0, 0, 0, 0, 0, 0, 0, 0, 0, 0,\n",
       "       0, 0, 0, 0, 0, 0, 0, 0, 0, 0, 0, 0, 0, 0, 0, 0, 0, 0, 0, 0, 0, 0,\n",
       "       0, 0, 0, 0, 0, 0, 0, 0, 0, 0, 0, 0, 0, 0, 0, 0, 0, 0, 0, 0, 0, 0,\n",
       "       0, 0, 0, 0, 0, 0, 0, 0, 0, 0, 0, 0, 0, 0, 0, 0, 3, 3, 3, 3, 3, 3,\n",
       "       3, 3, 3, 3, 3, 3, 3, 3, 3, 3, 3, 3, 3, 3, 3, 3, 3, 3, 3, 3, 3, 3,\n",
       "       3, 3, 3, 3, 3, 3, 3, 3, 3, 3, 3, 3, 3, 3, 3, 3, 3, 3, 3, 3, 3, 3,\n",
       "       3, 3, 3, 3, 3, 3, 3, 3, 3, 3, 3, 3, 3, 3, 3, 3, 3, 3, 3, 3, 3, 3,\n",
       "       3, 3, 3, 3, 3, 3, 3, 3, 3, 3, 3, 3, 3, 3, 3, 3, 3, 3, 3, 3, 3, 3,\n",
       "       3, 3, 3, 3, 3, 3, 3, 3, 3, 3, 3, 3, 3, 3, 3, 3, 3, 3, 3, 3, 3, 3])"
      ]
     },
     "execution_count": 24,
     "metadata": {},
     "output_type": "execute_result"
    }
   ],
   "source": [
    "# Y = np.expand_dims(Y, axis=0)\n",
    "# Y= Y.T\n",
    "Y"
   ]
  },
  {
   "cell_type": "code",
   "execution_count": 15,
   "metadata": {},
   "outputs": [],
   "source": [
    "# split data\n",
    "from sklearn.model_selection import train_test_split\n",
    "X_train, X_test, y_train, y_test = train_test_split(X, Y, test_size=0.2)"
   ]
  },
  {
   "cell_type": "code",
   "execution_count": 16,
   "metadata": {},
   "outputs": [
    {
     "data": {
      "text/plain": [
       "((457, 211, 300), (457,))"
      ]
     },
     "execution_count": 16,
     "metadata": {},
     "output_type": "execute_result"
    }
   ],
   "source": [
    "X_train.shape, y_train.shape"
   ]
  },
  {
   "cell_type": "code",
   "execution_count": 17,
   "metadata": {},
   "outputs": [],
   "source": [
    "x_shape = X_train.shape"
   ]
  },
  {
   "cell_type": "code",
   "execution_count": 19,
   "metadata": {},
   "outputs": [
    {
     "data": {
      "text/plain": [
       "(457, 211)"
      ]
     },
     "execution_count": 19,
     "metadata": {},
     "output_type": "execute_result"
    }
   ],
   "source": [
    "from tensorflow.keras import layers\n",
    "masking_input = []\n",
    "for i in range(x_shape[0]):\n",
    "    masking_input.append(X_train[i].T[0])\n",
    "\n",
    "masking_input = np.array(masking_input)\n",
    "\n",
    "masking_input.shape"
   ]
  },
  {
   "cell_type": "code",
   "execution_count": 20,
   "metadata": {},
   "outputs": [
    {
     "name": "stderr",
     "output_type": "stream",
     "text": [
      "2023-04-21 00:13:36.221629: I tensorflow/core/common_runtime/pluggable_device/pluggable_device_factory.cc:305] Could not identify NUMA node of platform GPU ID 0, defaulting to 0. Your kernel may not have been built with NUMA support.\n",
      "2023-04-21 00:13:36.222041: I tensorflow/core/common_runtime/pluggable_device/pluggable_device_factory.cc:271] Created TensorFlow device (/job:localhost/replica:0/task:0/device:GPU:0 with 0 MB memory) -> physical PluggableDevice (device: 0, name: METAL, pci bus id: <undefined>)\n"
     ]
    },
    {
     "name": "stdout",
     "output_type": "stream",
     "text": [
      "Metal device set to: Apple M1\n",
      "\n",
      "systemMemory: 16.00 GB\n",
      "maxCacheSize: 5.33 GB\n",
      "\n",
      "tf.Tensor(\n",
      "[[ True  True  True ... False False False]\n",
      " [ True  True  True ... False False False]\n",
      " [ True  True  True ... False False False]\n",
      " ...\n",
      " [ True  True  True ... False False False]\n",
      " [ True  True  True ... False False False]\n",
      " [ True  True  True ... False False False]], shape=(457, 211), dtype=bool)\n"
     ]
    },
    {
     "data": {
      "text/plain": [
       "<tf.Tensor: shape=(457, 211, 211), dtype=float32, numpy=\n",
       "array([[[ 0.04668217,  0.04604015,  0.01552759, ...,  0.0464903 ,\n",
       "         -0.01109668, -0.01088526],\n",
       "        [ 0.04668217,  0.04604015,  0.01552759, ...,  0.0464903 ,\n",
       "         -0.01109668, -0.01088526],\n",
       "        [ 0.04668217,  0.04604015,  0.01552759, ...,  0.0464903 ,\n",
       "         -0.01109668, -0.01088526],\n",
       "        ...,\n",
       "        [ 0.04668217,  0.04604015,  0.01552759, ...,  0.0464903 ,\n",
       "         -0.01109668, -0.01088526],\n",
       "        [ 0.04668217,  0.04604015,  0.01552759, ...,  0.0464903 ,\n",
       "         -0.01109668, -0.01088526],\n",
       "        [ 0.04668217,  0.04604015,  0.01552759, ...,  0.0464903 ,\n",
       "         -0.01109668, -0.01088526]],\n",
       "\n",
       "       [[ 0.04668217,  0.04604015,  0.01552759, ...,  0.0464903 ,\n",
       "         -0.01109668, -0.01088526],\n",
       "        [ 0.04668217,  0.04604015,  0.01552759, ...,  0.0464903 ,\n",
       "         -0.01109668, -0.01088526],\n",
       "        [ 0.04668217,  0.04604015,  0.01552759, ...,  0.0464903 ,\n",
       "         -0.01109668, -0.01088526],\n",
       "        ...,\n",
       "        [ 0.04668217,  0.04604015,  0.01552759, ...,  0.0464903 ,\n",
       "         -0.01109668, -0.01088526],\n",
       "        [ 0.04668217,  0.04604015,  0.01552759, ...,  0.0464903 ,\n",
       "         -0.01109668, -0.01088526],\n",
       "        [ 0.04668217,  0.04604015,  0.01552759, ...,  0.0464903 ,\n",
       "         -0.01109668, -0.01088526]],\n",
       "\n",
       "       [[ 0.04668217,  0.04604015,  0.01552759, ...,  0.0464903 ,\n",
       "         -0.01109668, -0.01088526],\n",
       "        [ 0.04668217,  0.04604015,  0.01552759, ...,  0.0464903 ,\n",
       "         -0.01109668, -0.01088526],\n",
       "        [ 0.04668217,  0.04604015,  0.01552759, ...,  0.0464903 ,\n",
       "         -0.01109668, -0.01088526],\n",
       "        ...,\n",
       "        [ 0.04668217,  0.04604015,  0.01552759, ...,  0.0464903 ,\n",
       "         -0.01109668, -0.01088526],\n",
       "        [ 0.04668217,  0.04604015,  0.01552759, ...,  0.0464903 ,\n",
       "         -0.01109668, -0.01088526],\n",
       "        [ 0.04668217,  0.04604015,  0.01552759, ...,  0.0464903 ,\n",
       "         -0.01109668, -0.01088526]],\n",
       "\n",
       "       ...,\n",
       "\n",
       "       [[ 0.04668217,  0.04604015,  0.01552759, ...,  0.0464903 ,\n",
       "         -0.01109668, -0.01088526],\n",
       "        [ 0.04668217,  0.04604015,  0.01552759, ...,  0.0464903 ,\n",
       "         -0.01109668, -0.01088526],\n",
       "        [ 0.04668217,  0.04604015,  0.01552759, ...,  0.0464903 ,\n",
       "         -0.01109668, -0.01088526],\n",
       "        ...,\n",
       "        [ 0.04668217,  0.04604015,  0.01552759, ...,  0.0464903 ,\n",
       "         -0.01109668, -0.01088526],\n",
       "        [ 0.04668217,  0.04604015,  0.01552759, ...,  0.0464903 ,\n",
       "         -0.01109668, -0.01088526],\n",
       "        [ 0.04668217,  0.04604015,  0.01552759, ...,  0.0464903 ,\n",
       "         -0.01109668, -0.01088526]],\n",
       "\n",
       "       [[ 0.04668217,  0.04604015,  0.01552759, ...,  0.0464903 ,\n",
       "         -0.01109668, -0.01088526],\n",
       "        [ 0.04668217,  0.04604015,  0.01552759, ...,  0.0464903 ,\n",
       "         -0.01109668, -0.01088526],\n",
       "        [ 0.04668217,  0.04604015,  0.01552759, ...,  0.0464903 ,\n",
       "         -0.01109668, -0.01088526],\n",
       "        ...,\n",
       "        [ 0.04668217,  0.04604015,  0.01552759, ...,  0.0464903 ,\n",
       "         -0.01109668, -0.01088526],\n",
       "        [ 0.04668217,  0.04604015,  0.01552759, ...,  0.0464903 ,\n",
       "         -0.01109668, -0.01088526],\n",
       "        [ 0.04668217,  0.04604015,  0.01552759, ...,  0.0464903 ,\n",
       "         -0.01109668, -0.01088526]],\n",
       "\n",
       "       [[ 0.04668217,  0.04604015,  0.01552759, ...,  0.0464903 ,\n",
       "         -0.01109668, -0.01088526],\n",
       "        [ 0.04668217,  0.04604015,  0.01552759, ...,  0.0464903 ,\n",
       "         -0.01109668, -0.01088526],\n",
       "        [ 0.04668217,  0.04604015,  0.01552759, ...,  0.0464903 ,\n",
       "         -0.01109668, -0.01088526],\n",
       "        ...,\n",
       "        [ 0.04668217,  0.04604015,  0.01552759, ...,  0.0464903 ,\n",
       "         -0.01109668, -0.01088526],\n",
       "        [ 0.04668217,  0.04604015,  0.01552759, ...,  0.0464903 ,\n",
       "         -0.01109668, -0.01088526],\n",
       "        [ 0.04668217,  0.04604015,  0.01552759, ...,  0.0464903 ,\n",
       "         -0.01109668, -0.01088526]]], dtype=float32)>"
      ]
     },
     "execution_count": 20,
     "metadata": {},
     "output_type": "execute_result"
    }
   ],
   "source": [
    "embedding = layers.Embedding(input_dim=x_shape[1], output_dim=x_shape[1], mask_zero=True)\n",
    "masked_output = embedding(masking_input)\n",
    "\n",
    "print(masked_output._keras_mask)\n",
    "masked_output\n",
    "# masking_layer = layers.Masking()\n",
    "# # Simulate the embedding lookup by expanding the 2D input to 3D,\n",
    "# # with embedding dimension of 10.\n",
    "# unmasked_embedding = tf.cast(\n",
    "#     tf.tile(tf.expand_dims(padded_inputs, axis=-1), [1, 1, 10]), tf.float32\n",
    "# )\n",
    "\n",
    "# masked_embedding = masking_layer(unmasked_embedding)\n",
    "# print(masked_embedding._keras_mask)"
   ]
  },
  {
   "cell_type": "code",
   "execution_count": 21,
   "metadata": {},
   "outputs": [
    {
     "name": "stdout",
     "output_type": "stream",
     "text": [
      "Model: \"model\"\n",
      "_________________________________________________________________\n",
      " Layer (type)                Output Shape              Param #   \n",
      "=================================================================\n",
      " input_1 (InputLayer)        [(None, 211, 300)]        0         \n",
      "                                                                 \n",
      " masking (Masking)           (None, 211, 300)          0         \n",
      "                                                                 \n",
      " lstm (LSTM)                 (None, 64)                93440     \n",
      "                                                                 \n",
      " dense (Dense)               (None, 4)                 260       \n",
      "                                                                 \n",
      "=================================================================\n",
      "Total params: 93,700\n",
      "Trainable params: 93,700\n",
      "Non-trainable params: 0\n",
      "_________________________________________________________________\n"
     ]
    }
   ],
   "source": [
    "#LSTM model \n",
    "\n",
    "inputs = layers.Input(shape=(x_shape[1], x_shape[2]))\n",
    "x = layers.Masking(mask_value=0, input_shape=(x_shape[1], x_shape[2]))(inputs)\n",
    "x = layers.LSTM(64)(x)\n",
    "# x = layers.MaxPool2D()(x)\n",
    "outputs = layers.Dense(4, activation=\"softmax\")(x)\n",
    "\n",
    "model_lstm = tf.keras.Model(inputs, outputs)\n",
    "model_lstm.summary()"
   ]
  },
  {
   "cell_type": "code",
   "execution_count": 22,
   "metadata": {},
   "outputs": [
    {
     "name": "stdout",
     "output_type": "stream",
     "text": [
      "Epoch 1/5\n"
     ]
    },
    {
     "name": "stderr",
     "output_type": "stream",
     "text": [
      "2023-04-21 00:13:49.929077: W tensorflow/core/platform/profile_utils/cpu_utils.cc:128] Failed to get CPU frequency: 0 Hz\n",
      "2023-04-21 00:13:51.841223: I tensorflow/core/grappler/optimizers/custom_graph_optimizer_registry.cc:113] Plugin optimizer for device_type GPU is enabled.\n",
      "2023-04-21 00:13:52.261523: W tensorflow/core/common_runtime/forward_type_inference.cc:231] Type inference failed. This indicates an invalid graph that escaped type checking. Error message: INVALID_ARGUMENT: expected compatible input types, but input 1:\n",
      "type_id: TFT_OPTIONAL\n",
      "args {\n",
      "  type_id: TFT_PRODUCT\n",
      "  args {\n",
      "    type_id: TFT_TENSOR\n",
      "    args {\n",
      "      type_id: TFT_LEGACY_VARIANT\n",
      "    }\n",
      "  }\n",
      "}\n",
      " is neither a subtype nor a supertype of the combined inputs preceding it:\n",
      "type_id: TFT_OPTIONAL\n",
      "args {\n",
      "  type_id: TFT_PRODUCT\n",
      "  args {\n",
      "    type_id: TFT_TENSOR\n",
      "    args {\n",
      "      type_id: TFT_FLOAT\n",
      "    }\n",
      "  }\n",
      "}\n",
      "\n",
      "\twhile inferring type of node 'cond_40/output/_19'\n",
      "2023-04-21 00:13:52.265441: I tensorflow/core/grappler/optimizers/custom_graph_optimizer_registry.cc:113] Plugin optimizer for device_type GPU is enabled.\n",
      "2023-04-21 00:13:52.861478: I tensorflow/core/grappler/optimizers/custom_graph_optimizer_registry.cc:113] Plugin optimizer for device_type GPU is enabled.\n"
     ]
    },
    {
     "name": "stdout",
     "output_type": "stream",
     "text": [
      "15/15 [==============================] - ETA: 0s - loss: 1.3923 - accuracy: 0.2560 "
     ]
    },
    {
     "name": "stderr",
     "output_type": "stream",
     "text": [
      "2023-04-21 00:16:09.375527: I tensorflow/core/grappler/optimizers/custom_graph_optimizer_registry.cc:113] Plugin optimizer for device_type GPU is enabled.\n",
      "2023-04-21 00:16:09.595508: I tensorflow/core/grappler/optimizers/custom_graph_optimizer_registry.cc:113] Plugin optimizer for device_type GPU is enabled.\n"
     ]
    },
    {
     "name": "stdout",
     "output_type": "stream",
     "text": [
      "15/15 [==============================] - 143s 10s/step - loss: 1.3923 - accuracy: 0.2560 - val_loss: 1.3672 - val_accuracy: 0.3217\n",
      "Epoch 2/5\n",
      "15/15 [==============================] - 219s 16s/step - loss: 1.3203 - accuracy: 0.3829 - val_loss: 1.2820 - val_accuracy: 0.3652\n",
      "Epoch 3/5\n",
      "15/15 [==============================] - 219s 13s/step - loss: 1.2917 - accuracy: 0.3764 - val_loss: 1.2751 - val_accuracy: 0.3478\n",
      "Epoch 4/5\n",
      "15/15 [==============================] - 236s 17s/step - loss: 1.2521 - accuracy: 0.3939 - val_loss: 1.2683 - val_accuracy: 0.3652\n",
      "Epoch 5/5\n",
      "15/15 [==============================] - 170s 12s/step - loss: 1.2075 - accuracy: 0.4223 - val_loss: 1.0908 - val_accuracy: 0.4783\n"
     ]
    },
    {
     "data": {
      "text/plain": [
       "<keras.callbacks.History at 0x2e615bdc0>"
      ]
     },
     "execution_count": 22,
     "metadata": {},
     "output_type": "execute_result"
    }
   ],
   "source": [
    "model_lstm.compile(loss='sparse_categorical_crossentropy', optimizer='adam', metrics=['accuracy'])\n",
    "model_lstm.fit(X_train, y_train, epochs=5, validation_data=(X_test, y_test))"
   ]
  },
  {
   "cell_type": "code",
   "execution_count": 47,
   "metadata": {},
   "outputs": [
    {
     "data": {
      "text/plain": [
       "<tf.Tensor: shape=(211, 300), dtype=bool, numpy=\n",
       "array([[ True,  True, False, ...,  True, False, False],\n",
       "       [ True,  True, False, ...,  True, False, False],\n",
       "       [ True,  True, False, ...,  True, False, False],\n",
       "       ...,\n",
       "       [False, False, False, ..., False, False, False],\n",
       "       [False, False, False, ..., False, False, False],\n",
       "       [False, False, False, ..., False, False, False]])>"
      ]
     },
     "execution_count": 47,
     "metadata": {},
     "output_type": "execute_result"
    }
   ],
   "source": [
    "def get_mask_from_lengths(data):  #2d list\n",
    "    ids = tf.zeros(shape=(x_shape[1], x_shape[2]))\n",
    "    all_zeros = ids < data\n",
    "    mask_list = []\n",
    "    for i in range()\n",
    "    return mask\n",
    "\n",
    "get_mask_from_lengths(X_train)[0]"
   ]
  },
  {
   "cell_type": "code",
   "execution_count": 48,
   "metadata": {},
   "outputs": [
    {
     "name": "stdout",
     "output_type": "stream",
     "text": [
      "Model: \"model_3\"\n",
      "_________________________________________________________________\n",
      " Layer (type)                Output Shape              Param #   \n",
      "=================================================================\n",
      " input_7 (InputLayer)        [(None, 211, 300)]        0         \n",
      "                                                                 \n",
      " gru (GRU)                   (114, 64)                 70272     \n",
      "                                                                 \n",
      " dense_3 (Dense)             (114, 4)                  260       \n",
      "                                                                 \n",
      "=================================================================\n",
      "Total params: 70,532\n",
      "Trainable params: 70,532\n",
      "Non-trainable params: 0\n",
      "_________________________________________________________________\n"
     ]
    }
   ],
   "source": [
    "inputs = layers.Input(shape=(x_shape[1], x_shape[2]))\n",
    "x = layers.GRU(64)(inputs, mask=masked_output._keras_mask)\n",
    "# x = layers.LSTM(64)(x)\n",
    "outputs = layers.Dense(4, activation=\"softmax\")(x)\n",
    "model_lstm2= tf.keras.Model(inputs, outputs)\n",
    "model_lstm2.summary()"
   ]
  },
  {
   "cell_type": "code",
   "execution_count": 49,
   "metadata": {},
   "outputs": [
    {
     "name": "stdout",
     "output_type": "stream",
     "text": [
      "Epoch 1/5\n"
     ]
    },
    {
     "name": "stderr",
     "output_type": "stream",
     "text": [
      "2023-03-25 16:08:52.820913: I tensorflow/core/grappler/optimizers/custom_graph_optimizer_registry.cc:113] Plugin optimizer for device_type GPU is enabled.\n",
      "2023-03-25 16:08:53.187428: I tensorflow/core/grappler/optimizers/custom_graph_optimizer_registry.cc:113] Plugin optimizer for device_type GPU is enabled.\n"
     ]
    },
    {
     "ename": "CancelledError",
     "evalue": "Graph execution error:\n\nRecvAsync is cancelled.\n\t [[{{node model_3/dense_3/Softmax/_20}}]] [Op:__inference_train_function_36100]",
     "output_type": "error",
     "traceback": [
      "\u001b[0;31m---------------------------------------------------------------------------\u001b[0m",
      "\u001b[0;31mCancelledError\u001b[0m                            Traceback (most recent call last)",
      "Cell \u001b[0;32mIn[49], line 2\u001b[0m\n\u001b[1;32m      1\u001b[0m model_lstm2\u001b[39m.\u001b[39mcompile(loss\u001b[39m=\u001b[39m\u001b[39m'\u001b[39m\u001b[39msparse_categorical_crossentropy\u001b[39m\u001b[39m'\u001b[39m, optimizer\u001b[39m=\u001b[39m\u001b[39m'\u001b[39m\u001b[39madam\u001b[39m\u001b[39m'\u001b[39m, metrics\u001b[39m=\u001b[39m[\u001b[39m'\u001b[39m\u001b[39maccuracy\u001b[39m\u001b[39m'\u001b[39m])\n\u001b[0;32m----> 2\u001b[0m model_lstm2\u001b[39m.\u001b[39;49mfit(X_train, y_train, epochs\u001b[39m=\u001b[39;49m\u001b[39m5\u001b[39;49m, validation_data\u001b[39m=\u001b[39;49m(X_test, y_test))\n",
      "File \u001b[0;32m~/opt/miniconda3/envs/asl-converter/lib/python3.8/site-packages/keras/utils/traceback_utils.py:67\u001b[0m, in \u001b[0;36mfilter_traceback.<locals>.error_handler\u001b[0;34m(*args, **kwargs)\u001b[0m\n\u001b[1;32m     65\u001b[0m \u001b[39mexcept\u001b[39;00m \u001b[39mException\u001b[39;00m \u001b[39mas\u001b[39;00m e:  \u001b[39m# pylint: disable=broad-except\u001b[39;00m\n\u001b[1;32m     66\u001b[0m   filtered_tb \u001b[39m=\u001b[39m _process_traceback_frames(e\u001b[39m.\u001b[39m__traceback__)\n\u001b[0;32m---> 67\u001b[0m   \u001b[39mraise\u001b[39;00m e\u001b[39m.\u001b[39mwith_traceback(filtered_tb) \u001b[39mfrom\u001b[39;00m \u001b[39mNone\u001b[39m\n\u001b[1;32m     68\u001b[0m \u001b[39mfinally\u001b[39;00m:\n\u001b[1;32m     69\u001b[0m   \u001b[39mdel\u001b[39;00m filtered_tb\n",
      "File \u001b[0;32m~/opt/miniconda3/envs/asl-converter/lib/python3.8/site-packages/tensorflow/python/eager/execute.py:54\u001b[0m, in \u001b[0;36mquick_execute\u001b[0;34m(op_name, num_outputs, inputs, attrs, ctx, name)\u001b[0m\n\u001b[1;32m     52\u001b[0m \u001b[39mtry\u001b[39;00m:\n\u001b[1;32m     53\u001b[0m   ctx\u001b[39m.\u001b[39mensure_initialized()\n\u001b[0;32m---> 54\u001b[0m   tensors \u001b[39m=\u001b[39m pywrap_tfe\u001b[39m.\u001b[39mTFE_Py_Execute(ctx\u001b[39m.\u001b[39m_handle, device_name, op_name,\n\u001b[1;32m     55\u001b[0m                                       inputs, attrs, num_outputs)\n\u001b[1;32m     56\u001b[0m \u001b[39mexcept\u001b[39;00m core\u001b[39m.\u001b[39m_NotOkStatusException \u001b[39mas\u001b[39;00m e:\n\u001b[1;32m     57\u001b[0m   \u001b[39mif\u001b[39;00m name \u001b[39mis\u001b[39;00m \u001b[39mnot\u001b[39;00m \u001b[39mNone\u001b[39;00m:\n",
      "\u001b[0;31mCancelledError\u001b[0m: Graph execution error:\n\nRecvAsync is cancelled.\n\t [[{{node model_3/dense_3/Softmax/_20}}]] [Op:__inference_train_function_36100]"
     ]
    }
   ],
   "source": [
    "model_lstm2.compile(loss='sparse_categorical_crossentropy', optimizer='adam', metrics=['accuracy'])\n",
    "model_lstm2.fit(X_train, y_train, epochs=5, validation_data=(X_test, y_test))"
   ]
  },
  {
   "cell_type": "code",
   "execution_count": 1,
   "metadata": {},
   "outputs": [
    {
     "name": "stdout",
     "output_type": "stream",
     "text": [
      "Metal device set to: Apple M1\n",
      "\n",
      "systemMemory: 16.00 GB\n",
      "maxCacheSize: 5.33 GB\n",
      "\n"
     ]
    },
    {
     "name": "stderr",
     "output_type": "stream",
     "text": [
      "2023-03-20 13:48:08.831618: I tensorflow/core/common_runtime/pluggable_device/pluggable_device_factory.cc:305] Could not identify NUMA node of platform GPU ID 0, defaulting to 0. Your kernel may not have been built with NUMA support.\n",
      "2023-03-20 13:48:08.831726: I tensorflow/core/common_runtime/pluggable_device/pluggable_device_factory.cc:271] Created TensorFlow device (/job:localhost/replica:0/task:0/device:GPU:0 with 0 MB memory) -> physical PluggableDevice (device: 0, name: METAL, pci bus id: <undefined>)\n"
     ]
    },
    {
     "ename": "NameError",
     "evalue": "name 'X_train' is not defined",
     "output_type": "error",
     "traceback": [
      "\u001b[0;31m---------------------------------------------------------------------------\u001b[0m",
      "\u001b[0;31mNameError\u001b[0m                                 Traceback (most recent call last)",
      "Cell \u001b[0;32mIn[1], line 5\u001b[0m\n\u001b[1;32m      2\u001b[0m \u001b[39mfrom\u001b[39;00m \u001b[39mtensorflow\u001b[39;00m\u001b[39m.\u001b[39;00m\u001b[39mkeras\u001b[39;00m\u001b[39m.\u001b[39;00m\u001b[39mlayers\u001b[39;00m \u001b[39mimport\u001b[39;00m LSTM, Dense, Dropout\n\u001b[1;32m      4\u001b[0m model \u001b[39m=\u001b[39m Sequential()\n\u001b[0;32m----> 5\u001b[0m model\u001b[39m.\u001b[39madd(LSTM(\u001b[39m64\u001b[39m, return_sequences\u001b[39m=\u001b[39m\u001b[39mTrue\u001b[39;00m, input_shape\u001b[39m=\u001b[39m(X_train\u001b[39m.\u001b[39mshape[\u001b[39m1\u001b[39m], X_train\u001b[39m.\u001b[39mshape[\u001b[39m2\u001b[39m])))\n\u001b[1;32m      6\u001b[0m model\u001b[39m.\u001b[39madd(Dropout(\u001b[39m0.2\u001b[39m))\n\u001b[1;32m      7\u001b[0m model\u001b[39m.\u001b[39madd(LSTM(\u001b[39m64\u001b[39m, return_sequences\u001b[39m=\u001b[39m\u001b[39mTrue\u001b[39;00m))\n",
      "\u001b[0;31mNameError\u001b[0m: name 'X_train' is not defined"
     ]
    }
   ],
   "source": [
    "from tensorflow.keras.models import Sequential\n",
    "from tensorflow.keras.layers import LSTM, Dense, Dropout\n",
    "\n",
    "model = Sequential()\n",
    "model.add(LSTM(64, return_sequences=True, input_shape=(X_train.shape[1], X_train.shape[2])))\n",
    "model.add(Dropout(0.2))\n",
    "model.add(LSTM(64, return_sequences=True))\n",
    "model.add(Dropout(0.2))\n",
    "model.add(LSTM(64))\n",
    "model.add(Dense(4, activation='softmax'))\n",
    "\n",
    "model.compile(loss='sparse_categorical_crossentropy', optimizer='adam', metrics=['accuracy'])\n",
    "\n",
    "\n"
   ]
  },
  {
   "cell_type": "code",
   "execution_count": 41,
   "metadata": {},
   "outputs": [
    {
     "name": "stdout",
     "output_type": "stream",
     "text": [
      "Model: \"sequential_11\"\n",
      "_________________________________________________________________\n",
      " Layer (type)                Output Shape              Param #   \n",
      "=================================================================\n",
      " lstm_33 (LSTM)              (None, 211, 64)           93440     \n",
      "                                                                 \n",
      " lstm_34 (LSTM)              (None, 32)                12416     \n",
      "                                                                 \n",
      " dense_7 (Dense)             (None, 4)                 132       \n",
      "                                                                 \n",
      "=================================================================\n",
      "Total params: 105,988\n",
      "Trainable params: 105,988\n",
      "Non-trainable params: 0\n",
      "_________________________________________________________________\n"
     ]
    }
   ],
   "source": [
    "from tensorflow.keras.losses import SparseCategoricalCrossentropy\n",
    "from tensorflow.keras.optimizers import Adam\n",
    "\n",
    "model.compile(loss=SparseCategoricalCrossentropy(), optimizer=Adam(), metrics=[\"accuracy\"])\n",
    "model.summary()"
   ]
  },
  {
   "cell_type": "code",
   "execution_count": 42,
   "metadata": {
    "scrolled": true
   },
   "outputs": [
    {
     "name": "stdout",
     "output_type": "stream",
     "text": [
      "Epoch 1/10\n"
     ]
    },
    {
     "name": "stderr",
     "output_type": "stream",
     "text": [
      "2023-03-18 02:36:51.372559: I tensorflow/core/grappler/optimizers/custom_graph_optimizer_registry.cc:113] Plugin optimizer for device_type GPU is enabled.\n",
      "2023-03-18 02:36:51.660659: I tensorflow/core/grappler/optimizers/custom_graph_optimizer_registry.cc:113] Plugin optimizer for device_type GPU is enabled.\n",
      "2023-03-18 02:36:51.934093: I tensorflow/core/grappler/optimizers/custom_graph_optimizer_registry.cc:113] Plugin optimizer for device_type GPU is enabled.\n",
      "2023-03-18 02:36:52.419899: I tensorflow/core/grappler/optimizers/custom_graph_optimizer_registry.cc:113] Plugin optimizer for device_type GPU is enabled.\n",
      "2023-03-18 02:36:53.015099: I tensorflow/core/grappler/optimizers/custom_graph_optimizer_registry.cc:113] Plugin optimizer for device_type GPU is enabled.\n"
     ]
    },
    {
     "name": "stdout",
     "output_type": "stream",
     "text": [
      "4/4 [==============================] - ETA: 0s - loss: 1.3853 - accuracy: 0.2353"
     ]
    },
    {
     "name": "stderr",
     "output_type": "stream",
     "text": [
      "2023-03-18 02:36:55.555320: I tensorflow/core/grappler/optimizers/custom_graph_optimizer_registry.cc:113] Plugin optimizer for device_type GPU is enabled.\n",
      "2023-03-18 02:36:55.667921: I tensorflow/core/grappler/optimizers/custom_graph_optimizer_registry.cc:113] Plugin optimizer for device_type GPU is enabled.\n",
      "2023-03-18 02:36:55.926320: I tensorflow/core/grappler/optimizers/custom_graph_optimizer_registry.cc:113] Plugin optimizer for device_type GPU is enabled.\n"
     ]
    },
    {
     "name": "stdout",
     "output_type": "stream",
     "text": [
      "4/4 [==============================] - 6s 863ms/step - loss: 1.3853 - accuracy: 0.2353 - val_loss: 1.3813 - val_accuracy: 0.3333\n",
      "Epoch 2/10\n",
      "4/4 [==============================] - 0s 108ms/step - loss: 1.3759 - accuracy: 0.3333 - val_loss: 1.3774 - val_accuracy: 0.3333\n",
      "Epoch 3/10\n",
      "4/4 [==============================] - 0s 99ms/step - loss: 1.3661 - accuracy: 0.3431 - val_loss: 1.3739 - val_accuracy: 0.3333\n",
      "Epoch 4/10\n",
      "4/4 [==============================] - 0s 101ms/step - loss: 1.3470 - accuracy: 0.3431 - val_loss: 1.3667 - val_accuracy: 0.3333\n",
      "Epoch 5/10\n",
      "4/4 [==============================] - 0s 101ms/step - loss: 1.3325 - accuracy: 0.3431 - val_loss: 1.3640 - val_accuracy: 0.3333\n",
      "Epoch 6/10\n",
      "4/4 [==============================] - 0s 101ms/step - loss: 1.3215 - accuracy: 0.3431 - val_loss: 1.4380 - val_accuracy: 0.3333\n",
      "Epoch 7/10\n",
      "4/4 [==============================] - 0s 102ms/step - loss: 1.2628 - accuracy: 0.4118 - val_loss: 2.1948 - val_accuracy: 0.1667\n",
      "Epoch 8/10\n",
      "4/4 [==============================] - 0s 99ms/step - loss: 1.5949 - accuracy: 0.2647 - val_loss: 1.4307 - val_accuracy: 0.3333\n",
      "Epoch 9/10\n",
      "4/4 [==============================] - 0s 101ms/step - loss: 1.2525 - accuracy: 0.3922 - val_loss: 1.3858 - val_accuracy: 0.3333\n",
      "Epoch 10/10\n",
      "4/4 [==============================] - 0s 101ms/step - loss: 1.2992 - accuracy: 0.3627 - val_loss: 1.3686 - val_accuracy: 0.3333\n"
     ]
    }
   ],
   "source": [
    "history = model.fit(X_train, y_train, epochs=50, batch_size=32, validation_split=0.2)"
   ]
  },
  {
   "cell_type": "code",
   "execution_count": 38,
   "metadata": {},
   "outputs": [],
   "source": [
    "x = np.array([[4], [2]])"
   ]
  },
  {
   "cell_type": "code",
   "execution_count": 41,
   "metadata": {},
   "outputs": [
    {
     "data": {
      "text/plain": [
       "(1, 2)"
      ]
     },
     "execution_count": 41,
     "metadata": {},
     "output_type": "execute_result"
    }
   ],
   "source": [
    "x.T.shape"
   ]
  },
  {
   "cell_type": "code",
   "execution_count": 42,
   "metadata": {},
   "outputs": [
    {
     "data": {
      "text/plain": [
       "array([[4, 2]])"
      ]
     },
     "execution_count": 42,
     "metadata": {},
     "output_type": "execute_result"
    }
   ],
   "source": [
    "x.T"
   ]
  },
  {
   "cell_type": "code",
   "execution_count": null,
   "metadata": {},
   "outputs": [],
   "source": []
  }
 ],
 "metadata": {
  "kernelspec": {
   "display_name": "Python 3 (ipykernel)",
   "language": "python",
   "name": "python3"
  },
  "language_info": {
   "codemirror_mode": {
    "name": "ipython",
    "version": 3
   },
   "file_extension": ".py",
   "mimetype": "text/x-python",
   "name": "python",
   "nbconvert_exporter": "python",
   "pygments_lexer": "ipython3",
   "version": "3.11.3"
  }
 },
 "nbformat": 4,
 "nbformat_minor": 2
}
