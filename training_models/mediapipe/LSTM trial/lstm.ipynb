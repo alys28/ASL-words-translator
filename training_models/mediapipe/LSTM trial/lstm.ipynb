{
 "cells": [
  {
   "cell_type": "code",
   "execution_count": 1,
   "metadata": {},
   "outputs": [],
   "source": [
    "import tensorflow as tf\n",
    "import os\n",
    "import numpy as np\n",
    "import pandas as pd"
   ]
  },
  {
   "cell_type": "code",
   "execution_count": 78,
   "metadata": {},
   "outputs": [],
   "source": [
    "def process_csv_file(file):\n",
    "    try:\n",
    "        csv_data = pd.read_csv(file)\n",
    "    except:\n",
    "         print(\"CANT READ CSV: \", file)\n",
    "         return\n",
    "    # print(csv_data.isnull().values.any())\n",
    "    if csv_data.isnull().values.any():\n",
    "            print(file)\n",
    "            return False\n",
    "    try:\n",
    "        csv_data = csv_data.drop(\"class\", axis = 1)\n",
    "    except KeyError:\n",
    "        pass\n",
    "    return (csv_data.to_numpy())"
   ]
  },
  {
   "cell_type": "code",
   "execution_count": 64,
   "metadata": {},
   "outputs": [
    {
     "data": {
      "text/plain": [
       "array([[ 0.02740688, -0.35486283, -1.90647697, ...,  0.16417227,\n",
       "        -0.09599295,  0.        ],\n",
       "       [ 0.03286565, -0.35673438, -1.90783131, ...,  0.16135563,\n",
       "        -0.0943355 ,  0.        ],\n",
       "       [ 0.02303456, -0.35565996, -1.94184434, ...,  0.15929946,\n",
       "        -0.08896641,  0.        ],\n",
       "       ...,\n",
       "       [ 0.36377377,  0.00391136, -1.15274119, ..., -0.36123698,\n",
       "         0.        ,  0.        ],\n",
       "       [ 0.36629457,  0.00540541, -1.19808948, ..., -0.35969363,\n",
       "         0.        ,  0.        ],\n",
       "       [ 0.36976547,  0.00584776, -1.28183293, ..., -0.35905882,\n",
       "         0.        ,  0.        ]])"
      ]
     },
     "execution_count": 64,
     "metadata": {},
     "output_type": "execute_result"
    }
   ],
   "source": [
    "file = \"/Users/aly/Documents/Programming/Apps/Machine Learning/ASL Converter/data_augmentation/data_four_labels_augmentation/train/dog/FNt4N8WFuVY10641_translation_0.5.csv_projective_geo_14_False.csv\"\n",
    "process_csv_file(file)"
   ]
  },
  {
   "cell_type": "code",
   "execution_count": 3,
   "metadata": {},
   "outputs": [],
   "source": [
    "def set_padding(arr, max_length):\n",
    "    arr = np.append(arr, np.zeros((max_length-arr.shape[0],300)), axis=0)\n",
    "    return np.expand_dims(arr, 0)"
   ]
  },
  {
   "cell_type": "code",
   "execution_count": 81,
   "metadata": {},
   "outputs": [],
   "source": [
    "def prepare_data(folder_path, labels):\n",
    "    total = 0\n",
    "    max_length = 0\n",
    "    # find max length\n",
    "    for folder in os.listdir(folder_path):\n",
    "        print(folder)\n",
    "        if folder != \".DS_Store\":\n",
    "            total += len(os.listdir(os.path.join(folder_path, folder)))\n",
    "            for file in os.listdir(os.path.join(folder_path, folder)):\n",
    "                if file != \".DS_Store\":\n",
    "                    data = process_csv_file(os.path.join(folder_path, folder, file))\n",
    "                    if data is not(False):\n",
    "                        if data.shape[0] > max_length:\n",
    "                            max_length = data.shape[0]\n",
    "    print(max_length)\n",
    "    # Make the arrays\n",
    "    X = np.empty((0, max_length, 300))\n",
    "    Y = np.empty((0,), int)\n",
    "    print(\"----------\")\n",
    "    for folder in os.listdir(folder_path):\n",
    "        print(folder)\n",
    "        if folder != \".DS_Store\":\n",
    "            for file in os.listdir(os.path.join(folder_path, folder)):\n",
    "                if file != \".DS_Store\":\n",
    "                    data = process_csv_file(os.path.join(folder_path, folder, file))\n",
    "                    if data is not(False):\n",
    "                        data = set_padding(data, max_length)\n",
    "                        X = np.vstack((X, data))\n",
    "                        Y = np.append(Y, labels[folder])\n",
    "    print(total, max_length)\n",
    "    return X, Y"
   ]
  },
  {
   "cell_type": "code",
   "execution_count": 82,
   "metadata": {
    "scrolled": false
   },
   "outputs": [
    {
     "name": "stdout",
     "output_type": "stream",
     "text": [
      ".DS_Store\n",
      "dog\n",
      "/Users/aly/Documents/Programming/Apps/Machine Learning/ASL Converter/data_augmentation/data_four_labels_augmentation/train/dog/lvqGMGFmuV4325_rotation_15_scale_0.2.csv_projective_geo_12_True.csv\n",
      "/Users/aly/Documents/Programming/Apps/Machine Learning/ASL Converter/data_augmentation/data_four_labels_augmentation/train/dog/lvqGMGFmuV4325_rotation_15_translation_0.5_scale_0.2_translate_0.5_left.csv_projective_geo_10_False.csv\n",
      "/Users/aly/Documents/Programming/Apps/Machine Learning/ASL Converter/data_augmentation/data_four_labels_augmentation/train/dog/lvqGMGFmuV4325_rotation_15_translation_0.5_translate_0.5_left.csv_projective_geo_5_False.csv\n",
      "/Users/aly/Documents/Programming/Apps/Machine Learning/ASL Converter/data_augmentation/data_four_labels_augmentation/train/dog/lvqGMGFmuV4325_translation_0.5_scale_0.2_translate_0.5_left.csv_projective_geo_14_True.csv\n",
      "/Users/aly/Documents/Programming/Apps/Machine Learning/ASL Converter/data_augmentation/data_four_labels_augmentation/train/dog/lvqGMGFmuV4325_rotation_15_scale_0.2_translate_0.5_left.csv_projective_geo_10_False.csv\n",
      "/Users/aly/Documents/Programming/Apps/Machine Learning/ASL Converter/data_augmentation/data_four_labels_augmentation/train/dog/lvqGMGFmuV4325_scale_0.2.csv_projective_geo_7_True_REFLECTION_.csv\n",
      "/Users/aly/Documents/Programming/Apps/Machine Learning/ASL Converter/data_augmentation/data_four_labels_augmentation/train/dog/lvqGMGFmuV4325_translation_0.5.csv_projective_geo_9_False.csv\n",
      "/Users/aly/Documents/Programming/Apps/Machine Learning/ASL Converter/data_augmentation/data_four_labels_augmentation/train/dog/lvqGMGFmuV4325_rotation_15_scale_0.2.csv_projective_geo_12_False_REFLECTION_.csv\n",
      "/Users/aly/Documents/Programming/Apps/Machine Learning/ASL Converter/data_augmentation/data_four_labels_augmentation/train/dog/lvqGMGFmuV4325_rotation_15_translate_0.5_left.csv_projective_geo_13_True_REFLECTION_.csv\n",
      "/Users/aly/Documents/Programming/Apps/Machine Learning/ASL Converter/data_augmentation/data_four_labels_augmentation/train/dog/lvqGMGFmuV4325_rotation_15_translation_0.5_scale_0.2.csv_projective_geo_6_False.csv\n",
      "/Users/aly/Documents/Programming/Apps/Machine Learning/ASL Converter/data_augmentation/data_four_labels_augmentation/train/dog/lvqGMGFmuV4325_rotation_15.csv_projective_geo_14_True.csv\n",
      "/Users/aly/Documents/Programming/Apps/Machine Learning/ASL Converter/data_augmentation/data_four_labels_augmentation/train/dog/lvqGMGFmuV4325_rotation_15_scale_0.2.csv_projective_geo_12_True_REFLECTION_.csv\n",
      "/Users/aly/Documents/Programming/Apps/Machine Learning/ASL Converter/data_augmentation/data_four_labels_augmentation/train/dog/lvqGMGFmuV4325.csv_projective_geo_14_False_REFLECTION_.csv\n",
      "/Users/aly/Documents/Programming/Apps/Machine Learning/ASL Converter/data_augmentation/data_four_labels_augmentation/train/dog/lvqGMGFmuV4325_translation_0.5_translate_0.5_left.csv_projective_geo_10_False.csv\n",
      "/Users/aly/Documents/Programming/Apps/Machine Learning/ASL Converter/data_augmentation/data_four_labels_augmentation/train/dog/lvqGMGFmuV4325_translation_0.5_scale_0.2.csv_projective_geo_9_False_REFLECTION_.csv\n",
      "/Users/aly/Documents/Programming/Apps/Machine Learning/ASL Converter/data_augmentation/data_four_labels_augmentation/train/dog/lvqGMGFmuV4325_scale_0.2_translate_0.5_left.csv_projective_geo_13_False_REFLECTION_.csv\n",
      "/Users/aly/Documents/Programming/Apps/Machine Learning/ASL Converter/data_augmentation/data_four_labels_augmentation/train/dog/lvqGMGFmuV4325_scale_0.2.csv_projective_geo_9_False.csv\n",
      "/Users/aly/Documents/Programming/Apps/Machine Learning/ASL Converter/data_augmentation/data_four_labels_augmentation/train/dog/lvqGMGFmuV4325_translation_0.5_translate_0.5_left.csv_projective_geo_14_True_REFLECTION_.csv\n",
      "/Users/aly/Documents/Programming/Apps/Machine Learning/ASL Converter/data_augmentation/data_four_labels_augmentation/train/dog/lvqGMGFmuV4325.csv_projective_geo_10_True_REFLECTION_.csv\n",
      "/Users/aly/Documents/Programming/Apps/Machine Learning/ASL Converter/data_augmentation/data_four_labels_augmentation/train/dog/lvqGMGFmuV4325.csv_projective_geo_10_True.csv\n",
      "/Users/aly/Documents/Programming/Apps/Machine Learning/ASL Converter/data_augmentation/data_four_labels_augmentation/train/dog/lvqGMGFmuV4325_rotation_15.csv_projective_geo_8_False.csv\n",
      "/Users/aly/Documents/Programming/Apps/Machine Learning/ASL Converter/data_augmentation/data_four_labels_augmentation/train/dog/lvqGMGFmuV4325_rotation_15_translation_0.5_scale_0.2_translate_0.5_left.csv_projective_geo_14_True.csv\n",
      "/Users/aly/Documents/Programming/Apps/Machine Learning/ASL Converter/data_augmentation/data_four_labels_augmentation/train/dog/lvqGMGFmuV4325_rotation_15_translation_0.5_scale_0.2_translate_0.5_left.csv_projective_geo_10_False_REFLECTION_.csv\n",
      "/Users/aly/Documents/Programming/Apps/Machine Learning/ASL Converter/data_augmentation/data_four_labels_augmentation/train/dog/lvqGMGFmuV4325_rotation_15.csv_projective_geo_8_False_REFLECTION_.csv\n",
      "/Users/aly/Documents/Programming/Apps/Machine Learning/ASL Converter/data_augmentation/data_four_labels_augmentation/train/dog/lvqGMGFmuV4325_rotation_15_translation_0.5_scale_0.2.csv_projective_geo_6_False_REFLECTION_.csv\n",
      "/Users/aly/Documents/Programming/Apps/Machine Learning/ASL Converter/data_augmentation/data_four_labels_augmentation/train/dog/lvqGMGFmuV4325_translation_0.5_scale_0.2_translate_0.5_left.csv_projective_geo_14_True_REFLECTION_.csv\n",
      "/Users/aly/Documents/Programming/Apps/Machine Learning/ASL Converter/data_augmentation/data_four_labels_augmentation/train/dog/lvqGMGFmuV4325_translation_0.5_scale_0.2.csv_projective_geo_9_False.csv\n",
      "/Users/aly/Documents/Programming/Apps/Machine Learning/ASL Converter/data_augmentation/data_four_labels_augmentation/train/dog/lvqGMGFmuV4325_rotation_15_translation_0.5_translate_0.5_left.csv_projective_geo_8_True.csv\n",
      "/Users/aly/Documents/Programming/Apps/Machine Learning/ASL Converter/data_augmentation/data_four_labels_augmentation/train/dog/lvqGMGFmuV4325_rotation_15_translate_0.5_left.csv_projective_geo_14_False_REFLECTION_.csv\n",
      "/Users/aly/Documents/Programming/Apps/Machine Learning/ASL Converter/data_augmentation/data_four_labels_augmentation/train/dog/lvqGMGFmuV4325_rotation_15_translation_0.5_scale_0.2_translate_0.5_left.csv_projective_geo_14_True_REFLECTION_.csv\n",
      "/Users/aly/Documents/Programming/Apps/Machine Learning/ASL Converter/data_augmentation/data_four_labels_augmentation/train/dog/lvqGMGFmuV4325_rotation_15_translation_0.5_translate_0.5_left.csv_projective_geo_8_True_REFLECTION_.csv\n",
      "/Users/aly/Documents/Programming/Apps/Machine Learning/ASL Converter/data_augmentation/data_four_labels_augmentation/train/dog/lvqGMGFmuV4325_rotation_15_scale_0.2.csv_projective_geo_12_False.csv\n",
      "/Users/aly/Documents/Programming/Apps/Machine Learning/ASL Converter/data_augmentation/data_four_labels_augmentation/train/dog/lvqGMGFmuV4325_rotation_15_scale_0.2_translate_0.5_left.csv_projective_geo_7_True.csv\n",
      "/Users/aly/Documents/Programming/Apps/Machine Learning/ASL Converter/data_augmentation/data_four_labels_augmentation/train/dog/lvqGMGFmuV4325_translation_0.5.csv_projective_geo_8_True.csv\n",
      "/Users/aly/Documents/Programming/Apps/Machine Learning/ASL Converter/data_augmentation/data_four_labels_augmentation/train/dog/lvqGMGFmuV4325_scale_0.2.csv_projective_geo_9_False_REFLECTION_.csv\n",
      "/Users/aly/Documents/Programming/Apps/Machine Learning/ASL Converter/data_augmentation/data_four_labels_augmentation/train/dog/lvqGMGFmuV4325_rotation_15.csv_projective_geo_14_True_REFLECTION_.csv\n",
      "/Users/aly/Documents/Programming/Apps/Machine Learning/ASL Converter/data_augmentation/data_four_labels_augmentation/train/dog/lvqGMGFmuV4325_rotation_15_translate_0.5_left.csv_projective_geo_13_True.csv\n",
      "/Users/aly/Documents/Programming/Apps/Machine Learning/ASL Converter/data_augmentation/data_four_labels_augmentation/train/dog/lvqGMGFmuV4325_scale_0.2_translate_0.5_left.csv_projective_geo_13_False.csv\n",
      "/Users/aly/Documents/Programming/Apps/Machine Learning/ASL Converter/data_augmentation/data_four_labels_augmentation/train/dog/lvqGMGFmuV4325_rotation_15_translation_0.5_scale_0.2.csv_projective_geo_7_True_REFLECTION_.csv\n",
      "/Users/aly/Documents/Programming/Apps/Machine Learning/ASL Converter/data_augmentation/data_four_labels_augmentation/train/dog/lvqGMGFmuV4325_translation_0.5_scale_0.2_translate_0.5_left.csv_projective_geo_14_False.csv\n",
      "/Users/aly/Documents/Programming/Apps/Machine Learning/ASL Converter/data_augmentation/data_four_labels_augmentation/train/dog/lvqGMGFmuV4325_translation_0.5_scale_0.2_translate_0.5_left.csv_projective_geo_14_False_REFLECTION_.csv\n",
      "/Users/aly/Documents/Programming/Apps/Machine Learning/ASL Converter/data_augmentation/data_four_labels_augmentation/train/dog/lvqGMGFmuV4325_rotation_15_scale_0.2_translate_0.5_left.csv_projective_geo_10_False_REFLECTION_.csv\n",
      "/Users/aly/Documents/Programming/Apps/Machine Learning/ASL Converter/data_augmentation/data_four_labels_augmentation/train/dog/lvqGMGFmuV4325_rotation_15_translation_0.5_translate_0.5_left.csv_projective_geo_5_False_REFLECTION_.csv\n",
      "/Users/aly/Documents/Programming/Apps/Machine Learning/ASL Converter/data_augmentation/data_four_labels_augmentation/train/dog/lvqGMGFmuV4325_rotation_15_scale_0.2_translate_0.5_left.csv_projective_geo_7_True_REFLECTION_.csv\n",
      "/Users/aly/Documents/Programming/Apps/Machine Learning/ASL Converter/data_augmentation/data_four_labels_augmentation/train/dog/lvqGMGFmuV4325_rotation_15_translation_0.5_scale_0.2.csv_projective_geo_7_True.csv\n",
      "/Users/aly/Documents/Programming/Apps/Machine Learning/ASL Converter/data_augmentation/data_four_labels_augmentation/train/dog/lvqGMGFmuV4325_scale_0.2_translate_0.5_left.csv_projective_geo_9_True_REFLECTION_.csv\n",
      "/Users/aly/Documents/Programming/Apps/Machine Learning/ASL Converter/data_augmentation/data_four_labels_augmentation/train/dog/lvqGMGFmuV4325_rotation_15_translate_0.5_left.csv_projective_geo_14_False.csv\n",
      "/Users/aly/Documents/Programming/Apps/Machine Learning/ASL Converter/data_augmentation/data_four_labels_augmentation/train/dog/lvqGMGFmuV4325_translation_0.5_translate_0.5_left.csv_projective_geo_14_True.csv\n",
      "/Users/aly/Documents/Programming/Apps/Machine Learning/ASL Converter/data_augmentation/data_four_labels_augmentation/train/dog/lvqGMGFmuV4325_translation_0.5_scale_0.2.csv_projective_geo_9_True.csv\n",
      "/Users/aly/Documents/Programming/Apps/Machine Learning/ASL Converter/data_augmentation/data_four_labels_augmentation/train/dog/lvqGMGFmuV4325_translation_0.5.csv_projective_geo_8_True_REFLECTION_.csv\n",
      "/Users/aly/Documents/Programming/Apps/Machine Learning/ASL Converter/data_augmentation/data_four_labels_augmentation/train/dog/lvqGMGFmuV4325_translation_0.5.csv_projective_geo_9_False_REFLECTION_.csv\n",
      "/Users/aly/Documents/Programming/Apps/Machine Learning/ASL Converter/data_augmentation/data_four_labels_augmentation/train/dog/lvqGMGFmuV4325_translation_0.5_scale_0.2.csv_projective_geo_9_True_REFLECTION_.csv\n",
      "/Users/aly/Documents/Programming/Apps/Machine Learning/ASL Converter/data_augmentation/data_four_labels_augmentation/train/dog/lvqGMGFmuV4325_translation_0.5_translate_0.5_left.csv_projective_geo_10_False_REFLECTION_.csv\n",
      "/Users/aly/Documents/Programming/Apps/Machine Learning/ASL Converter/data_augmentation/data_four_labels_augmentation/train/dog/lvqGMGFmuV4325_scale_0.2.csv_projective_geo_7_True.csv\n",
      "/Users/aly/Documents/Programming/Apps/Machine Learning/ASL Converter/data_augmentation/data_four_labels_augmentation/train/dog/lvqGMGFmuV4325.csv_projective_geo_14_False.csv\n",
      "/Users/aly/Documents/Programming/Apps/Machine Learning/ASL Converter/data_augmentation/data_four_labels_augmentation/train/dog/lvqGMGFmuV4325_scale_0.2_translate_0.5_left.csv_projective_geo_9_True.csv\n",
      "milk\n",
      "/Users/aly/Documents/Programming/Apps/Machine Learning/ASL Converter/data_augmentation/data_four_labels_augmentation/train/milk/jDCw7stJaM43664_translation_0.5.csv_projective_geo_13_True.csv\n",
      "/Users/aly/Documents/Programming/Apps/Machine Learning/ASL Converter/data_augmentation/data_four_labels_augmentation/train/milk/jDCw7stJaM43664_translation_0.5_scale_0.2.csv_projective_geo_7_True.csv\n",
      "/Users/aly/Documents/Programming/Apps/Machine Learning/ASL Converter/data_augmentation/data_four_labels_augmentation/train/milk/jDCw7stJaM43664_scale_0.2.csv_projective_geo_14_True_REFLECTION_.csv\n",
      "/Users/aly/Documents/Programming/Apps/Machine Learning/ASL Converter/data_augmentation/data_four_labels_augmentation/train/milk/jDCw7stJaM43664_rotation_15_translation_0.5_scale_0.2_translate_0.5_left.csv_projective_geo_8_False.csv\n",
      "/Users/aly/Documents/Programming/Apps/Machine Learning/ASL Converter/data_augmentation/data_four_labels_augmentation/train/milk/jDCw7stJaM43664_rotation_15_translation_0.5_scale_0.2.csv_projective_geo_5_True.csv\n",
      "/Users/aly/Documents/Programming/Apps/Machine Learning/ASL Converter/data_augmentation/data_four_labels_augmentation/train/milk/jDCw7stJaM43664.csv_projective_geo_10_True.csv\n",
      "/Users/aly/Documents/Programming/Apps/Machine Learning/ASL Converter/data_augmentation/data_four_labels_augmentation/train/milk/jDCw7stJaM43664_rotation_15.csv_projective_geo_7_False.csv\n",
      "/Users/aly/Documents/Programming/Apps/Machine Learning/ASL Converter/data_augmentation/data_four_labels_augmentation/train/milk/jDCw7stJaM43664_rotation_15_scale_0.2.csv_projective_geo_6_False.csv\n",
      "/Users/aly/Documents/Programming/Apps/Machine Learning/ASL Converter/data_augmentation/data_four_labels_augmentation/train/milk/jDCw7stJaM43664_rotation_15_scale_0.2.csv_projective_geo_6_False_REFLECTION_.csv\n",
      "/Users/aly/Documents/Programming/Apps/Machine Learning/ASL Converter/data_augmentation/data_four_labels_augmentation/train/milk/jDCw7stJaM43664_rotation_15.csv_projective_geo_7_False_REFLECTION_.csv\n",
      "/Users/aly/Documents/Programming/Apps/Machine Learning/ASL Converter/data_augmentation/data_four_labels_augmentation/train/milk/jDCw7stJaM43664_rotation_15_translation_0.5_scale_0.2_translate_0.5_left.csv_projective_geo_8_False_REFLECTION_.csv\n",
      "/Users/aly/Documents/Programming/Apps/Machine Learning/ASL Converter/data_augmentation/data_four_labels_augmentation/train/milk/jDCw7stJaM43664_scale_0.2_translate_0.5_left.csv_projective_geo_12_False_REFLECTION_.csv\n",
      "/Users/aly/Documents/Programming/Apps/Machine Learning/ASL Converter/data_augmentation/data_four_labels_augmentation/train/milk/jDCw7stJaM43664_rotation_15_translation_0.5_scale_0.2_translate_0.5_left.csv_projective_geo_14_True.csv\n",
      "/Users/aly/Documents/Programming/Apps/Machine Learning/ASL Converter/data_augmentation/data_four_labels_augmentation/train/milk/jDCw7stJaM43664_rotation_15_translation_0.5_scale_0.2.csv_projective_geo_12_False.csv\n",
      "/Users/aly/Documents/Programming/Apps/Machine Learning/ASL Converter/data_augmentation/data_four_labels_augmentation/train/milk/jDCw7stJaM43664_translation_0.5_scale_0.2.csv_projective_geo_8_False.csv\n",
      "/Users/aly/Documents/Programming/Apps/Machine Learning/ASL Converter/data_augmentation/data_four_labels_augmentation/train/milk/jDCw7stJaM43664_rotation_15_translation_0.5_scale_0.2.csv_projective_geo_5_True_REFLECTION_.csv\n",
      "/Users/aly/Documents/Programming/Apps/Machine Learning/ASL Converter/data_augmentation/data_four_labels_augmentation/train/milk/jDCw7stJaM43664_rotation_15_translation_0.5_scale_0.2_translate_0.5_left.csv_projective_geo_14_True_REFLECTION_.csv\n",
      "/Users/aly/Documents/Programming/Apps/Machine Learning/ASL Converter/data_augmentation/data_four_labels_augmentation/train/milk/jDCw7stJaM43664_rotation_15_scale_0.2.csv_projective_geo_14_True.csv\n",
      "/Users/aly/Documents/Programming/Apps/Machine Learning/ASL Converter/data_augmentation/data_four_labels_augmentation/train/milk/jDCw7stJaM43664_rotation_15_scale_0.2.csv_projective_geo_14_True_REFLECTION_.csv\n",
      "/Users/aly/Documents/Programming/Apps/Machine Learning/ASL Converter/data_augmentation/data_four_labels_augmentation/train/milk/jDCw7stJaM43664.csv_projective_geo_13_False_REFLECTION_.csv\n",
      "/Users/aly/Documents/Programming/Apps/Machine Learning/ASL Converter/data_augmentation/data_four_labels_augmentation/train/milk/jDCw7stJaM43664_translation_0.5.csv_projective_geo_13_True_REFLECTION_.csv\n",
      "/Users/aly/Documents/Programming/Apps/Machine Learning/ASL Converter/data_augmentation/data_four_labels_augmentation/train/milk/jDCw7stJaM43664_rotation_15.csv_projective_geo_12_True.csv\n",
      "/Users/aly/Documents/Programming/Apps/Machine Learning/ASL Converter/data_augmentation/data_four_labels_augmentation/train/milk/jDCw7stJaM43664_translation_0.5_scale_0.2.csv_projective_geo_8_False_REFLECTION_.csv\n",
      "/Users/aly/Documents/Programming/Apps/Machine Learning/ASL Converter/data_augmentation/data_four_labels_augmentation/train/milk/jDCw7stJaM43664.csv_projective_geo_10_True_REFLECTION_.csv\n",
      "/Users/aly/Documents/Programming/Apps/Machine Learning/ASL Converter/data_augmentation/data_four_labels_augmentation/train/milk/jDCw7stJaM43664_translation_0.5.csv_projective_geo_11_False.csv\n",
      "/Users/aly/Documents/Programming/Apps/Machine Learning/ASL Converter/data_augmentation/data_four_labels_augmentation/train/milk/jDCw7stJaM43664.csv_projective_geo_13_False.csv\n",
      "/Users/aly/Documents/Programming/Apps/Machine Learning/ASL Converter/data_augmentation/data_four_labels_augmentation/train/milk/jDCw7stJaM43664_translation_0.5.csv_projective_geo_11_False_REFLECTION_.csv\n",
      "/Users/aly/Documents/Programming/Apps/Machine Learning/ASL Converter/data_augmentation/data_four_labels_augmentation/train/milk/jDCw7stJaM43664_scale_0.2.csv_projective_geo_12_False_REFLECTION_.csv\n",
      "/Users/aly/Documents/Programming/Apps/Machine Learning/ASL Converter/data_augmentation/data_four_labels_augmentation/train/milk/jDCw7stJaM43664_rotation_15_translation_0.5_scale_0.2.csv_projective_geo_12_False_REFLECTION_.csv\n",
      "/Users/aly/Documents/Programming/Apps/Machine Learning/ASL Converter/data_augmentation/data_four_labels_augmentation/train/milk/jDCw7stJaM43664_scale_0.2.csv_projective_geo_14_True.csv\n",
      "/Users/aly/Documents/Programming/Apps/Machine Learning/ASL Converter/data_augmentation/data_four_labels_augmentation/train/milk/jDCw7stJaM43664_scale_0.2_translate_0.5_left.csv_projective_geo_13_True_REFLECTION_.csv\n",
      "/Users/aly/Documents/Programming/Apps/Machine Learning/ASL Converter/data_augmentation/data_four_labels_augmentation/train/milk/jDCw7stJaM43664_scale_0.2_translate_0.5_left.csv_projective_geo_12_False.csv\n",
      "/Users/aly/Documents/Programming/Apps/Machine Learning/ASL Converter/data_augmentation/data_four_labels_augmentation/train/milk/jDCw7stJaM43664_translation_0.5_scale_0.2.csv_projective_geo_7_True_REFLECTION_.csv\n",
      "/Users/aly/Documents/Programming/Apps/Machine Learning/ASL Converter/data_augmentation/data_four_labels_augmentation/train/milk/jDCw7stJaM43664_scale_0.2.csv_projective_geo_12_False.csv\n",
      "/Users/aly/Documents/Programming/Apps/Machine Learning/ASL Converter/data_augmentation/data_four_labels_augmentation/train/milk/jDCw7stJaM43664_rotation_15.csv_projective_geo_12_True_REFLECTION_.csv\n",
      "/Users/aly/Documents/Programming/Apps/Machine Learning/ASL Converter/data_augmentation/data_four_labels_augmentation/train/milk/jDCw7stJaM43664_scale_0.2_translate_0.5_left.csv_projective_geo_13_True.csv\n",
      "coffee\n",
      "/Users/aly/Documents/Programming/Apps/Machine Learning/ASL Converter/data_augmentation/data_four_labels_augmentation/train/coffee/sErq0TJMKEo4730_rotation_15.csv_projective_geo_12_False_REFLECTION_.csv\n",
      "/Users/aly/Documents/Programming/Apps/Machine Learning/ASL Converter/data_augmentation/data_four_labels_augmentation/train/coffee/sErq0TJMKEo4730_rotation_15.csv_projective_geo_11_True.csv\n",
      "/Users/aly/Documents/Programming/Apps/Machine Learning/ASL Converter/data_augmentation/data_four_labels_augmentation/train/coffee/CSj7IScvZnE5770_translation_0.5_scale_0.2.csv_projective_geo_5_False_REFLECTION_.csv\n",
      "/Users/aly/Documents/Programming/Apps/Machine Learning/ASL Converter/data_augmentation/data_four_labels_augmentation/train/coffee/sErq0TJMKEo4730_rotation_15.csv_projective_geo_11_True_REFLECTION_.csv\n",
      "/Users/aly/Documents/Programming/Apps/Machine Learning/ASL Converter/data_augmentation/data_four_labels_augmentation/train/coffee/CSj7IScvZnE5770_rotation_15.csv_projective_geo_14_False_REFLECTION_.csv\n",
      "/Users/aly/Documents/Programming/Apps/Machine Learning/ASL Converter/data_augmentation/data_four_labels_augmentation/train/coffee/sErq0TJMKEo4730_rotation_15_translation_0.5_scale_0.2.csv_projective_geo_11_False.csv\n",
      "/Users/aly/Documents/Programming/Apps/Machine Learning/ASL Converter/data_augmentation/data_four_labels_augmentation/train/coffee/CSj7IScvZnE5770_translation_0.5_scale_0.2.csv_projective_geo_7_True.csv\n",
      "/Users/aly/Documents/Programming/Apps/Machine Learning/ASL Converter/data_augmentation/data_four_labels_augmentation/train/coffee/sErq0TJMKEo4730_rotation_15_scale_0.2.csv_projective_geo_8_False.csv\n",
      "/Users/aly/Documents/Programming/Apps/Machine Learning/ASL Converter/data_augmentation/data_four_labels_augmentation/train/coffee/CSj7IScvZnE5770.csv_projective_geo_6_False.csv\n",
      "/Users/aly/Documents/Programming/Apps/Machine Learning/ASL Converter/data_augmentation/data_four_labels_augmentation/train/coffee/CSj7IScvZnE5770_rotation_15_scale_0.2.csv_projective_geo_10_True.csv\n",
      "/Users/aly/Documents/Programming/Apps/Machine Learning/ASL Converter/data_augmentation/data_four_labels_augmentation/train/coffee/sErq0TJMKEo4730.csv_projective_geo_9_True_REFLECTION_.csv\n",
      "/Users/aly/Documents/Programming/Apps/Machine Learning/ASL Converter/data_augmentation/data_four_labels_augmentation/train/coffee/sErq0TJMKEo4730_rotation_15.csv_projective_geo_12_False.csv\n",
      "/Users/aly/Documents/Programming/Apps/Machine Learning/ASL Converter/data_augmentation/data_four_labels_augmentation/train/coffee/sErq0TJMKEo4730_translate_0.5_left.csv_projective_geo_12_True_REFLECTION_.csv\n",
      "/Users/aly/Documents/Programming/Apps/Machine Learning/ASL Converter/data_augmentation/data_four_labels_augmentation/train/coffee/CSj7IScvZnE5770_translation_0.5_scale_0.2.csv_projective_geo_5_False.csv\n",
      "/Users/aly/Documents/Programming/Apps/Machine Learning/ASL Converter/data_augmentation/data_four_labels_augmentation/train/coffee/CSj7IScvZnE5770_scale_0.2.csv_projective_geo_5_False.csv\n",
      "/Users/aly/Documents/Programming/Apps/Machine Learning/ASL Converter/data_augmentation/data_four_labels_augmentation/train/coffee/CSj7IScvZnE5770.csv_projective_geo_11_True.csv\n",
      "/Users/aly/Documents/Programming/Apps/Machine Learning/ASL Converter/data_augmentation/data_four_labels_augmentation/train/coffee/CSj7IScvZnE5770_scale_0.2.csv_projective_geo_13_True.csv\n",
      "/Users/aly/Documents/Programming/Apps/Machine Learning/ASL Converter/data_augmentation/data_four_labels_augmentation/train/coffee/sErq0TJMKEo4730_rotation_15_scale_0.2.csv_projective_geo_8_False_REFLECTION_.csv\n",
      "/Users/aly/Documents/Programming/Apps/Machine Learning/ASL Converter/data_augmentation/data_four_labels_augmentation/train/coffee/sErq0TJMKEo4730_rotation_15_scale_0.2.csv_projective_geo_6_True.csv\n",
      "/Users/aly/Documents/Programming/Apps/Machine Learning/ASL Converter/data_augmentation/data_four_labels_augmentation/train/coffee/CSj7IScvZnE5770_scale_0.2.csv_projective_geo_5_False_REFLECTION_.csv\n",
      "/Users/aly/Documents/Programming/Apps/Machine Learning/ASL Converter/data_augmentation/data_four_labels_augmentation/train/coffee/CSj7IScvZnE5770_rotation_15.csv_projective_geo_11_True_REFLECTION_.csv\n",
      "/Users/aly/Documents/Programming/Apps/Machine Learning/ASL Converter/data_augmentation/data_four_labels_augmentation/train/coffee/sErq0TJMKEo4730_scale_0.2.csv_projective_geo_6_True_REFLECTION_.csv\n",
      "/Users/aly/Documents/Programming/Apps/Machine Learning/ASL Converter/data_augmentation/data_four_labels_augmentation/train/coffee/sErq0TJMKEo4730_scale_0.2.csv_projective_geo_14_False.csv\n",
      "/Users/aly/Documents/Programming/Apps/Machine Learning/ASL Converter/data_augmentation/data_four_labels_augmentation/train/coffee/CSj7IScvZnE5770.csv_projective_geo_11_True_REFLECTION_.csv\n",
      "/Users/aly/Documents/Programming/Apps/Machine Learning/ASL Converter/data_augmentation/data_four_labels_augmentation/train/coffee/CSj7IScvZnE5770_rotation_15_scale_0.2.csv_projective_geo_5_False.csv\n",
      "/Users/aly/Documents/Programming/Apps/Machine Learning/ASL Converter/data_augmentation/data_four_labels_augmentation/train/coffee/CSj7IScvZnE5770_rotation_15.csv_projective_geo_11_True.csv\n",
      "/Users/aly/Documents/Programming/Apps/Machine Learning/ASL Converter/data_augmentation/data_four_labels_augmentation/train/coffee/sErq0TJMKEo4730_rotation_15_translation_0.5_scale_0.2.csv_projective_geo_5_True_REFLECTION_.csv\n",
      "/Users/aly/Documents/Programming/Apps/Machine Learning/ASL Converter/data_augmentation/data_four_labels_augmentation/train/coffee/sErq0TJMKEo4730_scale_0.2.csv_projective_geo_14_False_REFLECTION_.csv\n",
      "/Users/aly/Documents/Programming/Apps/Machine Learning/ASL Converter/data_augmentation/data_four_labels_augmentation/train/coffee/CSj7IScvZnE5770_rotation_15.csv_projective_geo_14_False.csv\n",
      "/Users/aly/Documents/Programming/Apps/Machine Learning/ASL Converter/data_augmentation/data_four_labels_augmentation/train/coffee/sErq0TJMKEo4730.csv_projective_geo_7_False.csv\n",
      "/Users/aly/Documents/Programming/Apps/Machine Learning/ASL Converter/data_augmentation/data_four_labels_augmentation/train/coffee/sErq0TJMKEo4730_rotation_15_translation_0.5_scale_0.2.csv_projective_geo_11_False_REFLECTION_.csv\n",
      "/Users/aly/Documents/Programming/Apps/Machine Learning/ASL Converter/data_augmentation/data_four_labels_augmentation/train/coffee/sErq0TJMKEo4730_translate_0.5_left.csv_projective_geo_5_False_REFLECTION_.csv\n",
      "/Users/aly/Documents/Programming/Apps/Machine Learning/ASL Converter/data_augmentation/data_four_labels_augmentation/train/coffee/CSj7IScvZnE5770_rotation_15_scale_0.2.csv_projective_geo_5_False_REFLECTION_.csv\n",
      "/Users/aly/Documents/Programming/Apps/Machine Learning/ASL Converter/data_augmentation/data_four_labels_augmentation/train/coffee/sErq0TJMKEo4730_rotation_15_scale_0.2.csv_projective_geo_6_True_REFLECTION_.csv\n",
      "/Users/aly/Documents/Programming/Apps/Machine Learning/ASL Converter/data_augmentation/data_four_labels_augmentation/train/coffee/sErq0TJMKEo4730.csv_projective_geo_9_True.csv\n",
      "/Users/aly/Documents/Programming/Apps/Machine Learning/ASL Converter/data_augmentation/data_four_labels_augmentation/train/coffee/sErq0TJMKEo4730.csv_projective_geo_7_False_REFLECTION_.csv\n",
      "/Users/aly/Documents/Programming/Apps/Machine Learning/ASL Converter/data_augmentation/data_four_labels_augmentation/train/coffee/CSj7IScvZnE5770.csv_projective_geo_6_False_REFLECTION_.csv\n",
      "/Users/aly/Documents/Programming/Apps/Machine Learning/ASL Converter/data_augmentation/data_four_labels_augmentation/train/coffee/CSj7IScvZnE5770_scale_0.2.csv_projective_geo_13_True_REFLECTION_.csv\n",
      "/Users/aly/Documents/Programming/Apps/Machine Learning/ASL Converter/data_augmentation/data_four_labels_augmentation/train/coffee/sErq0TJMKEo4730_translate_0.5_left.csv_projective_geo_5_False.csv\n",
      "/Users/aly/Documents/Programming/Apps/Machine Learning/ASL Converter/data_augmentation/data_four_labels_augmentation/train/coffee/sErq0TJMKEo4730_translate_0.5_left.csv_projective_geo_12_True.csv\n",
      "/Users/aly/Documents/Programming/Apps/Machine Learning/ASL Converter/data_augmentation/data_four_labels_augmentation/train/coffee/sErq0TJMKEo4730_rotation_15_translation_0.5_scale_0.2.csv_projective_geo_5_True.csv\n",
      "/Users/aly/Documents/Programming/Apps/Machine Learning/ASL Converter/data_augmentation/data_four_labels_augmentation/train/coffee/sErq0TJMKEo4730_scale_0.2.csv_projective_geo_6_True.csv\n",
      "/Users/aly/Documents/Programming/Apps/Machine Learning/ASL Converter/data_augmentation/data_four_labels_augmentation/train/coffee/CSj7IScvZnE5770_rotation_15_scale_0.2.csv_projective_geo_10_True_REFLECTION_.csv\n",
      "/Users/aly/Documents/Programming/Apps/Machine Learning/ASL Converter/data_augmentation/data_four_labels_augmentation/train/coffee/CSj7IScvZnE5770_translation_0.5_scale_0.2.csv_projective_geo_7_True_REFLECTION_.csv\n",
      "door\n",
      "/Users/aly/Documents/Programming/Apps/Machine Learning/ASL Converter/data_augmentation/data_four_labels_augmentation/train/door/WGfiiDgrq1I3897.csv_projective_geo_13_True.csv\n",
      "/Users/aly/Documents/Programming/Apps/Machine Learning/ASL Converter/data_augmentation/data_four_labels_augmentation/train/door/WGfiiDgrq1I3897_translation_0.5.csv_projective_geo_7_True_REFLECTION_.csv\n",
      "/Users/aly/Documents/Programming/Apps/Machine Learning/ASL Converter/data_augmentation/data_four_labels_augmentation/train/door/WGfiiDgrq1I3897_rotation_15_translate_0.5_left.csv_projective_geo_11_False.csv\n",
      "/Users/aly/Documents/Programming/Apps/Machine Learning/ASL Converter/data_augmentation/data_four_labels_augmentation/train/door/WGfiiDgrq1I3897_rotation_15_translate_0.5_left.csv_projective_geo_6_True_REFLECTION_.csv\n",
      "/Users/aly/Documents/Programming/Apps/Machine Learning/ASL Converter/data_augmentation/data_four_labels_augmentation/train/door/WGfiiDgrq1I3897_rotation_15_scale_0.2.csv_projective_geo_10_True_REFLECTION_.csv\n",
      "/Users/aly/Documents/Programming/Apps/Machine Learning/ASL Converter/data_augmentation/data_four_labels_augmentation/train/door/WGfiiDgrq1I3897_translation_0.5.csv_projective_geo_7_True.csv\n",
      "/Users/aly/Documents/Programming/Apps/Machine Learning/ASL Converter/data_augmentation/data_four_labels_augmentation/train/door/WGfiiDgrq1I3897.csv_projective_geo_10_False.csv\n",
      "/Users/aly/Documents/Programming/Apps/Machine Learning/ASL Converter/data_augmentation/data_four_labels_augmentation/train/door/WGfiiDgrq1I3897_rotation_15_translate_0.5_left.csv_projective_geo_11_False_REFLECTION_.csv\n",
      "/Users/aly/Documents/Programming/Apps/Machine Learning/ASL Converter/data_augmentation/data_four_labels_augmentation/train/door/WGfiiDgrq1I3897_rotation_15_translate_0.5_left.csv_projective_geo_6_True.csv\n",
      "/Users/aly/Documents/Programming/Apps/Machine Learning/ASL Converter/data_augmentation/data_four_labels_augmentation/train/door/WGfiiDgrq1I3897.csv_projective_geo_10_False_REFLECTION_.csv\n",
      "/Users/aly/Documents/Programming/Apps/Machine Learning/ASL Converter/data_augmentation/data_four_labels_augmentation/train/door/WGfiiDgrq1I3897_rotation_15_translation_0.5_translate_0.5_left.csv_projective_geo_6_True_REFLECTION_.csv\n",
      "/Users/aly/Documents/Programming/Apps/Machine Learning/ASL Converter/data_augmentation/data_four_labels_augmentation/train/door/WGfiiDgrq1I3897_scale_0.2.csv_projective_geo_11_False_REFLECTION_.csv\n",
      "/Users/aly/Documents/Programming/Apps/Machine Learning/ASL Converter/data_augmentation/data_four_labels_augmentation/train/door/WGfiiDgrq1I3897_rotation_15.csv_projective_geo_12_False_REFLECTION_.csv\n",
      "/Users/aly/Documents/Programming/Apps/Machine Learning/ASL Converter/data_augmentation/data_four_labels_augmentation/train/door/WGfiiDgrq1I3897_rotation_15_translation_0.5.csv_projective_geo_12_False.csv\n",
      "/Users/aly/Documents/Programming/Apps/Machine Learning/ASL Converter/data_augmentation/data_four_labels_augmentation/train/door/WGfiiDgrq1I3897_rotation_15_scale_0.2.csv_projective_geo_7_False_REFLECTION_.csv\n",
      "/Users/aly/Documents/Programming/Apps/Machine Learning/ASL Converter/data_augmentation/data_four_labels_augmentation/train/door/WGfiiDgrq1I3897_translation_0.5.csv_projective_geo_13_False_REFLECTION_.csv\n",
      "/Users/aly/Documents/Programming/Apps/Machine Learning/ASL Converter/data_augmentation/data_four_labels_augmentation/train/door/WGfiiDgrq1I3897.csv_projective_geo_13_True_REFLECTION_.csv\n",
      "/Users/aly/Documents/Programming/Apps/Machine Learning/ASL Converter/data_augmentation/data_four_labels_augmentation/train/door/WGfiiDgrq1I3897_rotation_15_translation_0.5_scale_0.2.csv_projective_geo_13_True_REFLECTION_.csv\n",
      "/Users/aly/Documents/Programming/Apps/Machine Learning/ASL Converter/data_augmentation/data_four_labels_augmentation/train/door/WGfiiDgrq1I3897_scale_0.2.csv_projective_geo_9_True_REFLECTION_.csv\n",
      "/Users/aly/Documents/Programming/Apps/Machine Learning/ASL Converter/data_augmentation/data_four_labels_augmentation/train/door/WGfiiDgrq1I3897_rotation_15.csv_projective_geo_13_True.csv\n",
      "/Users/aly/Documents/Programming/Apps/Machine Learning/ASL Converter/data_augmentation/data_four_labels_augmentation/train/door/WGfiiDgrq1I3897_rotation_15_translation_0.5_translate_0.5_left.csv_projective_geo_6_True.csv\n",
      "/Users/aly/Documents/Programming/Apps/Machine Learning/ASL Converter/data_augmentation/data_four_labels_augmentation/train/door/WGfiiDgrq1I3897_rotation_15_translation_0.5_scale_0.2.csv_projective_geo_13_False.csv\n",
      "/Users/aly/Documents/Programming/Apps/Machine Learning/ASL Converter/data_augmentation/data_four_labels_augmentation/train/door/WGfiiDgrq1I3897_translation_0.5.csv_projective_geo_13_False.csv\n",
      "/Users/aly/Documents/Programming/Apps/Machine Learning/ASL Converter/data_augmentation/data_four_labels_augmentation/train/door/WGfiiDgrq1I3897_rotation_15_translation_0.5.csv_projective_geo_12_False_REFLECTION_.csv\n",
      "/Users/aly/Documents/Programming/Apps/Machine Learning/ASL Converter/data_augmentation/data_four_labels_augmentation/train/door/WGfiiDgrq1I3897_rotation_15.csv_projective_geo_12_False.csv\n",
      "/Users/aly/Documents/Programming/Apps/Machine Learning/ASL Converter/data_augmentation/data_four_labels_augmentation/train/door/WGfiiDgrq1I3897_rotation_15_translation_0.5.csv_projective_geo_8_True.csv\n",
      "/Users/aly/Documents/Programming/Apps/Machine Learning/ASL Converter/data_augmentation/data_four_labels_augmentation/train/door/WGfiiDgrq1I3897_rotation_15_scale_0.2.csv_projective_geo_7_False.csv\n",
      "/Users/aly/Documents/Programming/Apps/Machine Learning/ASL Converter/data_augmentation/data_four_labels_augmentation/train/door/WGfiiDgrq1I3897_rotation_15.csv_projective_geo_13_True_REFLECTION_.csv\n",
      "/Users/aly/Documents/Programming/Apps/Machine Learning/ASL Converter/data_augmentation/data_four_labels_augmentation/train/door/WGfiiDgrq1I3897_rotation_15_translation_0.5_scale_0.2.csv_projective_geo_13_False_REFLECTION_.csv\n",
      "/Users/aly/Documents/Programming/Apps/Machine Learning/ASL Converter/data_augmentation/data_four_labels_augmentation/train/door/WGfiiDgrq1I3897_scale_0.2.csv_projective_geo_11_False.csv\n",
      "/Users/aly/Documents/Programming/Apps/Machine Learning/ASL Converter/data_augmentation/data_four_labels_augmentation/train/door/WGfiiDgrq1I3897_rotation_15_translation_0.5.csv_projective_geo_8_True_REFLECTION_.csv\n",
      "/Users/aly/Documents/Programming/Apps/Machine Learning/ASL Converter/data_augmentation/data_four_labels_augmentation/train/door/WGfiiDgrq1I3897_rotation_15_translation_0.5_scale_0.2.csv_projective_geo_13_True.csv\n",
      "/Users/aly/Documents/Programming/Apps/Machine Learning/ASL Converter/data_augmentation/data_four_labels_augmentation/train/door/WGfiiDgrq1I3897_rotation_15_translation_0.5_translate_0.5_left.csv_projective_geo_12_False_REFLECTION_.csv\n",
      "/Users/aly/Documents/Programming/Apps/Machine Learning/ASL Converter/data_augmentation/data_four_labels_augmentation/train/door/WGfiiDgrq1I3897_rotation_15_translation_0.5_translate_0.5_left.csv_projective_geo_12_False.csv\n",
      "/Users/aly/Documents/Programming/Apps/Machine Learning/ASL Converter/data_augmentation/data_four_labels_augmentation/train/door/WGfiiDgrq1I3897_scale_0.2.csv_projective_geo_9_True.csv\n",
      "/Users/aly/Documents/Programming/Apps/Machine Learning/ASL Converter/data_augmentation/data_four_labels_augmentation/train/door/WGfiiDgrq1I3897_rotation_15_scale_0.2.csv_projective_geo_10_True.csv\n",
      "211\n",
      "----------\n",
      ".DS_Store\n",
      "dog\n",
      "/Users/aly/Documents/Programming/Apps/Machine Learning/ASL Converter/data_augmentation/data_four_labels_augmentation/train/dog/lvqGMGFmuV4325_rotation_15_scale_0.2.csv_projective_geo_12_True.csv\n",
      "/Users/aly/Documents/Programming/Apps/Machine Learning/ASL Converter/data_augmentation/data_four_labels_augmentation/train/dog/lvqGMGFmuV4325_rotation_15_translation_0.5_scale_0.2_translate_0.5_left.csv_projective_geo_10_False.csv\n",
      "/Users/aly/Documents/Programming/Apps/Machine Learning/ASL Converter/data_augmentation/data_four_labels_augmentation/train/dog/lvqGMGFmuV4325_rotation_15_translation_0.5_translate_0.5_left.csv_projective_geo_5_False.csv\n",
      "/Users/aly/Documents/Programming/Apps/Machine Learning/ASL Converter/data_augmentation/data_four_labels_augmentation/train/dog/lvqGMGFmuV4325_translation_0.5_scale_0.2_translate_0.5_left.csv_projective_geo_14_True.csv\n",
      "/Users/aly/Documents/Programming/Apps/Machine Learning/ASL Converter/data_augmentation/data_four_labels_augmentation/train/dog/lvqGMGFmuV4325_rotation_15_scale_0.2_translate_0.5_left.csv_projective_geo_10_False.csv\n",
      "/Users/aly/Documents/Programming/Apps/Machine Learning/ASL Converter/data_augmentation/data_four_labels_augmentation/train/dog/lvqGMGFmuV4325_scale_0.2.csv_projective_geo_7_True_REFLECTION_.csv\n",
      "/Users/aly/Documents/Programming/Apps/Machine Learning/ASL Converter/data_augmentation/data_four_labels_augmentation/train/dog/lvqGMGFmuV4325_translation_0.5.csv_projective_geo_9_False.csv\n",
      "/Users/aly/Documents/Programming/Apps/Machine Learning/ASL Converter/data_augmentation/data_four_labels_augmentation/train/dog/lvqGMGFmuV4325_rotation_15_scale_0.2.csv_projective_geo_12_False_REFLECTION_.csv\n",
      "/Users/aly/Documents/Programming/Apps/Machine Learning/ASL Converter/data_augmentation/data_four_labels_augmentation/train/dog/lvqGMGFmuV4325_rotation_15_translate_0.5_left.csv_projective_geo_13_True_REFLECTION_.csv\n",
      "/Users/aly/Documents/Programming/Apps/Machine Learning/ASL Converter/data_augmentation/data_four_labels_augmentation/train/dog/lvqGMGFmuV4325_rotation_15_translation_0.5_scale_0.2.csv_projective_geo_6_False.csv\n",
      "/Users/aly/Documents/Programming/Apps/Machine Learning/ASL Converter/data_augmentation/data_four_labels_augmentation/train/dog/lvqGMGFmuV4325_rotation_15.csv_projective_geo_14_True.csv\n",
      "/Users/aly/Documents/Programming/Apps/Machine Learning/ASL Converter/data_augmentation/data_four_labels_augmentation/train/dog/lvqGMGFmuV4325_rotation_15_scale_0.2.csv_projective_geo_12_True_REFLECTION_.csv\n",
      "/Users/aly/Documents/Programming/Apps/Machine Learning/ASL Converter/data_augmentation/data_four_labels_augmentation/train/dog/lvqGMGFmuV4325.csv_projective_geo_14_False_REFLECTION_.csv\n",
      "/Users/aly/Documents/Programming/Apps/Machine Learning/ASL Converter/data_augmentation/data_four_labels_augmentation/train/dog/lvqGMGFmuV4325_translation_0.5_translate_0.5_left.csv_projective_geo_10_False.csv\n",
      "/Users/aly/Documents/Programming/Apps/Machine Learning/ASL Converter/data_augmentation/data_four_labels_augmentation/train/dog/lvqGMGFmuV4325_translation_0.5_scale_0.2.csv_projective_geo_9_False_REFLECTION_.csv\n",
      "/Users/aly/Documents/Programming/Apps/Machine Learning/ASL Converter/data_augmentation/data_four_labels_augmentation/train/dog/lvqGMGFmuV4325_scale_0.2_translate_0.5_left.csv_projective_geo_13_False_REFLECTION_.csv\n",
      "/Users/aly/Documents/Programming/Apps/Machine Learning/ASL Converter/data_augmentation/data_four_labels_augmentation/train/dog/lvqGMGFmuV4325_scale_0.2.csv_projective_geo_9_False.csv\n",
      "/Users/aly/Documents/Programming/Apps/Machine Learning/ASL Converter/data_augmentation/data_four_labels_augmentation/train/dog/lvqGMGFmuV4325_translation_0.5_translate_0.5_left.csv_projective_geo_14_True_REFLECTION_.csv\n",
      "/Users/aly/Documents/Programming/Apps/Machine Learning/ASL Converter/data_augmentation/data_four_labels_augmentation/train/dog/lvqGMGFmuV4325.csv_projective_geo_10_True_REFLECTION_.csv\n",
      "/Users/aly/Documents/Programming/Apps/Machine Learning/ASL Converter/data_augmentation/data_four_labels_augmentation/train/dog/lvqGMGFmuV4325.csv_projective_geo_10_True.csv\n",
      "/Users/aly/Documents/Programming/Apps/Machine Learning/ASL Converter/data_augmentation/data_four_labels_augmentation/train/dog/lvqGMGFmuV4325_rotation_15.csv_projective_geo_8_False.csv\n",
      "/Users/aly/Documents/Programming/Apps/Machine Learning/ASL Converter/data_augmentation/data_four_labels_augmentation/train/dog/lvqGMGFmuV4325_rotation_15_translation_0.5_scale_0.2_translate_0.5_left.csv_projective_geo_14_True.csv\n",
      "/Users/aly/Documents/Programming/Apps/Machine Learning/ASL Converter/data_augmentation/data_four_labels_augmentation/train/dog/lvqGMGFmuV4325_rotation_15_translation_0.5_scale_0.2_translate_0.5_left.csv_projective_geo_10_False_REFLECTION_.csv\n",
      "/Users/aly/Documents/Programming/Apps/Machine Learning/ASL Converter/data_augmentation/data_four_labels_augmentation/train/dog/lvqGMGFmuV4325_rotation_15.csv_projective_geo_8_False_REFLECTION_.csv\n",
      "/Users/aly/Documents/Programming/Apps/Machine Learning/ASL Converter/data_augmentation/data_four_labels_augmentation/train/dog/lvqGMGFmuV4325_rotation_15_translation_0.5_scale_0.2.csv_projective_geo_6_False_REFLECTION_.csv\n",
      "/Users/aly/Documents/Programming/Apps/Machine Learning/ASL Converter/data_augmentation/data_four_labels_augmentation/train/dog/lvqGMGFmuV4325_translation_0.5_scale_0.2_translate_0.5_left.csv_projective_geo_14_True_REFLECTION_.csv\n",
      "/Users/aly/Documents/Programming/Apps/Machine Learning/ASL Converter/data_augmentation/data_four_labels_augmentation/train/dog/lvqGMGFmuV4325_translation_0.5_scale_0.2.csv_projective_geo_9_False.csv\n",
      "/Users/aly/Documents/Programming/Apps/Machine Learning/ASL Converter/data_augmentation/data_four_labels_augmentation/train/dog/lvqGMGFmuV4325_rotation_15_translation_0.5_translate_0.5_left.csv_projective_geo_8_True.csv\n",
      "/Users/aly/Documents/Programming/Apps/Machine Learning/ASL Converter/data_augmentation/data_four_labels_augmentation/train/dog/lvqGMGFmuV4325_rotation_15_translate_0.5_left.csv_projective_geo_14_False_REFLECTION_.csv\n",
      "/Users/aly/Documents/Programming/Apps/Machine Learning/ASL Converter/data_augmentation/data_four_labels_augmentation/train/dog/lvqGMGFmuV4325_rotation_15_translation_0.5_scale_0.2_translate_0.5_left.csv_projective_geo_14_True_REFLECTION_.csv\n",
      "/Users/aly/Documents/Programming/Apps/Machine Learning/ASL Converter/data_augmentation/data_four_labels_augmentation/train/dog/lvqGMGFmuV4325_rotation_15_translation_0.5_translate_0.5_left.csv_projective_geo_8_True_REFLECTION_.csv\n",
      "/Users/aly/Documents/Programming/Apps/Machine Learning/ASL Converter/data_augmentation/data_four_labels_augmentation/train/dog/lvqGMGFmuV4325_rotation_15_scale_0.2.csv_projective_geo_12_False.csv\n",
      "/Users/aly/Documents/Programming/Apps/Machine Learning/ASL Converter/data_augmentation/data_four_labels_augmentation/train/dog/lvqGMGFmuV4325_rotation_15_scale_0.2_translate_0.5_left.csv_projective_geo_7_True.csv\n",
      "/Users/aly/Documents/Programming/Apps/Machine Learning/ASL Converter/data_augmentation/data_four_labels_augmentation/train/dog/lvqGMGFmuV4325_translation_0.5.csv_projective_geo_8_True.csv\n",
      "/Users/aly/Documents/Programming/Apps/Machine Learning/ASL Converter/data_augmentation/data_four_labels_augmentation/train/dog/lvqGMGFmuV4325_scale_0.2.csv_projective_geo_9_False_REFLECTION_.csv\n",
      "/Users/aly/Documents/Programming/Apps/Machine Learning/ASL Converter/data_augmentation/data_four_labels_augmentation/train/dog/lvqGMGFmuV4325_rotation_15.csv_projective_geo_14_True_REFLECTION_.csv\n",
      "/Users/aly/Documents/Programming/Apps/Machine Learning/ASL Converter/data_augmentation/data_four_labels_augmentation/train/dog/lvqGMGFmuV4325_rotation_15_translate_0.5_left.csv_projective_geo_13_True.csv\n",
      "/Users/aly/Documents/Programming/Apps/Machine Learning/ASL Converter/data_augmentation/data_four_labels_augmentation/train/dog/lvqGMGFmuV4325_scale_0.2_translate_0.5_left.csv_projective_geo_13_False.csv\n",
      "/Users/aly/Documents/Programming/Apps/Machine Learning/ASL Converter/data_augmentation/data_four_labels_augmentation/train/dog/lvqGMGFmuV4325_rotation_15_translation_0.5_scale_0.2.csv_projective_geo_7_True_REFLECTION_.csv\n",
      "/Users/aly/Documents/Programming/Apps/Machine Learning/ASL Converter/data_augmentation/data_four_labels_augmentation/train/dog/lvqGMGFmuV4325_translation_0.5_scale_0.2_translate_0.5_left.csv_projective_geo_14_False.csv\n",
      "/Users/aly/Documents/Programming/Apps/Machine Learning/ASL Converter/data_augmentation/data_four_labels_augmentation/train/dog/lvqGMGFmuV4325_translation_0.5_scale_0.2_translate_0.5_left.csv_projective_geo_14_False_REFLECTION_.csv\n",
      "/Users/aly/Documents/Programming/Apps/Machine Learning/ASL Converter/data_augmentation/data_four_labels_augmentation/train/dog/lvqGMGFmuV4325_rotation_15_scale_0.2_translate_0.5_left.csv_projective_geo_10_False_REFLECTION_.csv\n",
      "/Users/aly/Documents/Programming/Apps/Machine Learning/ASL Converter/data_augmentation/data_four_labels_augmentation/train/dog/lvqGMGFmuV4325_rotation_15_translation_0.5_translate_0.5_left.csv_projective_geo_5_False_REFLECTION_.csv\n",
      "/Users/aly/Documents/Programming/Apps/Machine Learning/ASL Converter/data_augmentation/data_four_labels_augmentation/train/dog/lvqGMGFmuV4325_rotation_15_scale_0.2_translate_0.5_left.csv_projective_geo_7_True_REFLECTION_.csv\n",
      "/Users/aly/Documents/Programming/Apps/Machine Learning/ASL Converter/data_augmentation/data_four_labels_augmentation/train/dog/lvqGMGFmuV4325_rotation_15_translation_0.5_scale_0.2.csv_projective_geo_7_True.csv\n",
      "/Users/aly/Documents/Programming/Apps/Machine Learning/ASL Converter/data_augmentation/data_four_labels_augmentation/train/dog/lvqGMGFmuV4325_scale_0.2_translate_0.5_left.csv_projective_geo_9_True_REFLECTION_.csv\n",
      "/Users/aly/Documents/Programming/Apps/Machine Learning/ASL Converter/data_augmentation/data_four_labels_augmentation/train/dog/lvqGMGFmuV4325_rotation_15_translate_0.5_left.csv_projective_geo_14_False.csv\n",
      "/Users/aly/Documents/Programming/Apps/Machine Learning/ASL Converter/data_augmentation/data_four_labels_augmentation/train/dog/lvqGMGFmuV4325_translation_0.5_translate_0.5_left.csv_projective_geo_14_True.csv\n",
      "/Users/aly/Documents/Programming/Apps/Machine Learning/ASL Converter/data_augmentation/data_four_labels_augmentation/train/dog/lvqGMGFmuV4325_translation_0.5_scale_0.2.csv_projective_geo_9_True.csv\n",
      "/Users/aly/Documents/Programming/Apps/Machine Learning/ASL Converter/data_augmentation/data_four_labels_augmentation/train/dog/lvqGMGFmuV4325_translation_0.5.csv_projective_geo_8_True_REFLECTION_.csv\n",
      "/Users/aly/Documents/Programming/Apps/Machine Learning/ASL Converter/data_augmentation/data_four_labels_augmentation/train/dog/lvqGMGFmuV4325_translation_0.5.csv_projective_geo_9_False_REFLECTION_.csv\n",
      "/Users/aly/Documents/Programming/Apps/Machine Learning/ASL Converter/data_augmentation/data_four_labels_augmentation/train/dog/lvqGMGFmuV4325_translation_0.5_scale_0.2.csv_projective_geo_9_True_REFLECTION_.csv\n",
      "/Users/aly/Documents/Programming/Apps/Machine Learning/ASL Converter/data_augmentation/data_four_labels_augmentation/train/dog/lvqGMGFmuV4325_translation_0.5_translate_0.5_left.csv_projective_geo_10_False_REFLECTION_.csv\n",
      "/Users/aly/Documents/Programming/Apps/Machine Learning/ASL Converter/data_augmentation/data_four_labels_augmentation/train/dog/lvqGMGFmuV4325_scale_0.2.csv_projective_geo_7_True.csv\n",
      "/Users/aly/Documents/Programming/Apps/Machine Learning/ASL Converter/data_augmentation/data_four_labels_augmentation/train/dog/lvqGMGFmuV4325.csv_projective_geo_14_False.csv\n",
      "/Users/aly/Documents/Programming/Apps/Machine Learning/ASL Converter/data_augmentation/data_four_labels_augmentation/train/dog/lvqGMGFmuV4325_scale_0.2_translate_0.5_left.csv_projective_geo_9_True.csv\n",
      "milk\n",
      "/Users/aly/Documents/Programming/Apps/Machine Learning/ASL Converter/data_augmentation/data_four_labels_augmentation/train/milk/jDCw7stJaM43664_translation_0.5.csv_projective_geo_13_True.csv\n",
      "/Users/aly/Documents/Programming/Apps/Machine Learning/ASL Converter/data_augmentation/data_four_labels_augmentation/train/milk/jDCw7stJaM43664_translation_0.5_scale_0.2.csv_projective_geo_7_True.csv\n",
      "/Users/aly/Documents/Programming/Apps/Machine Learning/ASL Converter/data_augmentation/data_four_labels_augmentation/train/milk/jDCw7stJaM43664_scale_0.2.csv_projective_geo_14_True_REFLECTION_.csv\n",
      "/Users/aly/Documents/Programming/Apps/Machine Learning/ASL Converter/data_augmentation/data_four_labels_augmentation/train/milk/jDCw7stJaM43664_rotation_15_translation_0.5_scale_0.2_translate_0.5_left.csv_projective_geo_8_False.csv\n",
      "/Users/aly/Documents/Programming/Apps/Machine Learning/ASL Converter/data_augmentation/data_four_labels_augmentation/train/milk/jDCw7stJaM43664_rotation_15_translation_0.5_scale_0.2.csv_projective_geo_5_True.csv\n",
      "/Users/aly/Documents/Programming/Apps/Machine Learning/ASL Converter/data_augmentation/data_four_labels_augmentation/train/milk/jDCw7stJaM43664.csv_projective_geo_10_True.csv\n",
      "/Users/aly/Documents/Programming/Apps/Machine Learning/ASL Converter/data_augmentation/data_four_labels_augmentation/train/milk/jDCw7stJaM43664_rotation_15.csv_projective_geo_7_False.csv\n",
      "/Users/aly/Documents/Programming/Apps/Machine Learning/ASL Converter/data_augmentation/data_four_labels_augmentation/train/milk/jDCw7stJaM43664_rotation_15_scale_0.2.csv_projective_geo_6_False.csv\n",
      "/Users/aly/Documents/Programming/Apps/Machine Learning/ASL Converter/data_augmentation/data_four_labels_augmentation/train/milk/jDCw7stJaM43664_rotation_15_scale_0.2.csv_projective_geo_6_False_REFLECTION_.csv\n",
      "/Users/aly/Documents/Programming/Apps/Machine Learning/ASL Converter/data_augmentation/data_four_labels_augmentation/train/milk/jDCw7stJaM43664_rotation_15.csv_projective_geo_7_False_REFLECTION_.csv\n",
      "/Users/aly/Documents/Programming/Apps/Machine Learning/ASL Converter/data_augmentation/data_four_labels_augmentation/train/milk/jDCw7stJaM43664_rotation_15_translation_0.5_scale_0.2_translate_0.5_left.csv_projective_geo_8_False_REFLECTION_.csv\n",
      "/Users/aly/Documents/Programming/Apps/Machine Learning/ASL Converter/data_augmentation/data_four_labels_augmentation/train/milk/jDCw7stJaM43664_scale_0.2_translate_0.5_left.csv_projective_geo_12_False_REFLECTION_.csv\n",
      "/Users/aly/Documents/Programming/Apps/Machine Learning/ASL Converter/data_augmentation/data_four_labels_augmentation/train/milk/jDCw7stJaM43664_rotation_15_translation_0.5_scale_0.2_translate_0.5_left.csv_projective_geo_14_True.csv\n",
      "/Users/aly/Documents/Programming/Apps/Machine Learning/ASL Converter/data_augmentation/data_four_labels_augmentation/train/milk/jDCw7stJaM43664_rotation_15_translation_0.5_scale_0.2.csv_projective_geo_12_False.csv\n",
      "/Users/aly/Documents/Programming/Apps/Machine Learning/ASL Converter/data_augmentation/data_four_labels_augmentation/train/milk/jDCw7stJaM43664_translation_0.5_scale_0.2.csv_projective_geo_8_False.csv\n",
      "/Users/aly/Documents/Programming/Apps/Machine Learning/ASL Converter/data_augmentation/data_four_labels_augmentation/train/milk/jDCw7stJaM43664_rotation_15_translation_0.5_scale_0.2.csv_projective_geo_5_True_REFLECTION_.csv\n",
      "/Users/aly/Documents/Programming/Apps/Machine Learning/ASL Converter/data_augmentation/data_four_labels_augmentation/train/milk/jDCw7stJaM43664_rotation_15_translation_0.5_scale_0.2_translate_0.5_left.csv_projective_geo_14_True_REFLECTION_.csv\n",
      "/Users/aly/Documents/Programming/Apps/Machine Learning/ASL Converter/data_augmentation/data_four_labels_augmentation/train/milk/jDCw7stJaM43664_rotation_15_scale_0.2.csv_projective_geo_14_True.csv\n",
      "/Users/aly/Documents/Programming/Apps/Machine Learning/ASL Converter/data_augmentation/data_four_labels_augmentation/train/milk/jDCw7stJaM43664_rotation_15_scale_0.2.csv_projective_geo_14_True_REFLECTION_.csv\n",
      "/Users/aly/Documents/Programming/Apps/Machine Learning/ASL Converter/data_augmentation/data_four_labels_augmentation/train/milk/jDCw7stJaM43664.csv_projective_geo_13_False_REFLECTION_.csv\n",
      "/Users/aly/Documents/Programming/Apps/Machine Learning/ASL Converter/data_augmentation/data_four_labels_augmentation/train/milk/jDCw7stJaM43664_translation_0.5.csv_projective_geo_13_True_REFLECTION_.csv\n",
      "/Users/aly/Documents/Programming/Apps/Machine Learning/ASL Converter/data_augmentation/data_four_labels_augmentation/train/milk/jDCw7stJaM43664_rotation_15.csv_projective_geo_12_True.csv\n",
      "/Users/aly/Documents/Programming/Apps/Machine Learning/ASL Converter/data_augmentation/data_four_labels_augmentation/train/milk/jDCw7stJaM43664_translation_0.5_scale_0.2.csv_projective_geo_8_False_REFLECTION_.csv\n",
      "/Users/aly/Documents/Programming/Apps/Machine Learning/ASL Converter/data_augmentation/data_four_labels_augmentation/train/milk/jDCw7stJaM43664.csv_projective_geo_10_True_REFLECTION_.csv\n",
      "/Users/aly/Documents/Programming/Apps/Machine Learning/ASL Converter/data_augmentation/data_four_labels_augmentation/train/milk/jDCw7stJaM43664_translation_0.5.csv_projective_geo_11_False.csv\n",
      "/Users/aly/Documents/Programming/Apps/Machine Learning/ASL Converter/data_augmentation/data_four_labels_augmentation/train/milk/jDCw7stJaM43664.csv_projective_geo_13_False.csv\n",
      "/Users/aly/Documents/Programming/Apps/Machine Learning/ASL Converter/data_augmentation/data_four_labels_augmentation/train/milk/jDCw7stJaM43664_translation_0.5.csv_projective_geo_11_False_REFLECTION_.csv\n",
      "/Users/aly/Documents/Programming/Apps/Machine Learning/ASL Converter/data_augmentation/data_four_labels_augmentation/train/milk/jDCw7stJaM43664_scale_0.2.csv_projective_geo_12_False_REFLECTION_.csv\n",
      "/Users/aly/Documents/Programming/Apps/Machine Learning/ASL Converter/data_augmentation/data_four_labels_augmentation/train/milk/jDCw7stJaM43664_rotation_15_translation_0.5_scale_0.2.csv_projective_geo_12_False_REFLECTION_.csv\n",
      "/Users/aly/Documents/Programming/Apps/Machine Learning/ASL Converter/data_augmentation/data_four_labels_augmentation/train/milk/jDCw7stJaM43664_scale_0.2.csv_projective_geo_14_True.csv\n",
      "/Users/aly/Documents/Programming/Apps/Machine Learning/ASL Converter/data_augmentation/data_four_labels_augmentation/train/milk/jDCw7stJaM43664_scale_0.2_translate_0.5_left.csv_projective_geo_13_True_REFLECTION_.csv\n",
      "/Users/aly/Documents/Programming/Apps/Machine Learning/ASL Converter/data_augmentation/data_four_labels_augmentation/train/milk/jDCw7stJaM43664_scale_0.2_translate_0.5_left.csv_projective_geo_12_False.csv\n",
      "/Users/aly/Documents/Programming/Apps/Machine Learning/ASL Converter/data_augmentation/data_four_labels_augmentation/train/milk/jDCw7stJaM43664_translation_0.5_scale_0.2.csv_projective_geo_7_True_REFLECTION_.csv\n",
      "/Users/aly/Documents/Programming/Apps/Machine Learning/ASL Converter/data_augmentation/data_four_labels_augmentation/train/milk/jDCw7stJaM43664_scale_0.2.csv_projective_geo_12_False.csv\n",
      "/Users/aly/Documents/Programming/Apps/Machine Learning/ASL Converter/data_augmentation/data_four_labels_augmentation/train/milk/jDCw7stJaM43664_rotation_15.csv_projective_geo_12_True_REFLECTION_.csv\n",
      "/Users/aly/Documents/Programming/Apps/Machine Learning/ASL Converter/data_augmentation/data_four_labels_augmentation/train/milk/jDCw7stJaM43664_scale_0.2_translate_0.5_left.csv_projective_geo_13_True.csv\n",
      "coffee\n",
      "/Users/aly/Documents/Programming/Apps/Machine Learning/ASL Converter/data_augmentation/data_four_labels_augmentation/train/coffee/sErq0TJMKEo4730_rotation_15.csv_projective_geo_12_False_REFLECTION_.csv\n",
      "/Users/aly/Documents/Programming/Apps/Machine Learning/ASL Converter/data_augmentation/data_four_labels_augmentation/train/coffee/sErq0TJMKEo4730_rotation_15.csv_projective_geo_11_True.csv\n",
      "/Users/aly/Documents/Programming/Apps/Machine Learning/ASL Converter/data_augmentation/data_four_labels_augmentation/train/coffee/CSj7IScvZnE5770_translation_0.5_scale_0.2.csv_projective_geo_5_False_REFLECTION_.csv\n",
      "/Users/aly/Documents/Programming/Apps/Machine Learning/ASL Converter/data_augmentation/data_four_labels_augmentation/train/coffee/sErq0TJMKEo4730_rotation_15.csv_projective_geo_11_True_REFLECTION_.csv\n",
      "/Users/aly/Documents/Programming/Apps/Machine Learning/ASL Converter/data_augmentation/data_four_labels_augmentation/train/coffee/CSj7IScvZnE5770_rotation_15.csv_projective_geo_14_False_REFLECTION_.csv\n",
      "/Users/aly/Documents/Programming/Apps/Machine Learning/ASL Converter/data_augmentation/data_four_labels_augmentation/train/coffee/sErq0TJMKEo4730_rotation_15_translation_0.5_scale_0.2.csv_projective_geo_11_False.csv\n",
      "/Users/aly/Documents/Programming/Apps/Machine Learning/ASL Converter/data_augmentation/data_four_labels_augmentation/train/coffee/CSj7IScvZnE5770_translation_0.5_scale_0.2.csv_projective_geo_7_True.csv\n",
      "/Users/aly/Documents/Programming/Apps/Machine Learning/ASL Converter/data_augmentation/data_four_labels_augmentation/train/coffee/sErq0TJMKEo4730_rotation_15_scale_0.2.csv_projective_geo_8_False.csv\n",
      "/Users/aly/Documents/Programming/Apps/Machine Learning/ASL Converter/data_augmentation/data_four_labels_augmentation/train/coffee/CSj7IScvZnE5770.csv_projective_geo_6_False.csv\n",
      "/Users/aly/Documents/Programming/Apps/Machine Learning/ASL Converter/data_augmentation/data_four_labels_augmentation/train/coffee/CSj7IScvZnE5770_rotation_15_scale_0.2.csv_projective_geo_10_True.csv\n",
      "/Users/aly/Documents/Programming/Apps/Machine Learning/ASL Converter/data_augmentation/data_four_labels_augmentation/train/coffee/sErq0TJMKEo4730.csv_projective_geo_9_True_REFLECTION_.csv\n",
      "/Users/aly/Documents/Programming/Apps/Machine Learning/ASL Converter/data_augmentation/data_four_labels_augmentation/train/coffee/sErq0TJMKEo4730_rotation_15.csv_projective_geo_12_False.csv\n",
      "/Users/aly/Documents/Programming/Apps/Machine Learning/ASL Converter/data_augmentation/data_four_labels_augmentation/train/coffee/sErq0TJMKEo4730_translate_0.5_left.csv_projective_geo_12_True_REFLECTION_.csv\n",
      "/Users/aly/Documents/Programming/Apps/Machine Learning/ASL Converter/data_augmentation/data_four_labels_augmentation/train/coffee/CSj7IScvZnE5770_translation_0.5_scale_0.2.csv_projective_geo_5_False.csv\n",
      "/Users/aly/Documents/Programming/Apps/Machine Learning/ASL Converter/data_augmentation/data_four_labels_augmentation/train/coffee/CSj7IScvZnE5770_scale_0.2.csv_projective_geo_5_False.csv\n",
      "/Users/aly/Documents/Programming/Apps/Machine Learning/ASL Converter/data_augmentation/data_four_labels_augmentation/train/coffee/CSj7IScvZnE5770.csv_projective_geo_11_True.csv\n",
      "/Users/aly/Documents/Programming/Apps/Machine Learning/ASL Converter/data_augmentation/data_four_labels_augmentation/train/coffee/CSj7IScvZnE5770_scale_0.2.csv_projective_geo_13_True.csv\n",
      "/Users/aly/Documents/Programming/Apps/Machine Learning/ASL Converter/data_augmentation/data_four_labels_augmentation/train/coffee/sErq0TJMKEo4730_rotation_15_scale_0.2.csv_projective_geo_8_False_REFLECTION_.csv\n",
      "/Users/aly/Documents/Programming/Apps/Machine Learning/ASL Converter/data_augmentation/data_four_labels_augmentation/train/coffee/sErq0TJMKEo4730_rotation_15_scale_0.2.csv_projective_geo_6_True.csv\n",
      "/Users/aly/Documents/Programming/Apps/Machine Learning/ASL Converter/data_augmentation/data_four_labels_augmentation/train/coffee/CSj7IScvZnE5770_scale_0.2.csv_projective_geo_5_False_REFLECTION_.csv\n",
      "/Users/aly/Documents/Programming/Apps/Machine Learning/ASL Converter/data_augmentation/data_four_labels_augmentation/train/coffee/CSj7IScvZnE5770_rotation_15.csv_projective_geo_11_True_REFLECTION_.csv\n",
      "/Users/aly/Documents/Programming/Apps/Machine Learning/ASL Converter/data_augmentation/data_four_labels_augmentation/train/coffee/sErq0TJMKEo4730_scale_0.2.csv_projective_geo_6_True_REFLECTION_.csv\n",
      "/Users/aly/Documents/Programming/Apps/Machine Learning/ASL Converter/data_augmentation/data_four_labels_augmentation/train/coffee/sErq0TJMKEo4730_scale_0.2.csv_projective_geo_14_False.csv\n",
      "/Users/aly/Documents/Programming/Apps/Machine Learning/ASL Converter/data_augmentation/data_four_labels_augmentation/train/coffee/CSj7IScvZnE5770.csv_projective_geo_11_True_REFLECTION_.csv\n",
      "/Users/aly/Documents/Programming/Apps/Machine Learning/ASL Converter/data_augmentation/data_four_labels_augmentation/train/coffee/CSj7IScvZnE5770_rotation_15_scale_0.2.csv_projective_geo_5_False.csv\n",
      "/Users/aly/Documents/Programming/Apps/Machine Learning/ASL Converter/data_augmentation/data_four_labels_augmentation/train/coffee/CSj7IScvZnE5770_rotation_15.csv_projective_geo_11_True.csv\n",
      "/Users/aly/Documents/Programming/Apps/Machine Learning/ASL Converter/data_augmentation/data_four_labels_augmentation/train/coffee/sErq0TJMKEo4730_rotation_15_translation_0.5_scale_0.2.csv_projective_geo_5_True_REFLECTION_.csv\n",
      "/Users/aly/Documents/Programming/Apps/Machine Learning/ASL Converter/data_augmentation/data_four_labels_augmentation/train/coffee/sErq0TJMKEo4730_scale_0.2.csv_projective_geo_14_False_REFLECTION_.csv\n",
      "/Users/aly/Documents/Programming/Apps/Machine Learning/ASL Converter/data_augmentation/data_four_labels_augmentation/train/coffee/CSj7IScvZnE5770_rotation_15.csv_projective_geo_14_False.csv\n",
      "/Users/aly/Documents/Programming/Apps/Machine Learning/ASL Converter/data_augmentation/data_four_labels_augmentation/train/coffee/sErq0TJMKEo4730.csv_projective_geo_7_False.csv\n",
      "/Users/aly/Documents/Programming/Apps/Machine Learning/ASL Converter/data_augmentation/data_four_labels_augmentation/train/coffee/sErq0TJMKEo4730_rotation_15_translation_0.5_scale_0.2.csv_projective_geo_11_False_REFLECTION_.csv\n",
      "/Users/aly/Documents/Programming/Apps/Machine Learning/ASL Converter/data_augmentation/data_four_labels_augmentation/train/coffee/sErq0TJMKEo4730_translate_0.5_left.csv_projective_geo_5_False_REFLECTION_.csv\n",
      "/Users/aly/Documents/Programming/Apps/Machine Learning/ASL Converter/data_augmentation/data_four_labels_augmentation/train/coffee/CSj7IScvZnE5770_rotation_15_scale_0.2.csv_projective_geo_5_False_REFLECTION_.csv\n",
      "/Users/aly/Documents/Programming/Apps/Machine Learning/ASL Converter/data_augmentation/data_four_labels_augmentation/train/coffee/sErq0TJMKEo4730_rotation_15_scale_0.2.csv_projective_geo_6_True_REFLECTION_.csv\n",
      "/Users/aly/Documents/Programming/Apps/Machine Learning/ASL Converter/data_augmentation/data_four_labels_augmentation/train/coffee/sErq0TJMKEo4730.csv_projective_geo_9_True.csv\n",
      "/Users/aly/Documents/Programming/Apps/Machine Learning/ASL Converter/data_augmentation/data_four_labels_augmentation/train/coffee/sErq0TJMKEo4730.csv_projective_geo_7_False_REFLECTION_.csv\n",
      "/Users/aly/Documents/Programming/Apps/Machine Learning/ASL Converter/data_augmentation/data_four_labels_augmentation/train/coffee/CSj7IScvZnE5770.csv_projective_geo_6_False_REFLECTION_.csv\n",
      "/Users/aly/Documents/Programming/Apps/Machine Learning/ASL Converter/data_augmentation/data_four_labels_augmentation/train/coffee/CSj7IScvZnE5770_scale_0.2.csv_projective_geo_13_True_REFLECTION_.csv\n",
      "/Users/aly/Documents/Programming/Apps/Machine Learning/ASL Converter/data_augmentation/data_four_labels_augmentation/train/coffee/sErq0TJMKEo4730_translate_0.5_left.csv_projective_geo_5_False.csv\n",
      "/Users/aly/Documents/Programming/Apps/Machine Learning/ASL Converter/data_augmentation/data_four_labels_augmentation/train/coffee/sErq0TJMKEo4730_translate_0.5_left.csv_projective_geo_12_True.csv\n",
      "/Users/aly/Documents/Programming/Apps/Machine Learning/ASL Converter/data_augmentation/data_four_labels_augmentation/train/coffee/sErq0TJMKEo4730_rotation_15_translation_0.5_scale_0.2.csv_projective_geo_5_True.csv\n",
      "/Users/aly/Documents/Programming/Apps/Machine Learning/ASL Converter/data_augmentation/data_four_labels_augmentation/train/coffee/sErq0TJMKEo4730_scale_0.2.csv_projective_geo_6_True.csv\n",
      "/Users/aly/Documents/Programming/Apps/Machine Learning/ASL Converter/data_augmentation/data_four_labels_augmentation/train/coffee/CSj7IScvZnE5770_rotation_15_scale_0.2.csv_projective_geo_10_True_REFLECTION_.csv\n",
      "/Users/aly/Documents/Programming/Apps/Machine Learning/ASL Converter/data_augmentation/data_four_labels_augmentation/train/coffee/CSj7IScvZnE5770_translation_0.5_scale_0.2.csv_projective_geo_7_True_REFLECTION_.csv\n",
      "door\n",
      "/Users/aly/Documents/Programming/Apps/Machine Learning/ASL Converter/data_augmentation/data_four_labels_augmentation/train/door/WGfiiDgrq1I3897.csv_projective_geo_13_True.csv\n",
      "/Users/aly/Documents/Programming/Apps/Machine Learning/ASL Converter/data_augmentation/data_four_labels_augmentation/train/door/WGfiiDgrq1I3897_translation_0.5.csv_projective_geo_7_True_REFLECTION_.csv\n",
      "/Users/aly/Documents/Programming/Apps/Machine Learning/ASL Converter/data_augmentation/data_four_labels_augmentation/train/door/WGfiiDgrq1I3897_rotation_15_translate_0.5_left.csv_projective_geo_11_False.csv\n",
      "/Users/aly/Documents/Programming/Apps/Machine Learning/ASL Converter/data_augmentation/data_four_labels_augmentation/train/door/WGfiiDgrq1I3897_rotation_15_translate_0.5_left.csv_projective_geo_6_True_REFLECTION_.csv\n",
      "/Users/aly/Documents/Programming/Apps/Machine Learning/ASL Converter/data_augmentation/data_four_labels_augmentation/train/door/WGfiiDgrq1I3897_rotation_15_scale_0.2.csv_projective_geo_10_True_REFLECTION_.csv\n",
      "/Users/aly/Documents/Programming/Apps/Machine Learning/ASL Converter/data_augmentation/data_four_labels_augmentation/train/door/WGfiiDgrq1I3897_translation_0.5.csv_projective_geo_7_True.csv\n",
      "/Users/aly/Documents/Programming/Apps/Machine Learning/ASL Converter/data_augmentation/data_four_labels_augmentation/train/door/WGfiiDgrq1I3897.csv_projective_geo_10_False.csv\n",
      "/Users/aly/Documents/Programming/Apps/Machine Learning/ASL Converter/data_augmentation/data_four_labels_augmentation/train/door/WGfiiDgrq1I3897_rotation_15_translate_0.5_left.csv_projective_geo_11_False_REFLECTION_.csv\n",
      "/Users/aly/Documents/Programming/Apps/Machine Learning/ASL Converter/data_augmentation/data_four_labels_augmentation/train/door/WGfiiDgrq1I3897_rotation_15_translate_0.5_left.csv_projective_geo_6_True.csv\n",
      "/Users/aly/Documents/Programming/Apps/Machine Learning/ASL Converter/data_augmentation/data_four_labels_augmentation/train/door/WGfiiDgrq1I3897.csv_projective_geo_10_False_REFLECTION_.csv\n",
      "/Users/aly/Documents/Programming/Apps/Machine Learning/ASL Converter/data_augmentation/data_four_labels_augmentation/train/door/WGfiiDgrq1I3897_rotation_15_translation_0.5_translate_0.5_left.csv_projective_geo_6_True_REFLECTION_.csv\n",
      "/Users/aly/Documents/Programming/Apps/Machine Learning/ASL Converter/data_augmentation/data_four_labels_augmentation/train/door/WGfiiDgrq1I3897_scale_0.2.csv_projective_geo_11_False_REFLECTION_.csv\n",
      "/Users/aly/Documents/Programming/Apps/Machine Learning/ASL Converter/data_augmentation/data_four_labels_augmentation/train/door/WGfiiDgrq1I3897_rotation_15.csv_projective_geo_12_False_REFLECTION_.csv\n",
      "/Users/aly/Documents/Programming/Apps/Machine Learning/ASL Converter/data_augmentation/data_four_labels_augmentation/train/door/WGfiiDgrq1I3897_rotation_15_translation_0.5.csv_projective_geo_12_False.csv\n",
      "/Users/aly/Documents/Programming/Apps/Machine Learning/ASL Converter/data_augmentation/data_four_labels_augmentation/train/door/WGfiiDgrq1I3897_rotation_15_scale_0.2.csv_projective_geo_7_False_REFLECTION_.csv\n",
      "/Users/aly/Documents/Programming/Apps/Machine Learning/ASL Converter/data_augmentation/data_four_labels_augmentation/train/door/WGfiiDgrq1I3897_translation_0.5.csv_projective_geo_13_False_REFLECTION_.csv\n",
      "/Users/aly/Documents/Programming/Apps/Machine Learning/ASL Converter/data_augmentation/data_four_labels_augmentation/train/door/WGfiiDgrq1I3897.csv_projective_geo_13_True_REFLECTION_.csv\n",
      "/Users/aly/Documents/Programming/Apps/Machine Learning/ASL Converter/data_augmentation/data_four_labels_augmentation/train/door/WGfiiDgrq1I3897_rotation_15_translation_0.5_scale_0.2.csv_projective_geo_13_True_REFLECTION_.csv\n",
      "/Users/aly/Documents/Programming/Apps/Machine Learning/ASL Converter/data_augmentation/data_four_labels_augmentation/train/door/WGfiiDgrq1I3897_scale_0.2.csv_projective_geo_9_True_REFLECTION_.csv\n",
      "/Users/aly/Documents/Programming/Apps/Machine Learning/ASL Converter/data_augmentation/data_four_labels_augmentation/train/door/WGfiiDgrq1I3897_rotation_15.csv_projective_geo_13_True.csv\n",
      "/Users/aly/Documents/Programming/Apps/Machine Learning/ASL Converter/data_augmentation/data_four_labels_augmentation/train/door/WGfiiDgrq1I3897_rotation_15_translation_0.5_translate_0.5_left.csv_projective_geo_6_True.csv\n",
      "/Users/aly/Documents/Programming/Apps/Machine Learning/ASL Converter/data_augmentation/data_four_labels_augmentation/train/door/WGfiiDgrq1I3897_rotation_15_translation_0.5_scale_0.2.csv_projective_geo_13_False.csv\n",
      "/Users/aly/Documents/Programming/Apps/Machine Learning/ASL Converter/data_augmentation/data_four_labels_augmentation/train/door/WGfiiDgrq1I3897_translation_0.5.csv_projective_geo_13_False.csv\n",
      "/Users/aly/Documents/Programming/Apps/Machine Learning/ASL Converter/data_augmentation/data_four_labels_augmentation/train/door/WGfiiDgrq1I3897_rotation_15_translation_0.5.csv_projective_geo_12_False_REFLECTION_.csv\n",
      "/Users/aly/Documents/Programming/Apps/Machine Learning/ASL Converter/data_augmentation/data_four_labels_augmentation/train/door/WGfiiDgrq1I3897_rotation_15.csv_projective_geo_12_False.csv\n",
      "/Users/aly/Documents/Programming/Apps/Machine Learning/ASL Converter/data_augmentation/data_four_labels_augmentation/train/door/WGfiiDgrq1I3897_rotation_15_translation_0.5.csv_projective_geo_8_True.csv\n",
      "/Users/aly/Documents/Programming/Apps/Machine Learning/ASL Converter/data_augmentation/data_four_labels_augmentation/train/door/WGfiiDgrq1I3897_rotation_15_scale_0.2.csv_projective_geo_7_False.csv\n",
      "/Users/aly/Documents/Programming/Apps/Machine Learning/ASL Converter/data_augmentation/data_four_labels_augmentation/train/door/WGfiiDgrq1I3897_rotation_15.csv_projective_geo_13_True_REFLECTION_.csv\n",
      "/Users/aly/Documents/Programming/Apps/Machine Learning/ASL Converter/data_augmentation/data_four_labels_augmentation/train/door/WGfiiDgrq1I3897_rotation_15_translation_0.5_scale_0.2.csv_projective_geo_13_False_REFLECTION_.csv\n",
      "/Users/aly/Documents/Programming/Apps/Machine Learning/ASL Converter/data_augmentation/data_four_labels_augmentation/train/door/WGfiiDgrq1I3897_scale_0.2.csv_projective_geo_11_False.csv\n",
      "/Users/aly/Documents/Programming/Apps/Machine Learning/ASL Converter/data_augmentation/data_four_labels_augmentation/train/door/WGfiiDgrq1I3897_rotation_15_translation_0.5.csv_projective_geo_8_True_REFLECTION_.csv\n",
      "/Users/aly/Documents/Programming/Apps/Machine Learning/ASL Converter/data_augmentation/data_four_labels_augmentation/train/door/WGfiiDgrq1I3897_rotation_15_translation_0.5_scale_0.2.csv_projective_geo_13_True.csv\n",
      "/Users/aly/Documents/Programming/Apps/Machine Learning/ASL Converter/data_augmentation/data_four_labels_augmentation/train/door/WGfiiDgrq1I3897_rotation_15_translation_0.5_translate_0.5_left.csv_projective_geo_12_False_REFLECTION_.csv\n",
      "/Users/aly/Documents/Programming/Apps/Machine Learning/ASL Converter/data_augmentation/data_four_labels_augmentation/train/door/WGfiiDgrq1I3897_rotation_15_translation_0.5_translate_0.5_left.csv_projective_geo_12_False.csv\n",
      "/Users/aly/Documents/Programming/Apps/Machine Learning/ASL Converter/data_augmentation/data_four_labels_augmentation/train/door/WGfiiDgrq1I3897_scale_0.2.csv_projective_geo_9_True.csv\n",
      "/Users/aly/Documents/Programming/Apps/Machine Learning/ASL Converter/data_augmentation/data_four_labels_augmentation/train/door/WGfiiDgrq1I3897_rotation_15_scale_0.2.csv_projective_geo_10_True.csv\n",
      "11236 211\n"
     ]
    }
   ],
   "source": [
    "folder_path_train = \"/Users/aly/Documents/Programming/Apps/Machine Learning/ASL Converter/data_augmentation/data_four_labels_augmentation/train\"\n",
    "labels= {\"coffee\": 0, 'dog': 1, 'milk': 2, 'door': 3}\n",
    "X_train, Y_train = prepare_data(folder_path_train, labels)"
   ]
  },
  {
   "cell_type": "code",
   "execution_count": 83,
   "metadata": {},
   "outputs": [
    {
     "name": "stdout",
     "output_type": "stream",
     "text": [
      ".DS_Store\n",
      "dog\n",
      "milk\n",
      "coffee\n",
      "/Users/aly/Documents/Programming/Apps/Machine Learning/ASL Converter/data_augmentation/data_four_labels_augmentation/test/coffee/c0tloO5tJUY7125_translation_0.5_scale_0.2.csv_projective_geo_13_False.csv\n",
      "/Users/aly/Documents/Programming/Apps/Machine Learning/ASL Converter/data_augmentation/data_four_labels_augmentation/test/coffee/c0tloO5tJUY7125_translation_0.5_scale_0.2.csv_projective_geo_13_False_REFLECTION_.csv\n",
      "/Users/aly/Documents/Programming/Apps/Machine Learning/ASL Converter/data_augmentation/data_four_labels_augmentation/test/coffee/c0tloO5tJUY7125_translation_0.5_scale_0.2.csv_projective_geo_11_True.csv\n",
      "/Users/aly/Documents/Programming/Apps/Machine Learning/ASL Converter/data_augmentation/data_four_labels_augmentation/test/coffee/c0tloO5tJUY7125_rotation_15_translation_0.5_translate_0.5_left.csv_projective_geo_6_False.csv\n",
      "/Users/aly/Documents/Programming/Apps/Machine Learning/ASL Converter/data_augmentation/data_four_labels_augmentation/test/coffee/c0tloO5tJUY7125_rotation_15_scale_0.2.csv_projective_geo_9_True_REFLECTION_.csv\n",
      "/Users/aly/Documents/Programming/Apps/Machine Learning/ASL Converter/data_augmentation/data_four_labels_augmentation/test/coffee/c0tloO5tJUY7125_translation_0.5_translate_0.5_left.csv_projective_geo_9_False.csv\n",
      "/Users/aly/Documents/Programming/Apps/Machine Learning/ASL Converter/data_augmentation/data_four_labels_augmentation/test/coffee/c0tloO5tJUY7125.csv_projective_geo_6_False.csv\n",
      "/Users/aly/Documents/Programming/Apps/Machine Learning/ASL Converter/data_augmentation/data_four_labels_augmentation/test/coffee/c0tloO5tJUY7125_translation_0.5_translate_0.5_left.csv_projective_geo_7_True.csv\n",
      "/Users/aly/Documents/Programming/Apps/Machine Learning/ASL Converter/data_augmentation/data_four_labels_augmentation/test/coffee/c0tloO5tJUY7125_rotation_15_translation_0.5_translate_0.5_left.csv_projective_geo_13_True_REFLECTION_.csv\n",
      "/Users/aly/Documents/Programming/Apps/Machine Learning/ASL Converter/data_augmentation/data_four_labels_augmentation/test/coffee/c0tloO5tJUY7125_rotation_15_translation_0.5_translate_0.5_left.csv_projective_geo_6_False_REFLECTION_.csv\n",
      "/Users/aly/Documents/Programming/Apps/Machine Learning/ASL Converter/data_augmentation/data_four_labels_augmentation/test/coffee/c0tloO5tJUY7125.csv_projective_geo_7_True_REFLECTION_.csv\n",
      "/Users/aly/Documents/Programming/Apps/Machine Learning/ASL Converter/data_augmentation/data_four_labels_augmentation/test/coffee/c0tloO5tJUY7125_translation_0.5_scale_0.2.csv_projective_geo_11_True_REFLECTION_.csv\n",
      "/Users/aly/Documents/Programming/Apps/Machine Learning/ASL Converter/data_augmentation/data_four_labels_augmentation/test/coffee/c0tloO5tJUY7125_rotation_15.csv_projective_geo_7_False_REFLECTION_.csv\n",
      "/Users/aly/Documents/Programming/Apps/Machine Learning/ASL Converter/data_augmentation/data_four_labels_augmentation/test/coffee/c0tloO5tJUY7125_scale_0.2.csv_projective_geo_6_False_REFLECTION_.csv\n",
      "/Users/aly/Documents/Programming/Apps/Machine Learning/ASL Converter/data_augmentation/data_four_labels_augmentation/test/coffee/c0tloO5tJUY7125.csv_projective_geo_7_True.csv\n",
      "/Users/aly/Documents/Programming/Apps/Machine Learning/ASL Converter/data_augmentation/data_four_labels_augmentation/test/coffee/c0tloO5tJUY7125_scale_0.2.csv_projective_geo_7_True_REFLECTION_.csv\n",
      "/Users/aly/Documents/Programming/Apps/Machine Learning/ASL Converter/data_augmentation/data_four_labels_augmentation/test/coffee/c0tloO5tJUY7125_rotation_15_scale_0.2.csv_projective_geo_12_False.csv\n",
      "/Users/aly/Documents/Programming/Apps/Machine Learning/ASL Converter/data_augmentation/data_four_labels_augmentation/test/coffee/c0tloO5tJUY7125_translation_0.5_translate_0.5_left.csv_projective_geo_7_True_REFLECTION_.csv\n",
      "/Users/aly/Documents/Programming/Apps/Machine Learning/ASL Converter/data_augmentation/data_four_labels_augmentation/test/coffee/c0tloO5tJUY7125_rotation_15.csv_projective_geo_7_False.csv\n",
      "/Users/aly/Documents/Programming/Apps/Machine Learning/ASL Converter/data_augmentation/data_four_labels_augmentation/test/coffee/c0tloO5tJUY7125_scale_0.2.csv_projective_geo_7_True.csv\n",
      "/Users/aly/Documents/Programming/Apps/Machine Learning/ASL Converter/data_augmentation/data_four_labels_augmentation/test/coffee/c0tloO5tJUY7125_scale_0.2.csv_projective_geo_6_False.csv\n",
      "/Users/aly/Documents/Programming/Apps/Machine Learning/ASL Converter/data_augmentation/data_four_labels_augmentation/test/coffee/c0tloO5tJUY7125_rotation_15.csv_projective_geo_9_True.csv\n",
      "/Users/aly/Documents/Programming/Apps/Machine Learning/ASL Converter/data_augmentation/data_four_labels_augmentation/test/coffee/c0tloO5tJUY7125_rotation_15_scale_0.2.csv_projective_geo_9_True.csv\n",
      "/Users/aly/Documents/Programming/Apps/Machine Learning/ASL Converter/data_augmentation/data_four_labels_augmentation/test/coffee/c0tloO5tJUY7125_rotation_15_translation_0.5_translate_0.5_left.csv_projective_geo_13_True.csv\n",
      "/Users/aly/Documents/Programming/Apps/Machine Learning/ASL Converter/data_augmentation/data_four_labels_augmentation/test/coffee/c0tloO5tJUY7125_translation_0.5_translate_0.5_left.csv_projective_geo_9_False_REFLECTION_.csv\n",
      "/Users/aly/Documents/Programming/Apps/Machine Learning/ASL Converter/data_augmentation/data_four_labels_augmentation/test/coffee/c0tloO5tJUY7125.csv_projective_geo_6_False_REFLECTION_.csv\n",
      "/Users/aly/Documents/Programming/Apps/Machine Learning/ASL Converter/data_augmentation/data_four_labels_augmentation/test/coffee/c0tloO5tJUY7125_rotation_15_scale_0.2.csv_projective_geo_12_False_REFLECTION_.csv\n",
      "/Users/aly/Documents/Programming/Apps/Machine Learning/ASL Converter/data_augmentation/data_four_labels_augmentation/test/coffee/c0tloO5tJUY7125_rotation_15.csv_projective_geo_9_True_REFLECTION_.csv\n",
      "door\n",
      "149\n",
      "----------\n",
      ".DS_Store\n",
      "dog\n",
      "milk\n",
      "coffee\n",
      "/Users/aly/Documents/Programming/Apps/Machine Learning/ASL Converter/data_augmentation/data_four_labels_augmentation/test/coffee/c0tloO5tJUY7125_translation_0.5_scale_0.2.csv_projective_geo_13_False.csv\n",
      "/Users/aly/Documents/Programming/Apps/Machine Learning/ASL Converter/data_augmentation/data_four_labels_augmentation/test/coffee/c0tloO5tJUY7125_translation_0.5_scale_0.2.csv_projective_geo_13_False_REFLECTION_.csv\n",
      "/Users/aly/Documents/Programming/Apps/Machine Learning/ASL Converter/data_augmentation/data_four_labels_augmentation/test/coffee/c0tloO5tJUY7125_translation_0.5_scale_0.2.csv_projective_geo_11_True.csv\n",
      "/Users/aly/Documents/Programming/Apps/Machine Learning/ASL Converter/data_augmentation/data_four_labels_augmentation/test/coffee/c0tloO5tJUY7125_rotation_15_translation_0.5_translate_0.5_left.csv_projective_geo_6_False.csv\n",
      "/Users/aly/Documents/Programming/Apps/Machine Learning/ASL Converter/data_augmentation/data_four_labels_augmentation/test/coffee/c0tloO5tJUY7125_rotation_15_scale_0.2.csv_projective_geo_9_True_REFLECTION_.csv\n",
      "/Users/aly/Documents/Programming/Apps/Machine Learning/ASL Converter/data_augmentation/data_four_labels_augmentation/test/coffee/c0tloO5tJUY7125_translation_0.5_translate_0.5_left.csv_projective_geo_9_False.csv\n",
      "/Users/aly/Documents/Programming/Apps/Machine Learning/ASL Converter/data_augmentation/data_four_labels_augmentation/test/coffee/c0tloO5tJUY7125.csv_projective_geo_6_False.csv\n",
      "/Users/aly/Documents/Programming/Apps/Machine Learning/ASL Converter/data_augmentation/data_four_labels_augmentation/test/coffee/c0tloO5tJUY7125_translation_0.5_translate_0.5_left.csv_projective_geo_7_True.csv\n",
      "/Users/aly/Documents/Programming/Apps/Machine Learning/ASL Converter/data_augmentation/data_four_labels_augmentation/test/coffee/c0tloO5tJUY7125_rotation_15_translation_0.5_translate_0.5_left.csv_projective_geo_13_True_REFLECTION_.csv\n",
      "/Users/aly/Documents/Programming/Apps/Machine Learning/ASL Converter/data_augmentation/data_four_labels_augmentation/test/coffee/c0tloO5tJUY7125_rotation_15_translation_0.5_translate_0.5_left.csv_projective_geo_6_False_REFLECTION_.csv\n",
      "/Users/aly/Documents/Programming/Apps/Machine Learning/ASL Converter/data_augmentation/data_four_labels_augmentation/test/coffee/c0tloO5tJUY7125.csv_projective_geo_7_True_REFLECTION_.csv\n",
      "/Users/aly/Documents/Programming/Apps/Machine Learning/ASL Converter/data_augmentation/data_four_labels_augmentation/test/coffee/c0tloO5tJUY7125_translation_0.5_scale_0.2.csv_projective_geo_11_True_REFLECTION_.csv\n",
      "/Users/aly/Documents/Programming/Apps/Machine Learning/ASL Converter/data_augmentation/data_four_labels_augmentation/test/coffee/c0tloO5tJUY7125_rotation_15.csv_projective_geo_7_False_REFLECTION_.csv\n",
      "/Users/aly/Documents/Programming/Apps/Machine Learning/ASL Converter/data_augmentation/data_four_labels_augmentation/test/coffee/c0tloO5tJUY7125_scale_0.2.csv_projective_geo_6_False_REFLECTION_.csv\n",
      "/Users/aly/Documents/Programming/Apps/Machine Learning/ASL Converter/data_augmentation/data_four_labels_augmentation/test/coffee/c0tloO5tJUY7125.csv_projective_geo_7_True.csv\n",
      "/Users/aly/Documents/Programming/Apps/Machine Learning/ASL Converter/data_augmentation/data_four_labels_augmentation/test/coffee/c0tloO5tJUY7125_scale_0.2.csv_projective_geo_7_True_REFLECTION_.csv\n",
      "/Users/aly/Documents/Programming/Apps/Machine Learning/ASL Converter/data_augmentation/data_four_labels_augmentation/test/coffee/c0tloO5tJUY7125_rotation_15_scale_0.2.csv_projective_geo_12_False.csv\n",
      "/Users/aly/Documents/Programming/Apps/Machine Learning/ASL Converter/data_augmentation/data_four_labels_augmentation/test/coffee/c0tloO5tJUY7125_translation_0.5_translate_0.5_left.csv_projective_geo_7_True_REFLECTION_.csv\n",
      "/Users/aly/Documents/Programming/Apps/Machine Learning/ASL Converter/data_augmentation/data_four_labels_augmentation/test/coffee/c0tloO5tJUY7125_rotation_15.csv_projective_geo_7_False.csv\n",
      "/Users/aly/Documents/Programming/Apps/Machine Learning/ASL Converter/data_augmentation/data_four_labels_augmentation/test/coffee/c0tloO5tJUY7125_scale_0.2.csv_projective_geo_7_True.csv\n",
      "/Users/aly/Documents/Programming/Apps/Machine Learning/ASL Converter/data_augmentation/data_four_labels_augmentation/test/coffee/c0tloO5tJUY7125_scale_0.2.csv_projective_geo_6_False.csv\n",
      "/Users/aly/Documents/Programming/Apps/Machine Learning/ASL Converter/data_augmentation/data_four_labels_augmentation/test/coffee/c0tloO5tJUY7125_rotation_15.csv_projective_geo_9_True.csv\n",
      "/Users/aly/Documents/Programming/Apps/Machine Learning/ASL Converter/data_augmentation/data_four_labels_augmentation/test/coffee/c0tloO5tJUY7125_rotation_15_scale_0.2.csv_projective_geo_9_True.csv\n",
      "/Users/aly/Documents/Programming/Apps/Machine Learning/ASL Converter/data_augmentation/data_four_labels_augmentation/test/coffee/c0tloO5tJUY7125_rotation_15_translation_0.5_translate_0.5_left.csv_projective_geo_13_True.csv\n",
      "/Users/aly/Documents/Programming/Apps/Machine Learning/ASL Converter/data_augmentation/data_four_labels_augmentation/test/coffee/c0tloO5tJUY7125_translation_0.5_translate_0.5_left.csv_projective_geo_9_False_REFLECTION_.csv\n",
      "/Users/aly/Documents/Programming/Apps/Machine Learning/ASL Converter/data_augmentation/data_four_labels_augmentation/test/coffee/c0tloO5tJUY7125.csv_projective_geo_6_False_REFLECTION_.csv\n",
      "/Users/aly/Documents/Programming/Apps/Machine Learning/ASL Converter/data_augmentation/data_four_labels_augmentation/test/coffee/c0tloO5tJUY7125_rotation_15_scale_0.2.csv_projective_geo_12_False_REFLECTION_.csv\n",
      "/Users/aly/Documents/Programming/Apps/Machine Learning/ASL Converter/data_augmentation/data_four_labels_augmentation/test/coffee/c0tloO5tJUY7125_rotation_15.csv_projective_geo_9_True_REFLECTION_.csv\n",
      "door\n",
      "2497 149\n"
     ]
    }
   ],
   "source": [
    "folder_path_test = \"/Users/aly/Documents/Programming/Apps/Machine Learning/ASL Converter/data_augmentation/data_four_labels_augmentation/test\"\n",
    "labels = {\"coffee\": 0, 'dog': 1, 'milk': 2, 'door': 3}\n",
    "X_test, Y_test = prepare_data(folder_path_test, labels)"
   ]
  },
  {
   "cell_type": "code",
   "execution_count": 13,
   "metadata": {},
   "outputs": [
    {
     "name": "stdout",
     "output_type": "stream",
     "text": [
      "[[ 711  632   71    0    0    0]\n",
      " [  73    8 3215   55  927    0]\n",
      " [  83   91    1  645 1253  927]]\n"
     ]
    }
   ],
   "source": [
    "padded_inputs = tf.keras.preprocessing.sequence.pad_sequences(\n",
    "    [\n",
    "    [711, 632, 71],\n",
    "    [73, 8, 3215, 55, 927],\n",
    "    [83, 91, 1, 645, 1253, 927],\n",
    "], padding=\"post\"\n",
    ")\n",
    "# print(X[0][1])\n",
    "print(((padded_inputs)))"
   ]
  },
  {
   "cell_type": "code",
   "execution_count": null,
   "metadata": {},
   "outputs": [],
   "source": []
  },
  {
   "cell_type": "code",
   "execution_count": 24,
   "metadata": {
    "scrolled": true
   },
   "outputs": [
    {
     "data": {
      "text/plain": [
       "array([1, 1, 1, 1, 1, 1, 1, 1, 1, 1, 1, 1, 1, 1, 1, 1, 1, 1, 1, 1, 1, 1,\n",
       "       1, 1, 1, 1, 1, 1, 1, 1, 1, 1, 1, 1, 1, 1, 1, 1, 1, 1, 1, 1, 1, 1,\n",
       "       1, 1, 1, 1, 1, 1, 1, 1, 1, 1, 1, 1, 1, 1, 1, 1, 1, 1, 1, 1, 1, 1,\n",
       "       1, 1, 1, 1, 1, 1, 1, 1, 1, 1, 1, 1, 1, 1, 1, 1, 1, 1, 1, 1, 1, 1,\n",
       "       1, 1, 1, 1, 1, 1, 1, 1, 1, 1, 1, 1, 1, 1, 1, 1, 1, 1, 1, 1, 1, 1,\n",
       "       1, 1, 1, 1, 1, 1, 1, 1, 1, 1, 1, 1, 1, 1, 1, 1, 1, 1, 1, 1, 1, 1,\n",
       "       1, 1, 1, 1, 1, 1, 1, 1, 1, 1, 1, 1, 2, 2, 2, 2, 2, 2, 2, 2, 2, 2,\n",
       "       2, 2, 2, 2, 2, 2, 2, 2, 2, 2, 2, 2, 2, 2, 2, 2, 2, 2, 2, 2, 2, 2,\n",
       "       2, 2, 2, 2, 2, 2, 2, 2, 2, 2, 2, 2, 2, 2, 2, 2, 2, 2, 2, 2, 2, 2,\n",
       "       2, 2, 2, 2, 2, 2, 2, 2, 2, 2, 2, 2, 2, 2, 2, 2, 2, 2, 2, 2, 2, 2,\n",
       "       2, 2, 2, 2, 2, 2, 2, 2, 2, 2, 2, 2, 2, 2, 2, 2, 2, 2, 2, 2, 2, 2,\n",
       "       2, 2, 2, 2, 2, 2, 2, 2, 2, 2, 2, 2, 2, 2, 2, 2, 2, 2, 2, 2, 2, 2,\n",
       "       2, 2, 2, 2, 2, 2, 2, 2, 2, 2, 2, 2, 2, 2, 2, 2, 2, 2, 2, 2, 2, 2,\n",
       "       2, 2, 2, 2, 2, 2, 2, 2, 2, 2, 2, 2, 2, 2, 2, 2, 2, 2, 2, 2, 2, 2,\n",
       "       2, 2, 2, 2, 2, 2, 2, 2, 2, 2, 2, 2, 2, 2, 2, 2, 2, 2, 2, 2, 2, 2,\n",
       "       2, 2, 0, 0, 0, 0, 0, 0, 0, 0, 0, 0, 0, 0, 0, 0, 0, 0, 0, 0, 0, 0,\n",
       "       0, 0, 0, 0, 0, 0, 0, 0, 0, 0, 0, 0, 0, 0, 0, 0, 0, 0, 0, 0, 0, 0,\n",
       "       0, 0, 0, 0, 0, 0, 0, 0, 0, 0, 0, 0, 0, 0, 0, 0, 0, 0, 0, 0, 0, 0,\n",
       "       0, 0, 0, 0, 0, 0, 0, 0, 0, 0, 0, 0, 0, 0, 0, 0, 0, 0, 0, 0, 0, 0,\n",
       "       0, 0, 0, 0, 0, 0, 0, 0, 0, 0, 0, 0, 0, 0, 0, 0, 0, 0, 0, 0, 0, 0,\n",
       "       0, 0, 0, 0, 0, 0, 0, 0, 0, 0, 0, 0, 0, 0, 0, 0, 3, 3, 3, 3, 3, 3,\n",
       "       3, 3, 3, 3, 3, 3, 3, 3, 3, 3, 3, 3, 3, 3, 3, 3, 3, 3, 3, 3, 3, 3,\n",
       "       3, 3, 3, 3, 3, 3, 3, 3, 3, 3, 3, 3, 3, 3, 3, 3, 3, 3, 3, 3, 3, 3,\n",
       "       3, 3, 3, 3, 3, 3, 3, 3, 3, 3, 3, 3, 3, 3, 3, 3, 3, 3, 3, 3, 3, 3,\n",
       "       3, 3, 3, 3, 3, 3, 3, 3, 3, 3, 3, 3, 3, 3, 3, 3, 3, 3, 3, 3, 3, 3,\n",
       "       3, 3, 3, 3, 3, 3, 3, 3, 3, 3, 3, 3, 3, 3, 3, 3, 3, 3, 3, 3, 3, 3])"
      ]
     },
     "execution_count": 24,
     "metadata": {},
     "output_type": "execute_result"
    }
   ],
   "source": [
    "# Y = np.expand_dims(Y, axis=0)\n",
    "# Y= Y.T\n",
    "Y"
   ]
  },
  {
   "cell_type": "code",
   "execution_count": 84,
   "metadata": {},
   "outputs": [
    {
     "data": {
      "text/plain": [
       "(array([[[ 4.85883785e-01,  3.14333677e-01, -8.37622702e-01, ...,\n",
       "           6.77580535e-01, -2.49025412e-03,  0.00000000e+00],\n",
       "         [ 4.85945836e-01,  3.14508051e-01, -8.91162157e-01, ...,\n",
       "           6.86340570e-01, -9.96818882e-04,  0.00000000e+00],\n",
       "         [ 4.85962494e-01,  3.14525247e-01, -9.13868308e-01, ...,\n",
       "           6.92386508e-01, -7.96751177e-04,  0.00000000e+00],\n",
       "         ...,\n",
       "         [ 0.00000000e+00,  0.00000000e+00,  0.00000000e+00, ...,\n",
       "           0.00000000e+00,  0.00000000e+00,  0.00000000e+00],\n",
       "         [ 0.00000000e+00,  0.00000000e+00,  0.00000000e+00, ...,\n",
       "           0.00000000e+00,  0.00000000e+00,  0.00000000e+00],\n",
       "         [ 0.00000000e+00,  0.00000000e+00,  0.00000000e+00, ...,\n",
       "           0.00000000e+00,  0.00000000e+00,  0.00000000e+00]],\n",
       " \n",
       "        [[ 2.70950828e-02, -7.57456780e-01, -6.52825356e-01, ...,\n",
       "           1.81717188e-01, -2.50094254e-02,  0.00000000e+00],\n",
       "         [ 2.42124753e-02, -7.52006778e-01, -5.87149799e-01, ...,\n",
       "           1.51469481e-01, -2.12708488e-02,  0.00000000e+00],\n",
       "         [ 2.39878061e-02, -7.54556839e-01, -6.05028808e-01, ...,\n",
       "           1.49084562e-01, -2.16075499e-02,  0.00000000e+00],\n",
       "         ...,\n",
       "         [ 0.00000000e+00,  0.00000000e+00,  0.00000000e+00, ...,\n",
       "           0.00000000e+00,  0.00000000e+00,  0.00000000e+00],\n",
       "         [ 0.00000000e+00,  0.00000000e+00,  0.00000000e+00, ...,\n",
       "           0.00000000e+00,  0.00000000e+00,  0.00000000e+00],\n",
       "         [ 0.00000000e+00,  0.00000000e+00,  0.00000000e+00, ...,\n",
       "           0.00000000e+00,  0.00000000e+00,  0.00000000e+00]],\n",
       " \n",
       "        [[ 5.46935624e-03, -5.57374540e-01, -7.44572103e-01, ...,\n",
       "           7.01394020e-02, -1.65055990e-02,  0.00000000e+00],\n",
       "         [ 6.12474366e-03, -5.57361665e-01, -7.61987269e-01, ...,\n",
       "           7.14491866e-02, -1.22741545e-02,  0.00000000e+00],\n",
       "         [ 6.22401438e-03, -5.57295177e-01, -7.66946793e-01, ...,\n",
       "           7.12108568e-02, -1.52375065e-02,  0.00000000e+00],\n",
       "         ...,\n",
       "         [ 0.00000000e+00,  0.00000000e+00,  0.00000000e+00, ...,\n",
       "           0.00000000e+00,  0.00000000e+00,  0.00000000e+00],\n",
       "         [ 0.00000000e+00,  0.00000000e+00,  0.00000000e+00, ...,\n",
       "           0.00000000e+00,  0.00000000e+00,  0.00000000e+00],\n",
       "         [ 0.00000000e+00,  0.00000000e+00,  0.00000000e+00, ...,\n",
       "           0.00000000e+00,  0.00000000e+00,  0.00000000e+00]],\n",
       " \n",
       "        ...,\n",
       " \n",
       "        [[-4.68979763e-01, -3.10809967e-01, -1.14473546e+00, ...,\n",
       "          -5.41258690e-01,  0.00000000e+00,  0.00000000e+00],\n",
       "         [-4.75583980e-01, -3.54049612e-01, -9.45170224e-01, ...,\n",
       "          -5.85430283e-01,  0.00000000e+00,  0.00000000e+00],\n",
       "         [-4.87005928e-01, -3.49272754e-01, -1.12432170e+00, ...,\n",
       "          -5.81253972e-01,  0.00000000e+00,  0.00000000e+00],\n",
       "         ...,\n",
       "         [ 0.00000000e+00,  0.00000000e+00,  0.00000000e+00, ...,\n",
       "           0.00000000e+00,  0.00000000e+00,  0.00000000e+00],\n",
       "         [ 0.00000000e+00,  0.00000000e+00,  0.00000000e+00, ...,\n",
       "           0.00000000e+00,  0.00000000e+00,  0.00000000e+00],\n",
       "         [ 0.00000000e+00,  0.00000000e+00,  0.00000000e+00, ...,\n",
       "           0.00000000e+00,  0.00000000e+00,  0.00000000e+00]],\n",
       " \n",
       "        [[-3.28501307e-01, -1.05779974e-01, -1.14473546e+00, ...,\n",
       "          -3.56810346e-01,  0.00000000e+00,  0.00000000e+00],\n",
       "         [-3.33898800e-01, -1.52881403e-01, -9.45170224e-01, ...,\n",
       "          -4.04926957e-01,  0.00000000e+00,  0.00000000e+00],\n",
       "         [-3.47462725e-01, -1.47677919e-01, -1.12432170e+00, ...,\n",
       "          -4.00377654e-01,  0.00000000e+00,  0.00000000e+00],\n",
       "         ...,\n",
       "         [ 0.00000000e+00,  0.00000000e+00,  0.00000000e+00, ...,\n",
       "           0.00000000e+00,  0.00000000e+00,  0.00000000e+00],\n",
       "         [ 0.00000000e+00,  0.00000000e+00,  0.00000000e+00, ...,\n",
       "           0.00000000e+00,  0.00000000e+00,  0.00000000e+00],\n",
       "         [ 0.00000000e+00,  0.00000000e+00,  0.00000000e+00, ...,\n",
       "           0.00000000e+00,  0.00000000e+00,  0.00000000e+00]],\n",
       " \n",
       "        [[-6.51745634e-01, -7.18546440e-01, -4.26661640e-01, ...,\n",
       "          -3.96099026e-01, -4.94626574e-02,  0.00000000e+00],\n",
       "         [-6.51499572e-01, -7.26407406e-01, -4.92501438e-01, ...,\n",
       "          -3.91672696e-01, -5.68645597e-02,  0.00000000e+00],\n",
       "         [-6.51294986e-01, -7.29496539e-01, -4.78001267e-01, ...,\n",
       "          -3.97803050e-01, -5.96583448e-02,  0.00000000e+00],\n",
       "         ...,\n",
       "         [ 0.00000000e+00,  0.00000000e+00,  0.00000000e+00, ...,\n",
       "           0.00000000e+00,  0.00000000e+00,  0.00000000e+00],\n",
       "         [ 0.00000000e+00,  0.00000000e+00,  0.00000000e+00, ...,\n",
       "           0.00000000e+00,  0.00000000e+00,  0.00000000e+00],\n",
       "         [ 0.00000000e+00,  0.00000000e+00,  0.00000000e+00, ...,\n",
       "           0.00000000e+00,  0.00000000e+00,  0.00000000e+00]]]),\n",
       " array([1, 0, 3, ..., 3, 3, 1]))"
      ]
     },
     "execution_count": 84,
     "metadata": {},
     "output_type": "execute_result"
    }
   ],
   "source": [
    "# shuffle data\n",
    "from sklearn.utils import shuffle\n",
    "\n",
    "X_train,Y_train = shuffle(X_train, Y_train, random_state=0)\n",
    "X_val,Y_val = shuffle(X_test, Y_test, random_state=0)\n",
    "X_train, Y_train"
   ]
  },
  {
   "cell_type": "code",
   "execution_count": 85,
   "metadata": {},
   "outputs": [
    {
     "data": {
      "text/plain": [
       "((11060, 211, 300), (11060,))"
      ]
     },
     "execution_count": 85,
     "metadata": {},
     "output_type": "execute_result"
    }
   ],
   "source": [
    "X_train.shape, Y_train.shape"
   ]
  },
  {
   "cell_type": "code",
   "execution_count": 86,
   "metadata": {},
   "outputs": [],
   "source": [
    "x_shape = X_train.shape"
   ]
  },
  {
   "cell_type": "code",
   "execution_count": 87,
   "metadata": {},
   "outputs": [
    {
     "data": {
      "text/plain": [
       "(11060, 211)"
      ]
     },
     "execution_count": 87,
     "metadata": {},
     "output_type": "execute_result"
    }
   ],
   "source": [
    "from tensorflow.keras import layers\n",
    "masking_input = []\n",
    "for i in range(x_shape[0]):\n",
    "    masking_input.append(X_train[i].T[0])\n",
    "\n",
    "masking_input = np.array(masking_input)\n",
    "\n",
    "masking_input.shape"
   ]
  },
  {
   "cell_type": "code",
   "execution_count": 20,
   "metadata": {},
   "outputs": [
    {
     "name": "stderr",
     "output_type": "stream",
     "text": [
      "2023-04-21 00:13:36.221629: I tensorflow/core/common_runtime/pluggable_device/pluggable_device_factory.cc:305] Could not identify NUMA node of platform GPU ID 0, defaulting to 0. Your kernel may not have been built with NUMA support.\n",
      "2023-04-21 00:13:36.222041: I tensorflow/core/common_runtime/pluggable_device/pluggable_device_factory.cc:271] Created TensorFlow device (/job:localhost/replica:0/task:0/device:GPU:0 with 0 MB memory) -> physical PluggableDevice (device: 0, name: METAL, pci bus id: <undefined>)\n"
     ]
    },
    {
     "name": "stdout",
     "output_type": "stream",
     "text": [
      "Metal device set to: Apple M1\n",
      "\n",
      "systemMemory: 16.00 GB\n",
      "maxCacheSize: 5.33 GB\n",
      "\n",
      "tf.Tensor(\n",
      "[[ True  True  True ... False False False]\n",
      " [ True  True  True ... False False False]\n",
      " [ True  True  True ... False False False]\n",
      " ...\n",
      " [ True  True  True ... False False False]\n",
      " [ True  True  True ... False False False]\n",
      " [ True  True  True ... False False False]], shape=(457, 211), dtype=bool)\n"
     ]
    },
    {
     "data": {
      "text/plain": [
       "<tf.Tensor: shape=(457, 211, 211), dtype=float32, numpy=\n",
       "array([[[ 0.04668217,  0.04604015,  0.01552759, ...,  0.0464903 ,\n",
       "         -0.01109668, -0.01088526],\n",
       "        [ 0.04668217,  0.04604015,  0.01552759, ...,  0.0464903 ,\n",
       "         -0.01109668, -0.01088526],\n",
       "        [ 0.04668217,  0.04604015,  0.01552759, ...,  0.0464903 ,\n",
       "         -0.01109668, -0.01088526],\n",
       "        ...,\n",
       "        [ 0.04668217,  0.04604015,  0.01552759, ...,  0.0464903 ,\n",
       "         -0.01109668, -0.01088526],\n",
       "        [ 0.04668217,  0.04604015,  0.01552759, ...,  0.0464903 ,\n",
       "         -0.01109668, -0.01088526],\n",
       "        [ 0.04668217,  0.04604015,  0.01552759, ...,  0.0464903 ,\n",
       "         -0.01109668, -0.01088526]],\n",
       "\n",
       "       [[ 0.04668217,  0.04604015,  0.01552759, ...,  0.0464903 ,\n",
       "         -0.01109668, -0.01088526],\n",
       "        [ 0.04668217,  0.04604015,  0.01552759, ...,  0.0464903 ,\n",
       "         -0.01109668, -0.01088526],\n",
       "        [ 0.04668217,  0.04604015,  0.01552759, ...,  0.0464903 ,\n",
       "         -0.01109668, -0.01088526],\n",
       "        ...,\n",
       "        [ 0.04668217,  0.04604015,  0.01552759, ...,  0.0464903 ,\n",
       "         -0.01109668, -0.01088526],\n",
       "        [ 0.04668217,  0.04604015,  0.01552759, ...,  0.0464903 ,\n",
       "         -0.01109668, -0.01088526],\n",
       "        [ 0.04668217,  0.04604015,  0.01552759, ...,  0.0464903 ,\n",
       "         -0.01109668, -0.01088526]],\n",
       "\n",
       "       [[ 0.04668217,  0.04604015,  0.01552759, ...,  0.0464903 ,\n",
       "         -0.01109668, -0.01088526],\n",
       "        [ 0.04668217,  0.04604015,  0.01552759, ...,  0.0464903 ,\n",
       "         -0.01109668, -0.01088526],\n",
       "        [ 0.04668217,  0.04604015,  0.01552759, ...,  0.0464903 ,\n",
       "         -0.01109668, -0.01088526],\n",
       "        ...,\n",
       "        [ 0.04668217,  0.04604015,  0.01552759, ...,  0.0464903 ,\n",
       "         -0.01109668, -0.01088526],\n",
       "        [ 0.04668217,  0.04604015,  0.01552759, ...,  0.0464903 ,\n",
       "         -0.01109668, -0.01088526],\n",
       "        [ 0.04668217,  0.04604015,  0.01552759, ...,  0.0464903 ,\n",
       "         -0.01109668, -0.01088526]],\n",
       "\n",
       "       ...,\n",
       "\n",
       "       [[ 0.04668217,  0.04604015,  0.01552759, ...,  0.0464903 ,\n",
       "         -0.01109668, -0.01088526],\n",
       "        [ 0.04668217,  0.04604015,  0.01552759, ...,  0.0464903 ,\n",
       "         -0.01109668, -0.01088526],\n",
       "        [ 0.04668217,  0.04604015,  0.01552759, ...,  0.0464903 ,\n",
       "         -0.01109668, -0.01088526],\n",
       "        ...,\n",
       "        [ 0.04668217,  0.04604015,  0.01552759, ...,  0.0464903 ,\n",
       "         -0.01109668, -0.01088526],\n",
       "        [ 0.04668217,  0.04604015,  0.01552759, ...,  0.0464903 ,\n",
       "         -0.01109668, -0.01088526],\n",
       "        [ 0.04668217,  0.04604015,  0.01552759, ...,  0.0464903 ,\n",
       "         -0.01109668, -0.01088526]],\n",
       "\n",
       "       [[ 0.04668217,  0.04604015,  0.01552759, ...,  0.0464903 ,\n",
       "         -0.01109668, -0.01088526],\n",
       "        [ 0.04668217,  0.04604015,  0.01552759, ...,  0.0464903 ,\n",
       "         -0.01109668, -0.01088526],\n",
       "        [ 0.04668217,  0.04604015,  0.01552759, ...,  0.0464903 ,\n",
       "         -0.01109668, -0.01088526],\n",
       "        ...,\n",
       "        [ 0.04668217,  0.04604015,  0.01552759, ...,  0.0464903 ,\n",
       "         -0.01109668, -0.01088526],\n",
       "        [ 0.04668217,  0.04604015,  0.01552759, ...,  0.0464903 ,\n",
       "         -0.01109668, -0.01088526],\n",
       "        [ 0.04668217,  0.04604015,  0.01552759, ...,  0.0464903 ,\n",
       "         -0.01109668, -0.01088526]],\n",
       "\n",
       "       [[ 0.04668217,  0.04604015,  0.01552759, ...,  0.0464903 ,\n",
       "         -0.01109668, -0.01088526],\n",
       "        [ 0.04668217,  0.04604015,  0.01552759, ...,  0.0464903 ,\n",
       "         -0.01109668, -0.01088526],\n",
       "        [ 0.04668217,  0.04604015,  0.01552759, ...,  0.0464903 ,\n",
       "         -0.01109668, -0.01088526],\n",
       "        ...,\n",
       "        [ 0.04668217,  0.04604015,  0.01552759, ...,  0.0464903 ,\n",
       "         -0.01109668, -0.01088526],\n",
       "        [ 0.04668217,  0.04604015,  0.01552759, ...,  0.0464903 ,\n",
       "         -0.01109668, -0.01088526],\n",
       "        [ 0.04668217,  0.04604015,  0.01552759, ...,  0.0464903 ,\n",
       "         -0.01109668, -0.01088526]]], dtype=float32)>"
      ]
     },
     "execution_count": 20,
     "metadata": {},
     "output_type": "execute_result"
    }
   ],
   "source": [
    "embedding = layers.Embedding(input_dim=x_shape[1], output_dim=x_shape[1], mask_zero=True)\n",
    "masked_output = embedding(masking_input)\n",
    "\n",
    "print(masked_output._keras_mask)\n",
    "masked_output\n",
    "# masking_layer = layers.Masking()\n",
    "# # Simulate the embedding lookup by expanding the 2D input to 3D,\n",
    "# # with embedding dimension of 10.\n",
    "# unmasked_embedding = tf.cast(\n",
    "#     tf.tile(tf.expand_dims(padded_inputs, axis=-1), [1, 1, 10]), tf.float32\n",
    "# )\n",
    "\n",
    "# masked_embedding = masking_layer(unmasked_embedding)\n",
    "# print(masked_embedding._keras_mask)"
   ]
  },
  {
   "cell_type": "code",
   "execution_count": 90,
   "metadata": {},
   "outputs": [
    {
     "name": "stdout",
     "output_type": "stream",
     "text": [
      "Model: \"model_1\"\n",
      "_________________________________________________________________\n",
      " Layer (type)                Output Shape              Param #   \n",
      "=================================================================\n",
      " input_2 (InputLayer)        [(None, 211, 300)]        0         \n",
      "                                                                 \n",
      " masking_1 (Masking)         (None, 211, 300)          0         \n",
      "                                                                 \n",
      " lstm_2 (LSTM)               (None, 211, 64)           93440     \n",
      "                                                                 \n",
      " lstm_3 (LSTM)               (None, 32)                12416     \n",
      "                                                                 \n",
      " dense_2 (Dense)             (None, 64)                2112      \n",
      "                                                                 \n",
      " dense_3 (Dense)             (None, 4)                 260       \n",
      "                                                                 \n",
      "=================================================================\n",
      "Total params: 108,228\n",
      "Trainable params: 108,228\n",
      "Non-trainable params: 0\n",
      "_________________________________________________________________\n"
     ]
    }
   ],
   "source": [
    "#LSTM model \n",
    "from tensorflow.keras import layers\n",
    "x_shape = (457, 211, 300)\n",
    "inputs = layers.Input(shape=(x_shape[1], x_shape[2]))\n",
    "x = layers.Masking(mask_value=0, input_shape=(x_shape[1], x_shape[2]))(inputs)\n",
    "#return_sequences makes so that we can stack lstm layers together. Since the input shape of lstm is different\n",
    "x = layers.LSTM(64, return_sequences = True)(x)\n",
    "x = layers.LSTM(32, return_sequences = True)(x)\n",
    "x = layers.Dense(64)(x)\n",
    "# x = layers.MaxPool2D()(x)\n",
    "outputs = layers.Dense(4, activation=\"softmax\")(x)\n",
    "\n",
    "model_lstm = tf.keras.Model(inputs, outputs)\n",
    "model_lstm.summary()"
   ]
  },
  {
   "cell_type": "code",
   "execution_count": 92,
   "metadata": {},
   "outputs": [
    {
     "name": "stdout",
     "output_type": "stream",
     "text": [
      "Epoch 1/50\n"
     ]
    },
    {
     "name": "stderr",
     "output_type": "stream",
     "text": [
      "2023-05-16 07:19:40.722082: I tensorflow/core/grappler/optimizers/custom_graph_optimizer_registry.cc:113] Plugin optimizer for device_type GPU is enabled.\n",
      "2023-05-16 07:19:42.567144: I tensorflow/core/grappler/optimizers/custom_graph_optimizer_registry.cc:113] Plugin optimizer for device_type GPU is enabled.\n",
      "2023-05-16 07:19:48.025183: I tensorflow/core/grappler/optimizers/custom_graph_optimizer_registry.cc:113] Plugin optimizer for device_type GPU is enabled.\n",
      "2023-05-16 07:19:53.578057: I tensorflow/core/grappler/optimizers/custom_graph_optimizer_registry.cc:113] Plugin optimizer for device_type GPU is enabled.\n",
      "2023-05-16 07:21:11.596147: I tensorflow/core/grappler/optimizers/custom_graph_optimizer_registry.cc:113] Plugin optimizer for device_type GPU is enabled.\n"
     ]
    },
    {
     "name": "stdout",
     "output_type": "stream",
     "text": [
      " 10/346 [..............................] - ETA: 3:22 - loss: 1.3942 - accuracy: 0.2594"
     ]
    }
   ],
   "source": [
    "model_lstm.compile(loss='sparse_categorical_crossentropy', optimizer='adam', metrics=['accuracy'])\n",
    "model_lstm.fit(X_train, Y_train, epochs=50, validation_data=(X_val, Y_val))"
   ]
  },
  {
   "cell_type": "code",
   "execution_count": 47,
   "metadata": {},
   "outputs": [
    {
     "data": {
      "text/plain": [
       "<tf.Tensor: shape=(211, 300), dtype=bool, numpy=\n",
       "array([[ True,  True, False, ...,  True, False, False],\n",
       "       [ True,  True, False, ...,  True, False, False],\n",
       "       [ True,  True, False, ...,  True, False, False],\n",
       "       ...,\n",
       "       [False, False, False, ..., False, False, False],\n",
       "       [False, False, False, ..., False, False, False],\n",
       "       [False, False, False, ..., False, False, False]])>"
      ]
     },
     "execution_count": 47,
     "metadata": {},
     "output_type": "execute_result"
    }
   ],
   "source": [
    "def get_mask_from_lengths(data):  #2d list\n",
    "    ids = tf.zeros(shape=(x_shape[1], x_shape[2]))\n",
    "    all_zeros = ids < data\n",
    "    mask_list = []\n",
    "    for i in range()\n",
    "    return mask\n",
    "\n",
    "get_mask_from_lengths(X_train)[0]"
   ]
  },
  {
   "cell_type": "code",
   "execution_count": 48,
   "metadata": {},
   "outputs": [
    {
     "name": "stdout",
     "output_type": "stream",
     "text": [
      "Model: \"model_3\"\n",
      "_________________________________________________________________\n",
      " Layer (type)                Output Shape              Param #   \n",
      "=================================================================\n",
      " input_7 (InputLayer)        [(None, 211, 300)]        0         \n",
      "                                                                 \n",
      " gru (GRU)                   (114, 64)                 70272     \n",
      "                                                                 \n",
      " dense_3 (Dense)             (114, 4)                  260       \n",
      "                                                                 \n",
      "=================================================================\n",
      "Total params: 70,532\n",
      "Trainable params: 70,532\n",
      "Non-trainable params: 0\n",
      "_________________________________________________________________\n"
     ]
    }
   ],
   "source": [
    "inputs = layers.Input(shape=(x_shape[1], x_shape[2]))\n",
    "x = layers.GRU(64)(inputs, mask=masked_output._keras_mask)\n",
    "# x = layers.LSTM(64)(x)\n",
    "outputs = layers.Dense(4, activation=\"softmax\")(x)\n",
    "model_lstm2= tf.keras.Model(inputs, outputs)\n",
    "model_lstm2.summary()"
   ]
  },
  {
   "cell_type": "code",
   "execution_count": 49,
   "metadata": {},
   "outputs": [
    {
     "name": "stdout",
     "output_type": "stream",
     "text": [
      "Epoch 1/5\n"
     ]
    },
    {
     "name": "stderr",
     "output_type": "stream",
     "text": [
      "2023-03-25 16:08:52.820913: I tensorflow/core/grappler/optimizers/custom_graph_optimizer_registry.cc:113] Plugin optimizer for device_type GPU is enabled.\n",
      "2023-03-25 16:08:53.187428: I tensorflow/core/grappler/optimizers/custom_graph_optimizer_registry.cc:113] Plugin optimizer for device_type GPU is enabled.\n"
     ]
    },
    {
     "ename": "CancelledError",
     "evalue": "Graph execution error:\n\nRecvAsync is cancelled.\n\t [[{{node model_3/dense_3/Softmax/_20}}]] [Op:__inference_train_function_36100]",
     "output_type": "error",
     "traceback": [
      "\u001b[0;31m---------------------------------------------------------------------------\u001b[0m",
      "\u001b[0;31mCancelledError\u001b[0m                            Traceback (most recent call last)",
      "Cell \u001b[0;32mIn[49], line 2\u001b[0m\n\u001b[1;32m      1\u001b[0m model_lstm2\u001b[39m.\u001b[39mcompile(loss\u001b[39m=\u001b[39m\u001b[39m'\u001b[39m\u001b[39msparse_categorical_crossentropy\u001b[39m\u001b[39m'\u001b[39m, optimizer\u001b[39m=\u001b[39m\u001b[39m'\u001b[39m\u001b[39madam\u001b[39m\u001b[39m'\u001b[39m, metrics\u001b[39m=\u001b[39m[\u001b[39m'\u001b[39m\u001b[39maccuracy\u001b[39m\u001b[39m'\u001b[39m])\n\u001b[0;32m----> 2\u001b[0m model_lstm2\u001b[39m.\u001b[39;49mfit(X_train, y_train, epochs\u001b[39m=\u001b[39;49m\u001b[39m5\u001b[39;49m, validation_data\u001b[39m=\u001b[39;49m(X_test, y_test))\n",
      "File \u001b[0;32m~/opt/miniconda3/envs/asl-converter/lib/python3.8/site-packages/keras/utils/traceback_utils.py:67\u001b[0m, in \u001b[0;36mfilter_traceback.<locals>.error_handler\u001b[0;34m(*args, **kwargs)\u001b[0m\n\u001b[1;32m     65\u001b[0m \u001b[39mexcept\u001b[39;00m \u001b[39mException\u001b[39;00m \u001b[39mas\u001b[39;00m e:  \u001b[39m# pylint: disable=broad-except\u001b[39;00m\n\u001b[1;32m     66\u001b[0m   filtered_tb \u001b[39m=\u001b[39m _process_traceback_frames(e\u001b[39m.\u001b[39m__traceback__)\n\u001b[0;32m---> 67\u001b[0m   \u001b[39mraise\u001b[39;00m e\u001b[39m.\u001b[39mwith_traceback(filtered_tb) \u001b[39mfrom\u001b[39;00m \u001b[39mNone\u001b[39m\n\u001b[1;32m     68\u001b[0m \u001b[39mfinally\u001b[39;00m:\n\u001b[1;32m     69\u001b[0m   \u001b[39mdel\u001b[39;00m filtered_tb\n",
      "File \u001b[0;32m~/opt/miniconda3/envs/asl-converter/lib/python3.8/site-packages/tensorflow/python/eager/execute.py:54\u001b[0m, in \u001b[0;36mquick_execute\u001b[0;34m(op_name, num_outputs, inputs, attrs, ctx, name)\u001b[0m\n\u001b[1;32m     52\u001b[0m \u001b[39mtry\u001b[39;00m:\n\u001b[1;32m     53\u001b[0m   ctx\u001b[39m.\u001b[39mensure_initialized()\n\u001b[0;32m---> 54\u001b[0m   tensors \u001b[39m=\u001b[39m pywrap_tfe\u001b[39m.\u001b[39mTFE_Py_Execute(ctx\u001b[39m.\u001b[39m_handle, device_name, op_name,\n\u001b[1;32m     55\u001b[0m                                       inputs, attrs, num_outputs)\n\u001b[1;32m     56\u001b[0m \u001b[39mexcept\u001b[39;00m core\u001b[39m.\u001b[39m_NotOkStatusException \u001b[39mas\u001b[39;00m e:\n\u001b[1;32m     57\u001b[0m   \u001b[39mif\u001b[39;00m name \u001b[39mis\u001b[39;00m \u001b[39mnot\u001b[39;00m \u001b[39mNone\u001b[39;00m:\n",
      "\u001b[0;31mCancelledError\u001b[0m: Graph execution error:\n\nRecvAsync is cancelled.\n\t [[{{node model_3/dense_3/Softmax/_20}}]] [Op:__inference_train_function_36100]"
     ]
    }
   ],
   "source": [
    "model_lstm2.compile(loss='sparse_categorical_crossentropy', optimizer='adam', metrics=['accuracy'])\n",
    "model_lstm2.fit(X_train, y_train, epochs=5, validation_data=(X_test, y_test))"
   ]
  },
  {
   "cell_type": "code",
   "execution_count": 1,
   "metadata": {},
   "outputs": [
    {
     "name": "stdout",
     "output_type": "stream",
     "text": [
      "Metal device set to: Apple M1\n",
      "\n",
      "systemMemory: 16.00 GB\n",
      "maxCacheSize: 5.33 GB\n",
      "\n"
     ]
    },
    {
     "name": "stderr",
     "output_type": "stream",
     "text": [
      "2023-03-20 13:48:08.831618: I tensorflow/core/common_runtime/pluggable_device/pluggable_device_factory.cc:305] Could not identify NUMA node of platform GPU ID 0, defaulting to 0. Your kernel may not have been built with NUMA support.\n",
      "2023-03-20 13:48:08.831726: I tensorflow/core/common_runtime/pluggable_device/pluggable_device_factory.cc:271] Created TensorFlow device (/job:localhost/replica:0/task:0/device:GPU:0 with 0 MB memory) -> physical PluggableDevice (device: 0, name: METAL, pci bus id: <undefined>)\n"
     ]
    },
    {
     "ename": "NameError",
     "evalue": "name 'X_train' is not defined",
     "output_type": "error",
     "traceback": [
      "\u001b[0;31m---------------------------------------------------------------------------\u001b[0m",
      "\u001b[0;31mNameError\u001b[0m                                 Traceback (most recent call last)",
      "Cell \u001b[0;32mIn[1], line 5\u001b[0m\n\u001b[1;32m      2\u001b[0m \u001b[39mfrom\u001b[39;00m \u001b[39mtensorflow\u001b[39;00m\u001b[39m.\u001b[39;00m\u001b[39mkeras\u001b[39;00m\u001b[39m.\u001b[39;00m\u001b[39mlayers\u001b[39;00m \u001b[39mimport\u001b[39;00m LSTM, Dense, Dropout\n\u001b[1;32m      4\u001b[0m model \u001b[39m=\u001b[39m Sequential()\n\u001b[0;32m----> 5\u001b[0m model\u001b[39m.\u001b[39madd(LSTM(\u001b[39m64\u001b[39m, return_sequences\u001b[39m=\u001b[39m\u001b[39mTrue\u001b[39;00m, input_shape\u001b[39m=\u001b[39m(X_train\u001b[39m.\u001b[39mshape[\u001b[39m1\u001b[39m], X_train\u001b[39m.\u001b[39mshape[\u001b[39m2\u001b[39m])))\n\u001b[1;32m      6\u001b[0m model\u001b[39m.\u001b[39madd(Dropout(\u001b[39m0.2\u001b[39m))\n\u001b[1;32m      7\u001b[0m model\u001b[39m.\u001b[39madd(LSTM(\u001b[39m64\u001b[39m, return_sequences\u001b[39m=\u001b[39m\u001b[39mTrue\u001b[39;00m))\n",
      "\u001b[0;31mNameError\u001b[0m: name 'X_train' is not defined"
     ]
    }
   ],
   "source": [
    "from tensorflow.keras.models import Sequential\n",
    "from tensorflow.keras.layers import LSTM, Dense, Dropout\n",
    "\n",
    "model = Sequential()\n",
    "model.add(LSTM(64, return_sequences=True, input_shape=(X_train.shape[1], X_train.shape[2])))\n",
    "model.add(Dropout(0.2))\n",
    "model.add(LSTM(64, return_sequences=True))\n",
    "model.add(Dropout(0.2))\n",
    "model.add(LSTM(64))\n",
    "model.add(Dense(4, activation='softmax'))\n",
    "\n",
    "model.compile(loss='sparse_categorical_crossentropy', optimizer='adam', metrics=['accuracy'])\n",
    "\n",
    "\n"
   ]
  },
  {
   "cell_type": "code",
   "execution_count": 41,
   "metadata": {},
   "outputs": [
    {
     "name": "stdout",
     "output_type": "stream",
     "text": [
      "Model: \"sequential_11\"\n",
      "_________________________________________________________________\n",
      " Layer (type)                Output Shape              Param #   \n",
      "=================================================================\n",
      " lstm_33 (LSTM)              (None, 211, 64)           93440     \n",
      "                                                                 \n",
      " lstm_34 (LSTM)              (None, 32)                12416     \n",
      "                                                                 \n",
      " dense_7 (Dense)             (None, 4)                 132       \n",
      "                                                                 \n",
      "=================================================================\n",
      "Total params: 105,988\n",
      "Trainable params: 105,988\n",
      "Non-trainable params: 0\n",
      "_________________________________________________________________\n"
     ]
    }
   ],
   "source": [
    "from tensorflow.keras.losses import SparseCategoricalCrossentropy\n",
    "from tensorflow.keras.optimizers import Adam\n",
    "\n",
    "model.compile(loss=SparseCategoricalCrossentropy(), optimizer=Adam(), metrics=[\"accuracy\"])\n",
    "model.summary()"
   ]
  },
  {
   "cell_type": "code",
   "execution_count": 42,
   "metadata": {
    "scrolled": true
   },
   "outputs": [
    {
     "name": "stdout",
     "output_type": "stream",
     "text": [
      "Epoch 1/10\n"
     ]
    },
    {
     "name": "stderr",
     "output_type": "stream",
     "text": [
      "2023-03-18 02:36:51.372559: I tensorflow/core/grappler/optimizers/custom_graph_optimizer_registry.cc:113] Plugin optimizer for device_type GPU is enabled.\n",
      "2023-03-18 02:36:51.660659: I tensorflow/core/grappler/optimizers/custom_graph_optimizer_registry.cc:113] Plugin optimizer for device_type GPU is enabled.\n",
      "2023-03-18 02:36:51.934093: I tensorflow/core/grappler/optimizers/custom_graph_optimizer_registry.cc:113] Plugin optimizer for device_type GPU is enabled.\n",
      "2023-03-18 02:36:52.419899: I tensorflow/core/grappler/optimizers/custom_graph_optimizer_registry.cc:113] Plugin optimizer for device_type GPU is enabled.\n",
      "2023-03-18 02:36:53.015099: I tensorflow/core/grappler/optimizers/custom_graph_optimizer_registry.cc:113] Plugin optimizer for device_type GPU is enabled.\n"
     ]
    },
    {
     "name": "stdout",
     "output_type": "stream",
     "text": [
      "4/4 [==============================] - ETA: 0s - loss: 1.3853 - accuracy: 0.2353"
     ]
    },
    {
     "name": "stderr",
     "output_type": "stream",
     "text": [
      "2023-03-18 02:36:55.555320: I tensorflow/core/grappler/optimizers/custom_graph_optimizer_registry.cc:113] Plugin optimizer for device_type GPU is enabled.\n",
      "2023-03-18 02:36:55.667921: I tensorflow/core/grappler/optimizers/custom_graph_optimizer_registry.cc:113] Plugin optimizer for device_type GPU is enabled.\n",
      "2023-03-18 02:36:55.926320: I tensorflow/core/grappler/optimizers/custom_graph_optimizer_registry.cc:113] Plugin optimizer for device_type GPU is enabled.\n"
     ]
    },
    {
     "name": "stdout",
     "output_type": "stream",
     "text": [
      "4/4 [==============================] - 6s 863ms/step - loss: 1.3853 - accuracy: 0.2353 - val_loss: 1.3813 - val_accuracy: 0.3333\n",
      "Epoch 2/10\n",
      "4/4 [==============================] - 0s 108ms/step - loss: 1.3759 - accuracy: 0.3333 - val_loss: 1.3774 - val_accuracy: 0.3333\n",
      "Epoch 3/10\n",
      "4/4 [==============================] - 0s 99ms/step - loss: 1.3661 - accuracy: 0.3431 - val_loss: 1.3739 - val_accuracy: 0.3333\n",
      "Epoch 4/10\n",
      "4/4 [==============================] - 0s 101ms/step - loss: 1.3470 - accuracy: 0.3431 - val_loss: 1.3667 - val_accuracy: 0.3333\n",
      "Epoch 5/10\n",
      "4/4 [==============================] - 0s 101ms/step - loss: 1.3325 - accuracy: 0.3431 - val_loss: 1.3640 - val_accuracy: 0.3333\n",
      "Epoch 6/10\n",
      "4/4 [==============================] - 0s 101ms/step - loss: 1.3215 - accuracy: 0.3431 - val_loss: 1.4380 - val_accuracy: 0.3333\n",
      "Epoch 7/10\n",
      "4/4 [==============================] - 0s 102ms/step - loss: 1.2628 - accuracy: 0.4118 - val_loss: 2.1948 - val_accuracy: 0.1667\n",
      "Epoch 8/10\n",
      "4/4 [==============================] - 0s 99ms/step - loss: 1.5949 - accuracy: 0.2647 - val_loss: 1.4307 - val_accuracy: 0.3333\n",
      "Epoch 9/10\n",
      "4/4 [==============================] - 0s 101ms/step - loss: 1.2525 - accuracy: 0.3922 - val_loss: 1.3858 - val_accuracy: 0.3333\n",
      "Epoch 10/10\n",
      "4/4 [==============================] - 0s 101ms/step - loss: 1.2992 - accuracy: 0.3627 - val_loss: 1.3686 - val_accuracy: 0.3333\n"
     ]
    }
   ],
   "source": [
    "history = model.fit(X_train, y_train, epochs=50, batch_size=32, validation_split=0.2)"
   ]
  },
  {
   "cell_type": "code",
   "execution_count": 38,
   "metadata": {},
   "outputs": [],
   "source": [
    "x = np.array([[4], [2]])"
   ]
  },
  {
   "cell_type": "code",
   "execution_count": 41,
   "metadata": {},
   "outputs": [
    {
     "data": {
      "text/plain": [
       "(1, 2)"
      ]
     },
     "execution_count": 41,
     "metadata": {},
     "output_type": "execute_result"
    }
   ],
   "source": [
    "x.T.shape"
   ]
  },
  {
   "cell_type": "code",
   "execution_count": 42,
   "metadata": {},
   "outputs": [
    {
     "data": {
      "text/plain": [
       "array([[4, 2]])"
      ]
     },
     "execution_count": 42,
     "metadata": {},
     "output_type": "execute_result"
    }
   ],
   "source": [
    "x.T"
   ]
  },
  {
   "cell_type": "code",
   "execution_count": null,
   "metadata": {},
   "outputs": [],
   "source": []
  }
 ],
 "metadata": {
  "kernelspec": {
   "display_name": "Python 3 (ipykernel)",
   "language": "python",
   "name": "python3"
  },
  "language_info": {
   "codemirror_mode": {
    "name": "ipython",
    "version": 3
   },
   "file_extension": ".py",
   "mimetype": "text/x-python",
   "name": "python",
   "nbconvert_exporter": "python",
   "pygments_lexer": "ipython3",
   "version": "3.8.16"
  }
 },
 "nbformat": 4,
 "nbformat_minor": 2
}
