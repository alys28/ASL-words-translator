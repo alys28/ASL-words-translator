{
 "cells": [
  {
   "cell_type": "code",
   "execution_count": 32,
   "metadata": {},
   "outputs": [],
   "source": [
    "import os\n",
    "import numpy as np\n",
    "import matplotlib.pyplot as plt\n",
    "import pandas as pd\n",
    "import math"
   ]
  },
  {
   "cell_type": "code",
   "execution_count": 128,
   "metadata": {},
   "outputs": [],
   "source": [
    "\n",
    "def read_csv(file_path):\n",
    "    '''\n",
    "    Read CSV file and return data as numpy array\n",
    "    '''\n",
    "    df = pd.read_csv(file_path)\n",
    "    data = np.array(df,dtype=object)\n",
    "    data = data.astype(float)\n",
    "    return data"
   ]
  },
  {
   "cell_type": "code",
   "execution_count": 129,
   "metadata": {},
   "outputs": [
    {
     "data": {
      "text/plain": [
       "(16, 300)"
      ]
     },
     "execution_count": 129,
     "metadata": {},
     "output_type": "execute_result"
    }
   ],
   "source": [
    "data = read_csv(\"init_demo.csv\")\n",
    "data.shape"
   ]
  },
  {
   "cell_type": "code",
   "execution_count": 130,
   "metadata": {},
   "outputs": [
    {
     "data": {
      "text/plain": [
       "0.8602175712585449"
      ]
     },
     "execution_count": 130,
     "metadata": {},
     "output_type": "execute_result"
    }
   ],
   "source": [
    "def find_max(data, var):\n",
    "    current_max = 0\n",
    "    vars = {\"x\": 0, \"y\": 1, \"z\": 2}\n",
    "    for i in range(data.shape[0]):\n",
    "        frame = data[i]\n",
    "        frame = frame.reshape((-1, 4))\n",
    "        for j in range(frame.shape[0]):\n",
    "            if frame[j][vars[var]] > current_max:\n",
    "                current_max = frame[j][vars[var]]\n",
    "    \n",
    "    return current_max\n",
    "find_max(data, \"x\")"
   ]
  },
  {
   "cell_type": "code",
   "execution_count": 131,
   "metadata": {},
   "outputs": [],
   "source": [
    "def initialize_matrix_for_frame(data, idx, x_dim, y_dim):\n",
    "   \n",
    "    # create a matrix of all zeros\n",
    "    matrix = np.zeros((x_dim,y_dim))\n",
    "    # fill the matrix with random values\n",
    "    frame = data[idx]\n",
    "    frame = frame.reshape((-1, 4))\n",
    "    for j in range(len(frame)):\n",
    "        matrix[int(frame[j][0] * 1000)][int(frame[j][1] * 1000)] = j\n",
    "    return matrix"
   ]
  },
  {
   "cell_type": "code",
   "execution_count": 132,
   "metadata": {},
   "outputs": [
    {
     "ename": "TypeError",
     "evalue": "initialize_matrix_for_frame() missing 2 required positional arguments: 'x_dim' and 'y_dim'",
     "output_type": "error",
     "traceback": [
      "\u001b[0;31m---------------------------------------------------------------------------\u001b[0m",
      "\u001b[0;31mTypeError\u001b[0m                                 Traceback (most recent call last)",
      "Cell \u001b[0;32mIn[132], line 1\u001b[0m\n\u001b[0;32m----> 1\u001b[0m matrix \u001b[39m=\u001b[39m initialize_matrix_for_frame(data, \u001b[39m0\u001b[39;49m)\n",
      "\u001b[0;31mTypeError\u001b[0m: initialize_matrix_for_frame() missing 2 required positional arguments: 'x_dim' and 'y_dim'"
     ]
    }
   ],
   "source": [
    "matrix = initialize_matrix_for_frame(data, 0)"
   ]
  },
  {
   "cell_type": "code",
   "execution_count": 101,
   "metadata": {},
   "outputs": [
    {
     "data": {
      "image/png": "[encoded data removed]",
      "text/plain": [
       "<Figure size 640x480 with 1 Axes>"
      ]
     },
     "metadata": {},
     "output_type": "display_data"
    }
   ],
   "source": [
    "# plot the matrix\n",
    "coords = np.nonzero(matrix)\n",
    "\n",
    "# Plot the non-zero elements\n",
    "plt.scatter(coords[0], coords[1])\n",
    "\n",
    "# Set the x and y limits\n",
    "plt.xlim(0, matrix.shape[0])\n",
    "plt.ylim(0, matrix.shape[1])\n",
    "\n",
    "# Set the labels for the axes\n",
    "plt.xlabel('Row number')\n",
    "plt.ylabel('Column number')\n",
    "\n",
    "# Show the plot\n",
    "plt.show()"
   ]
  },
  {
   "cell_type": "code",
   "execution_count": 138,
   "metadata": {},
   "outputs": [],
   "source": [
    "def generate_tensor(data, sliding_window_size=10):\n",
    "    # check for max value in x and y, which will then be used for the shape of the matrix\n",
    "    max_x = find_max(data, \"x\") * 1000\n",
    "    max_y = find_max(data, \"y\") * 1000\n",
    "    x_dim = round(math.ceil(max_x/100)*100, -1)\n",
    "    y_dim = round(math.ceil(max_y/100)*100, -1)\n",
    "    \n",
    "    for i in range(len(data) - sliding_window_size + 1):\n",
    "        print(i, len(data) - sliding_window_size + 1)\n",
    "        tensor = np.zeros((sliding_window_size, x_dim,y_dim))\n",
    "        print(type(tensor))\n",
    "        for j in range(i, i + 10):\n",
    "            new_matrix = initialize_matrix_for_frame(data, j, x_dim, y_dim)\n",
    "            tensor[j-i] = new_matrix\n",
    "        yield tensor\n",
    "    "
   ]
  },
  {
   "cell_type": "code",
   "execution_count": 157,
   "metadata": {},
   "outputs": [
    {
     "name": "stdout",
     "output_type": "stream",
     "text": [
      "0 7\n",
      "<class 'numpy.ndarray'>\n"
     ]
    },
    {
     "data": {
      "text/plain": [
       "(10, 900, 2700)"
      ]
     },
     "execution_count": 157,
     "metadata": {},
     "output_type": "execute_result"
    }
   ],
   "source": [
    "tensor_gen = generate_tensor(data, sliding_window_size=10)\n",
    "tensor = next(tensor_gen)\n",
    "tensor.shape"
   ]
  },
  {
   "cell_type": "code",
   "execution_count": 135,
   "metadata": {},
   "outputs": [
    {
     "data": {
      "text/plain": [
       "array([[[1., 2., 3.],\n",
       "        [4., 5., 6.]],\n",
       "\n",
       "       [[0., 0., 0.],\n",
       "        [0., 0., 0.]]])"
      ]
     },
     "execution_count": 135,
     "metadata": {},
     "output_type": "execute_result"
    }
   ],
   "source": [
    "tensor = np.zeros((2,2,3))\n",
    "tensor[0]= [[1,2,3], [4,5,6]]\n",
    "tensor"
   ]
  },
  {
   "cell_type": "code",
   "execution_count": 73,
   "metadata": {},
   "outputs": [
    {
     "ename": "IndexError",
     "evalue": "invalid index to scalar variable.",
     "output_type": "error",
     "traceback": [
      "\u001b[0;31m---------------------------------------------------------------------------\u001b[0m",
      "\u001b[0;31mIndexError\u001b[0m                                Traceback (most recent call last)",
      "Cell \u001b[0;32mIn[73], line 1\u001b[0m\n\u001b[0;32m----> 1\u001b[0m \u001b[39mint\u001b[39m(data[\u001b[39m0\u001b[39;49m][\u001b[39m0\u001b[39;49m][\u001b[39m0\u001b[39;49m] \u001b[39m*\u001b[39m \u001b[39m1000\u001b[39m)\n",
      "\u001b[0;31mIndexError\u001b[0m: invalid index to scalar variable."
     ]
    }
   ],
   "source": [
    "int(data[0][0][0] * 1000)"
   ]
  }
 ],
 "metadata": {
  "kernelspec": {
   "display_name": "asl-converter",
   "language": "python",
   "name": "python3"
  },
  "language_info": {
   "codemirror_mode": {
    "name": "ipython",
    "version": 3
   },
   "file_extension": ".py",
   "mimetype": "text/x-python",
   "name": "python",
   "nbconvert_exporter": "python",
   "pygments_lexer": "ipython3",
   "version": "3.8.16"
  },
  "orig_nbformat": 4
 },
 "nbformat": 4,
 "nbformat_minor": 2
}
