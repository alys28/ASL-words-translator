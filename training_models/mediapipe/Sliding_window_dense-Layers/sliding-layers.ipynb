{
 "cells": [
  {
   "cell_type": "code",
   "execution_count": 3,
   "metadata": {},
   "outputs": [],
   "source": [
    "import os\n",
    "import numpy as np\n",
    "import matplotlib.pyplot as plt\n",
    "import pandas as pd\n",
    "import math"
   ]
  },
  {
   "cell_type": "code",
   "execution_count": 4,
   "metadata": {},
   "outputs": [],
   "source": [
    "\n",
    "def read_csv(file_path):\n",
    "    '''\n",
    "    Read CSV file and return data as numpy array\n",
    "    '''\n",
    "    df = pd.read_csv(file_path)\n",
    "    if \"class\" in list(df.columns.values):\n",
    "        df = df.drop(\"class\", axis=1)\n",
    "    data = np.array(df,dtype=object)\n",
    "    data = data.astype(float)\n",
    "    return data"
   ]
  },
  {
   "cell_type": "code",
   "execution_count": 5,
   "metadata": {},
   "outputs": [
    {
     "data": {
      "text/plain": [
       "(16, 300)"
      ]
     },
     "execution_count": 5,
     "metadata": {},
     "output_type": "execute_result"
    }
   ],
   "source": [
    "data = read_csv(\"init_demo.csv\")\n",
    "data.shape"
   ]
  },
  {
   "cell_type": "code",
   "execution_count": 6,
   "metadata": {},
   "outputs": [
    {
     "data": {
      "text/plain": [
       "0.8602175712585449"
      ]
     },
     "execution_count": 6,
     "metadata": {},
     "output_type": "execute_result"
    }
   ],
   "source": [
    "def find_max_for_one_file(data, var):\n",
    "    current_max = 0\n",
    "    vars = {\"x\": 0, \"y\": 1, \"z\": 2}\n",
    "    for i in range(data.shape[0]):\n",
    "        frame = data[i]\n",
    "        frame = frame.reshape((-1, 4))\n",
    "        for j in range(frame.shape[0]):\n",
    "            if frame[j][vars[var]] > current_max:\n",
    "                current_max = frame[j][vars[var]]\n",
    "    \n",
    "    return current_max\n",
    "find_max_for_one_file(data, \"x\")"
   ]
  },
  {
   "cell_type": "code",
   "execution_count": 7,
   "metadata": {},
   "outputs": [],
   "source": [
    "def initialize_matrix_for_frame(data, idx, x_dim, y_dim):\n",
    "   \n",
    "    # create a matrix of all zeros\n",
    "    matrix = np.zeros((x_dim,y_dim))\n",
    "    # fill the matrix with random values\n",
    "    frame = data[idx]\n",
    "    frame = frame.reshape((-1, 4))\n",
    "    for j in range(len(frame)):\n",
    "        matrix[int(frame[j][0] * 1000)][int(frame[j][1] * 1000)] = j\n",
    "    return matrix"
   ]
  },
  {
   "cell_type": "code",
   "execution_count": 132,
   "metadata": {},
   "outputs": [
    {
     "ename": "TypeError",
     "evalue": "initialize_matrix_for_frame() missing 2 required positional arguments: 'x_dim' and 'y_dim'",
     "output_type": "error",
     "traceback": [
      "\u001b[0;31m---------------------------------------------------------------------------\u001b[0m",
      "\u001b[0;31mTypeError\u001b[0m                                 Traceback (most recent call last)",
      "Cell \u001b[0;32mIn[132], line 1\u001b[0m\n\u001b[0;32m----> 1\u001b[0m matrix \u001b[39m=\u001b[39m initialize_matrix_for_frame(data, \u001b[39m0\u001b[39;49m)\n",
      "\u001b[0;31mTypeError\u001b[0m: initialize_matrix_for_frame() missing 2 required positional arguments: 'x_dim' and 'y_dim'"
     ]
    }
   ],
   "source": [
    "matrix = initialize_matrix_for_frame(data, 0)"
   ]
  },
  {
   "cell_type": "code",
   "execution_count": 8,
   "metadata": {},
   "outputs": [
    {
     "ename": "NameError",
     "evalue": "name 'matrix' is not defined",
     "output_type": "error",
     "traceback": [
      "\u001b[0;31m---------------------------------------------------------------------------\u001b[0m",
      "\u001b[0;31mNameError\u001b[0m                                 Traceback (most recent call last)",
      "Cell \u001b[0;32mIn[8], line 2\u001b[0m\n\u001b[1;32m      1\u001b[0m \u001b[39m# plot the matrix\u001b[39;00m\n\u001b[0;32m----> 2\u001b[0m coords \u001b[39m=\u001b[39m np\u001b[39m.\u001b[39mnonzero(matrix)\n\u001b[1;32m      4\u001b[0m \u001b[39m# Plot the non-zero elements\u001b[39;00m\n\u001b[1;32m      5\u001b[0m plt\u001b[39m.\u001b[39mscatter(coords[\u001b[39m0\u001b[39m], coords[\u001b[39m1\u001b[39m])\n",
      "\u001b[0;31mNameError\u001b[0m: name 'matrix' is not defined"
     ]
    }
   ],
   "source": [
    "# plot the matrix\n",
    "coords = np.nonzero(matrix)\n",
    "\n",
    "# Plot the non-zero elements\n",
    "plt.scatter(coords[0], coords[1])\n",
    "\n",
    "# Set the x and y limits\n",
    "plt.xlim(0, matrix.shape[0])\n",
    "plt.ylim(0, matrix.shape[1])\n",
    "\n",
    "# Set the labels for the axes\n",
    "plt.xlabel('Row number')\n",
    "plt.ylabel('Column number')\n",
    "\n",
    "# Show the plot\n",
    "plt.show()"
   ]
  },
  {
   "cell_type": "code",
   "execution_count": 8,
   "metadata": {},
   "outputs": [],
   "source": [
    "def generate_tensor(data, x_dim=1500, y_dim=3200, sliding_window_size=10):\n",
    "    # check for max value in x and y, which will then be used for the shape of the matrix\n",
    "\n",
    "    for i in range(len(data) - sliding_window_size + 1):\n",
    "        # print(i, len(data) - sliding_window_size + 1)\n",
    "        tensor = np.zeros((sliding_window_size, x_dim,y_dim))\n",
    "        for j in range(i, i + 10):\n",
    "            new_matrix = initialize_matrix_for_frame(data, j, x_dim, y_dim)\n",
    "            tensor[j-i] = new_matrix\n",
    "        yield tensor\n",
    "    "
   ]
  },
  {
   "cell_type": "code",
   "execution_count": 18,
   "metadata": {},
   "outputs": [
    {
     "data": {
      "text/plain": [
       "(1, 10, 1500, 3200)"
      ]
     },
     "execution_count": 18,
     "metadata": {},
     "output_type": "execute_result"
    }
   ],
   "source": [
    "test_arr = np.empty((0,10,1500,3200))\n",
    "tensor_gen = generate_tensor(data, 1500, 3200, sliding_window_size=10)\n",
    "arr_to_add = np.expand_dims(next(tensor_gen), axis=0)\n",
    "test_arr = np.concatenate((test_arr,  arr_to_add), axis=0)\n",
    "test_arr.shape"
   ]
  },
  {
   "cell_type": "code",
   "execution_count": null,
   "metadata": {},
   "outputs": [],
   "source": []
  },
  {
   "cell_type": "code",
   "execution_count": 22,
   "metadata": {},
   "outputs": [],
   "source": [
    "\n",
    "path = \"/Users/aly/Documents/Programming/Apps/Machine Learning/ASL Converter/data_augmentation/data_four_labels_augmentation\"\n",
    "\n",
    "def find_max_dim__for_entire_folder(path, sliding_window_size = 10):\n",
    "    # The first thing to do is find the maximum x and y values for our matrices\n",
    "    max_x_dim = 0\n",
    "    max_y_dim = 0\n",
    "    for label in os.listdir(path):\n",
    "        if label != \".DS_Store\":\n",
    "            i = 1\n",
    "            j = 0\n",
    "            for file in os.listdir(os.path.join(path, label)):\n",
    "                # pick 25% of the data\n",
    "                if i%4 == 0:\n",
    "                    data = read_csv(os.path.join(path, label, file))\n",
    "                    max_x = find_max_for_one_file(data, \"x\") * 1000\n",
    "                    max_y = find_max_for_one_file(data, \"y\") * 1000\n",
    "                    x_dim = round(math.ceil(max_x/100)*100, -1)\n",
    "                    y_dim = round(math.ceil(max_y/100)*100, -1)\n",
    "                    if max_x_dim < x_dim:\n",
    "                        max_x_dim = x_dim\n",
    "                    if max_y_dim < y_dim:\n",
    "                        max_y_dim = y_dim\n",
    "                i += 1\n",
    "        print(label, max_x_dim, max_y_dim)\n",
    "    return max_x_dim, max_y_dim\n",
    "# find_max_dim__for_entire_folder(path, sliding_window_size = 10)\n",
    "                            "
   ]
  },
  {
   "cell_type": "code",
   "execution_count": 25,
   "metadata": {},
   "outputs": [
    {
     "name": "stdout",
     "output_type": "stream",
     "text": [
      "1 400 dog FBD4NFz4QaA4056_reflection_rotation_15_translate_0.5_left.csv_projective_geo_9_True.csv\n",
      "2 800 dog Ag5VPvAe8PA5557_translation_0.5_scale_0.2_translate_0.5_left.csv\n",
      "3 1200 dog N5ZUQxL4__c0_reflection_rotation_15_translation_0.5.csv\n",
      "4 1600 dog N5ZUQxL4__c0_reflection_translation_0.5_translate_0.5_left.csv_projective_geo_14_False.csv\n",
      "5 2000 dog rIlQQTN2b586887_reflection_rotation_15_translation_0.5_scale_0.2.csv\n",
      "6 2400 dog 498gWK7nFCI20_reflection_rotation_15_translation_0.5_scale_0.2.csv_projective_geo_12_False.csv\n",
      "7 2800 dog 1E8k8gI_xYk3420_rotation_15_translation_0.5_scale_0.2_translate_0.5_left.csv_projective_geo_13_False.csv\n",
      "8 3200 dog rIlQQTN2b586887_rotation_15_translation_0.5_translate_0.5_left.csv\n",
      "1 400 milk rkQZQhloXuE4918_reflection_rotation_15_scale_0.2.csv_projective_geo_13_False.csv\n",
      "2 800 milk 2sGQuduhAf43239_rotation_15_translation_0.5_scale_0.2_translate_0.5_left.csv_projective_geo_14_False.csv\n"
     ]
    },
    {
     "ename": "KeyboardInterrupt",
     "evalue": "",
     "output_type": "error",
     "traceback": [
      "\u001b[0;31m---------------------------------------------------------------------------\u001b[0m",
      "\u001b[0;31mKeyboardInterrupt\u001b[0m                         Traceback (most recent call last)",
      "Cell \u001b[0;32mIn[25], line 36\u001b[0m\n\u001b[1;32m     34\u001b[0m                            y_train\u001b[39m.\u001b[39mappend(label)\n\u001b[1;32m     35\u001b[0m                i \u001b[39m+\u001b[39m\u001b[39m=\u001b[39m \u001b[39m1\u001b[39m\n\u001b[0;32m---> 36\u001b[0m process_entire_folder(path, sliding_window_size, x_dim, y_dim)\n",
      "Cell \u001b[0;32mIn[25], line 33\u001b[0m, in \u001b[0;36mprocess_entire_folder\u001b[0;34m(path, sliding_window_size, x_dim, y_dim)\u001b[0m\n\u001b[1;32m     31\u001b[0m             y_val\u001b[39m.\u001b[39mappend(label)\n\u001b[1;32m     32\u001b[0m         \u001b[39melse\u001b[39;00m:\n\u001b[0;32m---> 33\u001b[0m             X_train \u001b[39m=\u001b[39m np\u001b[39m.\u001b[39;49mconcatenate((X_train,  arr_to_add), axis\u001b[39m=\u001b[39;49m\u001b[39m0\u001b[39;49m)\n\u001b[1;32m     34\u001b[0m             y_train\u001b[39m.\u001b[39mappend(label)\n\u001b[1;32m     35\u001b[0m i \u001b[39m+\u001b[39m\u001b[39m=\u001b[39m \u001b[39m1\u001b[39m\n",
      "File \u001b[0;32m<__array_function__ internals>:180\u001b[0m, in \u001b[0;36mconcatenate\u001b[0;34m(*args, **kwargs)\u001b[0m\n",
      "\u001b[0;31mKeyboardInterrupt\u001b[0m: "
     ]
    }
   ],
   "source": [
    " # 80/20 split\n",
    "x_dim = 1500\n",
    "y_dim = 3200\n",
    "sliding_window_size = 10\n",
    "\n",
    "def process_entire_folder(path, sliding_window_size = 10, x_dim=1500, y_dim=3200):\n",
    "    # The first thing to do is find the maximum x and y values for our matrices\n",
    "    global X_train\n",
    "    global y_train\n",
    "    global X_val\n",
    "    global y_val\n",
    "    X_train = np.empty((0,10,x_dim,y_dim))\n",
    "    y_train = []\n",
    "    X_val = np.empty((0,10,x_dim,y_dim))\n",
    "    y_val = []\n",
    "    for label in os.listdir(path):\n",
    "        if label != \".DS_Store\":\n",
    "            i = 1\n",
    "            j = 0\n",
    "            for file in os.listdir(os.path.join(path, label)):\n",
    "                # pick 25% of the data\n",
    "                if i%4000 == 0:\n",
    "                    j += 1\n",
    "                    print(j, i, label, file)\n",
    "                    tensor_generator = generate_tensor(data, x_dim, y_dim, sliding_window_size)\n",
    "                    for tensor in tensor_generator:\n",
    "                        arr_to_add = np.expand_dims(tensor, axis=0)\n",
    "                        if j%5 == 0:\n",
    "                            # add to validation set\n",
    "                            X_val = np.concatenate((X_val,  arr_to_add), axis=0)\n",
    "                            y_val.append(label)\n",
    "                        else:\n",
    "                            X_train = np.concatenate((X_train,  arr_to_add), axis=0)\n",
    "                            y_train.append(label)\n",
    "                i += 1\n",
    "process_entire_folder(path, sliding_window_size, x_dim, y_dim)"
   ]
  },
  {
   "cell_type": "code",
   "execution_count": 9,
   "metadata": {},
   "outputs": [
    {
     "ename": "",
     "evalue": "",
     "output_type": "error",
     "traceback": [
      "\u001b[1;31mCanceled future for execute_request message before replies were done"
     ]
    },
    {
     "ename": "",
     "evalue": "",
     "output_type": "error",
     "traceback": [
      "\u001b[1;31mThe Kernel crashed while executing code in the the current cell or a previous cell. Please review the code in the cell(s) to identify a possible cause of the failure. Click <a href='https://aka.ms/vscodeJupyterKernelCrash'>here</a> for more info. View Jupyter <a href='command:jupyter.viewOutput'>log</a> for further details."
     ]
    }
   ],
   "source": []
  },
  {
   "cell_type": "code",
   "execution_count": 21,
   "metadata": {},
   "outputs": [
    {
     "data": {
      "text/plain": [
       "[]"
      ]
     },
     "execution_count": 21,
     "metadata": {},
     "output_type": "execute_result"
    }
   ],
   "source": [
    "X_train"
   ]
  },
  {
   "cell_type": "code",
   "execution_count": null,
   "metadata": {},
   "outputs": [],
   "source": []
  }
 ],
 "metadata": {
  "kernelspec": {
   "display_name": "asl-converter",
   "language": "python",
   "name": "python3"
  },
  "language_info": {
   "codemirror_mode": {
    "name": "ipython",
    "version": 3
   },
   "file_extension": ".py",
   "mimetype": "text/x-python",
   "name": "python",
   "nbconvert_exporter": "python",
   "pygments_lexer": "ipython3",
   "version": "3.8.16"
  },
  "orig_nbformat": 4
 },
 "nbformat": 4,
 "nbformat_minor": 2
}
