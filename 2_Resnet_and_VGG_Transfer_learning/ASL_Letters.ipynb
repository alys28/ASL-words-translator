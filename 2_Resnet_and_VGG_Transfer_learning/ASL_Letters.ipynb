{
 "cells": [
  {
   "cell_type": "code",
   "execution_count": null,
   "metadata": {},
   "outputs": [],
   "source": []
  }
 ],
 "metadata": {
  "kernelspec": {
   "display_name": "asl-converter",
   "language": "python",
   "name": "python3"
  },
  "language_info": {
   "name": "python",
   "version": "3.10.2"
  },
  "orig_nbformat": 4,
  "vscode": {
   "interpreter": {
    "hash": "45fe9764d7306166b41cddef05d68f6f7e28301d3f2026c369659285e90a6aee"
   }
  }
 },
 "nbformat": 4,
 "nbformat_minor": 2
}
