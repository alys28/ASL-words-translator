{
 "cells": [
  {
   "cell_type": "code",
   "execution_count": 1,
   "metadata": {},
   "outputs": [],
   "source": [
    "import os\n",
    "import tensorflow as tf\n",
    "import numpy as np"
   ]
  },
  {
   "cell_type": "code",
   "execution_count": 2,
   "metadata": {},
   "outputs": [],
   "source": [
    "new_saved = [\"milk\", \"coffee\", \"door\", \"dog\"]"
   ]
  },
  {
   "cell_type": "code",
   "execution_count": 3,
   "metadata": {},
   "outputs": [],
   "source": [
    "# Function for processing data\n",
    "def process_train_data(X, y, directory, new_saved):\n",
    "    for label in new_saved:\n",
    "        print(label)\n",
    "        dir = os.path.join(directory, label)\n",
    "        for file in os.listdir(dir):\n",
    "            arr = np.load(os.path.join(directory, label, file))\n",
    "            \n",
    "            for frame in arr:\n",
    "                if len(X) == 0:\n",
    "                    X = np.array([frame])\n",
    "                    y = np.array([new_saved.index(label)])\n",
    "                else:\n",
    "                    X = np.append(X, np.array([frame]), axis=0)\n",
    "                    y = np.append(y, np.array([new_saved.index(label)]), axis=0)\n",
    "            \n",
    "\n",
    "    print(X.shape, y.shape)\n",
    "    return (X, y)"
   ]
  },
  {
   "cell_type": "code",
   "execution_count": 4,
   "metadata": {},
   "outputs": [],
   "source": [
    "# Function for processing data\n",
    "def process_val_data(X_val,y_val, X_test, y_test, directory, new_saved):\n",
    "    val = False\n",
    "    for label in new_saved:\n",
    "        print(label)\n",
    "        dir = os.path.join(directory, label)\n",
    "        for file in os.listdir(dir):\n",
    "            val = not(val)\n",
    "            print(val)\n",
    "            arr = np.load(os.path.join(directory, label, file))\n",
    "            if val:\n",
    "                for frame in arr:\n",
    "                    if len(X_val) == 0:\n",
    "                        X_val = np.array([frame])\n",
    "                        y_val = np.array([new_saved.index(label)])\n",
    "                    else:\n",
    "                        X_val = np.append(X_val, np.array([frame]), axis=0)\n",
    "                        y_val = np.append(y_val, np.array([new_saved.index(label)]), axis=0)\n",
    "            else:\n",
    "                for frame in arr:\n",
    "                    if len(X_test) == 0:\n",
    "                        X_test = np.array([frame])\n",
    "                        y_test = np.array([new_saved.index(label)])\n",
    "                    else:\n",
    "                        X_test = np.append(X_test, np.array([frame]), axis=0)\n",
    "                        y_test = np.append(y_test, np.array([new_saved.index(label)]), axis=0)\n",
    "\n",
    "    print(X_val.shape, y_val.shape, X_test.shape, y_test.shape)\n",
    "    return (X_val, y_val, X_test, y_test)"
   ]
  },
  {
   "cell_type": "code",
   "execution_count": null,
   "metadata": {},
   "outputs": [
    {
     "name": "stdout",
     "output_type": "stream",
     "text": [
      "milk\n",
      "coffee\n"
     ]
    }
   ],
   "source": [
    "import time\n",
    "\n",
    "start = time.time()\n",
    "train_dir = \"/Users/aly/Documents/Programming/Apps/Machine Learning/ASL Converter/MS-ASL/four_var/four_var_training_data\"\n",
    "X_train = np.array([])\n",
    "y_train = np.array([])\n",
    "X_train, y_train = process_train_data(X_train, y_train, train_dir, new_saved)\n",
    "end = time.time()\n",
    "delta = end - start\n",
    "print(\"TIME: \", delta)"
   ]
  },
  {
   "cell_type": "code",
   "execution_count": null,
   "metadata": {},
   "outputs": [],
   "source": [
    "val_dir = \"/Users/aly/Documents/Programming/Apps/Machine Learning/ASL Converter/MS-ASL/four_var/four_var_validation_data\"\n",
    "X_val = np.array([])\n",
    "y_val = np.array([])\n",
    "X_test = np.array([])\n",
    "y_test = np.array([])\n",
    "X_val, y_val, X_test, y_test = process_val_data(X_val, y_val, X_test, y_test, val_dir, new_saved)"
   ]
  },
  {
   "cell_type": "code",
   "execution_count": null,
   "metadata": {},
   "outputs": [],
   "source": [
    "#shuffle train data\n",
    "import sklearn\n",
    "from sklearn.utils import shuffle\n",
    "X_train, y_train = shuffle(X_train, y_train, random_state=42)\n",
    "X_train, y_train"
   ]
  },
  {
   "cell_type": "code",
   "execution_count": null,
   "metadata": {},
   "outputs": [],
   "source": [
    "#shuffle val and test data\n",
    "import sklearn\n",
    "from sklearn.utils import shuffle\n",
    "X_val, y_val = shuffle(X_val, y_val, random_state=42)\n",
    "\n",
    "X_test, y_test = shuffle(X_test, y_test, random_state=42)\n",
    "X_test, y_test"
   ]
  },
  {
   "cell_type": "code",
   "execution_count": null,
   "metadata": {},
   "outputs": [],
   "source": [
    "from tensorflow.keras.applications.vgg16 import VGG16\n",
    "\n",
    "vgg_model = VGG16(weights='imagenet', input_shape=(256, 256, 3), include_top=False)\n",
    "vgg_model.trainable = False\n",
    "vgg_model.summary()"
   ]
  },
  {
   "cell_type": "code",
   "execution_count": null,
   "metadata": {},
   "outputs": [],
   "source": [
    "from tensorflow.keras.layers import Dense, Flatten, Dropout\n",
    "from tensorflow.keras.models import Model\n",
    "\n",
    "x = vgg_model.get_layer('block5_pool').output\n",
    "x = Flatten(name='flatten')(x)\n",
    "x = Dense(40, activation='relu')(x)\n",
    "x = Dense(100, activation='relu')(x)\n",
    "x = Dropout(0.3)(x)\n",
    "output = Dense(4, activation='softmax')(x)\n",
    "\n",
    "vgg_model = Model(vgg_model.input, output)"
   ]
  },
  {
   "cell_type": "code",
   "execution_count": null,
   "metadata": {},
   "outputs": [],
   "source": [
    "checkpoint = tf.keras.callbacks.ModelCheckpoint(\n",
    "    \"/Users/aly/Documents/Programming/Apps/Machine Learning/ASL Converter/MS-ASL/four_var/four_var_models/four_var_weights.{epoch:02d}-{val_accuracy:.2f}\",\n",
    "    monitor='val_accuracy',\n",
    "    verbose=0,\n",
    "    save_best_only=True,\n",
    "    save_weights_only=False,\n",
    "    mode='auto',\n",
    "    save_freq='epoch',\n",
    ")"
   ]
  },
  {
   "cell_type": "code",
   "execution_count": null,
   "metadata": {},
   "outputs": [],
   "source": [
    "vgg_model.compile(loss='sparse_categorical_crossentropy', optimizer='adam', metrics=['accuracy'])\n",
    "vgg_model.summary()"
   ]
  },
  {
   "cell_type": "code",
   "execution_count": null,
   "metadata": {},
   "outputs": [],
   "source": [
    "start = time.time()\n",
    "history = vgg_model.fit(X_train, y_train, epochs=30, batch_size=50, validation_data=(X_val, y_val), callbacks=[checkpoint])\n",
    "end = time.time()\n",
    "deltaTrain = end - start\n",
    "print(\"TIME: \", deltaTrain)"
   ]
  }
 ],
 "metadata": {
  "kernelspec": {
   "display_name": "Python 3 (ipykernel)",
   "language": "python",
   "name": "python3"
  },
  "language_info": {
   "codemirror_mode": {
    "name": "ipython",
    "version": 3
   },
   "file_extension": ".py",
   "mimetype": "text/x-python",
   "name": "python",
   "nbconvert_exporter": "python",
   "pygments_lexer": "ipython3",
   "version": "3.10.8"
  },
  "vscode": {
   "interpreter": {
    "hash": "ea8e115cd7ff4e8516dea43fa40bb0bb2a9dcb57bff31c2f0213b79cc5f4e83f"
   }
  }
 },
 "nbformat": 4,
 "nbformat_minor": 2
}
